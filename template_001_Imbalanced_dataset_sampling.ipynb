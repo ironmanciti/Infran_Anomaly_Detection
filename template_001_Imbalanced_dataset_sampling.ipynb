{
 "cells": [
  {
   "cell_type": "markdown",
   "metadata": {},
   "source": [
    "# 불균형 분류에 대한 Random Oversampling 및 Undersampling \n",
    "\n",
    "## Random Undersampling \n",
    "\n",
    "- Random Undersampling은 다수 클래스에서 example 을 삭제하므로 모델에 중요한 정보를 잃을 수 있습니다.\n",
    "\n",
    "\n",
    "## Random Oversampling\n",
    "\n",
    "- Random Oversampling은 훈련 데이터 세트의 소수 클래스의 예제를 복제하므로 일부 모델에 대해 과적합을 초래할 수 있습니다.  \n",
    "\n",
    "- Training set 에서 복원 추출    "
   ]
  },
  {
   "cell_type": "markdown",
   "metadata": {},
   "source": [
    "## Imbalanced-Learn Library"
   ]
  },
  {
   "cell_type": "markdown",
   "metadata": {},
   "source": [
    "make_classification : 랜덤 n-class 분류 문제 생성  \n",
    "\n",
    "- weights :  각 클래스에 할당된 샘플의 비율. None - 균형 class\n",
    "- flip_y :  클래스가 무작위로 할당된 샘플의 비율. 값이 클수록 레이블에 노이즈가 발생하고 분류 작업이 더 어려워진다."
   ]
  },
  {
   "cell_type": "markdown",
   "metadata": {},
   "source": [
    "### 임의의 n-class 분류 문제를 생성\n",
    "- normal(0) : abnormal(1) = 99:1 의 비율로 data 생성"
   ]
  },
  {
   "cell_type": "markdown",
   "metadata": {},
   "source": [
    "### Over Sampling\n",
    "\n",
    "sampling_strategy  : 리샘플링 후 다수 클래스 샘플 수에 대한 소수 클래스 샘플 수의 원하는 비율  \n",
    "\n",
    "- minority class 를 oversampling 하여 normal(0) : abnormal(1) = 2:1 이 되도록 resample"
   ]
  },
  {
   "cell_type": "markdown",
   "metadata": {},
   "source": [
    "### Under Sampling\n",
    "\n",
    "sampling_strategy : `majority`: 다수 클래스만 리샘플링 \n",
    "\n",
    "- majority class 를 undersample 하여 normal(0) : abnormal(1) = 1:1 이 되도록 resample"
   ]
  },
  {
   "cell_type": "markdown",
   "metadata": {},
   "source": [
    "## Random Oversampling 과 Undersampling을 동시 적용\n",
    "- 소수 class 를 oversampling 하여 normal(0) : abnormal(1) = 10:1 이 되도록 하고,  \n",
    "- 다수 class 를 undersampling 하여 normal(0) : abnormal(1) = 2:1 이 되도록 한다."
   ]
  },
  {
   "cell_type": "markdown",
   "metadata": {},
   "source": [
    "### 임의의 n-class 분류 문제를 생성\n",
    "- normal(0) : abnormal(1) = 99:1 의 비율로 data 생성"
   ]
  },
  {
   "cell_type": "markdown",
   "metadata": {},
   "source": [
    "## SMOTE (Synthetic Minority Over-Sampling Technique) 적용\n",
    "\n",
    "http://www.incodom.kr/SMOTE\n",
    "\n",
    "- SMOTE는 불균형 데이터셋에서 소수 클래스의 샘플을 늘려 데이터의 균형을 맞추기 위한 오버샘플링 기법입니다.  \n",
    "- 소수 클래스의 각 샘플에 대해 k-최근접 이웃(k-nearest neighbors)을 찾습니다. 기본적으로 k는 5로 설정됩니다.  \n",
    "- 각 소수 클래스 샘플에 대해 선택된 k-최근접 이웃 중 하나를 무작위로 선택합니다.  \n",
    "- 선택된 이웃과 원래 샘플 사이의 선형 간격을 따라 새로운 샘플을 생성합니다. 새로운 샘플은 원래 샘플과 이웃 샘플 사이의 선형 보간(interpolation)으로 생성됩니다.  "
   ]
  },
  {
   "cell_type": "markdown",
   "metadata": {},
   "source": [
    "- SMOTE 적용 전, 후 분포 시각화  \n",
    "\n",
    "- 시각화를 위해 2 차원으로 축소"
   ]
  },
  {
   "cell_type": "markdown",
   "metadata": {},
   "source": [
    "SMOTE 적용전 original data 시각화"
   ]
  },
  {
   "cell_type": "markdown",
   "metadata": {},
   "source": [
    "SMOTE 적용 후 data 시각화"
   ]
  }
 ],
 "metadata": {
  "kernelspec": {
   "display_name": "Python 3 (ipykernel)",
   "language": "python",
   "name": "python3"
  },
  "language_info": {
   "codemirror_mode": {
    "name": "ipython",
    "version": 3
   },
   "file_extension": ".py",
   "mimetype": "text/x-python",
   "name": "python",
   "nbconvert_exporter": "python",
   "pygments_lexer": "ipython3",
   "version": "3.9.16"
  }
 },
 "nbformat": 4,
 "nbformat_minor": 4
}
