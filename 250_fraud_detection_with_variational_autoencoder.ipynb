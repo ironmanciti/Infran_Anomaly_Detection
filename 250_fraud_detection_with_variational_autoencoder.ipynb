{
  "cells": [
    {
      "cell_type": "markdown",
      "metadata": {
        "_uuid": "21b9cdffef93ded4706cf9e69a091add5897d633",
        "id": "LBydBHZl7fqa"
      },
      "source": [
        "# Fraud Detection with Variational Autoencoder"
      ]
    },
    {
      "cell_type": "markdown",
      "metadata": {
        "_uuid": "3c96ae50f9b6526183014fd6a05e63a154519e6f",
        "id": "40TkjvAJ7fqa"
      },
      "source": [
        "- VAE는 vanilla 오토인코더에 비해 훨씬 나은 성능의 이상탐지(anomaly detection) 성능을 제공합니다. 실험을 통해 우리는 기존의 AE는 너무 큰 bottleneck을 가지면 identity function이 되며 이상탐지 성능이 떨어지는 것에 반해, VAE는 bottleneck의 크기가 커질수록 이상탐지 성능이 오르는 효과를 갖는 것을 확인할 수 있습니다. 따라서 AE 기반의 anomaly detection을 수행할 때, 기존에는 bottleneck의 크기를 hyper-parameter로 튜닝해야 했던 반면에, VAE의 경우에는 튜닝을 할 필요가 거의 없습니다.  \n",
        "\n",
        "- 신용 카드 데이터에 VAE(Variational Autoencoder)를 적용합니다. \n",
        "\n",
        "\n",
        "- 분포를 배우는 것이 좋은 점은,  \n",
        "    첫째, 데이터 및 노이즈 생성 프로세스를 명시적으로 모델링함으로써 VAE는 더 robust 하게 그 두가지를 분리하는 방법을 배울 수 있습니다.   \n",
        "    둘째, disentanglement constraint가 적용되면 잠재 공간이 더 해석 가능해집니다.    \n",
        "    셋째, 잠재 벡터를 샘플링하여 새 샘플을 생성하고 디코더를 통해 파이프할 수 있습니다.   \n",
        "    \n",
        "\n",
        "* disentanglement : latent space가 linear한 구조를 가지게 되어서 하나의 latent vector z 를 움직였을 때 정해진 어떠한 하나의 특성이 변경되게 만들고자 하는 것. 예를 들어, latent vector z 의 specific 한 값을 변경했을 때 생성되는 이미지는 하나의 특성들(머리카락 길이, 성별, 사람의 시선)만 영향을 주게 만들었다고 하면, 이 모델의 latent space는 disentanglement 하다고 말 할 수 있다.\n",
        "\n",
        "<sup>1</sup> [Building Autoencoders in Keras - Keras Blog](https://blog.keras.io/building-autoencoders-in-keras.html)  \n",
        "<sup>2</sup> [Variational Autoencoders with Tensorflow Probability Layers - Medium](https://medium.com/tensorflow/variational-autoencoders-with-tensorflow-probability-layers-d06c658931b7)   \n",
        "<sup>3</sup> [Google Colab VAE Interactive Example](https://colab.research.google.com/github/tensorflow/probability/blob/master/tensorflow_probability/examples/jupyter_notebooks/Probabilistic_Layers_VAE.ipynb#scrollTo=9clSiUTiT3G1)  \n",
        "<sup>4</sup> [An, J., & Cho, S. (2015). Variational autoencoder based anomaly detection using reconstruction probability. Special Lecture on IE, 2, 1-18.](https://pdfs.semanticscholar.org/0611/46b1d7938d7a8dae70e3531a00fceb3c78e8.pdf)\n",
        "\n",
        "\n",
        "### Contents \n",
        "\n",
        "1. Variational Autoencoder 훈련\n",
        "2. 잠재 표현 시각화 (Visualize Latent Representations)\n",
        "3. VAE model 훈련\n",
        "4. 재구성 오류 계산 \n",
        "5. 테스트 세트에 대한 평가"
      ]
    },
    {
      "cell_type": "code",
      "execution_count": null,
      "metadata": {
        "id": "Lok8hozSoJj2"
      },
      "outputs": [],
      "source": [
        "# !pip install tensorflow-probability"
      ]
    },
    {
      "cell_type": "code",
      "execution_count": 1,
      "metadata": {
        "execution": {
          "iopub.execute_input": "2021-06-07T12:03:00.896799Z",
          "iopub.status.busy": "2021-06-07T12:03:00.896474Z",
          "iopub.status.idle": "2021-06-07T12:03:00.901108Z",
          "shell.execute_reply": "2021-06-07T12:03:00.900299Z",
          "shell.execute_reply.started": "2021-06-07T12:03:00.896738Z"
        },
        "id": "RXd-JFGF7fqb"
      },
      "outputs": [],
      "source": [
        "import numpy as np\n",
        "import pandas as pd\n",
        "import time\n",
        "import matplotlib.pyplot as plt\n",
        "import seaborn as sns\n",
        "\n",
        "import tensorflow as tf\n",
        "from tensorflow.keras.models import Sequential, Model\n",
        "from tensorflow.keras.layers import Dense, Input\n",
        "from tensorflow.keras.utils import plot_model\n",
        "from tensorflow.keras.callbacks import EarlyStopping, ModelCheckpoint\n",
        "\n",
        "from sklearn.model_selection import train_test_split \n",
        "from sklearn.linear_model import LogisticRegression\n",
        "from sklearn.metrics import confusion_matrix, roc_auc_score, roc_curve, \\\n",
        "                            precision_score, recall_score\n",
        "from sklearn.preprocessing import StandardScaler\n",
        "\n",
        "import tensorflow_probability as tfp\n",
        "tfd = tfp.distributions\n",
        "\n",
        "np.random.seed(0)\n",
        "tf.random.set_seed(0)"
      ]
    },
    {
      "cell_type": "markdown",
      "metadata": {
        "_uuid": "bdd18414d608713f44fb86d9ee8a9eae7fa77367",
        "id": "7sVQjS607fqc"
      },
      "source": [
        "## Raw Dataset\n",
        "\n",
        "model train 은 train set 만으로 합니다. test set은 최종 평가 때까지 사용되지 않습니다."
      ]
    },
    {
      "cell_type": "code",
      "execution_count": 2,
      "metadata": {
        "colab": {
          "base_uri": "https://localhost:8080/",
          "height": 299
        },
        "id": "W8g_mu277fqc",
        "outputId": "92c70e05-463b-433d-d564-65a794982424"
      },
      "outputs": [
        {
          "output_type": "execute_result",
          "data": {
            "text/plain": [
              "   Time        V1        V2        V3        V4        V5        V6        V7  \\\n",
              "0   0.0 -1.359807 -0.072781  2.536347  1.378155 -0.338321  0.462388  0.239599   \n",
              "1   0.0  1.191857  0.266151  0.166480  0.448154  0.060018 -0.082361 -0.078803   \n",
              "2   1.0 -1.358354 -1.340163  1.773209  0.379780 -0.503198  1.800499  0.791461   \n",
              "3   1.0 -0.966272 -0.185226  1.792993 -0.863291 -0.010309  1.247203  0.237609   \n",
              "4   2.0 -1.158233  0.877737  1.548718  0.403034 -0.407193  0.095921  0.592941   \n",
              "\n",
              "         V8        V9  ...       V21       V22       V23       V24       V25  \\\n",
              "0  0.098698  0.363787  ... -0.018307  0.277838 -0.110474  0.066928  0.128539   \n",
              "1  0.085102 -0.255425  ... -0.225775 -0.638672  0.101288 -0.339846  0.167170   \n",
              "2  0.247676 -1.514654  ...  0.247998  0.771679  0.909412 -0.689281 -0.327642   \n",
              "3  0.377436 -1.387024  ... -0.108300  0.005274 -0.190321 -1.175575  0.647376   \n",
              "4 -0.270533  0.817739  ... -0.009431  0.798278 -0.137458  0.141267 -0.206010   \n",
              "\n",
              "        V26       V27       V28  Amount  Class  \n",
              "0 -0.189115  0.133558 -0.021053  149.62      0  \n",
              "1  0.125895 -0.008983  0.014724    2.69      0  \n",
              "2 -0.139097 -0.055353 -0.059752  378.66      0  \n",
              "3 -0.221929  0.062723  0.061458  123.50      0  \n",
              "4  0.502292  0.219422  0.215153   69.99      0  \n",
              "\n",
              "[5 rows x 31 columns]"
            ],
            "text/html": [
              "\n",
              "  <div id=\"df-a7a9bfd0-8e4d-4976-a695-2feab49c7632\">\n",
              "    <div class=\"colab-df-container\">\n",
              "      <div>\n",
              "<style scoped>\n",
              "    .dataframe tbody tr th:only-of-type {\n",
              "        vertical-align: middle;\n",
              "    }\n",
              "\n",
              "    .dataframe tbody tr th {\n",
              "        vertical-align: top;\n",
              "    }\n",
              "\n",
              "    .dataframe thead th {\n",
              "        text-align: right;\n",
              "    }\n",
              "</style>\n",
              "<table border=\"1\" class=\"dataframe\">\n",
              "  <thead>\n",
              "    <tr style=\"text-align: right;\">\n",
              "      <th></th>\n",
              "      <th>Time</th>\n",
              "      <th>V1</th>\n",
              "      <th>V2</th>\n",
              "      <th>V3</th>\n",
              "      <th>V4</th>\n",
              "      <th>V5</th>\n",
              "      <th>V6</th>\n",
              "      <th>V7</th>\n",
              "      <th>V8</th>\n",
              "      <th>V9</th>\n",
              "      <th>...</th>\n",
              "      <th>V21</th>\n",
              "      <th>V22</th>\n",
              "      <th>V23</th>\n",
              "      <th>V24</th>\n",
              "      <th>V25</th>\n",
              "      <th>V26</th>\n",
              "      <th>V27</th>\n",
              "      <th>V28</th>\n",
              "      <th>Amount</th>\n",
              "      <th>Class</th>\n",
              "    </tr>\n",
              "  </thead>\n",
              "  <tbody>\n",
              "    <tr>\n",
              "      <th>0</th>\n",
              "      <td>0.0</td>\n",
              "      <td>-1.359807</td>\n",
              "      <td>-0.072781</td>\n",
              "      <td>2.536347</td>\n",
              "      <td>1.378155</td>\n",
              "      <td>-0.338321</td>\n",
              "      <td>0.462388</td>\n",
              "      <td>0.239599</td>\n",
              "      <td>0.098698</td>\n",
              "      <td>0.363787</td>\n",
              "      <td>...</td>\n",
              "      <td>-0.018307</td>\n",
              "      <td>0.277838</td>\n",
              "      <td>-0.110474</td>\n",
              "      <td>0.066928</td>\n",
              "      <td>0.128539</td>\n",
              "      <td>-0.189115</td>\n",
              "      <td>0.133558</td>\n",
              "      <td>-0.021053</td>\n",
              "      <td>149.62</td>\n",
              "      <td>0</td>\n",
              "    </tr>\n",
              "    <tr>\n",
              "      <th>1</th>\n",
              "      <td>0.0</td>\n",
              "      <td>1.191857</td>\n",
              "      <td>0.266151</td>\n",
              "      <td>0.166480</td>\n",
              "      <td>0.448154</td>\n",
              "      <td>0.060018</td>\n",
              "      <td>-0.082361</td>\n",
              "      <td>-0.078803</td>\n",
              "      <td>0.085102</td>\n",
              "      <td>-0.255425</td>\n",
              "      <td>...</td>\n",
              "      <td>-0.225775</td>\n",
              "      <td>-0.638672</td>\n",
              "      <td>0.101288</td>\n",
              "      <td>-0.339846</td>\n",
              "      <td>0.167170</td>\n",
              "      <td>0.125895</td>\n",
              "      <td>-0.008983</td>\n",
              "      <td>0.014724</td>\n",
              "      <td>2.69</td>\n",
              "      <td>0</td>\n",
              "    </tr>\n",
              "    <tr>\n",
              "      <th>2</th>\n",
              "      <td>1.0</td>\n",
              "      <td>-1.358354</td>\n",
              "      <td>-1.340163</td>\n",
              "      <td>1.773209</td>\n",
              "      <td>0.379780</td>\n",
              "      <td>-0.503198</td>\n",
              "      <td>1.800499</td>\n",
              "      <td>0.791461</td>\n",
              "      <td>0.247676</td>\n",
              "      <td>-1.514654</td>\n",
              "      <td>...</td>\n",
              "      <td>0.247998</td>\n",
              "      <td>0.771679</td>\n",
              "      <td>0.909412</td>\n",
              "      <td>-0.689281</td>\n",
              "      <td>-0.327642</td>\n",
              "      <td>-0.139097</td>\n",
              "      <td>-0.055353</td>\n",
              "      <td>-0.059752</td>\n",
              "      <td>378.66</td>\n",
              "      <td>0</td>\n",
              "    </tr>\n",
              "    <tr>\n",
              "      <th>3</th>\n",
              "      <td>1.0</td>\n",
              "      <td>-0.966272</td>\n",
              "      <td>-0.185226</td>\n",
              "      <td>1.792993</td>\n",
              "      <td>-0.863291</td>\n",
              "      <td>-0.010309</td>\n",
              "      <td>1.247203</td>\n",
              "      <td>0.237609</td>\n",
              "      <td>0.377436</td>\n",
              "      <td>-1.387024</td>\n",
              "      <td>...</td>\n",
              "      <td>-0.108300</td>\n",
              "      <td>0.005274</td>\n",
              "      <td>-0.190321</td>\n",
              "      <td>-1.175575</td>\n",
              "      <td>0.647376</td>\n",
              "      <td>-0.221929</td>\n",
              "      <td>0.062723</td>\n",
              "      <td>0.061458</td>\n",
              "      <td>123.50</td>\n",
              "      <td>0</td>\n",
              "    </tr>\n",
              "    <tr>\n",
              "      <th>4</th>\n",
              "      <td>2.0</td>\n",
              "      <td>-1.158233</td>\n",
              "      <td>0.877737</td>\n",
              "      <td>1.548718</td>\n",
              "      <td>0.403034</td>\n",
              "      <td>-0.407193</td>\n",
              "      <td>0.095921</td>\n",
              "      <td>0.592941</td>\n",
              "      <td>-0.270533</td>\n",
              "      <td>0.817739</td>\n",
              "      <td>...</td>\n",
              "      <td>-0.009431</td>\n",
              "      <td>0.798278</td>\n",
              "      <td>-0.137458</td>\n",
              "      <td>0.141267</td>\n",
              "      <td>-0.206010</td>\n",
              "      <td>0.502292</td>\n",
              "      <td>0.219422</td>\n",
              "      <td>0.215153</td>\n",
              "      <td>69.99</td>\n",
              "      <td>0</td>\n",
              "    </tr>\n",
              "  </tbody>\n",
              "</table>\n",
              "<p>5 rows × 31 columns</p>\n",
              "</div>\n",
              "      <button class=\"colab-df-convert\" onclick=\"convertToInteractive('df-a7a9bfd0-8e4d-4976-a695-2feab49c7632')\"\n",
              "              title=\"Convert this dataframe to an interactive table.\"\n",
              "              style=\"display:none;\">\n",
              "        \n",
              "  <svg xmlns=\"http://www.w3.org/2000/svg\" height=\"24px\"viewBox=\"0 0 24 24\"\n",
              "       width=\"24px\">\n",
              "    <path d=\"M0 0h24v24H0V0z\" fill=\"none\"/>\n",
              "    <path d=\"M18.56 5.44l.94 2.06.94-2.06 2.06-.94-2.06-.94-.94-2.06-.94 2.06-2.06.94zm-11 1L8.5 8.5l.94-2.06 2.06-.94-2.06-.94L8.5 2.5l-.94 2.06-2.06.94zm10 10l.94 2.06.94-2.06 2.06-.94-2.06-.94-.94-2.06-.94 2.06-2.06.94z\"/><path d=\"M17.41 7.96l-1.37-1.37c-.4-.4-.92-.59-1.43-.59-.52 0-1.04.2-1.43.59L10.3 9.45l-7.72 7.72c-.78.78-.78 2.05 0 2.83L4 21.41c.39.39.9.59 1.41.59.51 0 1.02-.2 1.41-.59l7.78-7.78 2.81-2.81c.8-.78.8-2.07 0-2.86zM5.41 20L4 18.59l7.72-7.72 1.47 1.35L5.41 20z\"/>\n",
              "  </svg>\n",
              "      </button>\n",
              "      \n",
              "  <style>\n",
              "    .colab-df-container {\n",
              "      display:flex;\n",
              "      flex-wrap:wrap;\n",
              "      gap: 12px;\n",
              "    }\n",
              "\n",
              "    .colab-df-convert {\n",
              "      background-color: #E8F0FE;\n",
              "      border: none;\n",
              "      border-radius: 50%;\n",
              "      cursor: pointer;\n",
              "      display: none;\n",
              "      fill: #1967D2;\n",
              "      height: 32px;\n",
              "      padding: 0 0 0 0;\n",
              "      width: 32px;\n",
              "    }\n",
              "\n",
              "    .colab-df-convert:hover {\n",
              "      background-color: #E2EBFA;\n",
              "      box-shadow: 0px 1px 2px rgba(60, 64, 67, 0.3), 0px 1px 3px 1px rgba(60, 64, 67, 0.15);\n",
              "      fill: #174EA6;\n",
              "    }\n",
              "\n",
              "    [theme=dark] .colab-df-convert {\n",
              "      background-color: #3B4455;\n",
              "      fill: #D2E3FC;\n",
              "    }\n",
              "\n",
              "    [theme=dark] .colab-df-convert:hover {\n",
              "      background-color: #434B5C;\n",
              "      box-shadow: 0px 1px 3px 1px rgba(0, 0, 0, 0.15);\n",
              "      filter: drop-shadow(0px 1px 2px rgba(0, 0, 0, 0.3));\n",
              "      fill: #FFFFFF;\n",
              "    }\n",
              "  </style>\n",
              "\n",
              "      <script>\n",
              "        const buttonEl =\n",
              "          document.querySelector('#df-a7a9bfd0-8e4d-4976-a695-2feab49c7632 button.colab-df-convert');\n",
              "        buttonEl.style.display =\n",
              "          google.colab.kernel.accessAllowed ? 'block' : 'none';\n",
              "\n",
              "        async function convertToInteractive(key) {\n",
              "          const element = document.querySelector('#df-a7a9bfd0-8e4d-4976-a695-2feab49c7632');\n",
              "          const dataTable =\n",
              "            await google.colab.kernel.invokeFunction('convertToInteractive',\n",
              "                                                     [key], {});\n",
              "          if (!dataTable) return;\n",
              "\n",
              "          const docLinkHtml = 'Like what you see? Visit the ' +\n",
              "            '<a target=\"_blank\" href=https://colab.research.google.com/notebooks/data_table.ipynb>data table notebook</a>'\n",
              "            + ' to learn more about interactive tables.';\n",
              "          element.innerHTML = '';\n",
              "          dataTable['output_type'] = 'display_data';\n",
              "          await google.colab.output.renderOutput(dataTable, element);\n",
              "          const docLink = document.createElement('div');\n",
              "          docLink.innerHTML = docLinkHtml;\n",
              "          element.appendChild(docLink);\n",
              "        }\n",
              "      </script>\n",
              "    </div>\n",
              "  </div>\n",
              "  "
            ]
          },
          "metadata": {},
          "execution_count": 2
        }
      ],
      "source": [
        "df = pd.read_csv('https://storage.googleapis.com/download.tensorflow.org/data/creditcard.csv')\n",
        "\n",
        "df.head()"
      ]
    },
    {
      "cell_type": "markdown",
      "metadata": {
        "id": "Hd9vWJgAKpSc"
      },
      "source": [
        "-  데이터 세트가 매우 불균형합니다."
      ]
    },
    {
      "cell_type": "code",
      "execution_count": 3,
      "metadata": {
        "colab": {
          "base_uri": "https://localhost:8080/"
        },
        "id": "lv_9qemqKpSd",
        "outputId": "db50cfae-21c5-4dbe-aab7-5367830e124b"
      },
      "outputs": [
        {
          "output_type": "execute_result",
          "data": {
            "text/plain": [
              "0    284315\n",
              "1       492\n",
              "Name: Class, dtype: int64"
            ]
          },
          "metadata": {},
          "execution_count": 3
        }
      ],
      "source": [
        "df['Class'].value_counts()"
      ]
    },
    {
      "cell_type": "code",
      "execution_count": 4,
      "metadata": {
        "colab": {
          "base_uri": "https://localhost:8080/"
        },
        "id": "jiwKNXqsKpSd",
        "outputId": "adb79ba2-3798-487c-83f0-9c7fea104005"
      },
      "outputs": [
        {
          "output_type": "stream",
          "name": "stdout",
          "text": [
            "Total = 284,807\n",
            "Fraud = 0.17%\n",
            "Normal = 99.83%\n"
          ]
        }
      ],
      "source": [
        "fraud = (df['Class'] == 1).sum()\n",
        "normal = (df['Class'] == 0).sum()\n",
        "\n",
        "total = fraud + normal\n",
        "\n",
        "print(f\"Total = {total:,}\")\n",
        "print(f\"Fraud = {fraud/total*100:,.2f}%\")\n",
        "print(f\"Normal = {normal/total*100:,.2f}%\")"
      ]
    },
    {
      "cell_type": "markdown",
      "metadata": {
        "id": "23wCkGDrKpSe"
      },
      "source": [
        "- Time 필드를 일중 시간으로 변환합니다.   \n",
        "- Amount 필드는 로그 스케일로 변환합니다."
      ]
    },
    {
      "cell_type": "code",
      "execution_count": 5,
      "metadata": {
        "id": "9qBa4MkgKpSe"
      },
      "outputs": [],
      "source": [
        "df.loc[:, \"Time\"]   = df.loc[:, \"Time\"].apply(lambda x : x / 3600 % 24) #24 시간\n",
        "df.loc[:, 'Amount'] = np.log(df.loc[:, 'Amount'] + 1)"
      ]
    },
    {
      "cell_type": "markdown",
      "metadata": {
        "id": "eM-TssowKpSe"
      },
      "source": [
        "- class 1 이 너무 적으므로 통상적인 7:3 대신 5:5 비율로 train, test set 분리"
      ]
    },
    {
      "cell_type": "code",
      "execution_count": 8,
      "metadata": {
        "_kg_hide-input": false,
        "_kg_hide-output": true,
        "_uuid": "cbc89746d900392dbddef6a0906e0b4fefe88523",
        "colab": {
          "base_uri": "https://localhost:8080/"
        },
        "id": "wlw9YCsp7fqd",
        "outputId": "2de84c9b-87a0-4c4c-fe9e-1abcdecb5f65"
      },
      "outputs": [
        {
          "output_type": "execute_result",
          "data": {
            "text/plain": [
              "((142403, 30), (142404, 30), (142403,), (142404,))"
            ]
          },
          "metadata": {},
          "execution_count": 8
        }
      ],
      "source": [
        "X_train, X_test, y_train, y_test = train_test_split(\n",
        "                        df.drop('Class', axis=1), df['Class'], \n",
        "                        test_size=0.5, random_state=0)\n",
        "X_train.shape, X_test.shape, y_train.shape, y_test.shape"
      ]
    },
    {
      "cell_type": "code",
      "execution_count": 9,
      "metadata": {
        "id": "X4VX-zHJwou6"
      },
      "outputs": [],
      "source": [
        "sc = StandardScaler()\n",
        "X_train = sc.fit_transform(X_train.values)\n",
        "X_test  = sc.transform(X_test.values)"
      ]
    },
    {
      "cell_type": "code",
      "source": [
        "y_train.value_counts() / y_train.count()"
      ],
      "metadata": {
        "colab": {
          "base_uri": "https://localhost:8080/"
        },
        "id": "34I0mbx4XvvG",
        "outputId": "48fe83d6-c25d-4ff2-eb4e-bae25c191257"
      },
      "execution_count": 10,
      "outputs": [
        {
          "output_type": "execute_result",
          "data": {
            "text/plain": [
              "0    0.998251\n",
              "1    0.001749\n",
              "Name: Class, dtype: float64"
            ]
          },
          "metadata": {},
          "execution_count": 10
        }
      ]
    },
    {
      "cell_type": "code",
      "source": [
        "y_test.value_counts() / y_test.count()"
      ],
      "metadata": {
        "colab": {
          "base_uri": "https://localhost:8080/"
        },
        "id": "IwsFF0BRXxdT",
        "outputId": "ef9b2331-1e0c-4117-9a0b-ee5e969ad6d8"
      },
      "execution_count": 11,
      "outputs": [
        {
          "output_type": "execute_result",
          "data": {
            "text/plain": [
              "0    0.998294\n",
              "1    0.001706\n",
              "Name: Class, dtype: float64"
            ]
          },
          "metadata": {},
          "execution_count": 11
        }
      ]
    },
    {
      "cell_type": "markdown",
      "metadata": {
        "_uuid": "3ae6791f9f14094bf85111601d5a56c20a5fc34d",
        "id": "4xbpTJpN7fqf"
      },
      "source": [
        "## Train a Variational Autoencoder\n",
        "\n",
        "- latent variable의 prior는 latent dimension의 random unit multivariate normal vector(tfd.MultivariateNormalDiag) 로 설정 합니다.  \n",
        "\n",
        "- 인코더의 출력인 잠재 분포 parameter 는 0이 아닌 공분산을 가진 다변수 정규정규 분포로 선택 되었습니다. 이는 사기 거래와 정상적인 거래를 분리하는 데 영향을 미치고, 사기 거래의 공분산이 패턴을 가질 수 있기 때문입니다. 따라서, LATENT Dimension 을 2 로 정할 경우, 학습할 distribution parameter는 5개 입니다 (2 개의 평균값 + 하삼각형의 2X2 공분산 행렬에서 가져온 공분산 값 3 개).  \n",
        "\n",
        "\n",
        "- 디코더의 출력인 데이터 분포 매개 변수는 feature-independent한 정규 분포를 따릅니다.  신용카드 데이터는 실수 값이며 일반적으로 정규 분포를 따르므로 정규 분포를 사용하여 출력을 모델링하는 것이 합리적입니다. "
      ]
    },
    {
      "cell_type": "markdown",
      "metadata": {
        "id": "sinkz1mnwXBL"
      },
      "source": [
        "train set 을 정상과 비정상 set 으로 구분"
      ]
    },
    {
      "cell_type": "code",
      "execution_count": 12,
      "metadata": {
        "colab": {
          "base_uri": "https://localhost:8080/"
        },
        "id": "bFAU9qpzKpSg",
        "outputId": "7a0346da-daae-42ef-8e87-7b61555c0b47"
      },
      "outputs": [
        {
          "output_type": "execute_result",
          "data": {
            "text/plain": [
              "((142154, 30), (249, 30))"
            ]
          },
          "metadata": {},
          "execution_count": 12
        }
      ],
      "source": [
        "X_train_normal = X_train[y_train == 0]\n",
        "X_train_fraud = X_train[y_train == 1]\n",
        "\n",
        "X_train_normal.shape, X_train_fraud.shape"
      ]
    },
    {
      "cell_type": "markdown",
      "metadata": {
        "id": "udMTw76_wkFT"
      },
      "source": [
        "test set을 정상과 비정상 set으로 구분"
      ]
    },
    {
      "cell_type": "code",
      "execution_count": 13,
      "metadata": {
        "colab": {
          "base_uri": "https://localhost:8080/"
        },
        "id": "cDV2x0-OKpSh",
        "outputId": "8e061666-582f-4c00-9a6b-33c3eef3ba93"
      },
      "outputs": [
        {
          "output_type": "execute_result",
          "data": {
            "text/plain": [
              "((142161, 30), (243, 30))"
            ]
          },
          "metadata": {},
          "execution_count": 13
        }
      ],
      "source": [
        "X_test_normal = X_test[y_test == 0]\n",
        "X_test_fraud = X_test[y_test == 1]\n",
        "\n",
        "X_test_normal.shape, X_test_fraud.shape"
      ]
    },
    {
      "cell_type": "markdown",
      "metadata": {
        "id": "ZQjg1UslwlWx"
      },
      "source": [
        "### model 정의"
      ]
    },
    {
      "cell_type": "code",
      "execution_count": 14,
      "metadata": {
        "id": "QCjKSeaGi1NE"
      },
      "outputs": [],
      "source": [
        "def encoder_model(input_dim, latent_dim):\n",
        "    prior = tfd.MultivariateNormalDiag(\n",
        "            loc=tf.zeros([latent_dim]),\n",
        "            scale_diag=tf.ones([latent_dim]))\n",
        "    \n",
        "    encoder_input = Input(shape=(input_dim,))\n",
        "    x = Dense(20, activation=tf.nn.leaky_relu)(encoder_input)\n",
        "    x = Dense(15, activation=tf.nn.leaky_relu)(x)\n",
        "    x = Dense(tfp.layers.MultivariateNormalTriL.params_size(latent_dim), activation=None)(x)\n",
        "    encoded = tfp.layers.MultivariateNormalTriL(latent_dim, \n",
        "                        activity_regularizer=tfp.layers.KLDivergenceRegularizer(prior))(x)\n",
        "    encoder = Model(encoder_input, encoded)\n",
        "    return encoder\n",
        "\n",
        "def decoder_model(latent_dim, input_dim):\n",
        "    decoder_input = Input(shape=(latent_dim,))\n",
        "    x = Dense(15, activation=tf.nn.leaky_relu)(decoder_input)\n",
        "    x = Dense(20, activation=tf.nn.leaky_relu)(x)\n",
        "    x = Dense(tfp.layers.IndependentNormal.params_size(input_dim), activation=None)(x)\n",
        "    decoded = tfp.layers.IndependentNormal(input_dim)(x)\n",
        "\n",
        "    decoder = Model(decoder_input, decoded)\n",
        "    return decoder\n",
        "\n",
        "def vae_model(encoder, decoder):\n",
        "    vae = Model(inputs=encoder.inputs,\n",
        "                outputs=decoder(encoder.outputs[0]))\n",
        "\n",
        "    negloglik = lambda x, rv_x: -rv_x.log_prob(x)\n",
        "\n",
        "    vae.compile(optimizer=tf.keras.optimizers.Adam(learning_rate=0.001), \n",
        "                loss=negloglik)\n",
        "    return vae"
      ]
    },
    {
      "cell_type": "code",
      "execution_count": 15,
      "metadata": {
        "colab": {
          "base_uri": "https://localhost:8080/"
        },
        "id": "tJ0jPt9gTYOX",
        "outputId": "20000ad2-2faf-40a9-cc2f-19455e1beed8"
      },
      "outputs": [
        {
          "output_type": "stream",
          "name": "stdout",
          "text": [
            "Model: \"model\"\n",
            "_________________________________________________________________\n",
            " Layer (type)                Output Shape              Param #   \n",
            "=================================================================\n",
            " input_1 (InputLayer)        [(None, 30)]              0         \n",
            "                                                                 \n",
            " dense (Dense)               (None, 20)                620       \n",
            "                                                                 \n",
            " dense_1 (Dense)             (None, 15)                315       \n",
            "                                                                 \n",
            " dense_2 (Dense)             (None, 5)                 80        \n",
            "                                                                 \n",
            " multivariate_normal_tri_l (  ((None, 2),              0         \n",
            " MultivariateNormalTriL)      (None, 2))                         \n",
            "                                                                 \n",
            "=================================================================\n",
            "Total params: 1,015\n",
            "Trainable params: 1,015\n",
            "Non-trainable params: 0\n",
            "_________________________________________________________________\n"
          ]
        }
      ],
      "source": [
        "input_dim = X_train_normal.shape[1]\n",
        "\n",
        "# latent_dim = 5\n",
        "latent_dim = 2\n",
        "\n",
        "encoder = encoder_model(input_dim, latent_dim)\n",
        "encoder.summary()"
      ]
    },
    {
      "cell_type": "code",
      "execution_count": 16,
      "metadata": {
        "colab": {
          "base_uri": "https://localhost:8080/"
        },
        "id": "Pwv_iOy8Tv-y",
        "outputId": "c71c58d1-6eab-4175-9215-23b586c0da5c"
      },
      "outputs": [
        {
          "output_type": "stream",
          "name": "stdout",
          "text": [
            "Model: \"model_1\"\n",
            "_________________________________________________________________\n",
            " Layer (type)                Output Shape              Param #   \n",
            "=================================================================\n",
            " input_2 (InputLayer)        [(None, 2)]               0         \n",
            "                                                                 \n",
            " dense_3 (Dense)             (None, 15)                45        \n",
            "                                                                 \n",
            " dense_4 (Dense)             (None, 20)                320       \n",
            "                                                                 \n",
            " dense_5 (Dense)             (None, 60)                1260      \n",
            "                                                                 \n",
            " independent_normal (Indepen  ((None, 30),             0         \n",
            " dentNormal)                  (None, 30))                        \n",
            "                                                                 \n",
            "=================================================================\n",
            "Total params: 1,625\n",
            "Trainable params: 1,625\n",
            "Non-trainable params: 0\n",
            "_________________________________________________________________\n"
          ]
        }
      ],
      "source": [
        "decoder = decoder_model(latent_dim, input_dim)\n",
        "decoder.summary()"
      ]
    },
    {
      "cell_type": "code",
      "execution_count": 17,
      "metadata": {
        "_uuid": "bd005b66ce9d41d43f6ff07674ebe64e3ba15717",
        "colab": {
          "base_uri": "https://localhost:8080/"
        },
        "id": "Z-hD_fRF7fqi",
        "outputId": "ae98b025-d64d-48a3-8670-c0247aadedab"
      },
      "outputs": [
        {
          "output_type": "stream",
          "name": "stdout",
          "text": [
            "Model: \"model_2\"\n",
            "_________________________________________________________________\n",
            " Layer (type)                Output Shape              Param #   \n",
            "=================================================================\n",
            " input_1 (InputLayer)        [(None, 30)]              0         \n",
            "                                                                 \n",
            " dense (Dense)               (None, 20)                620       \n",
            "                                                                 \n",
            " dense_1 (Dense)             (None, 15)                315       \n",
            "                                                                 \n",
            " dense_2 (Dense)             (None, 5)                 80        \n",
            "                                                                 \n",
            " multivariate_normal_tri_l (  ((None, 2),              0         \n",
            " MultivariateNormalTriL)      (None, 2))                         \n",
            "                                                                 \n",
            " model_1 (Functional)        (None, 30)                1625      \n",
            "                                                                 \n",
            "=================================================================\n",
            "Total params: 2,640\n",
            "Trainable params: 2,640\n",
            "Non-trainable params: 0\n",
            "_________________________________________________________________\n"
          ]
        }
      ],
      "source": [
        "vae = vae_model(encoder, decoder)\n",
        "vae.summary()"
      ]
    },
    {
      "cell_type": "code",
      "execution_count": 19,
      "metadata": {
        "_uuid": "9a80a22488211ff67043b170218cc2489b158ef4",
        "colab": {
          "base_uri": "https://localhost:8080/"
        },
        "id": "86dI94jc7fqi",
        "outputId": "106b3d8f-e451-4d8d-9603-77bc4b667f81",
        "scrolled": false
      },
      "outputs": [
        {
          "output_type": "stream",
          "name": "stdout",
          "text": [
            "Epoch 1/1000\n",
            "1111/1111 [==============================] - 15s 9ms/step - loss: 66.4666 - val_loss: 41.6016\n",
            "Epoch 2/1000\n",
            "1111/1111 [==============================] - 9s 8ms/step - loss: 41.4248 - val_loss: 40.4754\n",
            "Epoch 3/1000\n",
            "1111/1111 [==============================] - 9s 8ms/step - loss: 40.0590 - val_loss: 39.3692\n",
            "Epoch 4/1000\n",
            "1111/1111 [==============================] - 10s 9ms/step - loss: 39.0626 - val_loss: 38.4981\n",
            "Epoch 5/1000\n",
            "1111/1111 [==============================] - 10s 9ms/step - loss: 38.2500 - val_loss: 37.8476\n",
            "Epoch 6/1000\n",
            "1111/1111 [==============================] - 9s 8ms/step - loss: 37.6557 - val_loss: 37.3021\n",
            "Epoch 7/1000\n",
            "1111/1111 [==============================] - 10s 9ms/step - loss: 37.1409 - val_loss: 36.7394\n",
            "Epoch 8/1000\n",
            "1111/1111 [==============================] - 9s 8ms/step - loss: 36.5385 - val_loss: 36.1014\n",
            "Epoch 9/1000\n",
            "1111/1111 [==============================] - 10s 9ms/step - loss: 35.9720 - val_loss: 35.6766\n",
            "Epoch 10/1000\n",
            "1111/1111 [==============================] - 9s 8ms/step - loss: 35.6366 - val_loss: 35.4126\n",
            "Epoch 11/1000\n",
            "1111/1111 [==============================] - 10s 9ms/step - loss: 35.3936 - val_loss: 35.1914\n",
            "Epoch 12/1000\n",
            "1111/1111 [==============================] - 11s 10ms/step - loss: 35.1143 - val_loss: 34.7808\n",
            "Epoch 13/1000\n",
            "1111/1111 [==============================] - 9s 8ms/step - loss: 34.6073 - val_loss: 34.3369\n",
            "Epoch 14/1000\n",
            "1111/1111 [==============================] - 9s 8ms/step - loss: 34.2530 - val_loss: 34.0260\n",
            "Epoch 15/1000\n",
            "1111/1111 [==============================] - 9s 8ms/step - loss: 33.9713 - val_loss: 33.7970\n",
            "Epoch 16/1000\n",
            "1111/1111 [==============================] - 9s 8ms/step - loss: 33.7783 - val_loss: 33.6189\n",
            "Epoch 17/1000\n",
            "1111/1111 [==============================] - 9s 8ms/step - loss: 33.6365 - val_loss: 33.5082\n",
            "Epoch 18/1000\n",
            "1111/1111 [==============================] - 9s 8ms/step - loss: 33.5132 - val_loss: 33.3850\n",
            "Epoch 19/1000\n",
            "1111/1111 [==============================] - 9s 8ms/step - loss: 33.4103 - val_loss: 33.2794\n",
            "Epoch 20/1000\n",
            "1111/1111 [==============================] - 9s 8ms/step - loss: 33.3065 - val_loss: 33.1854\n",
            "Epoch 21/1000\n",
            "1111/1111 [==============================] - 9s 8ms/step - loss: 33.2282 - val_loss: 33.1282\n",
            "Epoch 22/1000\n",
            "1111/1111 [==============================] - 9s 8ms/step - loss: 33.1623 - val_loss: 33.0097\n",
            "Epoch 23/1000\n",
            "1111/1111 [==============================] - 9s 8ms/step - loss: 33.0674 - val_loss: 32.9715\n",
            "Epoch 24/1000\n",
            "1111/1111 [==============================] - 9s 8ms/step - loss: 33.0054 - val_loss: 32.9285\n",
            "Epoch 25/1000\n",
            "1111/1111 [==============================] - 9s 8ms/step - loss: 32.9375 - val_loss: 32.8765\n",
            "Epoch 26/1000\n",
            "1111/1111 [==============================] - 9s 8ms/step - loss: 32.8855 - val_loss: 32.8179\n",
            "Epoch 27/1000\n",
            "1111/1111 [==============================] - 9s 8ms/step - loss: 32.8278 - val_loss: 32.7176\n",
            "Epoch 28/1000\n",
            "1111/1111 [==============================] - 9s 8ms/step - loss: 32.7779 - val_loss: 32.7150\n",
            "Epoch 29/1000\n",
            "1111/1111 [==============================] - 9s 8ms/step - loss: 32.7231 - val_loss: 32.6342\n",
            "Epoch 30/1000\n",
            "1111/1111 [==============================] - 9s 8ms/step - loss: 32.6883 - val_loss: 32.6341\n",
            "Epoch 31/1000\n",
            "1111/1111 [==============================] - 9s 8ms/step - loss: 32.6455 - val_loss: 32.5537\n",
            "Epoch 32/1000\n",
            "1111/1111 [==============================] - 9s 8ms/step - loss: 32.6113 - val_loss: 32.5408\n",
            "Epoch 33/1000\n",
            "1111/1111 [==============================] - 9s 8ms/step - loss: 32.5833 - val_loss: 32.5245\n",
            "Epoch 34/1000\n",
            "1111/1111 [==============================] - 9s 8ms/step - loss: 32.5461 - val_loss: 32.4810\n",
            "Epoch 35/1000\n",
            "1111/1111 [==============================] - 9s 8ms/step - loss: 32.5194 - val_loss: 32.4649\n",
            "Epoch 36/1000\n",
            "1111/1111 [==============================] - 9s 8ms/step - loss: 32.4819 - val_loss: 32.4419\n",
            "Epoch 37/1000\n",
            "1111/1111 [==============================] - 9s 8ms/step - loss: 32.4716 - val_loss: 32.4673\n",
            "Epoch 38/1000\n",
            "1111/1111 [==============================] - 9s 8ms/step - loss: 32.4537 - val_loss: 32.3844\n",
            "Epoch 39/1000\n",
            "1111/1111 [==============================] - 10s 9ms/step - loss: 32.4260 - val_loss: 32.3629\n",
            "Epoch 40/1000\n",
            "1111/1111 [==============================] - 9s 8ms/step - loss: 32.4107 - val_loss: 32.3802\n",
            "Epoch 41/1000\n",
            "1111/1111 [==============================] - 9s 8ms/step - loss: 32.3798 - val_loss: 32.3136\n",
            "Epoch 42/1000\n",
            "1111/1111 [==============================] - 9s 8ms/step - loss: 32.3762 - val_loss: 32.3346\n",
            "Epoch 43/1000\n",
            "1111/1111 [==============================] - 9s 8ms/step - loss: 32.3575 - val_loss: 32.2858\n",
            "Epoch 44/1000\n",
            "1111/1111 [==============================] - 9s 8ms/step - loss: 32.3328 - val_loss: 32.2760\n",
            "Epoch 45/1000\n",
            "1111/1111 [==============================] - 9s 8ms/step - loss: 32.3263 - val_loss: 32.3818\n",
            "Epoch 46/1000\n",
            "1111/1111 [==============================] - 9s 8ms/step - loss: 32.3041 - val_loss: 32.2032\n",
            "Epoch 47/1000\n",
            "1111/1111 [==============================] - 9s 8ms/step - loss: 32.2925 - val_loss: 32.2462\n",
            "Epoch 48/1000\n",
            "1111/1111 [==============================] - 9s 8ms/step - loss: 32.2654 - val_loss: 32.1853\n",
            "Epoch 49/1000\n",
            "1111/1111 [==============================] - 9s 8ms/step - loss: 32.2488 - val_loss: 32.1825\n",
            "Epoch 50/1000\n",
            "1111/1111 [==============================] - 9s 8ms/step - loss: 32.2170 - val_loss: 32.1503\n",
            "Epoch 51/1000\n",
            "1111/1111 [==============================] - 9s 8ms/step - loss: 32.2064 - val_loss: 32.0860\n",
            "Epoch 52/1000\n",
            "1111/1111 [==============================] - 9s 8ms/step - loss: 32.1839 - val_loss: 32.0977\n",
            "Epoch 53/1000\n",
            "1111/1111 [==============================] - 9s 8ms/step - loss: 32.1578 - val_loss: 32.0924\n",
            "Epoch 54/1000\n",
            "1111/1111 [==============================] - 9s 8ms/step - loss: 32.1578 - val_loss: 32.0760\n",
            "Epoch 55/1000\n",
            "1111/1111 [==============================] - 9s 8ms/step - loss: 32.1184 - val_loss: 32.0572\n",
            "Epoch 56/1000\n",
            "1111/1111 [==============================] - 9s 8ms/step - loss: 32.1174 - val_loss: 32.0411\n",
            "Epoch 57/1000\n",
            "1111/1111 [==============================] - 9s 8ms/step - loss: 32.1113 - val_loss: 31.9946\n",
            "Epoch 58/1000\n",
            "1111/1111 [==============================] - 9s 8ms/step - loss: 32.0827 - val_loss: 32.0068\n",
            "Epoch 59/1000\n",
            "1111/1111 [==============================] - 9s 8ms/step - loss: 32.0688 - val_loss: 31.9735\n",
            "Epoch 60/1000\n",
            "1111/1111 [==============================] - 9s 8ms/step - loss: 32.0473 - val_loss: 31.9850\n",
            "Epoch 61/1000\n",
            "1111/1111 [==============================] - 9s 8ms/step - loss: 32.0302 - val_loss: 31.9941\n",
            "Epoch 62/1000\n",
            "1111/1111 [==============================] - 9s 8ms/step - loss: 32.0232 - val_loss: 31.9600\n",
            "Epoch 63/1000\n",
            "1111/1111 [==============================] - 9s 8ms/step - loss: 32.0100 - val_loss: 31.9161\n",
            "Epoch 64/1000\n",
            "1111/1111 [==============================] - 9s 8ms/step - loss: 31.9850 - val_loss: 31.9368\n",
            "Epoch 65/1000\n",
            "1111/1111 [==============================] - 9s 8ms/step - loss: 31.9959 - val_loss: 31.9471\n",
            "Epoch 66/1000\n",
            "1111/1111 [==============================] - 9s 8ms/step - loss: 31.9673 - val_loss: 31.8609\n",
            "Epoch 67/1000\n",
            "1111/1111 [==============================] - 9s 8ms/step - loss: 31.9583 - val_loss: 31.8954\n",
            "Epoch 68/1000\n",
            "1111/1111 [==============================] - 9s 8ms/step - loss: 31.9703 - val_loss: 31.9424\n",
            "Epoch 69/1000\n",
            "1111/1111 [==============================] - 9s 8ms/step - loss: 31.9503 - val_loss: 31.8692\n",
            "Epoch 70/1000\n",
            "1111/1111 [==============================] - 9s 9ms/step - loss: 31.9382 - val_loss: 31.8838\n",
            "Epoch 71/1000\n",
            "1111/1111 [==============================] - 9s 8ms/step - loss: 31.9216 - val_loss: 31.8295\n",
            "Epoch 72/1000\n",
            "1111/1111 [==============================] - 9s 8ms/step - loss: 31.9155 - val_loss: 31.9004\n",
            "Epoch 73/1000\n",
            "1111/1111 [==============================] - 10s 9ms/step - loss: 31.9114 - val_loss: 31.8620\n",
            "Epoch 74/1000\n",
            "1111/1111 [==============================] - 9s 8ms/step - loss: 31.8925 - val_loss: 31.9071\n",
            "Epoch 75/1000\n",
            "1111/1111 [==============================] - 9s 8ms/step - loss: 31.8852 - val_loss: 31.8357\n",
            "Epoch 76/1000\n",
            "1111/1111 [==============================] - 9s 8ms/step - loss: 31.8831 - val_loss: 31.8004\n",
            "Epoch 77/1000\n",
            "1111/1111 [==============================] - 9s 8ms/step - loss: 31.8734 - val_loss: 31.7910\n",
            "Epoch 78/1000\n",
            "1111/1111 [==============================] - 9s 8ms/step - loss: 31.8601 - val_loss: 31.7895\n",
            "Epoch 79/1000\n",
            "1111/1111 [==============================] - 9s 8ms/step - loss: 31.8580 - val_loss: 31.7432\n",
            "Epoch 80/1000\n",
            "1111/1111 [==============================] - 9s 8ms/step - loss: 31.8666 - val_loss: 31.8019\n",
            "Epoch 81/1000\n",
            "1111/1111 [==============================] - 9s 8ms/step - loss: 31.8404 - val_loss: 31.8919\n",
            "Epoch 82/1000\n",
            "1111/1111 [==============================] - 10s 9ms/step - loss: 31.8382 - val_loss: 31.8158\n",
            "Epoch 83/1000\n",
            "1111/1111 [==============================] - 9s 8ms/step - loss: 31.8205 - val_loss: 31.8341\n",
            "Epoch 84/1000\n",
            "1111/1111 [==============================] - 9s 8ms/step - loss: 31.8248 - val_loss: 31.8116\n",
            "Epoch 85/1000\n",
            "1111/1111 [==============================] - 9s 8ms/step - loss: 31.8347 - val_loss: 166.7812\n",
            "Epoch 86/1000\n",
            "1111/1111 [==============================] - 11s 10ms/step - loss: 31.8585 - val_loss: 31.7474\n",
            "Epoch 87/1000\n",
            "1111/1111 [==============================] - 9s 8ms/step - loss: 31.7771 - val_loss: 31.7653\n",
            "Epoch 88/1000\n",
            "1111/1111 [==============================] - 9s 8ms/step - loss: 31.7918 - val_loss: 31.8980\n",
            "Epoch 89/1000\n",
            "1111/1111 [==============================] - 9s 8ms/step - loss: 31.7914 - val_loss: 31.7355\n",
            "Epoch 90/1000\n",
            "1111/1111 [==============================] - 9s 8ms/step - loss: 31.7889 - val_loss: 31.7051\n",
            "Epoch 91/1000\n",
            "1111/1111 [==============================] - 9s 8ms/step - loss: 31.7888 - val_loss: 31.7161\n",
            "Epoch 92/1000\n",
            "1111/1111 [==============================] - 9s 8ms/step - loss: 31.7667 - val_loss: 31.6685\n",
            "Epoch 93/1000\n",
            "1111/1111 [==============================] - 9s 8ms/step - loss: 31.7855 - val_loss: 31.6967\n",
            "Epoch 94/1000\n",
            "1111/1111 [==============================] - 9s 8ms/step - loss: 31.7559 - val_loss: 31.8869\n",
            "Epoch 95/1000\n",
            "1111/1111 [==============================] - 9s 8ms/step - loss: 31.7570 - val_loss: 31.6939\n",
            "Epoch 96/1000\n",
            "1111/1111 [==============================] - 9s 8ms/step - loss: 31.7558 - val_loss: 31.7194\n",
            "Epoch 97/1000\n",
            "1111/1111 [==============================] - 9s 8ms/step - loss: 31.7509 - val_loss: 31.8962\n",
            "Epoch 98/1000\n",
            "1111/1111 [==============================] - 9s 9ms/step - loss: 31.7258 - val_loss: 31.6387\n",
            "Epoch 99/1000\n",
            "1111/1111 [==============================] - 9s 8ms/step - loss: 31.7326 - val_loss: 31.8927\n",
            "Epoch 100/1000\n",
            "1111/1111 [==============================] - 9s 8ms/step - loss: 31.7297 - val_loss: 31.7052\n",
            "Epoch 101/1000\n",
            "1111/1111 [==============================] - 9s 8ms/step - loss: 31.7364 - val_loss: 31.6648\n",
            "Epoch 102/1000\n",
            "1111/1111 [==============================] - 9s 8ms/step - loss: 31.7236 - val_loss: 31.6934\n",
            "Epoch 103/1000\n",
            "1111/1111 [==============================] - 9s 8ms/step - loss: 31.7169 - val_loss: 31.6130\n",
            "Epoch 104/1000\n",
            "1111/1111 [==============================] - 9s 8ms/step - loss: 31.7179 - val_loss: 31.6632\n",
            "Epoch 105/1000\n",
            "1111/1111 [==============================] - 9s 8ms/step - loss: 31.7053 - val_loss: 31.7099\n",
            "Epoch 106/1000\n",
            "1111/1111 [==============================] - 10s 9ms/step - loss: 31.7441 - val_loss: 31.7370\n",
            "Epoch 107/1000\n",
            "1111/1111 [==============================] - 9s 8ms/step - loss: 31.7006 - val_loss: 31.6199\n",
            "Epoch 108/1000\n",
            "1111/1111 [==============================] - 9s 8ms/step - loss: 31.6943 - val_loss: 31.8324\n",
            "Epoch 109/1000\n",
            "1111/1111 [==============================] - 9s 8ms/step - loss: 31.6991 - val_loss: 31.5660\n",
            "Epoch 110/1000\n",
            "1111/1111 [==============================] - 9s 8ms/step - loss: 31.6840 - val_loss: 31.6557\n",
            "Epoch 111/1000\n",
            "1111/1111 [==============================] - 9s 8ms/step - loss: 31.6771 - val_loss: 31.5938\n",
            "Epoch 112/1000\n",
            "1111/1111 [==============================] - 9s 8ms/step - loss: 31.6723 - val_loss: 31.5604\n",
            "Epoch 113/1000\n",
            "1111/1111 [==============================] - 9s 8ms/step - loss: 31.6721 - val_loss: 31.5974\n",
            "Epoch 114/1000\n",
            "1111/1111 [==============================] - 9s 8ms/step - loss: 31.6999 - val_loss: 31.6868\n",
            "Epoch 115/1000\n",
            "1111/1111 [==============================] - 9s 8ms/step - loss: 31.6681 - val_loss: 31.5605\n",
            "Epoch 116/1000\n",
            "1111/1111 [==============================] - 9s 8ms/step - loss: 31.6781 - val_loss: 31.6178\n",
            "Epoch 117/1000\n",
            "1111/1111 [==============================] - 9s 8ms/step - loss: 31.6590 - val_loss: 31.6746\n",
            "Epoch 118/1000\n",
            "1111/1111 [==============================] - 9s 8ms/step - loss: 31.6639 - val_loss: 31.6071\n",
            "Epoch 119/1000\n",
            "1111/1111 [==============================] - 10s 9ms/step - loss: 31.6366 - val_loss: 31.6495\n",
            "Epoch 120/1000\n",
            "1111/1111 [==============================] - 9s 8ms/step - loss: 31.6735 - val_loss: 31.7386\n",
            "Epoch 121/1000\n",
            "1111/1111 [==============================] - 9s 8ms/step - loss: 31.6300 - val_loss: 31.6256\n",
            "Epoch 122/1000\n",
            "1111/1111 [==============================] - 9s 8ms/step - loss: 31.6454 - val_loss: 31.5501\n",
            "Epoch 123/1000\n",
            "1111/1111 [==============================] - 9s 9ms/step - loss: 31.6310 - val_loss: 31.7550\n",
            "Epoch 124/1000\n",
            "1111/1111 [==============================] - 9s 8ms/step - loss: 31.6481 - val_loss: 31.6468\n",
            "Epoch 125/1000\n",
            "1111/1111 [==============================] - 9s 8ms/step - loss: 31.6354 - val_loss: 31.5469\n",
            "Epoch 126/1000\n",
            "1111/1111 [==============================] - 9s 8ms/step - loss: 31.7059 - val_loss: 31.5832\n",
            "Epoch 127/1000\n",
            "1111/1111 [==============================] - 9s 8ms/step - loss: 31.6025 - val_loss: 31.5929\n",
            "Epoch 128/1000\n",
            "1111/1111 [==============================] - 9s 8ms/step - loss: 31.6135 - val_loss: 31.5544\n",
            "Epoch 129/1000\n",
            "1111/1111 [==============================] - 9s 9ms/step - loss: 31.5892 - val_loss: 31.6002\n",
            "Epoch 130/1000\n",
            "1111/1111 [==============================] - 10s 9ms/step - loss: 31.5958 - val_loss: 31.5226\n",
            "Epoch 131/1000\n",
            "1111/1111 [==============================] - 9s 8ms/step - loss: 31.6169 - val_loss: 31.5834\n",
            "Epoch 132/1000\n",
            "1111/1111 [==============================] - 9s 9ms/step - loss: 31.6137 - val_loss: 31.5378\n",
            "Epoch 133/1000\n",
            "1111/1111 [==============================] - 9s 8ms/step - loss: 31.5795 - val_loss: 31.6196\n",
            "Epoch 134/1000\n",
            "1111/1111 [==============================] - 9s 8ms/step - loss: 31.5760 - val_loss: 31.7089\n",
            "Epoch 135/1000\n",
            "1111/1111 [==============================] - 9s 8ms/step - loss: 31.6149 - val_loss: 31.5390\n",
            "Epoch 136/1000\n",
            "1111/1111 [==============================] - 9s 8ms/step - loss: 31.5922 - val_loss: 31.5063\n",
            "Epoch 137/1000\n",
            "1111/1111 [==============================] - 9s 8ms/step - loss: 31.5795 - val_loss: 31.5115\n",
            "Epoch 138/1000\n",
            "1111/1111 [==============================] - 9s 8ms/step - loss: 31.5747 - val_loss: 35.5890\n",
            "Epoch 139/1000\n",
            "1111/1111 [==============================] - 10s 9ms/step - loss: 31.5733 - val_loss: 31.5896\n",
            "Epoch 140/1000\n",
            "1111/1111 [==============================] - 10s 9ms/step - loss: 31.5628 - val_loss: 31.5526\n",
            "Epoch 141/1000\n",
            "1111/1111 [==============================] - 9s 8ms/step - loss: 31.8880 - val_loss: 31.6959\n",
            "Epoch 142/1000\n",
            "1111/1111 [==============================] - 9s 8ms/step - loss: 31.6046 - val_loss: 31.4962\n",
            "Epoch 143/1000\n",
            "1111/1111 [==============================] - 9s 8ms/step - loss: 31.5493 - val_loss: 31.7244\n",
            "Epoch 144/1000\n",
            "1111/1111 [==============================] - 9s 8ms/step - loss: 31.5456 - val_loss: 31.4755\n",
            "Epoch 145/1000\n",
            "1111/1111 [==============================] - 9s 8ms/step - loss: 31.5537 - val_loss: 31.4667\n",
            "Epoch 146/1000\n",
            "1111/1111 [==============================] - 10s 9ms/step - loss: 31.5401 - val_loss: 31.5186\n",
            "Epoch 147/1000\n",
            "1111/1111 [==============================] - 10s 9ms/step - loss: 31.5584 - val_loss: 31.4673\n",
            "Epoch 148/1000\n",
            "1111/1111 [==============================] - 9s 8ms/step - loss: 31.5683 - val_loss: 31.5467\n",
            "Epoch 149/1000\n",
            "1111/1111 [==============================] - 9s 9ms/step - loss: 31.5725 - val_loss: 31.7676\n",
            "Epoch 150/1000\n",
            "1111/1111 [==============================] - 9s 8ms/step - loss: 31.5545 - val_loss: 31.4609\n",
            "Epoch 151/1000\n",
            "1111/1111 [==============================] - 10s 9ms/step - loss: 31.5407 - val_loss: 31.5446\n",
            "Epoch 152/1000\n",
            "1111/1111 [==============================] - 9s 8ms/step - loss: 31.5484 - val_loss: 31.5214\n",
            "Epoch 153/1000\n",
            "1111/1111 [==============================] - 9s 8ms/step - loss: 31.5331 - val_loss: 1482.3143\n",
            "Epoch 154/1000\n",
            "1111/1111 [==============================] - 9s 8ms/step - loss: 31.5228 - val_loss: 31.4610\n",
            "Epoch 155/1000\n",
            "1111/1111 [==============================] - 9s 8ms/step - loss: 31.5590 - val_loss: 54.1197\n",
            "Epoch 156/1000\n",
            "1111/1111 [==============================] - 9s 8ms/step - loss: 31.5228 - val_loss: 8641.2314\n",
            "Epoch 157/1000\n",
            "1111/1111 [==============================] - 9s 8ms/step - loss: 31.5184 - val_loss: 33.8643\n",
            "Epoch 158/1000\n",
            "1111/1111 [==============================] - 9s 8ms/step - loss: 31.5283 - val_loss: 38.4597\n",
            "Epoch 159/1000\n",
            "1111/1111 [==============================] - 9s 8ms/step - loss: 31.6791 - val_loss: 333.0930\n",
            "Epoch 160/1000\n",
            "1111/1111 [==============================] - 9s 8ms/step - loss: 31.5010 - val_loss: 31.6299\n"
          ]
        }
      ],
      "source": [
        "batch_size = 128\n",
        "max_epochs = 1000\n",
        "\n",
        "s = time.time()\n",
        "\n",
        "checkpointer = ModelCheckpoint(filepath='bestmodel.h5', verbose=0, save_best_only=True)\n",
        "\n",
        "earlystopper = EarlyStopping(monitor='val_loss', mode='min', \n",
        "                             patience=10, verbose=0, restore_best_weights=True)\n",
        "\n",
        "history = vae.fit(X_train_normal, X_train_normal, \n",
        "                  epochs=max_epochs, batch_size=128, shuffle=True,\n",
        "                  verbose=1, validation_data=(X_test_normal, X_test_normal),\n",
        "                  callbacks=[earlystopper, checkpointer])"
      ]
    },
    {
      "cell_type": "code",
      "execution_count": 20,
      "metadata": {
        "colab": {
          "base_uri": "https://localhost:8080/"
        },
        "id": "qPijv91cw9vl",
        "outputId": "d7a9aa88-3f57-4256-fd3d-16249892e676"
      },
      "outputs": [
        {
          "output_type": "stream",
          "name": "stdout",
          "text": [
            "경과 시간: 24.8366459886233 분\n"
          ]
        }
      ],
      "source": [
        "print(f\"경과 시간: {(time.time() - s) / 60} 분\")"
      ]
    },
    {
      "cell_type": "code",
      "execution_count": 21,
      "metadata": {
        "colab": {
          "base_uri": "https://localhost:8080/",
          "height": 286
        },
        "id": "OQW0KDLVCoo6",
        "outputId": "fd89d00a-ce03-4679-d40c-506902ba9613"
      },
      "outputs": [
        {
          "output_type": "execute_result",
          "data": {
            "text/plain": [
              "[<matplotlib.lines.Line2D at 0x7f2aba073290>]"
            ]
          },
          "metadata": {},
          "execution_count": 21
        },
        {
          "output_type": "display_data",
          "data": {
            "text/plain": [
              "<Figure size 432x288 with 1 Axes>"
            ],
            "image/png": "[encoded data removed]"
          },
          "metadata": {
            "needs_background": "light"
          }
        }
      ],
      "source": [
        "plt.plot([v for v in history.history['val_loss'] if v < 50])"
      ]
    },
    {
      "cell_type": "markdown",
      "metadata": {
        "_uuid": "8838e8cf12d64ad6189a20f6d1dbe2feb0a77682",
        "id": "Du1qgiXv7fqi"
      },
      "source": [
        "## Reconstruction Error 시각화\n",
        "\n",
        "- Anomaly data 와의 bar chart 비교를 위해 정상 abnormal data 갯수 만큼의 임의의 normal sample 을 선택"
      ]
    },
    {
      "cell_type": "code",
      "execution_count": 23,
      "metadata": {
        "colab": {
          "base_uri": "https://localhost:8080/"
        },
        "id": "-pyCSeCYR9DT",
        "outputId": "4b0ced4b-2966-49e3-9425-87404f653333"
      },
      "outputs": [
        {
          "output_type": "execute_result",
          "data": {
            "text/plain": [
              "(250, 30)"
            ]
          },
          "metadata": {},
          "execution_count": 23
        }
      ],
      "source": [
        "# 정상 sample 무작위 sampling \n",
        "idx = np.random.choice(len(X_train_normal), 250, replace=False)\n",
        "Nom_data = X_train_normal[idx]\n",
        "Nom_data.shape "
      ]
    },
    {
      "cell_type": "markdown",
      "source": [
        "### 정상 data 및 fraud data 의 autoencoder 재 구성값\n",
        "- 정상 data의 metric"
      ],
      "metadata": {
        "id": "T7DgdpnFYyoN"
      }
    },
    {
      "cell_type": "code",
      "execution_count": 25,
      "metadata": {
        "colab": {
          "base_uri": "https://localhost:8080/",
          "height": 338
        },
        "id": "Idsn4RRmSBk8",
        "outputId": "067b2d4e-57b7-4e72-cf29-2fdd6d292a9b"
      },
      "outputs": [
        {
          "output_type": "stream",
          "name": "stdout",
          "text": [
            "8/8 [==============================] - 0s 4ms/step\n",
            "Normal Metric\n"
          ]
        },
        {
          "output_type": "execute_result",
          "data": {
            "text/plain": [
              "       Normal_mse\n",
              "count  250.000000\n",
              "mean     1.330581\n",
              "std      2.021727\n",
              "min      0.086993\n",
              "25%      0.614097\n",
              "50%      1.091287\n",
              "75%      1.626061\n",
              "max     29.900785"
            ],
            "text/html": [
              "\n",
              "  <div id=\"df-90d31a19-eaf9-4c6b-a67b-5a2b55ef7098\">\n",
              "    <div class=\"colab-df-container\">\n",
              "      <div>\n",
              "<style scoped>\n",
              "    .dataframe tbody tr th:only-of-type {\n",
              "        vertical-align: middle;\n",
              "    }\n",
              "\n",
              "    .dataframe tbody tr th {\n",
              "        vertical-align: top;\n",
              "    }\n",
              "\n",
              "    .dataframe thead th {\n",
              "        text-align: right;\n",
              "    }\n",
              "</style>\n",
              "<table border=\"1\" class=\"dataframe\">\n",
              "  <thead>\n",
              "    <tr style=\"text-align: right;\">\n",
              "      <th></th>\n",
              "      <th>Normal_mse</th>\n",
              "    </tr>\n",
              "  </thead>\n",
              "  <tbody>\n",
              "    <tr>\n",
              "      <th>count</th>\n",
              "      <td>250.000000</td>\n",
              "    </tr>\n",
              "    <tr>\n",
              "      <th>mean</th>\n",
              "      <td>1.330581</td>\n",
              "    </tr>\n",
              "    <tr>\n",
              "      <th>std</th>\n",
              "      <td>2.021727</td>\n",
              "    </tr>\n",
              "    <tr>\n",
              "      <th>min</th>\n",
              "      <td>0.086993</td>\n",
              "    </tr>\n",
              "    <tr>\n",
              "      <th>25%</th>\n",
              "      <td>0.614097</td>\n",
              "    </tr>\n",
              "    <tr>\n",
              "      <th>50%</th>\n",
              "      <td>1.091287</td>\n",
              "    </tr>\n",
              "    <tr>\n",
              "      <th>75%</th>\n",
              "      <td>1.626061</td>\n",
              "    </tr>\n",
              "    <tr>\n",
              "      <th>max</th>\n",
              "      <td>29.900785</td>\n",
              "    </tr>\n",
              "  </tbody>\n",
              "</table>\n",
              "</div>\n",
              "      <button class=\"colab-df-convert\" onclick=\"convertToInteractive('df-90d31a19-eaf9-4c6b-a67b-5a2b55ef7098')\"\n",
              "              title=\"Convert this dataframe to an interactive table.\"\n",
              "              style=\"display:none;\">\n",
              "        \n",
              "  <svg xmlns=\"http://www.w3.org/2000/svg\" height=\"24px\"viewBox=\"0 0 24 24\"\n",
              "       width=\"24px\">\n",
              "    <path d=\"M0 0h24v24H0V0z\" fill=\"none\"/>\n",
              "    <path d=\"M18.56 5.44l.94 2.06.94-2.06 2.06-.94-2.06-.94-.94-2.06-.94 2.06-2.06.94zm-11 1L8.5 8.5l.94-2.06 2.06-.94-2.06-.94L8.5 2.5l-.94 2.06-2.06.94zm10 10l.94 2.06.94-2.06 2.06-.94-2.06-.94-.94-2.06-.94 2.06-2.06.94z\"/><path d=\"M17.41 7.96l-1.37-1.37c-.4-.4-.92-.59-1.43-.59-.52 0-1.04.2-1.43.59L10.3 9.45l-7.72 7.72c-.78.78-.78 2.05 0 2.83L4 21.41c.39.39.9.59 1.41.59.51 0 1.02-.2 1.41-.59l7.78-7.78 2.81-2.81c.8-.78.8-2.07 0-2.86zM5.41 20L4 18.59l7.72-7.72 1.47 1.35L5.41 20z\"/>\n",
              "  </svg>\n",
              "      </button>\n",
              "      \n",
              "  <style>\n",
              "    .colab-df-container {\n",
              "      display:flex;\n",
              "      flex-wrap:wrap;\n",
              "      gap: 12px;\n",
              "    }\n",
              "\n",
              "    .colab-df-convert {\n",
              "      background-color: #E8F0FE;\n",
              "      border: none;\n",
              "      border-radius: 50%;\n",
              "      cursor: pointer;\n",
              "      display: none;\n",
              "      fill: #1967D2;\n",
              "      height: 32px;\n",
              "      padding: 0 0 0 0;\n",
              "      width: 32px;\n",
              "    }\n",
              "\n",
              "    .colab-df-convert:hover {\n",
              "      background-color: #E2EBFA;\n",
              "      box-shadow: 0px 1px 2px rgba(60, 64, 67, 0.3), 0px 1px 3px 1px rgba(60, 64, 67, 0.15);\n",
              "      fill: #174EA6;\n",
              "    }\n",
              "\n",
              "    [theme=dark] .colab-df-convert {\n",
              "      background-color: #3B4455;\n",
              "      fill: #D2E3FC;\n",
              "    }\n",
              "\n",
              "    [theme=dark] .colab-df-convert:hover {\n",
              "      background-color: #434B5C;\n",
              "      box-shadow: 0px 1px 3px 1px rgba(0, 0, 0, 0.15);\n",
              "      filter: drop-shadow(0px 1px 2px rgba(0, 0, 0, 0.3));\n",
              "      fill: #FFFFFF;\n",
              "    }\n",
              "  </style>\n",
              "\n",
              "      <script>\n",
              "        const buttonEl =\n",
              "          document.querySelector('#df-90d31a19-eaf9-4c6b-a67b-5a2b55ef7098 button.colab-df-convert');\n",
              "        buttonEl.style.display =\n",
              "          google.colab.kernel.accessAllowed ? 'block' : 'none';\n",
              "\n",
              "        async function convertToInteractive(key) {\n",
              "          const element = document.querySelector('#df-90d31a19-eaf9-4c6b-a67b-5a2b55ef7098');\n",
              "          const dataTable =\n",
              "            await google.colab.kernel.invokeFunction('convertToInteractive',\n",
              "                                                     [key], {});\n",
              "          if (!dataTable) return;\n",
              "\n",
              "          const docLinkHtml = 'Like what you see? Visit the ' +\n",
              "            '<a target=\"_blank\" href=https://colab.research.google.com/notebooks/data_table.ipynb>data table notebook</a>'\n",
              "            + ' to learn more about interactive tables.';\n",
              "          element.innerHTML = '';\n",
              "          dataTable['output_type'] = 'display_data';\n",
              "          await google.colab.output.renderOutput(dataTable, element);\n",
              "          const docLink = document.createElement('div');\n",
              "          docLink.innerHTML = docLinkHtml;\n",
              "          element.appendChild(docLink);\n",
              "        }\n",
              "      </script>\n",
              "    </div>\n",
              "  </div>\n",
              "  "
            ]
          },
          "metadata": {},
          "execution_count": 25
        }
      ],
      "source": [
        "# 정상 데이터의 재구성 결과 값\n",
        "Nom_pred = vae.predict(Nom_data)  \n",
        "# 재구성 오류 -  input/output 간의 MSE 구하기\n",
        "Nom_pred_mse = np.mean(np.power(Nom_data - Nom_pred, 2), axis=1) \n",
        "\n",
        "print('Normal Metric')\n",
        "Nom_pred_mse_df = pd.DataFrame({'Normal_mse': Nom_pred_mse})\n",
        "Nom_pred_mse_df.describe()"
      ]
    },
    {
      "cell_type": "code",
      "execution_count": 26,
      "metadata": {
        "colab": {
          "base_uri": "https://localhost:8080/",
          "height": 338
        },
        "id": "pK1yv87vSKVp",
        "outputId": "f938dfe2-d7db-4c81-ec83-24a1f6110b2c"
      },
      "outputs": [
        {
          "output_type": "stream",
          "name": "stdout",
          "text": [
            "8/8 [==============================] - 0s 3ms/step\n",
            "Anomaly Metric\n"
          ]
        },
        {
          "output_type": "execute_result",
          "data": {
            "text/plain": [
              "       Anomaly_mse\n",
              "count   249.000000\n",
              "mean     43.149947\n",
              "std      57.313072\n",
              "min       0.521747\n",
              "25%       8.003043\n",
              "50%      17.622743\n",
              "75%      60.940937\n",
              "max     378.060211"
            ],
            "text/html": [
              "\n",
              "  <div id=\"df-2d82a345-6571-47ac-a6da-cc693392442e\">\n",
              "    <div class=\"colab-df-container\">\n",
              "      <div>\n",
              "<style scoped>\n",
              "    .dataframe tbody tr th:only-of-type {\n",
              "        vertical-align: middle;\n",
              "    }\n",
              "\n",
              "    .dataframe tbody tr th {\n",
              "        vertical-align: top;\n",
              "    }\n",
              "\n",
              "    .dataframe thead th {\n",
              "        text-align: right;\n",
              "    }\n",
              "</style>\n",
              "<table border=\"1\" class=\"dataframe\">\n",
              "  <thead>\n",
              "    <tr style=\"text-align: right;\">\n",
              "      <th></th>\n",
              "      <th>Anomaly_mse</th>\n",
              "    </tr>\n",
              "  </thead>\n",
              "  <tbody>\n",
              "    <tr>\n",
              "      <th>count</th>\n",
              "      <td>249.000000</td>\n",
              "    </tr>\n",
              "    <tr>\n",
              "      <th>mean</th>\n",
              "      <td>43.149947</td>\n",
              "    </tr>\n",
              "    <tr>\n",
              "      <th>std</th>\n",
              "      <td>57.313072</td>\n",
              "    </tr>\n",
              "    <tr>\n",
              "      <th>min</th>\n",
              "      <td>0.521747</td>\n",
              "    </tr>\n",
              "    <tr>\n",
              "      <th>25%</th>\n",
              "      <td>8.003043</td>\n",
              "    </tr>\n",
              "    <tr>\n",
              "      <th>50%</th>\n",
              "      <td>17.622743</td>\n",
              "    </tr>\n",
              "    <tr>\n",
              "      <th>75%</th>\n",
              "      <td>60.940937</td>\n",
              "    </tr>\n",
              "    <tr>\n",
              "      <th>max</th>\n",
              "      <td>378.060211</td>\n",
              "    </tr>\n",
              "  </tbody>\n",
              "</table>\n",
              "</div>\n",
              "      <button class=\"colab-df-convert\" onclick=\"convertToInteractive('df-2d82a345-6571-47ac-a6da-cc693392442e')\"\n",
              "              title=\"Convert this dataframe to an interactive table.\"\n",
              "              style=\"display:none;\">\n",
              "        \n",
              "  <svg xmlns=\"http://www.w3.org/2000/svg\" height=\"24px\"viewBox=\"0 0 24 24\"\n",
              "       width=\"24px\">\n",
              "    <path d=\"M0 0h24v24H0V0z\" fill=\"none\"/>\n",
              "    <path d=\"M18.56 5.44l.94 2.06.94-2.06 2.06-.94-2.06-.94-.94-2.06-.94 2.06-2.06.94zm-11 1L8.5 8.5l.94-2.06 2.06-.94-2.06-.94L8.5 2.5l-.94 2.06-2.06.94zm10 10l.94 2.06.94-2.06 2.06-.94-2.06-.94-.94-2.06-.94 2.06-2.06.94z\"/><path d=\"M17.41 7.96l-1.37-1.37c-.4-.4-.92-.59-1.43-.59-.52 0-1.04.2-1.43.59L10.3 9.45l-7.72 7.72c-.78.78-.78 2.05 0 2.83L4 21.41c.39.39.9.59 1.41.59.51 0 1.02-.2 1.41-.59l7.78-7.78 2.81-2.81c.8-.78.8-2.07 0-2.86zM5.41 20L4 18.59l7.72-7.72 1.47 1.35L5.41 20z\"/>\n",
              "  </svg>\n",
              "      </button>\n",
              "      \n",
              "  <style>\n",
              "    .colab-df-container {\n",
              "      display:flex;\n",
              "      flex-wrap:wrap;\n",
              "      gap: 12px;\n",
              "    }\n",
              "\n",
              "    .colab-df-convert {\n",
              "      background-color: #E8F0FE;\n",
              "      border: none;\n",
              "      border-radius: 50%;\n",
              "      cursor: pointer;\n",
              "      display: none;\n",
              "      fill: #1967D2;\n",
              "      height: 32px;\n",
              "      padding: 0 0 0 0;\n",
              "      width: 32px;\n",
              "    }\n",
              "\n",
              "    .colab-df-convert:hover {\n",
              "      background-color: #E2EBFA;\n",
              "      box-shadow: 0px 1px 2px rgba(60, 64, 67, 0.3), 0px 1px 3px 1px rgba(60, 64, 67, 0.15);\n",
              "      fill: #174EA6;\n",
              "    }\n",
              "\n",
              "    [theme=dark] .colab-df-convert {\n",
              "      background-color: #3B4455;\n",
              "      fill: #D2E3FC;\n",
              "    }\n",
              "\n",
              "    [theme=dark] .colab-df-convert:hover {\n",
              "      background-color: #434B5C;\n",
              "      box-shadow: 0px 1px 3px 1px rgba(0, 0, 0, 0.15);\n",
              "      filter: drop-shadow(0px 1px 2px rgba(0, 0, 0, 0.3));\n",
              "      fill: #FFFFFF;\n",
              "    }\n",
              "  </style>\n",
              "\n",
              "      <script>\n",
              "        const buttonEl =\n",
              "          document.querySelector('#df-2d82a345-6571-47ac-a6da-cc693392442e button.colab-df-convert');\n",
              "        buttonEl.style.display =\n",
              "          google.colab.kernel.accessAllowed ? 'block' : 'none';\n",
              "\n",
              "        async function convertToInteractive(key) {\n",
              "          const element = document.querySelector('#df-2d82a345-6571-47ac-a6da-cc693392442e');\n",
              "          const dataTable =\n",
              "            await google.colab.kernel.invokeFunction('convertToInteractive',\n",
              "                                                     [key], {});\n",
              "          if (!dataTable) return;\n",
              "\n",
              "          const docLinkHtml = 'Like what you see? Visit the ' +\n",
              "            '<a target=\"_blank\" href=https://colab.research.google.com/notebooks/data_table.ipynb>data table notebook</a>'\n",
              "            + ' to learn more about interactive tables.';\n",
              "          element.innerHTML = '';\n",
              "          dataTable['output_type'] = 'display_data';\n",
              "          await google.colab.output.renderOutput(dataTable, element);\n",
              "          const docLink = document.createElement('div');\n",
              "          docLink.innerHTML = docLinkHtml;\n",
              "          element.appendChild(docLink);\n",
              "        }\n",
              "      </script>\n",
              "    </div>\n",
              "  </div>\n",
              "  "
            ]
          },
          "metadata": {},
          "execution_count": 26
        }
      ],
      "source": [
        "# 비정상 data의 재구성 결과값\n",
        "ANom_pred = vae.predict(X_train_fraud)   \n",
        "# 재구성 오류 -  input/output 간의 MSE 구하기\n",
        "ANom_pred_mse = np.mean(np.power(X_train_fraud - ANom_pred, 2), axis=1) \n",
        "\n",
        "print('Anomaly Metric')\n",
        "ANom_pred_mse_df = pd.DataFrame({'Anomaly_mse':ANom_pred_mse})\n",
        "ANom_pred_mse_df.describe()"
      ]
    },
    {
      "cell_type": "markdown",
      "metadata": {
        "id": "sLU3fwifwovA"
      },
      "source": [
        "### MSE 분포 시각화 비교"
      ]
    },
    {
      "cell_type": "code",
      "execution_count": 27,
      "metadata": {
        "colab": {
          "base_uri": "https://localhost:8080/",
          "height": 295
        },
        "id": "jXLxERDsSRB0",
        "outputId": "9f1f559b-9ffd-4172-9c77-1f5aa2f097d9"
      },
      "outputs": [
        {
          "output_type": "display_data",
          "data": {
            "text/plain": [
              "<Figure size 432x288 with 1 Axes>"
            ],
            "image/png": "[encoded data removed]"
          },
          "metadata": {
            "needs_background": "light"
          }
        }
      ],
      "source": [
        "plt.title('MSE compare') \n",
        "plt.hist(Nom_pred_mse, bins=10, color='blue', histtype='step', label='normal') \n",
        "plt.hist(ANom_pred_mse, bins=10, color='red', histtype='step', label='abnormal') \n",
        "plt.xlabel('MSE')\n",
        "plt.legend()\n",
        "plt.show()"
      ]
    },
    {
      "cell_type": "code",
      "execution_count": 28,
      "metadata": {
        "colab": {
          "base_uri": "https://localhost:8080/",
          "height": 339
        },
        "id": "bBn-OXLgSWQF",
        "outputId": "c9bb50df-006a-406a-a9d0-ef5457ac08ba"
      },
      "outputs": [
        {
          "output_type": "stream",
          "name": "stderr",
          "text": [
            "/usr/local/lib/python3.7/dist-packages/matplotlib/cbook/__init__.py:1376: VisibleDeprecationWarning: Creating an ndarray from ragged nested sequences (which is a list-or-tuple of lists-or-tuples-or ndarrays with different lengths or shapes) is deprecated. If you meant to do this, you must specify 'dtype=object' when creating the ndarray.\n",
            "  X = np.atleast_1d(X.T if isinstance(X, np.ndarray) else np.asarray(X))\n"
          ]
        },
        {
          "output_type": "display_data",
          "data": {
            "text/plain": [
              "<Figure size 432x288 with 1 Axes>"
            ],
            "image/png": "[encoded data removed]"
          },
          "metadata": {
            "needs_background": "light"
          }
        }
      ],
      "source": [
        "plt.boxplot([Nom_pred_mse, ANom_pred_mse])\n",
        "plt.title('Normal vs Fraud')\n",
        "plt.xticks(ticks=[1, 2], labels=['Normal', 'Fraud'])\n",
        "plt.show()"
      ]
    },
    {
      "cell_type": "markdown",
      "metadata": {
        "_uuid": "e3aa3460670596e3bb58666bc24817b20861f46b",
        "id": "KKZC-tJv7fqj"
      },
      "source": [
        "## 잠재 표현 (Latent Representations) 시각화"
      ]
    },
    {
      "cell_type": "code",
      "execution_count": 29,
      "metadata": {
        "_kg_hide-input": true,
        "_uuid": "d7edc564bfd9a96dbc804216edd707b495ba0b08",
        "colab": {
          "base_uri": "https://localhost:8080/",
          "height": 295
        },
        "id": "Mh82Rsxr7fqj",
        "outputId": "02d1821e-70d8-4cbd-c468-4ffb70de4bfe"
      },
      "outputs": [
        {
          "output_type": "display_data",
          "data": {
            "text/plain": [
              "<Figure size 432x288 with 1 Axes>"
            ],
            "image/png": "[encoded data removed]"
          },
          "metadata": {
            "needs_background": "light"
          }
        }
      ],
      "source": [
        "# X_test의 잠재 표현 평균 계산\n",
        "latent_x_mean = encoder(X_test).mean()\n",
        "\n",
        "plt.scatter(latent_x_mean[:, 0], latent_x_mean[:, 1], c=y_test, cmap='RdYlGn_r', s=2)\n",
        "plt.title('latent means')\n",
        "plt.ylabel('mean[1]')\n",
        "plt.xlabel('mean[0]')\n",
        "plt.show()"
      ]
    },
    {
      "cell_type": "markdown",
      "metadata": {
        "_uuid": "09dbe144248f5f8f8c2754de653149fb2608d551",
        "id": "h6doEwpY7fqj"
      },
      "source": [
        "원점 [0,0] 평균 벡터 주변에서 사기와 사기가 아닌 트랜잭션 사이에는 분명한 구분이 있습니다. 이는 VAE가 의미있는 것을 학습하고 있다는 신호입니다."
      ]
    },
    {
      "cell_type": "code",
      "execution_count": 30,
      "metadata": {
        "_kg_hide-input": true,
        "_uuid": "c5372f7b09feb79dd06d2c7feca5cc0890b4a136",
        "colab": {
          "base_uri": "https://localhost:8080/",
          "height": 295
        },
        "id": "jIgo_BMJ7fqk",
        "outputId": "36189729-fe47-4b0c-855b-905ac9963c16"
      },
      "outputs": [
        {
          "output_type": "display_data",
          "data": {
            "text/plain": [
              "<Figure size 432x288 with 1 Axes>"
            ],
            "image/png": "[encoded data removed]"
          },
          "metadata": {
            "needs_background": "light"
          }
        }
      ],
      "source": [
        "# X_test의 잠재 표현 표준 편차 계산\n",
        "latent_x_std = encoder(X_test).stddev()\n",
        "plt.scatter(latent_x_std[:, 0], latent_x_std[:, 1], c=y_test, cmap='RdYlGn_r', s=2)\n",
        "plt.title('latent standard deviations')\n",
        "plt.ylabel('stddev[1]')\n",
        "plt.xlabel('stddev[0]')\n",
        "plt.show()"
      ]
    },
    {
      "cell_type": "markdown",
      "metadata": {
        "_uuid": "1b982ca31566b9cb7d81b390816e9b20ccedcc88",
        "id": "ZdOw2PUh7fqk"
      },
      "source": [
        "빨간색으로 표시된 사기 거래의 표준 편차가 훨씬 더 흩어져 있고 사기 거래가 불규칙한 경향이 있다는 직관과 일치합니다."
      ]
    },
    {
      "cell_type": "code",
      "execution_count": 31,
      "metadata": {
        "_kg_hide-input": true,
        "_uuid": "9edccf3ad419e137bf74fe324de2d743b06618a4",
        "colab": {
          "base_uri": "https://localhost:8080/",
          "height": 295
        },
        "id": "B11ssDzc7fqk",
        "outputId": "00040be2-542a-4058-8e92-012b32abe883"
      },
      "outputs": [
        {
          "output_type": "display_data",
          "data": {
            "text/plain": [
              "<Figure size 432x288 with 1 Axes>"
            ],
            "image/png": "[encoded data removed]"
          },
          "metadata": {
            "needs_background": "light"
          }
        }
      ],
      "source": [
        "# X_test의 잠재 표현 시각화\n",
        "latent_x = encoder(X_test).sample()\n",
        "plt.scatter(latent_x[:, 0], latent_x[:, 1], c=y_test, cmap='RdYlGn_r', s=2)\n",
        "plt.title('latent vector samples')\n",
        "plt.ylabel('z[1]')\n",
        "plt.xlabel('z[0]')\n",
        "plt.show()"
      ]
    },
    {
      "cell_type": "markdown",
      "metadata": {
        "_uuid": "68c76ab08542180d937ac46a872259199da35310",
        "id": "2o0u9O8G7fqk"
      },
      "source": [
        "샘플된 잠재 벡터 z입니다. 클러스터링 및 scattering은 이전 관찰과 일치합니다."
      ]
    },
    {
      "cell_type": "markdown",
      "metadata": {
        "id": "slT6doi5WNb6"
      },
      "source": [
        "##  Reconstruction error threshold\n",
        "- 정상 data 로만 train 한 vae model 의 재구성 결과의 원본과의 mse 차이를 기준으로 사기 거래 분류"
      ]
    },
    {
      "cell_type": "code",
      "execution_count": 33,
      "metadata": {
        "id": "DKHizXGgWXoC",
        "colab": {
          "base_uri": "https://localhost:8080/",
          "height": 225
        },
        "outputId": "59b15c6d-0794-4e4d-933b-503defb1de7a"
      },
      "outputs": [
        {
          "output_type": "stream",
          "name": "stdout",
          "text": [
            "4451/4451 [==============================] - 12s 3ms/step\n"
          ]
        },
        {
          "output_type": "execute_result",
          "data": {
            "text/plain": [
              "        reconstruction_error  true_class\n",
              "269414              3.121182           0\n",
              "75463               0.236158           0\n",
              "99307               0.103750           0\n",
              "212267              2.560725           0\n",
              "157412              1.319705           0"
            ],
            "text/html": [
              "\n",
              "  <div id=\"df-227d5ed7-93e2-456f-bf74-d29b7e05aa27\">\n",
              "    <div class=\"colab-df-container\">\n",
              "      <div>\n",
              "<style scoped>\n",
              "    .dataframe tbody tr th:only-of-type {\n",
              "        vertical-align: middle;\n",
              "    }\n",
              "\n",
              "    .dataframe tbody tr th {\n",
              "        vertical-align: top;\n",
              "    }\n",
              "\n",
              "    .dataframe thead th {\n",
              "        text-align: right;\n",
              "    }\n",
              "</style>\n",
              "<table border=\"1\" class=\"dataframe\">\n",
              "  <thead>\n",
              "    <tr style=\"text-align: right;\">\n",
              "      <th></th>\n",
              "      <th>reconstruction_error</th>\n",
              "      <th>true_class</th>\n",
              "    </tr>\n",
              "  </thead>\n",
              "  <tbody>\n",
              "    <tr>\n",
              "      <th>269414</th>\n",
              "      <td>3.121182</td>\n",
              "      <td>0</td>\n",
              "    </tr>\n",
              "    <tr>\n",
              "      <th>75463</th>\n",
              "      <td>0.236158</td>\n",
              "      <td>0</td>\n",
              "    </tr>\n",
              "    <tr>\n",
              "      <th>99307</th>\n",
              "      <td>0.103750</td>\n",
              "      <td>0</td>\n",
              "    </tr>\n",
              "    <tr>\n",
              "      <th>212267</th>\n",
              "      <td>2.560725</td>\n",
              "      <td>0</td>\n",
              "    </tr>\n",
              "    <tr>\n",
              "      <th>157412</th>\n",
              "      <td>1.319705</td>\n",
              "      <td>0</td>\n",
              "    </tr>\n",
              "  </tbody>\n",
              "</table>\n",
              "</div>\n",
              "      <button class=\"colab-df-convert\" onclick=\"convertToInteractive('df-227d5ed7-93e2-456f-bf74-d29b7e05aa27')\"\n",
              "              title=\"Convert this dataframe to an interactive table.\"\n",
              "              style=\"display:none;\">\n",
              "        \n",
              "  <svg xmlns=\"http://www.w3.org/2000/svg\" height=\"24px\"viewBox=\"0 0 24 24\"\n",
              "       width=\"24px\">\n",
              "    <path d=\"M0 0h24v24H0V0z\" fill=\"none\"/>\n",
              "    <path d=\"M18.56 5.44l.94 2.06.94-2.06 2.06-.94-2.06-.94-.94-2.06-.94 2.06-2.06.94zm-11 1L8.5 8.5l.94-2.06 2.06-.94-2.06-.94L8.5 2.5l-.94 2.06-2.06.94zm10 10l.94 2.06.94-2.06 2.06-.94-2.06-.94-.94-2.06-.94 2.06-2.06.94z\"/><path d=\"M17.41 7.96l-1.37-1.37c-.4-.4-.92-.59-1.43-.59-.52 0-1.04.2-1.43.59L10.3 9.45l-7.72 7.72c-.78.78-.78 2.05 0 2.83L4 21.41c.39.39.9.59 1.41.59.51 0 1.02-.2 1.41-.59l7.78-7.78 2.81-2.81c.8-.78.8-2.07 0-2.86zM5.41 20L4 18.59l7.72-7.72 1.47 1.35L5.41 20z\"/>\n",
              "  </svg>\n",
              "      </button>\n",
              "      \n",
              "  <style>\n",
              "    .colab-df-container {\n",
              "      display:flex;\n",
              "      flex-wrap:wrap;\n",
              "      gap: 12px;\n",
              "    }\n",
              "\n",
              "    .colab-df-convert {\n",
              "      background-color: #E8F0FE;\n",
              "      border: none;\n",
              "      border-radius: 50%;\n",
              "      cursor: pointer;\n",
              "      display: none;\n",
              "      fill: #1967D2;\n",
              "      height: 32px;\n",
              "      padding: 0 0 0 0;\n",
              "      width: 32px;\n",
              "    }\n",
              "\n",
              "    .colab-df-convert:hover {\n",
              "      background-color: #E2EBFA;\n",
              "      box-shadow: 0px 1px 2px rgba(60, 64, 67, 0.3), 0px 1px 3px 1px rgba(60, 64, 67, 0.15);\n",
              "      fill: #174EA6;\n",
              "    }\n",
              "\n",
              "    [theme=dark] .colab-df-convert {\n",
              "      background-color: #3B4455;\n",
              "      fill: #D2E3FC;\n",
              "    }\n",
              "\n",
              "    [theme=dark] .colab-df-convert:hover {\n",
              "      background-color: #434B5C;\n",
              "      box-shadow: 0px 1px 3px 1px rgba(0, 0, 0, 0.15);\n",
              "      filter: drop-shadow(0px 1px 2px rgba(0, 0, 0, 0.3));\n",
              "      fill: #FFFFFF;\n",
              "    }\n",
              "  </style>\n",
              "\n",
              "      <script>\n",
              "        const buttonEl =\n",
              "          document.querySelector('#df-227d5ed7-93e2-456f-bf74-d29b7e05aa27 button.colab-df-convert');\n",
              "        buttonEl.style.display =\n",
              "          google.colab.kernel.accessAllowed ? 'block' : 'none';\n",
              "\n",
              "        async function convertToInteractive(key) {\n",
              "          const element = document.querySelector('#df-227d5ed7-93e2-456f-bf74-d29b7e05aa27');\n",
              "          const dataTable =\n",
              "            await google.colab.kernel.invokeFunction('convertToInteractive',\n",
              "                                                     [key], {});\n",
              "          if (!dataTable) return;\n",
              "\n",
              "          const docLinkHtml = 'Like what you see? Visit the ' +\n",
              "            '<a target=\"_blank\" href=https://colab.research.google.com/notebooks/data_table.ipynb>data table notebook</a>'\n",
              "            + ' to learn more about interactive tables.';\n",
              "          element.innerHTML = '';\n",
              "          dataTable['output_type'] = 'display_data';\n",
              "          await google.colab.output.renderOutput(dataTable, element);\n",
              "          const docLink = document.createElement('div');\n",
              "          docLink.innerHTML = docLinkHtml;\n",
              "          element.appendChild(docLink);\n",
              "        }\n",
              "      </script>\n",
              "    </div>\n",
              "  </div>\n",
              "  "
            ]
          },
          "metadata": {},
          "execution_count": 33
        }
      ],
      "source": [
        "# train set의 재구성 오류 계산 (0 - 정상, 1 - 사기)\n",
        "predictions = vae.predict(X_train)\n",
        "\n",
        "mse = np.mean(np.power(X_train - predictions, 2), axis=1)\n",
        "\n",
        "error_df = pd.DataFrame({'reconstruction_error': mse, 'true_class': y_train})\n",
        "error_df.head()"
      ]
    },
    {
      "cell_type": "code",
      "execution_count": 34,
      "metadata": {
        "colab": {
          "base_uri": "https://localhost:8080/",
          "height": 175
        },
        "id": "KyocyCtTWXeY",
        "outputId": "5b0f30ad-78f8-45bd-bb3e-0bb99fe558a9"
      },
      "outputs": [
        {
          "output_type": "execute_result",
          "data": {
            "text/plain": [
              "           reconstruction_error                                            \\\n",
              "                          count       mean        std       min       25%   \n",
              "true_class                                                                  \n",
              "0                      142154.0   1.555864   4.238916  0.009025  0.653073   \n",
              "1                         249.0  43.979959  52.967020  0.248021  7.887770   \n",
              "\n",
              "                                              \n",
              "                  50%        75%         max  \n",
              "true_class                                    \n",
              "0            1.077329   1.652095  472.473982  \n",
              "1           21.826155  63.682628  307.621596  "
            ],
            "text/html": [
              "\n",
              "  <div id=\"df-a40a5a23-d7b4-4486-8d7b-c36f55993157\">\n",
              "    <div class=\"colab-df-container\">\n",
              "      <div>\n",
              "<style scoped>\n",
              "    .dataframe tbody tr th:only-of-type {\n",
              "        vertical-align: middle;\n",
              "    }\n",
              "\n",
              "    .dataframe tbody tr th {\n",
              "        vertical-align: top;\n",
              "    }\n",
              "\n",
              "    .dataframe thead tr th {\n",
              "        text-align: left;\n",
              "    }\n",
              "\n",
              "    .dataframe thead tr:last-of-type th {\n",
              "        text-align: right;\n",
              "    }\n",
              "</style>\n",
              "<table border=\"1\" class=\"dataframe\">\n",
              "  <thead>\n",
              "    <tr>\n",
              "      <th></th>\n",
              "      <th colspan=\"8\" halign=\"left\">reconstruction_error</th>\n",
              "    </tr>\n",
              "    <tr>\n",
              "      <th></th>\n",
              "      <th>count</th>\n",
              "      <th>mean</th>\n",
              "      <th>std</th>\n",
              "      <th>min</th>\n",
              "      <th>25%</th>\n",
              "      <th>50%</th>\n",
              "      <th>75%</th>\n",
              "      <th>max</th>\n",
              "    </tr>\n",
              "    <tr>\n",
              "      <th>true_class</th>\n",
              "      <th></th>\n",
              "      <th></th>\n",
              "      <th></th>\n",
              "      <th></th>\n",
              "      <th></th>\n",
              "      <th></th>\n",
              "      <th></th>\n",
              "      <th></th>\n",
              "    </tr>\n",
              "  </thead>\n",
              "  <tbody>\n",
              "    <tr>\n",
              "      <th>0</th>\n",
              "      <td>142154.0</td>\n",
              "      <td>1.555864</td>\n",
              "      <td>4.238916</td>\n",
              "      <td>0.009025</td>\n",
              "      <td>0.653073</td>\n",
              "      <td>1.077329</td>\n",
              "      <td>1.652095</td>\n",
              "      <td>472.473982</td>\n",
              "    </tr>\n",
              "    <tr>\n",
              "      <th>1</th>\n",
              "      <td>249.0</td>\n",
              "      <td>43.979959</td>\n",
              "      <td>52.967020</td>\n",
              "      <td>0.248021</td>\n",
              "      <td>7.887770</td>\n",
              "      <td>21.826155</td>\n",
              "      <td>63.682628</td>\n",
              "      <td>307.621596</td>\n",
              "    </tr>\n",
              "  </tbody>\n",
              "</table>\n",
              "</div>\n",
              "      <button class=\"colab-df-convert\" onclick=\"convertToInteractive('df-a40a5a23-d7b4-4486-8d7b-c36f55993157')\"\n",
              "              title=\"Convert this dataframe to an interactive table.\"\n",
              "              style=\"display:none;\">\n",
              "        \n",
              "  <svg xmlns=\"http://www.w3.org/2000/svg\" height=\"24px\"viewBox=\"0 0 24 24\"\n",
              "       width=\"24px\">\n",
              "    <path d=\"M0 0h24v24H0V0z\" fill=\"none\"/>\n",
              "    <path d=\"M18.56 5.44l.94 2.06.94-2.06 2.06-.94-2.06-.94-.94-2.06-.94 2.06-2.06.94zm-11 1L8.5 8.5l.94-2.06 2.06-.94-2.06-.94L8.5 2.5l-.94 2.06-2.06.94zm10 10l.94 2.06.94-2.06 2.06-.94-2.06-.94-.94-2.06-.94 2.06-2.06.94z\"/><path d=\"M17.41 7.96l-1.37-1.37c-.4-.4-.92-.59-1.43-.59-.52 0-1.04.2-1.43.59L10.3 9.45l-7.72 7.72c-.78.78-.78 2.05 0 2.83L4 21.41c.39.39.9.59 1.41.59.51 0 1.02-.2 1.41-.59l7.78-7.78 2.81-2.81c.8-.78.8-2.07 0-2.86zM5.41 20L4 18.59l7.72-7.72 1.47 1.35L5.41 20z\"/>\n",
              "  </svg>\n",
              "      </button>\n",
              "      \n",
              "  <style>\n",
              "    .colab-df-container {\n",
              "      display:flex;\n",
              "      flex-wrap:wrap;\n",
              "      gap: 12px;\n",
              "    }\n",
              "\n",
              "    .colab-df-convert {\n",
              "      background-color: #E8F0FE;\n",
              "      border: none;\n",
              "      border-radius: 50%;\n",
              "      cursor: pointer;\n",
              "      display: none;\n",
              "      fill: #1967D2;\n",
              "      height: 32px;\n",
              "      padding: 0 0 0 0;\n",
              "      width: 32px;\n",
              "    }\n",
              "\n",
              "    .colab-df-convert:hover {\n",
              "      background-color: #E2EBFA;\n",
              "      box-shadow: 0px 1px 2px rgba(60, 64, 67, 0.3), 0px 1px 3px 1px rgba(60, 64, 67, 0.15);\n",
              "      fill: #174EA6;\n",
              "    }\n",
              "\n",
              "    [theme=dark] .colab-df-convert {\n",
              "      background-color: #3B4455;\n",
              "      fill: #D2E3FC;\n",
              "    }\n",
              "\n",
              "    [theme=dark] .colab-df-convert:hover {\n",
              "      background-color: #434B5C;\n",
              "      box-shadow: 0px 1px 3px 1px rgba(0, 0, 0, 0.15);\n",
              "      filter: drop-shadow(0px 1px 2px rgba(0, 0, 0, 0.3));\n",
              "      fill: #FFFFFF;\n",
              "    }\n",
              "  </style>\n",
              "\n",
              "      <script>\n",
              "        const buttonEl =\n",
              "          document.querySelector('#df-a40a5a23-d7b4-4486-8d7b-c36f55993157 button.colab-df-convert');\n",
              "        buttonEl.style.display =\n",
              "          google.colab.kernel.accessAllowed ? 'block' : 'none';\n",
              "\n",
              "        async function convertToInteractive(key) {\n",
              "          const element = document.querySelector('#df-a40a5a23-d7b4-4486-8d7b-c36f55993157');\n",
              "          const dataTable =\n",
              "            await google.colab.kernel.invokeFunction('convertToInteractive',\n",
              "                                                     [key], {});\n",
              "          if (!dataTable) return;\n",
              "\n",
              "          const docLinkHtml = 'Like what you see? Visit the ' +\n",
              "            '<a target=\"_blank\" href=https://colab.research.google.com/notebooks/data_table.ipynb>data table notebook</a>'\n",
              "            + ' to learn more about interactive tables.';\n",
              "          element.innerHTML = '';\n",
              "          dataTable['output_type'] = 'display_data';\n",
              "          await google.colab.output.renderOutput(dataTable, element);\n",
              "          const docLink = document.createElement('div');\n",
              "          docLink.innerHTML = docLinkHtml;\n",
              "          element.appendChild(docLink);\n",
              "        }\n",
              "      </script>\n",
              "    </div>\n",
              "  </div>\n",
              "  "
            ]
          },
          "metadata": {},
          "execution_count": 34
        }
      ],
      "source": [
        "desc = error_df.groupby('true_class').describe()\n",
        "desc"
      ]
    },
    {
      "cell_type": "markdown",
      "metadata": {
        "id": "-mh_FGtrXjZn"
      },
      "source": [
        "위에서 보듯 사기성이 아닌 거래의  오류는 사기성 거래 보다 낮습니다.\n",
        "\n",
        "- mean + 3*std를 threshold로 사용하여 test set의 재구성 error(squared error)가 threshold 보다 크면 fraud 거래로 분류합니다.  \n",
        "- 1 std - 68%, 2 std - 96%, 3 std - 99.8%"
      ]
    },
    {
      "cell_type": "code",
      "execution_count": 35,
      "metadata": {
        "colab": {
          "base_uri": "https://localhost:8080/"
        },
        "id": "0jWu9P2qWXRq",
        "outputId": "113ed05e-602b-496c-e973-3fb501749ac1"
      },
      "outputs": [
        {
          "output_type": "execute_result",
          "data": {
            "text/plain": [
              "(1.555864282464894,\n",
              " 4.238915705221102,\n",
              " {'3sigma': 14.2726113981282,\n",
              "  '2.5sigma': 12.15315354551765,\n",
              "  '2sigma': 10.033695692907099})"
            ]
          },
          "metadata": {},
          "execution_count": 35
        }
      ],
      "source": [
        "mean = desc['reconstruction_error']['mean'][0]\n",
        "std = desc['reconstruction_error']['std'][0]\n",
        "\n",
        "thresholds = {'3sigma': mean + 3*std, \n",
        "                   '2.5sigma': mean + 2.5*std, \n",
        "                     \"2sigma\": mean + 2*std}\n",
        "mean, std, thresholds"
      ]
    },
    {
      "cell_type": "markdown",
      "metadata": {
        "id": "f_XqqPQt-uwi"
      },
      "source": [
        "- Test set을 이용하여 재구성 오류 계산  \n",
        "- thrshold 별로 confusion matrix"
      ]
    },
    {
      "cell_type": "code",
      "execution_count": 36,
      "metadata": {
        "colab": {
          "base_uri": "https://localhost:8080/",
          "height": 1000
        },
        "id": "nLfNInzVYtNE",
        "outputId": "214ea9ac-0081-43ea-d041-b83c99fa632c"
      },
      "outputs": [
        {
          "output_type": "stream",
          "name": "stdout",
          "text": [
            "4451/4451 [==============================] - 12s 3ms/step\n",
            "Precision 0.11\n",
            "Recall 0.65\n"
          ]
        },
        {
          "output_type": "display_data",
          "data": {
            "text/plain": [
              "<Figure size 432x288 with 2 Axes>"
            ],
            "image/png": "[encoded data removed]"
          },
          "metadata": {
            "needs_background": "light"
          }
        },
        {
          "output_type": "stream",
          "name": "stdout",
          "text": [
            "4451/4451 [==============================] - 12s 3ms/step\n",
            "Precision 0.13\n",
            "Recall 0.60\n"
          ]
        },
        {
          "output_type": "display_data",
          "data": {
            "text/plain": [
              "<Figure size 432x288 with 2 Axes>"
            ],
            "image/png": "[encoded data removed]"
          },
          "metadata": {
            "needs_background": "light"
          }
        },
        {
          "output_type": "stream",
          "name": "stdout",
          "text": [
            "4451/4451 [==============================] - 11s 3ms/step\n",
            "Precision 0.15\n",
            "Recall 0.55\n"
          ]
        },
        {
          "output_type": "display_data",
          "data": {
            "text/plain": [
              "<Figure size 432x288 with 2 Axes>"
            ],
            "image/png": "[encoded data removed]"
          },
          "metadata": {
            "needs_background": "light"
          }
        }
      ],
      "source": [
        "thresholds = sorted(thresholds.items(), key=lambda kv: kv[1])\n",
        "\n",
        "def model_predict(threshold, mse):\n",
        "     predictions = [(lambda er: 1 if er > threshold else 0)(er) for er in mse]\n",
        "     return predictions\n",
        "\n",
        "for sigma, threshold in thresholds:\n",
        "    \n",
        "    test_predictions = vae.predict(X_test)\n",
        "    mse = np.mean(np.power(X_test - test_predictions, 2), axis=1)\n",
        "    y_pred = model_predict(threshold, mse)\n",
        "\n",
        "    print(\"Precision {:.2f}\".format(precision_score(y_test, y_pred)))\n",
        "    print(\"Recall {:.2f}\".format(recall_score(y_test, y_pred)))\n",
        "\n",
        "    cm = confusion_matrix(y_test, y_pred)\n",
        "\n",
        "    ax = sns.heatmap(cm, annot=True, fmt=',')\n",
        "    ax.set_xlabel('Predicted labels')\n",
        "    ax.set_ylabel('True labels')\n",
        "    ax.xaxis.set_ticklabels(['Normal', 'Fraud'])\n",
        "    ax.yaxis.set_ticklabels(['Normal', 'Fraud'])\n",
        "    ax.set(yticks=[0.5, 1.5], xticks=[0.5, 1.5])\n",
        "    ax.set_title(sigma)\n",
        "    plt.show()"
      ]
    }
  ],
  "metadata": {
    "accelerator": "GPU",
    "colab": {
      "collapsed_sections": [],
      "machine_shape": "hm",
      "provenance": []
    },
    "kernelspec": {
      "display_name": "Python 3 (ipykernel)",
      "language": "python",
      "name": "python3"
    },
    "language_info": {
      "codemirror_mode": {
        "name": "ipython",
        "version": 3
      },
      "file_extension": ".py",
      "mimetype": "text/x-python",
      "name": "python",
      "nbconvert_exporter": "python",
      "pygments_lexer": "ipython3",
      "version": "3.8.13"
    }
  },
  "nbformat": 4,
  "nbformat_minor": 0
}