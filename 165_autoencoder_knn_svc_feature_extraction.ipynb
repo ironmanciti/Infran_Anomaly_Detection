{
 "cells": [
  {
   "cell_type": "markdown",
   "metadata": {
    "id": "iEl3ncgPc0sv"
   },
   "source": [
    "\n",
    "# Autoencoder 와 지도학습 모델을 이용한 신용카드 Fraud Detection\n",
    "\n",
    "- [Credit Card Fraud Detection](https://www.kaggle.com/mlg-ulb/creditcardfraud) - Kaggle\n",
    "\n",
    "\n",
    "- Highly Imbalanced Dataset - dataset는 2013 년 9 월 유럽 카드 소지자 신용 카드 거래로 만들었습니다. 이 dataset는 2 일 동안 발생한 거래를 보여 주며, 284,807 건의 거래 중 492 건의 fraud가 있습니다. 데이터세트는 매우 불균형하며 포지티브 클래스(사기)는 모든 거래의 0.172 %를 차지합니다.\n",
    "\n",
    "\n",
    "- 이 dataset는 PCA 변환의 결과인 숫자 입력 변수만 포함합니다. 안타깝게도 기밀 유지 문제로 인해 데이터에 대한 원래 feature와 추가 background 정보를 제공할 수 없습니다. 특성 V1, V2, ... V28은 PCA로 얻은 principal component이며 PCA로 변환되지 않은 유일한 특성은 'Time' 과 'Amount' 입니다. 'time' 특성은 각 트랜잭션과 데이터 세트의 첫 번째 트랜잭션 사이에 경과된 시간(초) 입니다. 'Amount' 특성은 거래금액 입니다.\n",
    "\n",
    "\n",
    "\n",
    "- 'Class'는 사기의 경우 1, 그렇지 않으면 0 입니다."
   ]
  },
  {
   "cell_type": "code",
   "execution_count": 1,
   "metadata": {
    "id": "YRbN35YNJjUN"
   },
   "outputs": [],
   "source": [
    "import pandas as pd\n",
    "import numpy as np\n",
    "import seaborn as sns\n",
    "import matplotlib.pyplot as plt\n",
    "import matplotlib.ticker as ticker\n",
    "\n",
    "from sklearn.model_selection import train_test_split\n",
    "from sklearn.metrics import precision_score, recall_score, confusion_matrix\n",
    "from sklearn.preprocessing import StandardScaler\n",
    "\n",
    "import tensorflow as tf\n",
    "from tensorflow.keras.models import Model, load_model\n",
    "from tensorflow.keras.layers import Input, Dense\n",
    "from tensorflow.keras.utils import plot_model\n",
    "\n",
    "np.random.seed(0)\n",
    "tf.random.set_seed(0)"
   ]
  },
  {
   "cell_type": "code",
   "execution_count": 2,
   "metadata": {
    "colab": {
     "base_uri": "https://localhost:8080/",
     "height": 35
    },
    "id": "VXPNDiuBbhJ9",
    "outputId": "104111f1-b5d3-413d-bc3d-288aade9de3a"
   },
   "outputs": [
    {
     "data": {
      "application/vnd.google.colaboratory.intrinsic+json": {
       "type": "string"
      },
      "text/plain": [
       "'2.15.0'"
      ]
     },
     "execution_count": 2,
     "metadata": {},
     "output_type": "execute_result"
    }
   ],
   "source": [
    "tf.__version__"
   ]
  },
  {
   "cell_type": "markdown",
   "metadata": {
    "id": "WTrPa78OJjUN"
   },
   "source": [
    "## Downloading of dataset"
   ]
  },
  {
   "cell_type": "code",
   "execution_count": 3,
   "metadata": {
    "colab": {
     "base_uri": "https://localhost:8080/",
     "height": 255
    },
    "id": "gT2psZNVvB9U",
    "outputId": "6a921df7-8d7f-42c9-9b68-61b3dc92c043"
   },
   "outputs": [
    {
     "data": {
      "application/vnd.google.colaboratory.intrinsic+json": {
       "type": "dataframe",
       "variable_name": "df"
      },
      "text/html": [
       "\n",
       "  <div id=\"df-93843dd5-7981-4a1d-bcd8-86065bb94f9c\" class=\"colab-df-container\">\n",
       "    <div>\n",
       "<style scoped>\n",
       "    .dataframe tbody tr th:only-of-type {\n",
       "        vertical-align: middle;\n",
       "    }\n",
       "\n",
       "    .dataframe tbody tr th {\n",
       "        vertical-align: top;\n",
       "    }\n",
       "\n",
       "    .dataframe thead th {\n",
       "        text-align: right;\n",
       "    }\n",
       "</style>\n",
       "<table border=\"1\" class=\"dataframe\">\n",
       "  <thead>\n",
       "    <tr style=\"text-align: right;\">\n",
       "      <th></th>\n",
       "      <th>Time</th>\n",
       "      <th>V1</th>\n",
       "      <th>V2</th>\n",
       "      <th>V3</th>\n",
       "      <th>V4</th>\n",
       "      <th>V5</th>\n",
       "      <th>V6</th>\n",
       "      <th>V7</th>\n",
       "      <th>V8</th>\n",
       "      <th>V9</th>\n",
       "      <th>...</th>\n",
       "      <th>V21</th>\n",
       "      <th>V22</th>\n",
       "      <th>V23</th>\n",
       "      <th>V24</th>\n",
       "      <th>V25</th>\n",
       "      <th>V26</th>\n",
       "      <th>V27</th>\n",
       "      <th>V28</th>\n",
       "      <th>Amount</th>\n",
       "      <th>Class</th>\n",
       "    </tr>\n",
       "  </thead>\n",
       "  <tbody>\n",
       "    <tr>\n",
       "      <th>0</th>\n",
       "      <td>0.0</td>\n",
       "      <td>-1.359807</td>\n",
       "      <td>-0.072781</td>\n",
       "      <td>2.536347</td>\n",
       "      <td>1.378155</td>\n",
       "      <td>-0.338321</td>\n",
       "      <td>0.462388</td>\n",
       "      <td>0.239599</td>\n",
       "      <td>0.098698</td>\n",
       "      <td>0.363787</td>\n",
       "      <td>...</td>\n",
       "      <td>-0.018307</td>\n",
       "      <td>0.277838</td>\n",
       "      <td>-0.110474</td>\n",
       "      <td>0.066928</td>\n",
       "      <td>0.128539</td>\n",
       "      <td>-0.189115</td>\n",
       "      <td>0.133558</td>\n",
       "      <td>-0.021053</td>\n",
       "      <td>149.62</td>\n",
       "      <td>0</td>\n",
       "    </tr>\n",
       "    <tr>\n",
       "      <th>1</th>\n",
       "      <td>0.0</td>\n",
       "      <td>1.191857</td>\n",
       "      <td>0.266151</td>\n",
       "      <td>0.166480</td>\n",
       "      <td>0.448154</td>\n",
       "      <td>0.060018</td>\n",
       "      <td>-0.082361</td>\n",
       "      <td>-0.078803</td>\n",
       "      <td>0.085102</td>\n",
       "      <td>-0.255425</td>\n",
       "      <td>...</td>\n",
       "      <td>-0.225775</td>\n",
       "      <td>-0.638672</td>\n",
       "      <td>0.101288</td>\n",
       "      <td>-0.339846</td>\n",
       "      <td>0.167170</td>\n",
       "      <td>0.125895</td>\n",
       "      <td>-0.008983</td>\n",
       "      <td>0.014724</td>\n",
       "      <td>2.69</td>\n",
       "      <td>0</td>\n",
       "    </tr>\n",
       "    <tr>\n",
       "      <th>2</th>\n",
       "      <td>1.0</td>\n",
       "      <td>-1.358354</td>\n",
       "      <td>-1.340163</td>\n",
       "      <td>1.773209</td>\n",
       "      <td>0.379780</td>\n",
       "      <td>-0.503198</td>\n",
       "      <td>1.800499</td>\n",
       "      <td>0.791461</td>\n",
       "      <td>0.247676</td>\n",
       "      <td>-1.514654</td>\n",
       "      <td>...</td>\n",
       "      <td>0.247998</td>\n",
       "      <td>0.771679</td>\n",
       "      <td>0.909412</td>\n",
       "      <td>-0.689281</td>\n",
       "      <td>-0.327642</td>\n",
       "      <td>-0.139097</td>\n",
       "      <td>-0.055353</td>\n",
       "      <td>-0.059752</td>\n",
       "      <td>378.66</td>\n",
       "      <td>0</td>\n",
       "    </tr>\n",
       "    <tr>\n",
       "      <th>3</th>\n",
       "      <td>1.0</td>\n",
       "      <td>-0.966272</td>\n",
       "      <td>-0.185226</td>\n",
       "      <td>1.792993</td>\n",
       "      <td>-0.863291</td>\n",
       "      <td>-0.010309</td>\n",
       "      <td>1.247203</td>\n",
       "      <td>0.237609</td>\n",
       "      <td>0.377436</td>\n",
       "      <td>-1.387024</td>\n",
       "      <td>...</td>\n",
       "      <td>-0.108300</td>\n",
       "      <td>0.005274</td>\n",
       "      <td>-0.190321</td>\n",
       "      <td>-1.175575</td>\n",
       "      <td>0.647376</td>\n",
       "      <td>-0.221929</td>\n",
       "      <td>0.062723</td>\n",
       "      <td>0.061458</td>\n",
       "      <td>123.50</td>\n",
       "      <td>0</td>\n",
       "    </tr>\n",
       "    <tr>\n",
       "      <th>4</th>\n",
       "      <td>2.0</td>\n",
       "      <td>-1.158233</td>\n",
       "      <td>0.877737</td>\n",
       "      <td>1.548718</td>\n",
       "      <td>0.403034</td>\n",
       "      <td>-0.407193</td>\n",
       "      <td>0.095921</td>\n",
       "      <td>0.592941</td>\n",
       "      <td>-0.270533</td>\n",
       "      <td>0.817739</td>\n",
       "      <td>...</td>\n",
       "      <td>-0.009431</td>\n",
       "      <td>0.798278</td>\n",
       "      <td>-0.137458</td>\n",
       "      <td>0.141267</td>\n",
       "      <td>-0.206010</td>\n",
       "      <td>0.502292</td>\n",
       "      <td>0.219422</td>\n",
       "      <td>0.215153</td>\n",
       "      <td>69.99</td>\n",
       "      <td>0</td>\n",
       "    </tr>\n",
       "  </tbody>\n",
       "</table>\n",
       "<p>5 rows × 31 columns</p>\n",
       "</div>\n",
       "    <div class=\"colab-df-buttons\">\n",
       "\n",
       "  <div class=\"colab-df-container\">\n",
       "    <button class=\"colab-df-convert\" onclick=\"convertToInteractive('df-93843dd5-7981-4a1d-bcd8-86065bb94f9c')\"\n",
       "            title=\"Convert this dataframe to an interactive table.\"\n",
       "            style=\"display:none;\">\n",
       "\n",
       "  <svg xmlns=\"http://www.w3.org/2000/svg\" height=\"24px\" viewBox=\"0 -960 960 960\">\n",
       "    <path d=\"M120-120v-720h720v720H120Zm60-500h600v-160H180v160Zm220 220h160v-160H400v160Zm0 220h160v-160H400v160ZM180-400h160v-160H180v160Zm440 0h160v-160H620v160ZM180-180h160v-160H180v160Zm440 0h160v-160H620v160Z\"/>\n",
       "  </svg>\n",
       "    </button>\n",
       "\n",
       "  <style>\n",
       "    .colab-df-container {\n",
       "      display:flex;\n",
       "      gap: 12px;\n",
       "    }\n",
       "\n",
       "    .colab-df-convert {\n",
       "      background-color: #E8F0FE;\n",
       "      border: none;\n",
       "      border-radius: 50%;\n",
       "      cursor: pointer;\n",
       "      display: none;\n",
       "      fill: #1967D2;\n",
       "      height: 32px;\n",
       "      padding: 0 0 0 0;\n",
       "      width: 32px;\n",
       "    }\n",
       "\n",
       "    .colab-df-convert:hover {\n",
       "      background-color: #E2EBFA;\n",
       "      box-shadow: 0px 1px 2px rgba(60, 64, 67, 0.3), 0px 1px 3px 1px rgba(60, 64, 67, 0.15);\n",
       "      fill: #174EA6;\n",
       "    }\n",
       "\n",
       "    .colab-df-buttons div {\n",
       "      margin-bottom: 4px;\n",
       "    }\n",
       "\n",
       "    [theme=dark] .colab-df-convert {\n",
       "      background-color: #3B4455;\n",
       "      fill: #D2E3FC;\n",
       "    }\n",
       "\n",
       "    [theme=dark] .colab-df-convert:hover {\n",
       "      background-color: #434B5C;\n",
       "      box-shadow: 0px 1px 3px 1px rgba(0, 0, 0, 0.15);\n",
       "      filter: drop-shadow(0px 1px 2px rgba(0, 0, 0, 0.3));\n",
       "      fill: #FFFFFF;\n",
       "    }\n",
       "  </style>\n",
       "\n",
       "    <script>\n",
       "      const buttonEl =\n",
       "        document.querySelector('#df-93843dd5-7981-4a1d-bcd8-86065bb94f9c button.colab-df-convert');\n",
       "      buttonEl.style.display =\n",
       "        google.colab.kernel.accessAllowed ? 'block' : 'none';\n",
       "\n",
       "      async function convertToInteractive(key) {\n",
       "        const element = document.querySelector('#df-93843dd5-7981-4a1d-bcd8-86065bb94f9c');\n",
       "        const dataTable =\n",
       "          await google.colab.kernel.invokeFunction('convertToInteractive',\n",
       "                                                    [key], {});\n",
       "        if (!dataTable) return;\n",
       "\n",
       "        const docLinkHtml = 'Like what you see? Visit the ' +\n",
       "          '<a target=\"_blank\" href=https://colab.research.google.com/notebooks/data_table.ipynb>data table notebook</a>'\n",
       "          + ' to learn more about interactive tables.';\n",
       "        element.innerHTML = '';\n",
       "        dataTable['output_type'] = 'display_data';\n",
       "        await google.colab.output.renderOutput(dataTable, element);\n",
       "        const docLink = document.createElement('div');\n",
       "        docLink.innerHTML = docLinkHtml;\n",
       "        element.appendChild(docLink);\n",
       "      }\n",
       "    </script>\n",
       "  </div>\n",
       "\n",
       "\n",
       "<div id=\"df-001b58ff-5ea4-4084-81ef-253a72016122\">\n",
       "  <button class=\"colab-df-quickchart\" onclick=\"quickchart('df-001b58ff-5ea4-4084-81ef-253a72016122')\"\n",
       "            title=\"Suggest charts\"\n",
       "            style=\"display:none;\">\n",
       "\n",
       "<svg xmlns=\"http://www.w3.org/2000/svg\" height=\"24px\"viewBox=\"0 0 24 24\"\n",
       "     width=\"24px\">\n",
       "    <g>\n",
       "        <path d=\"M19 3H5c-1.1 0-2 .9-2 2v14c0 1.1.9 2 2 2h14c1.1 0 2-.9 2-2V5c0-1.1-.9-2-2-2zM9 17H7v-7h2v7zm4 0h-2V7h2v10zm4 0h-2v-4h2v4z\"/>\n",
       "    </g>\n",
       "</svg>\n",
       "  </button>\n",
       "\n",
       "<style>\n",
       "  .colab-df-quickchart {\n",
       "      --bg-color: #E8F0FE;\n",
       "      --fill-color: #1967D2;\n",
       "      --hover-bg-color: #E2EBFA;\n",
       "      --hover-fill-color: #174EA6;\n",
       "      --disabled-fill-color: #AAA;\n",
       "      --disabled-bg-color: #DDD;\n",
       "  }\n",
       "\n",
       "  [theme=dark] .colab-df-quickchart {\n",
       "      --bg-color: #3B4455;\n",
       "      --fill-color: #D2E3FC;\n",
       "      --hover-bg-color: #434B5C;\n",
       "      --hover-fill-color: #FFFFFF;\n",
       "      --disabled-bg-color: #3B4455;\n",
       "      --disabled-fill-color: #666;\n",
       "  }\n",
       "\n",
       "  .colab-df-quickchart {\n",
       "    background-color: var(--bg-color);\n",
       "    border: none;\n",
       "    border-radius: 50%;\n",
       "    cursor: pointer;\n",
       "    display: none;\n",
       "    fill: var(--fill-color);\n",
       "    height: 32px;\n",
       "    padding: 0;\n",
       "    width: 32px;\n",
       "  }\n",
       "\n",
       "  .colab-df-quickchart:hover {\n",
       "    background-color: var(--hover-bg-color);\n",
       "    box-shadow: 0 1px 2px rgba(60, 64, 67, 0.3), 0 1px 3px 1px rgba(60, 64, 67, 0.15);\n",
       "    fill: var(--button-hover-fill-color);\n",
       "  }\n",
       "\n",
       "  .colab-df-quickchart-complete:disabled,\n",
       "  .colab-df-quickchart-complete:disabled:hover {\n",
       "    background-color: var(--disabled-bg-color);\n",
       "    fill: var(--disabled-fill-color);\n",
       "    box-shadow: none;\n",
       "  }\n",
       "\n",
       "  .colab-df-spinner {\n",
       "    border: 2px solid var(--fill-color);\n",
       "    border-color: transparent;\n",
       "    border-bottom-color: var(--fill-color);\n",
       "    animation:\n",
       "      spin 1s steps(1) infinite;\n",
       "  }\n",
       "\n",
       "  @keyframes spin {\n",
       "    0% {\n",
       "      border-color: transparent;\n",
       "      border-bottom-color: var(--fill-color);\n",
       "      border-left-color: var(--fill-color);\n",
       "    }\n",
       "    20% {\n",
       "      border-color: transparent;\n",
       "      border-left-color: var(--fill-color);\n",
       "      border-top-color: var(--fill-color);\n",
       "    }\n",
       "    30% {\n",
       "      border-color: transparent;\n",
       "      border-left-color: var(--fill-color);\n",
       "      border-top-color: var(--fill-color);\n",
       "      border-right-color: var(--fill-color);\n",
       "    }\n",
       "    40% {\n",
       "      border-color: transparent;\n",
       "      border-right-color: var(--fill-color);\n",
       "      border-top-color: var(--fill-color);\n",
       "    }\n",
       "    60% {\n",
       "      border-color: transparent;\n",
       "      border-right-color: var(--fill-color);\n",
       "    }\n",
       "    80% {\n",
       "      border-color: transparent;\n",
       "      border-right-color: var(--fill-color);\n",
       "      border-bottom-color: var(--fill-color);\n",
       "    }\n",
       "    90% {\n",
       "      border-color: transparent;\n",
       "      border-bottom-color: var(--fill-color);\n",
       "    }\n",
       "  }\n",
       "</style>\n",
       "\n",
       "  <script>\n",
       "    async function quickchart(key) {\n",
       "      const quickchartButtonEl =\n",
       "        document.querySelector('#' + key + ' button');\n",
       "      quickchartButtonEl.disabled = true;  // To prevent multiple clicks.\n",
       "      quickchartButtonEl.classList.add('colab-df-spinner');\n",
       "      try {\n",
       "        const charts = await google.colab.kernel.invokeFunction(\n",
       "            'suggestCharts', [key], {});\n",
       "      } catch (error) {\n",
       "        console.error('Error during call to suggestCharts:', error);\n",
       "      }\n",
       "      quickchartButtonEl.classList.remove('colab-df-spinner');\n",
       "      quickchartButtonEl.classList.add('colab-df-quickchart-complete');\n",
       "    }\n",
       "    (() => {\n",
       "      let quickchartButtonEl =\n",
       "        document.querySelector('#df-001b58ff-5ea4-4084-81ef-253a72016122 button');\n",
       "      quickchartButtonEl.style.display =\n",
       "        google.colab.kernel.accessAllowed ? 'block' : 'none';\n",
       "    })();\n",
       "  </script>\n",
       "</div>\n",
       "\n",
       "    </div>\n",
       "  </div>\n"
      ],
      "text/plain": [
       "   Time        V1        V2        V3        V4        V5        V6        V7  \\\n",
       "0   0.0 -1.359807 -0.072781  2.536347  1.378155 -0.338321  0.462388  0.239599   \n",
       "1   0.0  1.191857  0.266151  0.166480  0.448154  0.060018 -0.082361 -0.078803   \n",
       "2   1.0 -1.358354 -1.340163  1.773209  0.379780 -0.503198  1.800499  0.791461   \n",
       "3   1.0 -0.966272 -0.185226  1.792993 -0.863291 -0.010309  1.247203  0.237609   \n",
       "4   2.0 -1.158233  0.877737  1.548718  0.403034 -0.407193  0.095921  0.592941   \n",
       "\n",
       "         V8        V9  ...       V21       V22       V23       V24       V25  \\\n",
       "0  0.098698  0.363787  ... -0.018307  0.277838 -0.110474  0.066928  0.128539   \n",
       "1  0.085102 -0.255425  ... -0.225775 -0.638672  0.101288 -0.339846  0.167170   \n",
       "2  0.247676 -1.514654  ...  0.247998  0.771679  0.909412 -0.689281 -0.327642   \n",
       "3  0.377436 -1.387024  ... -0.108300  0.005274 -0.190321 -1.175575  0.647376   \n",
       "4 -0.270533  0.817739  ... -0.009431  0.798278 -0.137458  0.141267 -0.206010   \n",
       "\n",
       "        V26       V27       V28  Amount  Class  \n",
       "0 -0.189115  0.133558 -0.021053  149.62      0  \n",
       "1  0.125895 -0.008983  0.014724    2.69      0  \n",
       "2 -0.139097 -0.055353 -0.059752  378.66      0  \n",
       "3 -0.221929  0.062723  0.061458  123.50      0  \n",
       "4  0.502292  0.219422  0.215153   69.99      0  \n",
       "\n",
       "[5 rows x 31 columns]"
      ]
     },
     "execution_count": 3,
     "metadata": {},
     "output_type": "execute_result"
    }
   ],
   "source": [
    "df = pd.read_csv( 'https://storage.googleapis.com/download.tensorflow.org/data/creditcard.csv')\n",
    "df.head()"
   ]
  },
  {
   "cell_type": "markdown",
   "metadata": {
    "id": "5Y0a-xNMeDEA"
   },
   "source": [
    "- the dataset is highly unbalanced"
   ]
  },
  {
   "cell_type": "code",
   "execution_count": 4,
   "metadata": {
    "colab": {
     "base_uri": "https://localhost:8080/"
    },
    "id": "l3TwIbGCvmz9",
    "outputId": "3ba2ce99-f008-465b-eafc-d21cd14d5add"
   },
   "outputs": [
    {
     "data": {
      "text/plain": [
       "Class\n",
       "0    284315\n",
       "1       492\n",
       "Name: count, dtype: int64"
      ]
     },
     "execution_count": 4,
     "metadata": {},
     "output_type": "execute_result"
    }
   ],
   "source": [
    "df['Class'].value_counts()"
   ]
  },
  {
   "cell_type": "code",
   "execution_count": 5,
   "metadata": {
    "colab": {
     "base_uri": "https://localhost:8080/"
    },
    "id": "L4KRErdPvt1A",
    "outputId": "29390b3a-ca66-45c4-cec2-3f2ed9a5a316"
   },
   "outputs": [
    {
     "name": "stdout",
     "output_type": "stream",
     "text": [
      "Total = 284,807\n",
      "Fraud = 0.17%\n",
      "Normal = 99.83%\n"
     ]
    }
   ],
   "source": [
    "# 'Class' 열에서 사기(Fraud) 데이터의 개수를 계산합니다. 사기는 'Class' 값이 1인 경우입니다.\n",
    "fraud = (df['Class'] == 1).sum()\n",
    "\n",
    "# 'Class' 열에서 정상(Normal) 데이터의 개수를 계산합니다. 정상 데이터는 'Class' 값이 0인 경우입니다.\n",
    "normal = (df['Class'] == 0).sum()\n",
    "\n",
    "# 전체 데이터의 개수를 계산합니다. 사기 데이터와 정상 데이터의 합입니다.\n",
    "total = fraud + normal\n",
    "\n",
    "print(f\"Total = {total:,}\")\n",
    "\n",
    "# 전체 데이터에 대한 백분율로 계산하여 출력합니다.\n",
    "print(f\"Fraud = {fraud/total*100:,.2f}%\")\n",
    "print(f\"Normal = {normal/total*100:,.2f}%\")"
   ]
  },
  {
   "cell_type": "markdown",
   "metadata": {
    "id": "PoYryN6O6X3U"
   },
   "source": [
    "- Time 필드를 일중 시간으로 변환합니다.   \n",
    "- Amount 필드는 로그 스케일로 변환합니다."
   ]
  },
  {
   "cell_type": "code",
   "execution_count": 6,
   "metadata": {
    "id": "NEb2rp-Y6X3U"
   },
   "outputs": [],
   "source": [
    "# 'Time' 열의 값을 일중 시간 형식으로 변환합니다.\n",
    "# 각 값 x를 3600(초)로 나누어 시간 단위로 변환하고, 24로 나눈 나머지 값을 계산합니다.\n",
    "# 이는 시간을 24시간 형식으로 맞추기 위해 사용됩니다.\n",
    "df.loc[:, \"Time\"] = df.loc[:, \"Time\"].apply(lambda x: x / 3600 % 24)\n",
    "\n",
    "# 'Amount' 열의 값을 로그 변환합니다.\n",
    "# 로그 변환을 위해 각 값에 1을 더한 후 자연 로그를 계산합니다.\n",
    "# 이는 데이터의 분포를 정규 분포에 가깝게 만들어 모델 학습에 도움이 되도록 하기 위함입니다.\n",
    "df.loc[:, 'Amount'] = np.log(df.loc[:, 'Amount'] + 1)"
   ]
  },
  {
   "cell_type": "markdown",
   "metadata": {
    "id": "6vzbL3QfJjUQ"
   },
   "source": [
    "- class 1 이 너무 적으므로 통상적인 7:3 대신 5:5 비율로 train, test set 분리"
   ]
  },
  {
   "cell_type": "code",
   "execution_count": 7,
   "metadata": {
    "colab": {
     "base_uri": "https://localhost:8080/"
    },
    "id": "1T3X-3wFv001",
    "outputId": "217d14b8-cd74-4e84-c0ae-0ba71a717803"
   },
   "outputs": [
    {
     "data": {
      "text/plain": [
       "((142403, 30), (142404, 30), (142403,), (142404,))"
      ]
     },
     "execution_count": 7,
     "metadata": {},
     "output_type": "execute_result"
    }
   ],
   "source": [
    "X_train, X_test, y_train, y_test = train_test_split(df.drop('Class', axis=1), df['Class'],\n",
    "                                                    test_size=0.5, random_state=0)\n",
    "X_train.shape, X_test.shape, y_train.shape, y_test.shape"
   ]
  },
  {
   "cell_type": "code",
   "execution_count": 8,
   "metadata": {
    "id": "8s1Ervuy6X3W"
   },
   "outputs": [],
   "source": [
    "sc = StandardScaler()\n",
    "X_train = sc.fit_transform(X_train.values)\n",
    "X_test  = sc.transform(X_test.values)"
   ]
  },
  {
   "cell_type": "code",
   "execution_count": 9,
   "metadata": {
    "colab": {
     "base_uri": "https://localhost:8080/"
    },
    "id": "MlwEkWm27fH6",
    "outputId": "bfd58fcf-0370-4e5a-824a-a3b88e313f2b"
   },
   "outputs": [
    {
     "data": {
      "text/plain": [
       "Class\n",
       "0    0.998251\n",
       "1    0.001749\n",
       "Name: count, dtype: float64"
      ]
     },
     "execution_count": 9,
     "metadata": {},
     "output_type": "execute_result"
    }
   ],
   "source": [
    "# Train set의 정상/사기 거래 비율\n",
    "y_train.value_counts() / y_train.count()"
   ]
  },
  {
   "cell_type": "code",
   "execution_count": 10,
   "metadata": {
    "colab": {
     "base_uri": "https://localhost:8080/"
    },
    "id": "ooXM9UEwv3QX",
    "outputId": "718c829c-f2d3-449e-aca2-130de9de11a7"
   },
   "outputs": [
    {
     "data": {
      "text/plain": [
       "Class\n",
       "0    0.998294\n",
       "1    0.001706\n",
       "Name: count, dtype: float64"
      ]
     },
     "execution_count": 10,
     "metadata": {},
     "output_type": "execute_result"
    }
   ],
   "source": [
    "# Test set 의 정상/사기 거래 비율\n",
    "y_test.value_counts() / y_test.count()"
   ]
  },
  {
   "cell_type": "markdown",
   "metadata": {
    "id": "otvOl-HcevoG"
   },
   "source": [
    "## Autoencoder Train"
   ]
  },
  {
   "cell_type": "markdown",
   "metadata": {
    "id": "xPpRAl0TeQR8"
   },
   "source": [
    "- 모든 데이터를 이용하여 autoencoder 학습\n",
    "\n",
    "- Autoencoder 의 encoder 부분을 feature extractor 로 이용"
   ]
  },
  {
   "cell_type": "markdown",
   "metadata": {
    "id": "Nh2xw3tcfng9"
   },
   "source": [
    "## autoencoder의 인코더 부분 및 k-NN / SVC 사용\n",
    "\n",
    "훈련 데이터세트의 모든 사례 (사기/정상)를 사용하여 훈련하고 그 결과를 사용하여 인스턴스들을 12 차원 공간에 매핑합니다. 매핑된 케이스는 분류를 위해 k-NN, SVM, DNN 모델에 공급됩니다."
   ]
  },
  {
   "cell_type": "markdown",
   "metadata": {
    "id": "NFr1kJuI6X3Z"
   },
   "source": [
    "### Auto Encoder model 작성\n",
    "- encoder 부분만 사용할 수 있도록 encoder 와 decoder network 을 분리하여 작성\n",
    "- decoder는 훈련된 encoder를 얻기 위한 역할"
   ]
  },
  {
   "cell_type": "code",
   "execution_count": 11,
   "metadata": {
    "id": "JqFxT3AmJjUV"
   },
   "outputs": [],
   "source": [
    "# 입력 레이어를 정의합니다. 입력 데이터의 형태는 30차원입니다.\n",
    "input_layer = Input(shape=(30, ))\n",
    "\n",
    "# 인코더(Encoder) 레이어를 정의합니다.\n",
    "encoded_all = Dense(12, activation='relu')(input_layer)\n",
    "\n",
    "# 디코더(Decoder) 레이어를 정의합니다.\n",
    "decoded_all = Dense(30)(encoded_all)\n",
    "\n",
    "# 인코더 모델을 정의합니다.\n",
    "encoder_all = Model(input_layer, encoded_all)\n",
    "\n",
    "# 오토인코더(Autoencoder) 모델을 정의합니다.\n",
    "autoencoder_all = Model(input_layer, decoded_all)"
   ]
  },
  {
   "cell_type": "code",
   "execution_count": 12,
   "metadata": {
    "colab": {
     "base_uri": "https://localhost:8080/",
     "height": 312
    },
    "id": "SVWMOs-T6X3a",
    "outputId": "6081acfb-b3c0-4066-c3a9-c8a885029d2a"
   },
   "outputs": [
    {
     "data": {
      "image/png": "[encoded data removed]",
      "text/plain": [
       "<IPython.core.display.Image object>"
      ]
     },
     "execution_count": 12,
     "metadata": {},
     "output_type": "execute_result"
    }
   ],
   "source": [
    "plot_model(autoencoder_all, show_shapes=True)"
   ]
  },
  {
   "cell_type": "code",
   "execution_count": 13,
   "metadata": {
    "colab": {
     "base_uri": "https://localhost:8080/"
    },
    "id": "B7SnYf1KFVm9",
    "outputId": "302b9240-c381-4f38-8752-cc037fd84253",
    "scrolled": true
   },
   "outputs": [
    {
     "name": "stdout",
     "output_type": "stream",
     "text": [
      "Epoch 1/30\n",
      "1113/1113 [==============================] - 6s 4ms/step - loss: 0.7550 - val_loss: 0.6128\n",
      "Epoch 2/30\n",
      "1113/1113 [==============================] - 4s 4ms/step - loss: 0.5884 - val_loss: 0.5681\n",
      "Epoch 3/30\n",
      "1113/1113 [==============================] - 4s 4ms/step - loss: 0.5654 - val_loss: 0.5604\n",
      "Epoch 4/30\n",
      "1113/1113 [==============================] - 4s 4ms/step - loss: 0.5609 - val_loss: 0.5616\n",
      "Epoch 5/30\n",
      "1113/1113 [==============================] - 4s 4ms/step - loss: 0.5597 - val_loss: 0.5588\n",
      "Epoch 6/30\n",
      "1113/1113 [==============================] - 4s 4ms/step - loss: 0.5590 - val_loss: 0.5605\n",
      "Epoch 7/30\n",
      "1113/1113 [==============================] - 4s 4ms/step - loss: 0.5585 - val_loss: 0.5591\n",
      "Epoch 8/30\n",
      "1113/1113 [==============================] - 4s 4ms/step - loss: 0.5582 - val_loss: 0.5594\n",
      "Epoch 9/30\n",
      "1113/1113 [==============================] - 4s 3ms/step - loss: 0.5578 - val_loss: 0.5601\n",
      "Epoch 10/30\n",
      "1113/1113 [==============================] - 4s 4ms/step - loss: 0.5576 - val_loss: 0.5593\n",
      "Epoch 11/30\n",
      "1113/1113 [==============================] - 4s 3ms/step - loss: 0.5573 - val_loss: 0.5606\n",
      "Epoch 12/30\n",
      "1113/1113 [==============================] - 4s 3ms/step - loss: 0.5570 - val_loss: 0.5602\n",
      "Epoch 13/30\n",
      "1113/1113 [==============================] - 4s 4ms/step - loss: 0.5567 - val_loss: 0.5600\n",
      "Epoch 14/30\n",
      "1113/1113 [==============================] - 4s 4ms/step - loss: 0.5565 - val_loss: 0.5602\n",
      "Epoch 15/30\n",
      "1113/1113 [==============================] - 4s 4ms/step - loss: 0.5564 - val_loss: 0.5600\n",
      "Epoch 16/30\n",
      "1113/1113 [==============================] - 4s 4ms/step - loss: 0.5563 - val_loss: 0.5598\n",
      "Epoch 17/30\n",
      "1113/1113 [==============================] - 4s 3ms/step - loss: 0.5562 - val_loss: 0.5604\n",
      "Epoch 18/30\n",
      "1113/1113 [==============================] - 4s 4ms/step - loss: 0.5560 - val_loss: 0.5611\n",
      "Epoch 19/30\n",
      "1113/1113 [==============================] - 4s 4ms/step - loss: 0.5559 - val_loss: 0.5602\n",
      "Epoch 20/30\n",
      "1113/1113 [==============================] - 4s 4ms/step - loss: 0.5557 - val_loss: 0.5608\n",
      "Epoch 21/30\n",
      "1113/1113 [==============================] - 4s 4ms/step - loss: 0.5557 - val_loss: 0.5612\n",
      "Epoch 22/30\n",
      "1113/1113 [==============================] - 4s 4ms/step - loss: 0.5555 - val_loss: 0.5608\n",
      "Epoch 23/30\n",
      "1113/1113 [==============================] - 4s 3ms/step - loss: 0.5556 - val_loss: 0.5606\n",
      "Epoch 24/30\n",
      "1113/1113 [==============================] - 4s 3ms/step - loss: 0.5553 - val_loss: 0.5610\n",
      "Epoch 25/30\n",
      "1113/1113 [==============================] - 4s 4ms/step - loss: 0.5553 - val_loss: 0.5612\n",
      "Epoch 26/30\n",
      "1113/1113 [==============================] - 4s 4ms/step - loss: 0.5552 - val_loss: 0.5608\n",
      "Epoch 27/30\n",
      "1113/1113 [==============================] - 4s 3ms/step - loss: 0.5550 - val_loss: 0.5604\n",
      "Epoch 28/30\n",
      "1113/1113 [==============================] - 4s 4ms/step - loss: 0.5552 - val_loss: 0.5608\n",
      "Epoch 29/30\n",
      "1113/1113 [==============================] - 4s 4ms/step - loss: 0.5550 - val_loss: 0.5611\n",
      "Epoch 30/30\n",
      "1113/1113 [==============================] - 4s 3ms/step - loss: 0.5549 - val_loss: 0.5606\n"
     ]
    }
   ],
   "source": [
    "autoencoder_all.compile(optimizer='adam', loss='mse')\n",
    "\n",
    "history = autoencoder_all.fit(X_train, X_train, epochs = 30,\n",
    "                              batch_size=128, validation_data=(X_test, X_test))"
   ]
  },
  {
   "cell_type": "code",
   "execution_count": 14,
   "metadata": {
    "colab": {
     "base_uri": "https://localhost:8080/",
     "height": 448
    },
    "id": "BNMAPIJs3vJb",
    "outputId": "9b0709c0-baa4-4a10-802d-c79205302a85"
   },
   "outputs": [
    {
     "data": {
      "text/plain": [
       "[<matplotlib.lines.Line2D at 0x7ca321dc3040>]"
      ]
     },
     "execution_count": 14,
     "metadata": {},
     "output_type": "execute_result"
    },
    {
     "data": {
      "image/png": "[encoded data removed]",
      "text/plain": [
       "<Figure size 640x480 with 1 Axes>"
      ]
     },
     "metadata": {},
     "output_type": "display_data"
    }
   ],
   "source": [
    "plt.plot(history.history['loss'])\n",
    "plt.plot(history.history['val_loss'])"
   ]
  },
  {
   "cell_type": "markdown",
   "metadata": {
    "id": "hYRDsZ6ygSJq"
   },
   "source": [
    "## KNN, SVC\n",
    "- train input 으로 사용하기 위한 encoder output 출력"
   ]
  },
  {
   "cell_type": "code",
   "execution_count": 15,
   "metadata": {
    "colab": {
     "base_uri": "https://localhost:8080/"
    },
    "id": "lqauE5yiMzo2",
    "outputId": "20e0d54e-0bf8-4cab-99a8-56a1fcacc1c0"
   },
   "outputs": [
    {
     "name": "stdout",
     "output_type": "stream",
     "text": [
      "4451/4451 [==============================] - 5s 1ms/step\n"
     ]
    },
    {
     "data": {
      "text/plain": [
       "(142403, 12)"
      ]
     },
     "execution_count": 15,
     "metadata": {},
     "output_type": "execute_result"
    }
   ],
   "source": [
    "enc_all = encoder_all.predict(X_train)\n",
    "enc_all.shape"
   ]
  },
  {
   "cell_type": "markdown",
   "metadata": {
    "id": "CQRykR2-6X3b"
   },
   "source": [
    "- encoder output 을 feature 로 이용하여 knn, svc model train"
   ]
  },
  {
   "cell_type": "code",
   "execution_count": 16,
   "metadata": {
    "id": "CaDHQXxt5iCg"
   },
   "outputs": [],
   "source": [
    "from sklearn.neighbors import KNeighborsClassifier\n",
    "from sklearn.svm import SVC\n",
    "\n",
    "# 서포트 벡터 머신(SVM) 모델을 생성합니다.\n",
    "model_svc = SVC()\n",
    "\n",
    "# k-NN 분류기를 생성합니다.\n",
    "model_knn = KNeighborsClassifier(n_neighbors=3)"
   ]
  },
  {
   "cell_type": "code",
   "execution_count": 17,
   "metadata": {
    "colab": {
     "base_uri": "https://localhost:8080/",
     "height": 74
    },
    "id": "6R5t-h8K6X3c",
    "outputId": "de6256e0-f4c0-4d48-eea6-c61670ec1edc"
   },
   "outputs": [
    {
     "data": {
      "text/html": [
       "<style>#sk-container-id-1 {color: black;background-color: white;}#sk-container-id-1 pre{padding: 0;}#sk-container-id-1 div.sk-toggleable {background-color: white;}#sk-container-id-1 label.sk-toggleable__label {cursor: pointer;display: block;width: 100%;margin-bottom: 0;padding: 0.3em;box-sizing: border-box;text-align: center;}#sk-container-id-1 label.sk-toggleable__label-arrow:before {content: \"▸\";float: left;margin-right: 0.25em;color: #696969;}#sk-container-id-1 label.sk-toggleable__label-arrow:hover:before {color: black;}#sk-container-id-1 div.sk-estimator:hover label.sk-toggleable__label-arrow:before {color: black;}#sk-container-id-1 div.sk-toggleable__content {max-height: 0;max-width: 0;overflow: hidden;text-align: left;background-color: #f0f8ff;}#sk-container-id-1 div.sk-toggleable__content pre {margin: 0.2em;color: black;border-radius: 0.25em;background-color: #f0f8ff;}#sk-container-id-1 input.sk-toggleable__control:checked~div.sk-toggleable__content {max-height: 200px;max-width: 100%;overflow: auto;}#sk-container-id-1 input.sk-toggleable__control:checked~label.sk-toggleable__label-arrow:before {content: \"▾\";}#sk-container-id-1 div.sk-estimator input.sk-toggleable__control:checked~label.sk-toggleable__label {background-color: #d4ebff;}#sk-container-id-1 div.sk-label input.sk-toggleable__control:checked~label.sk-toggleable__label {background-color: #d4ebff;}#sk-container-id-1 input.sk-hidden--visually {border: 0;clip: rect(1px 1px 1px 1px);clip: rect(1px, 1px, 1px, 1px);height: 1px;margin: -1px;overflow: hidden;padding: 0;position: absolute;width: 1px;}#sk-container-id-1 div.sk-estimator {font-family: monospace;background-color: #f0f8ff;border: 1px dotted black;border-radius: 0.25em;box-sizing: border-box;margin-bottom: 0.5em;}#sk-container-id-1 div.sk-estimator:hover {background-color: #d4ebff;}#sk-container-id-1 div.sk-parallel-item::after {content: \"\";width: 100%;border-bottom: 1px solid gray;flex-grow: 1;}#sk-container-id-1 div.sk-label:hover label.sk-toggleable__label {background-color: #d4ebff;}#sk-container-id-1 div.sk-serial::before {content: \"\";position: absolute;border-left: 1px solid gray;box-sizing: border-box;top: 0;bottom: 0;left: 50%;z-index: 0;}#sk-container-id-1 div.sk-serial {display: flex;flex-direction: column;align-items: center;background-color: white;padding-right: 0.2em;padding-left: 0.2em;position: relative;}#sk-container-id-1 div.sk-item {position: relative;z-index: 1;}#sk-container-id-1 div.sk-parallel {display: flex;align-items: stretch;justify-content: center;background-color: white;position: relative;}#sk-container-id-1 div.sk-item::before, #sk-container-id-1 div.sk-parallel-item::before {content: \"\";position: absolute;border-left: 1px solid gray;box-sizing: border-box;top: 0;bottom: 0;left: 50%;z-index: -1;}#sk-container-id-1 div.sk-parallel-item {display: flex;flex-direction: column;z-index: 1;position: relative;background-color: white;}#sk-container-id-1 div.sk-parallel-item:first-child::after {align-self: flex-end;width: 50%;}#sk-container-id-1 div.sk-parallel-item:last-child::after {align-self: flex-start;width: 50%;}#sk-container-id-1 div.sk-parallel-item:only-child::after {width: 0;}#sk-container-id-1 div.sk-dashed-wrapped {border: 1px dashed gray;margin: 0 0.4em 0.5em 0.4em;box-sizing: border-box;padding-bottom: 0.4em;background-color: white;}#sk-container-id-1 div.sk-label label {font-family: monospace;font-weight: bold;display: inline-block;line-height: 1.2em;}#sk-container-id-1 div.sk-label-container {text-align: center;}#sk-container-id-1 div.sk-container {/* jupyter's `normalize.less` sets `[hidden] { display: none; }` but bootstrap.min.css set `[hidden] { display: none !important; }` so we also need the `!important` here to be able to override the default hidden behavior on the sphinx rendered scikit-learn.org. See: https://github.com/scikit-learn/scikit-learn/issues/21755 */display: inline-block !important;position: relative;}#sk-container-id-1 div.sk-text-repr-fallback {display: none;}</style><div id=\"sk-container-id-1\" class=\"sk-top-container\"><div class=\"sk-text-repr-fallback\"><pre>SVC()</pre><b>In a Jupyter environment, please rerun this cell to show the HTML representation or trust the notebook. <br />On GitHub, the HTML representation is unable to render, please try loading this page with nbviewer.org.</b></div><div class=\"sk-container\" hidden><div class=\"sk-item\"><div class=\"sk-estimator sk-toggleable\"><input class=\"sk-toggleable__control sk-hidden--visually\" id=\"sk-estimator-id-1\" type=\"checkbox\" checked><label for=\"sk-estimator-id-1\" class=\"sk-toggleable__label sk-toggleable__label-arrow\">SVC</label><div class=\"sk-toggleable__content\"><pre>SVC()</pre></div></div></div></div></div>"
      ],
      "text/plain": [
       "SVC()"
      ]
     },
     "execution_count": 17,
     "metadata": {},
     "output_type": "execute_result"
    }
   ],
   "source": [
    "# training set을 encoder에 통과시켜 얻은 feature를 이용하여 model 훈련\n",
    "model_svc.fit(enc_all, y_train)"
   ]
  },
  {
   "cell_type": "code",
   "execution_count": 18,
   "metadata": {
    "colab": {
     "base_uri": "https://localhost:8080/",
     "height": 74
    },
    "id": "YjqB805u9XqF",
    "outputId": "8241a035-6afd-4b74-bac3-d6f74ca87d99"
   },
   "outputs": [
    {
     "data": {
      "text/html": [
       "<style>#sk-container-id-2 {color: black;background-color: white;}#sk-container-id-2 pre{padding: 0;}#sk-container-id-2 div.sk-toggleable {background-color: white;}#sk-container-id-2 label.sk-toggleable__label {cursor: pointer;display: block;width: 100%;margin-bottom: 0;padding: 0.3em;box-sizing: border-box;text-align: center;}#sk-container-id-2 label.sk-toggleable__label-arrow:before {content: \"▸\";float: left;margin-right: 0.25em;color: #696969;}#sk-container-id-2 label.sk-toggleable__label-arrow:hover:before {color: black;}#sk-container-id-2 div.sk-estimator:hover label.sk-toggleable__label-arrow:before {color: black;}#sk-container-id-2 div.sk-toggleable__content {max-height: 0;max-width: 0;overflow: hidden;text-align: left;background-color: #f0f8ff;}#sk-container-id-2 div.sk-toggleable__content pre {margin: 0.2em;color: black;border-radius: 0.25em;background-color: #f0f8ff;}#sk-container-id-2 input.sk-toggleable__control:checked~div.sk-toggleable__content {max-height: 200px;max-width: 100%;overflow: auto;}#sk-container-id-2 input.sk-toggleable__control:checked~label.sk-toggleable__label-arrow:before {content: \"▾\";}#sk-container-id-2 div.sk-estimator input.sk-toggleable__control:checked~label.sk-toggleable__label {background-color: #d4ebff;}#sk-container-id-2 div.sk-label input.sk-toggleable__control:checked~label.sk-toggleable__label {background-color: #d4ebff;}#sk-container-id-2 input.sk-hidden--visually {border: 0;clip: rect(1px 1px 1px 1px);clip: rect(1px, 1px, 1px, 1px);height: 1px;margin: -1px;overflow: hidden;padding: 0;position: absolute;width: 1px;}#sk-container-id-2 div.sk-estimator {font-family: monospace;background-color: #f0f8ff;border: 1px dotted black;border-radius: 0.25em;box-sizing: border-box;margin-bottom: 0.5em;}#sk-container-id-2 div.sk-estimator:hover {background-color: #d4ebff;}#sk-container-id-2 div.sk-parallel-item::after {content: \"\";width: 100%;border-bottom: 1px solid gray;flex-grow: 1;}#sk-container-id-2 div.sk-label:hover label.sk-toggleable__label {background-color: #d4ebff;}#sk-container-id-2 div.sk-serial::before {content: \"\";position: absolute;border-left: 1px solid gray;box-sizing: border-box;top: 0;bottom: 0;left: 50%;z-index: 0;}#sk-container-id-2 div.sk-serial {display: flex;flex-direction: column;align-items: center;background-color: white;padding-right: 0.2em;padding-left: 0.2em;position: relative;}#sk-container-id-2 div.sk-item {position: relative;z-index: 1;}#sk-container-id-2 div.sk-parallel {display: flex;align-items: stretch;justify-content: center;background-color: white;position: relative;}#sk-container-id-2 div.sk-item::before, #sk-container-id-2 div.sk-parallel-item::before {content: \"\";position: absolute;border-left: 1px solid gray;box-sizing: border-box;top: 0;bottom: 0;left: 50%;z-index: -1;}#sk-container-id-2 div.sk-parallel-item {display: flex;flex-direction: column;z-index: 1;position: relative;background-color: white;}#sk-container-id-2 div.sk-parallel-item:first-child::after {align-self: flex-end;width: 50%;}#sk-container-id-2 div.sk-parallel-item:last-child::after {align-self: flex-start;width: 50%;}#sk-container-id-2 div.sk-parallel-item:only-child::after {width: 0;}#sk-container-id-2 div.sk-dashed-wrapped {border: 1px dashed gray;margin: 0 0.4em 0.5em 0.4em;box-sizing: border-box;padding-bottom: 0.4em;background-color: white;}#sk-container-id-2 div.sk-label label {font-family: monospace;font-weight: bold;display: inline-block;line-height: 1.2em;}#sk-container-id-2 div.sk-label-container {text-align: center;}#sk-container-id-2 div.sk-container {/* jupyter's `normalize.less` sets `[hidden] { display: none; }` but bootstrap.min.css set `[hidden] { display: none !important; }` so we also need the `!important` here to be able to override the default hidden behavior on the sphinx rendered scikit-learn.org. See: https://github.com/scikit-learn/scikit-learn/issues/21755 */display: inline-block !important;position: relative;}#sk-container-id-2 div.sk-text-repr-fallback {display: none;}</style><div id=\"sk-container-id-2\" class=\"sk-top-container\"><div class=\"sk-text-repr-fallback\"><pre>KNeighborsClassifier(n_neighbors=3)</pre><b>In a Jupyter environment, please rerun this cell to show the HTML representation or trust the notebook. <br />On GitHub, the HTML representation is unable to render, please try loading this page with nbviewer.org.</b></div><div class=\"sk-container\" hidden><div class=\"sk-item\"><div class=\"sk-estimator sk-toggleable\"><input class=\"sk-toggleable__control sk-hidden--visually\" id=\"sk-estimator-id-2\" type=\"checkbox\" checked><label for=\"sk-estimator-id-2\" class=\"sk-toggleable__label sk-toggleable__label-arrow\">KNeighborsClassifier</label><div class=\"sk-toggleable__content\"><pre>KNeighborsClassifier(n_neighbors=3)</pre></div></div></div></div></div>"
      ],
      "text/plain": [
       "KNeighborsClassifier(n_neighbors=3)"
      ]
     },
     "execution_count": 18,
     "metadata": {},
     "output_type": "execute_result"
    }
   ],
   "source": [
    "model_knn.fit(enc_all, y_train)"
   ]
  },
  {
   "cell_type": "markdown",
   "metadata": {
    "id": "2jPSlZE56X3c"
   },
   "source": [
    "- train 된 모델을 이용하여 test set 분류"
   ]
  },
  {
   "cell_type": "code",
   "execution_count": 19,
   "metadata": {
    "colab": {
     "base_uri": "https://localhost:8080/"
    },
    "id": "rUW5iPIZ6X3c",
    "outputId": "6d0ea750-3ca3-4d46-e7f4-09396fa8145f"
   },
   "outputs": [
    {
     "name": "stdout",
     "output_type": "stream",
     "text": [
      "4451/4451 [==============================] - 5s 1ms/step\n",
      "[0 0 0 ... 0 0 0]\n",
      "CPU times: user 15.6 s, sys: 741 ms, total: 16.3 s\n",
      "Wall time: 15.1 s\n"
     ]
    }
   ],
   "source": [
    "%%time\n",
    "# encoder_all 모델은 입력 데이터를 압축된 표현(저차원 공간)으로 변환합니다.\n",
    "encoded_test_data = encoder_all.predict(X_test)\n",
    "\n",
    "# SVM 모델을 사용하여 인코더 모델의 출력 대해 클래스 레이블을 예측합니다.\n",
    "predicted_svc = model_svc.predict(encoded_test_data)\n",
    "\n",
    "# 예측된 클래스 레이블을 출력합니다.\n",
    "print(predicted_svc)"
   ]
  },
  {
   "cell_type": "code",
   "execution_count": 20,
   "metadata": {
    "colab": {
     "base_uri": "https://localhost:8080/"
    },
    "id": "80H7xbeSBvWc",
    "outputId": "c0609315-bb22-4546-8b6b-307f71341b74"
   },
   "outputs": [
    {
     "name": "stdout",
     "output_type": "stream",
     "text": [
      "4451/4451 [==============================] - 5s 1ms/step\n",
      "[0 0 0 ... 0 0 0]\n",
      "CPU times: user 1min 5s, sys: 1.16 s, total: 1min 6s\n",
      "Wall time: 1min 5s\n"
     ]
    }
   ],
   "source": [
    "%%time\n",
    "# encoder_all 모델은 입력 데이터를 압축된 표현(저차원 공간)으로 변환합니다.\n",
    "encoded_test_data = encoder_all.predict(X_test)\n",
    "\n",
    "# k-NN 모델을 사용하여 인코더 모델의 출력 대해 클래스 레이블을 예측합니다.\n",
    "predicted_knn = model_knn.predict(encoded_test_data)\n",
    "\n",
    "# 예측된 클래스 레이블을 출력합니다.\n",
    "print(predicted_knn)"
   ]
  },
  {
   "cell_type": "markdown",
   "metadata": {
    "id": "vxdpmFah6X3c"
   },
   "source": [
    "### DNN 이진 분류 모델 작성"
   ]
  },
  {
   "cell_type": "code",
   "execution_count": 21,
   "metadata": {
    "id": "i7N5jrYN6X3d"
   },
   "outputs": [],
   "source": [
    "model_dnn = tf.keras.Sequential([\n",
    "      tf.keras.layers.Dense(32, activation='relu', input_shape=(enc_all.shape[-1],)),\n",
    "      tf.keras.layers.Dropout(0.2),\n",
    "      tf.keras.layers.Dense(16, activation='relu'),\n",
    "      tf.keras.layers.Dropout(0.2),\n",
    "      tf.keras.layers.Dense(1, activation='sigmoid'),\n",
    "  ])\n",
    "\n",
    "model_dnn.compile(\n",
    "      optimizer = tf.keras.optimizers.Adam(learning_rate=1e-3),\n",
    "      loss = 'binary_crossentropy', metrics=['accuracy'])"
   ]
  },
  {
   "cell_type": "code",
   "execution_count": 22,
   "metadata": {
    "colab": {
     "base_uri": "https://localhost:8080/"
    },
    "id": "ckjAJ3-z6X3d",
    "outputId": "620886a6-7ba0-40e5-d642-255e7259080d"
   },
   "outputs": [
    {
     "name": "stdout",
     "output_type": "stream",
     "text": [
      "4451/4451 [==============================] - 5s 1ms/step\n"
     ]
    },
    {
     "data": {
      "text/plain": [
       "(142404, 12)"
      ]
     },
     "execution_count": 22,
     "metadata": {},
     "output_type": "execute_result"
    }
   ],
   "source": [
    "# encoder_all 모델은 입력 데이터를 압축된 표현(저차원 공간)으로 변환합니다.\n",
    "enc_test = encoder_all.predict(X_test)\n",
    "\n",
    "enc_test.shape"
   ]
  },
  {
   "cell_type": "code",
   "execution_count": 23,
   "metadata": {
    "colab": {
     "base_uri": "https://localhost:8080/"
    },
    "id": "Rw6shspJ6X3d",
    "outputId": "3583c467-c5f3-4317-8052-5113e3515cfc",
    "scrolled": true
   },
   "outputs": [
    {
     "name": "stdout",
     "output_type": "stream",
     "text": [
      "Epoch 1/50\n",
      "140/140 [==============================] - 3s 6ms/step - loss: 0.1160 - accuracy: 0.9826 - val_loss: 0.0443 - val_accuracy: 0.9983\n",
      "Epoch 2/50\n",
      "140/140 [==============================] - 1s 5ms/step - loss: 0.0468 - accuracy: 0.9983 - val_loss: 0.0294 - val_accuracy: 0.9983\n",
      "Epoch 3/50\n",
      "140/140 [==============================] - 1s 5ms/step - loss: 0.0296 - accuracy: 0.9982 - val_loss: 0.0125 - val_accuracy: 0.9983\n",
      "Epoch 4/50\n",
      "140/140 [==============================] - 1s 5ms/step - loss: 0.0150 - accuracy: 0.9984 - val_loss: 0.0076 - val_accuracy: 0.9987\n",
      "Epoch 5/50\n",
      "140/140 [==============================] - 1s 5ms/step - loss: 0.0114 - accuracy: 0.9986 - val_loss: 0.0066 - val_accuracy: 0.9991\n",
      "Epoch 6/50\n",
      "140/140 [==============================] - 1s 5ms/step - loss: 0.0098 - accuracy: 0.9986 - val_loss: 0.0062 - val_accuracy: 0.9992\n",
      "Epoch 7/50\n",
      "140/140 [==============================] - 1s 5ms/step - loss: 0.0081 - accuracy: 0.9988 - val_loss: 0.0059 - val_accuracy: 0.9992\n",
      "Epoch 8/50\n",
      "140/140 [==============================] - 1s 5ms/step - loss: 0.0082 - accuracy: 0.9988 - val_loss: 0.0059 - val_accuracy: 0.9993\n",
      "Epoch 9/50\n",
      "140/140 [==============================] - 1s 5ms/step - loss: 0.0071 - accuracy: 0.9989 - val_loss: 0.0055 - val_accuracy: 0.9993\n",
      "Epoch 10/50\n",
      "140/140 [==============================] - 1s 5ms/step - loss: 0.0074 - accuracy: 0.9987 - val_loss: 0.0054 - val_accuracy: 0.9993\n",
      "Epoch 11/50\n",
      "140/140 [==============================] - 1s 5ms/step - loss: 0.0068 - accuracy: 0.9989 - val_loss: 0.0055 - val_accuracy: 0.9993\n",
      "Epoch 12/50\n",
      "140/140 [==============================] - 1s 5ms/step - loss: 0.0066 - accuracy: 0.9990 - val_loss: 0.0051 - val_accuracy: 0.9993\n",
      "Epoch 13/50\n",
      "140/140 [==============================] - 1s 5ms/step - loss: 0.0067 - accuracy: 0.9990 - val_loss: 0.0049 - val_accuracy: 0.9993\n",
      "Epoch 14/50\n",
      "140/140 [==============================] - 1s 5ms/step - loss: 0.0064 - accuracy: 0.9989 - val_loss: 0.0049 - val_accuracy: 0.9993\n",
      "Epoch 15/50\n",
      "140/140 [==============================] - 1s 5ms/step - loss: 0.0061 - accuracy: 0.9990 - val_loss: 0.0047 - val_accuracy: 0.9993\n",
      "Epoch 16/50\n",
      "140/140 [==============================] - 1s 5ms/step - loss: 0.0056 - accuracy: 0.9991 - val_loss: 0.0048 - val_accuracy: 0.9993\n",
      "Epoch 17/50\n",
      "140/140 [==============================] - 1s 5ms/step - loss: 0.0054 - accuracy: 0.9990 - val_loss: 0.0046 - val_accuracy: 0.9993\n",
      "Epoch 18/50\n",
      "140/140 [==============================] - 1s 5ms/step - loss: 0.0053 - accuracy: 0.9991 - val_loss: 0.0047 - val_accuracy: 0.9992\n",
      "Epoch 19/50\n",
      "140/140 [==============================] - 1s 5ms/step - loss: 0.0052 - accuracy: 0.9991 - val_loss: 0.0044 - val_accuracy: 0.9993\n",
      "Epoch 20/50\n",
      "140/140 [==============================] - 1s 5ms/step - loss: 0.0049 - accuracy: 0.9992 - val_loss: 0.0044 - val_accuracy: 0.9993\n",
      "Epoch 21/50\n",
      "140/140 [==============================] - 1s 5ms/step - loss: 0.0056 - accuracy: 0.9991 - val_loss: 0.0042 - val_accuracy: 0.9993\n",
      "Epoch 22/50\n",
      "140/140 [==============================] - 1s 5ms/step - loss: 0.0052 - accuracy: 0.9991 - val_loss: 0.0045 - val_accuracy: 0.9992\n",
      "Epoch 23/50\n",
      "140/140 [==============================] - 1s 5ms/step - loss: 0.0048 - accuracy: 0.9991 - val_loss: 0.0044 - val_accuracy: 0.9993\n",
      "Epoch 24/50\n",
      "140/140 [==============================] - 1s 5ms/step - loss: 0.0049 - accuracy: 0.9991 - val_loss: 0.0042 - val_accuracy: 0.9993\n",
      "Epoch 25/50\n",
      "140/140 [==============================] - 1s 5ms/step - loss: 0.0046 - accuracy: 0.9992 - val_loss: 0.0042 - val_accuracy: 0.9993\n",
      "Epoch 26/50\n",
      "140/140 [==============================] - 1s 5ms/step - loss: 0.0048 - accuracy: 0.9991 - val_loss: 0.0042 - val_accuracy: 0.9993\n",
      "Epoch 27/50\n",
      "140/140 [==============================] - 1s 5ms/step - loss: 0.0046 - accuracy: 0.9992 - val_loss: 0.0043 - val_accuracy: 0.9992\n",
      "Epoch 28/50\n",
      "140/140 [==============================] - 1s 5ms/step - loss: 0.0046 - accuracy: 0.9991 - val_loss: 0.0041 - val_accuracy: 0.9993\n",
      "Epoch 29/50\n",
      "140/140 [==============================] - 1s 5ms/step - loss: 0.0044 - accuracy: 0.9992 - val_loss: 0.0041 - val_accuracy: 0.9993\n",
      "Epoch 30/50\n",
      "140/140 [==============================] - 1s 5ms/step - loss: 0.0043 - accuracy: 0.9992 - val_loss: 0.0041 - val_accuracy: 0.9993\n",
      "Epoch 31/50\n",
      "140/140 [==============================] - 1s 5ms/step - loss: 0.0044 - accuracy: 0.9992 - val_loss: 0.0040 - val_accuracy: 0.9993\n",
      "Epoch 32/50\n",
      "140/140 [==============================] - 1s 5ms/step - loss: 0.0043 - accuracy: 0.9992 - val_loss: 0.0041 - val_accuracy: 0.9993\n",
      "Epoch 33/50\n",
      "140/140 [==============================] - 1s 5ms/step - loss: 0.0043 - accuracy: 0.9992 - val_loss: 0.0040 - val_accuracy: 0.9993\n",
      "Epoch 34/50\n",
      "140/140 [==============================] - 1s 5ms/step - loss: 0.0042 - accuracy: 0.9992 - val_loss: 0.0042 - val_accuracy: 0.9993\n",
      "Epoch 35/50\n",
      "140/140 [==============================] - 1s 5ms/step - loss: 0.0043 - accuracy: 0.9992 - val_loss: 0.0040 - val_accuracy: 0.9993\n",
      "Epoch 36/50\n",
      "140/140 [==============================] - 1s 5ms/step - loss: 0.0042 - accuracy: 0.9992 - val_loss: 0.0039 - val_accuracy: 0.9993\n",
      "Epoch 37/50\n",
      "140/140 [==============================] - 1s 5ms/step - loss: 0.0041 - accuracy: 0.9992 - val_loss: 0.0039 - val_accuracy: 0.9993\n",
      "Epoch 38/50\n",
      "140/140 [==============================] - 1s 5ms/step - loss: 0.0040 - accuracy: 0.9992 - val_loss: 0.0042 - val_accuracy: 0.9993\n",
      "Epoch 39/50\n",
      "140/140 [==============================] - 1s 5ms/step - loss: 0.0041 - accuracy: 0.9993 - val_loss: 0.0041 - val_accuracy: 0.9993\n",
      "Epoch 40/50\n",
      "140/140 [==============================] - 1s 5ms/step - loss: 0.0039 - accuracy: 0.9993 - val_loss: 0.0039 - val_accuracy: 0.9993\n",
      "Epoch 41/50\n",
      "140/140 [==============================] - 1s 5ms/step - loss: 0.0040 - accuracy: 0.9992 - val_loss: 0.0040 - val_accuracy: 0.9993\n",
      "Epoch 42/50\n",
      "140/140 [==============================] - 1s 5ms/step - loss: 0.0039 - accuracy: 0.9992 - val_loss: 0.0039 - val_accuracy: 0.9993\n",
      "Epoch 43/50\n",
      "140/140 [==============================] - 1s 5ms/step - loss: 0.0038 - accuracy: 0.9993 - val_loss: 0.0040 - val_accuracy: 0.9993\n",
      "Epoch 44/50\n",
      "140/140 [==============================] - 1s 5ms/step - loss: 0.0040 - accuracy: 0.9992 - val_loss: 0.0039 - val_accuracy: 0.9993\n",
      "Epoch 45/50\n",
      "140/140 [==============================] - 1s 5ms/step - loss: 0.0040 - accuracy: 0.9992 - val_loss: 0.0039 - val_accuracy: 0.9993\n",
      "Epoch 46/50\n",
      "140/140 [==============================] - 1s 5ms/step - loss: 0.0039 - accuracy: 0.9993 - val_loss: 0.0039 - val_accuracy: 0.9993\n",
      "Epoch 47/50\n",
      "140/140 [==============================] - 1s 5ms/step - loss: 0.0037 - accuracy: 0.9992 - val_loss: 0.0040 - val_accuracy: 0.9993\n",
      "Epoch 48/50\n",
      "140/140 [==============================] - 1s 5ms/step - loss: 0.0037 - accuracy: 0.9992 - val_loss: 0.0037 - val_accuracy: 0.9993\n",
      "Epoch 49/50\n",
      "140/140 [==============================] - 1s 5ms/step - loss: 0.0038 - accuracy: 0.9993 - val_loss: 0.0038 - val_accuracy: 0.9993\n",
      "Epoch 50/50\n",
      "140/140 [==============================] - 1s 5ms/step - loss: 0.0038 - accuracy: 0.9993 - val_loss: 0.0038 - val_accuracy: 0.9993\n"
     ]
    }
   ],
   "source": [
    "history = model_dnn.fit(enc_all, y_train, epochs=50, batch_size=1024,\n",
    "                    validation_data=(enc_test, y_test))"
   ]
  },
  {
   "cell_type": "code",
   "execution_count": 24,
   "metadata": {
    "colab": {
     "base_uri": "https://localhost:8080/"
    },
    "id": "QgPTPtk96X3d",
    "outputId": "b6166fb4-e1d7-4fb7-8e94-8677861338ec"
   },
   "outputs": [
    {
     "name": "stdout",
     "output_type": "stream",
     "text": [
      "4451/4451 [==============================] - 5s 1ms/step\n",
      "4451/4451 [==============================] - 6s 1ms/step\n"
     ]
    },
    {
     "data": {
      "text/plain": [
       "(142404, 1)"
      ]
     },
     "execution_count": 24,
     "metadata": {},
     "output_type": "execute_result"
    }
   ],
   "source": [
    "predicted_dnn = model_dnn.predict(encoder_all.predict(X_test)) > 0.5\n",
    "predicted_dnn.shape"
   ]
  },
  {
   "cell_type": "markdown",
   "metadata": {
    "id": "W52kNVXq-H-d"
   },
   "source": [
    "분류기로 사용한 전통적 머신러닝 2 개 모델과 딥러닝 모델의 성능 비교"
   ]
  },
  {
   "cell_type": "code",
   "execution_count": 25,
   "metadata": {
    "colab": {
     "base_uri": "https://localhost:8080/",
     "height": 1000
    },
    "id": "6aVN3Qe-D3Oz",
    "outputId": "e0046588-ff62-4b3f-827e-a1b1a7c01d64"
   },
   "outputs": [
    {
     "name": "stdout",
     "output_type": "stream",
     "text": [
      "Precision 0.92\n",
      "Recall 0.65\n"
     ]
    },
    {
     "data": {
      "image/png": "[encoded data removed]",
      "text/plain": [
       "<Figure size 640x480 with 2 Axes>"
      ]
     },
     "metadata": {},
     "output_type": "display_data"
    },
    {
     "name": "stdout",
     "output_type": "stream",
     "text": [
      "Precision 0.92\n",
      "Recall 0.75\n"
     ]
    },
    {
     "data": {
      "image/png": "[encoded data removed]",
      "text/plain": [
       "<Figure size 640x480 with 2 Axes>"
      ]
     },
     "metadata": {},
     "output_type": "display_data"
    },
    {
     "name": "stdout",
     "output_type": "stream",
     "text": [
      "Precision 0.84\n",
      "Recall 0.75\n"
     ]
    },
    {
     "data": {
      "image/png": "[encoded data removed]",
      "text/plain": [
       "<Figure size 640x480 with 2 Axes>"
      ]
     },
     "metadata": {},
     "output_type": "display_data"
    }
   ],
   "source": [
    "for model, predicted in [(\"svc\", predicted_svc),\n",
    "                         (\"knn\", predicted_knn),\n",
    "                         (\"dnn\", predicted_dnn)]:\n",
    "\n",
    "    # 정밀도(Precision)를 계산하여 출력합니다.\n",
    "    print(\"Precision {:.2f}\".format(precision_score(y_test, predicted)))\n",
    "    # 재현율(Recall)을 계산하여 출력합니다.\n",
    "    print(\"Recall {:.2f}\".format(recall_score(y_test, predicted)))\n",
    "\n",
    "    # 혼동 행렬(confusion matrix)을 계산합니다.\n",
    "    cm = confusion_matrix(y_test, predicted)\n",
    "\n",
    "    # 혼동 행렬을 히트맵으로 시각화합니다.\n",
    "    ax = sns.heatmap(cm, annot=True, fmt=',')\n",
    "\n",
    "    # x축 레이블을 설정합니다.\n",
    "    ax.set_xlabel('Predicted labels')\n",
    "\n",
    "    # y축 레이블을 설정합니다.\n",
    "    ax.set_ylabel('True labels')\n",
    "\n",
    "    # 그래프의 제목을 설정합니다. 제목은 모델의 이름입니다.\n",
    "    ax.set_title(model)\n",
    "\n",
    "    # x축 틱 레이블을 설정합니다.\n",
    "    ax.xaxis.set_ticklabels(['Normal', 'Fraud'])\n",
    "\n",
    "    # y축 틱 레이블을 설정합니다.\n",
    "    ax.yaxis.set_ticklabels(['Normal', 'Fraud'])\n",
    "\n",
    "    # 틱 위치를 설정합니다.\n",
    "    ax.set(yticks=[0.5, 1.5], xticks=[0.5, 1.5])\n",
    "\n",
    "    # 그래프를 화면에 표시합니다.\n",
    "    plt.show()"
   ]
  },
  {
   "cell_type": "code",
   "execution_count": 25,
   "metadata": {
    "id": "xxGF_TgA6X3d"
   },
   "outputs": [],
   "source": []
  }
 ],
 "metadata": {
  "accelerator": "GPU",
  "colab": {
   "machine_shape": "hm",
   "provenance": []
  },
  "kernelspec": {
   "display_name": "Python 3 (ipykernel)",
   "language": "python",
   "name": "python3"
  },
  "language_info": {
   "codemirror_mode": {
    "name": "ipython",
    "version": 3
   },
   "file_extension": ".py",
   "mimetype": "text/x-python",
   "name": "python",
   "nbconvert_exporter": "python",
   "pygments_lexer": "ipython3",
   "version": "3.9.16"
  }
 },
 "nbformat": 4,
 "nbformat_minor": 4
}
