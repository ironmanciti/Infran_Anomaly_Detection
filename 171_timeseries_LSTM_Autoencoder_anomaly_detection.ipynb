{
  "cells": [
    {
      "cell_type": "markdown",
      "id": "9fe00de7",
      "metadata": {
        "id": "9fe00de7"
      },
      "source": [
        "# LSTM autoencoder를 이용한 시계열 data 이상 감지\n",
        "\n",
        "시계열 자료의 이상치 검출"
      ]
    },
    {
      "cell_type": "code",
      "execution_count": 1,
      "id": "86acb348",
      "metadata": {
        "id": "86acb348"
      },
      "outputs": [],
      "source": [
        "import numpy as np\n",
        "import tensorflow as tf\n",
        "from tensorflow.keras.models import Sequential\n",
        "from tensorflow.keras.layers import LSTM, Input, Dropout, Dense, RepeatVector\n",
        "import pandas as pd\n",
        "from matplotlib import pyplot as plt\n",
        "from tensorflow.keras.utils import plot_model"
      ]
    },
    {
      "cell_type": "markdown",
      "id": "Bd0si1KN9HKd",
      "metadata": {
        "id": "Bd0si1KN9HKd"
      },
      "source": [
        "## Load the data\n",
        "\n",
        "비정상적인 동작 기간이 labeling 된  인공 시계열 데이터\n",
        "[Numenta Anomaly Benchmark(NAB)](\n",
        "https://www.kaggle.com/boltzmannbrain/nab) 를 사용합니다. 데이터는 정열되고 타임스탬프가 지정된 단일 값 메트릭입니다.\n",
        "\n",
        "학습에는 noise가 포함된 정상 시계열 데이터인인 `art_daily_small_noise.csv` 파일을 사용하고 테스트에는 이상치가 포함된 `art_daily_jumpsup.csv` 파일을 사용합니다. 이 데이터 세트의 단순성 덕분에 이상 탐지를 효과적으로 시연할 수 있습니다."
      ]
    },
    {
      "cell_type": "code",
      "execution_count": 2,
      "id": "f6a9a78d",
      "metadata": {
        "colab": {
          "base_uri": "https://localhost:8080/"
        },
        "id": "f6a9a78d",
        "outputId": "38a6c053-31fd-49db-8d8a-0c561adfabba"
      },
      "outputs": [
        {
          "output_type": "stream",
          "name": "stdout",
          "text": [
            "(4032, 1) (4032, 1)\n"
          ]
        }
      ],
      "source": [
        "master_url_root = \"https://raw.githubusercontent.com/numenta/NAB/master/data/\"\n",
        "\n",
        "# Train set\n",
        "df_small_noise_url_suffix = \"artificialNoAnomaly/art_daily_small_noise.csv\"\n",
        "df_small_noise_url = master_url_root + df_small_noise_url_suffix\n",
        "df_small_noise = pd.read_csv(\n",
        "    df_small_noise_url, parse_dates=True, index_col=\"timestamp\"\n",
        ")\n",
        "\n",
        "# Test set\n",
        "df_daily_jumpsup_url_suffix = \"artificialWithAnomaly/art_daily_jumpsup.csv\"\n",
        "df_daily_jumpsup_url = master_url_root + df_daily_jumpsup_url_suffix\n",
        "df_daily_jumpsup = pd.read_csv(\n",
        "    df_daily_jumpsup_url, parse_dates=True, index_col=\"timestamp\"\n",
        ")\n",
        "\n",
        "print(df_small_noise.shape, df_daily_jumpsup.shape)"
      ]
    },
    {
      "cell_type": "code",
      "execution_count": 3,
      "id": "89d41581",
      "metadata": {
        "colab": {
          "base_uri": "https://localhost:8080/",
          "height": 237
        },
        "id": "89d41581",
        "outputId": "f5a7f810-1b13-491e-d025-a766a3882368"
      },
      "outputs": [
        {
          "output_type": "execute_result",
          "data": {
            "text/plain": [
              "                         value\n",
              "timestamp                     \n",
              "2014-04-01 00:00:00  18.324919\n",
              "2014-04-01 00:05:00  21.970327\n",
              "2014-04-01 00:10:00  18.624806\n",
              "2014-04-01 00:15:00  21.953684\n",
              "2014-04-01 00:20:00  21.909120"
            ],
            "text/html": [
              "\n",
              "  <div id=\"df-d6cae408-e603-4a02-9324-ae70fbe2db9e\">\n",
              "    <div class=\"colab-df-container\">\n",
              "      <div>\n",
              "<style scoped>\n",
              "    .dataframe tbody tr th:only-of-type {\n",
              "        vertical-align: middle;\n",
              "    }\n",
              "\n",
              "    .dataframe tbody tr th {\n",
              "        vertical-align: top;\n",
              "    }\n",
              "\n",
              "    .dataframe thead th {\n",
              "        text-align: right;\n",
              "    }\n",
              "</style>\n",
              "<table border=\"1\" class=\"dataframe\">\n",
              "  <thead>\n",
              "    <tr style=\"text-align: right;\">\n",
              "      <th></th>\n",
              "      <th>value</th>\n",
              "    </tr>\n",
              "    <tr>\n",
              "      <th>timestamp</th>\n",
              "      <th></th>\n",
              "    </tr>\n",
              "  </thead>\n",
              "  <tbody>\n",
              "    <tr>\n",
              "      <th>2014-04-01 00:00:00</th>\n",
              "      <td>18.324919</td>\n",
              "    </tr>\n",
              "    <tr>\n",
              "      <th>2014-04-01 00:05:00</th>\n",
              "      <td>21.970327</td>\n",
              "    </tr>\n",
              "    <tr>\n",
              "      <th>2014-04-01 00:10:00</th>\n",
              "      <td>18.624806</td>\n",
              "    </tr>\n",
              "    <tr>\n",
              "      <th>2014-04-01 00:15:00</th>\n",
              "      <td>21.953684</td>\n",
              "    </tr>\n",
              "    <tr>\n",
              "      <th>2014-04-01 00:20:00</th>\n",
              "      <td>21.909120</td>\n",
              "    </tr>\n",
              "  </tbody>\n",
              "</table>\n",
              "</div>\n",
              "      <button class=\"colab-df-convert\" onclick=\"convertToInteractive('df-d6cae408-e603-4a02-9324-ae70fbe2db9e')\"\n",
              "              title=\"Convert this dataframe to an interactive table.\"\n",
              "              style=\"display:none;\">\n",
              "        \n",
              "  <svg xmlns=\"http://www.w3.org/2000/svg\" height=\"24px\"viewBox=\"0 0 24 24\"\n",
              "       width=\"24px\">\n",
              "    <path d=\"M0 0h24v24H0V0z\" fill=\"none\"/>\n",
              "    <path d=\"M18.56 5.44l.94 2.06.94-2.06 2.06-.94-2.06-.94-.94-2.06-.94 2.06-2.06.94zm-11 1L8.5 8.5l.94-2.06 2.06-.94-2.06-.94L8.5 2.5l-.94 2.06-2.06.94zm10 10l.94 2.06.94-2.06 2.06-.94-2.06-.94-.94-2.06-.94 2.06-2.06.94z\"/><path d=\"M17.41 7.96l-1.37-1.37c-.4-.4-.92-.59-1.43-.59-.52 0-1.04.2-1.43.59L10.3 9.45l-7.72 7.72c-.78.78-.78 2.05 0 2.83L4 21.41c.39.39.9.59 1.41.59.51 0 1.02-.2 1.41-.59l7.78-7.78 2.81-2.81c.8-.78.8-2.07 0-2.86zM5.41 20L4 18.59l7.72-7.72 1.47 1.35L5.41 20z\"/>\n",
              "  </svg>\n",
              "      </button>\n",
              "      \n",
              "  <style>\n",
              "    .colab-df-container {\n",
              "      display:flex;\n",
              "      flex-wrap:wrap;\n",
              "      gap: 12px;\n",
              "    }\n",
              "\n",
              "    .colab-df-convert {\n",
              "      background-color: #E8F0FE;\n",
              "      border: none;\n",
              "      border-radius: 50%;\n",
              "      cursor: pointer;\n",
              "      display: none;\n",
              "      fill: #1967D2;\n",
              "      height: 32px;\n",
              "      padding: 0 0 0 0;\n",
              "      width: 32px;\n",
              "    }\n",
              "\n",
              "    .colab-df-convert:hover {\n",
              "      background-color: #E2EBFA;\n",
              "      box-shadow: 0px 1px 2px rgba(60, 64, 67, 0.3), 0px 1px 3px 1px rgba(60, 64, 67, 0.15);\n",
              "      fill: #174EA6;\n",
              "    }\n",
              "\n",
              "    [theme=dark] .colab-df-convert {\n",
              "      background-color: #3B4455;\n",
              "      fill: #D2E3FC;\n",
              "    }\n",
              "\n",
              "    [theme=dark] .colab-df-convert:hover {\n",
              "      background-color: #434B5C;\n",
              "      box-shadow: 0px 1px 3px 1px rgba(0, 0, 0, 0.15);\n",
              "      filter: drop-shadow(0px 1px 2px rgba(0, 0, 0, 0.3));\n",
              "      fill: #FFFFFF;\n",
              "    }\n",
              "  </style>\n",
              "\n",
              "      <script>\n",
              "        const buttonEl =\n",
              "          document.querySelector('#df-d6cae408-e603-4a02-9324-ae70fbe2db9e button.colab-df-convert');\n",
              "        buttonEl.style.display =\n",
              "          google.colab.kernel.accessAllowed ? 'block' : 'none';\n",
              "\n",
              "        async function convertToInteractive(key) {\n",
              "          const element = document.querySelector('#df-d6cae408-e603-4a02-9324-ae70fbe2db9e');\n",
              "          const dataTable =\n",
              "            await google.colab.kernel.invokeFunction('convertToInteractive',\n",
              "                                                     [key], {});\n",
              "          if (!dataTable) return;\n",
              "\n",
              "          const docLinkHtml = 'Like what you see? Visit the ' +\n",
              "            '<a target=\"_blank\" href=https://colab.research.google.com/notebooks/data_table.ipynb>data table notebook</a>'\n",
              "            + ' to learn more about interactive tables.';\n",
              "          element.innerHTML = '';\n",
              "          dataTable['output_type'] = 'display_data';\n",
              "          await google.colab.output.renderOutput(dataTable, element);\n",
              "          const docLink = document.createElement('div');\n",
              "          docLink.innerHTML = docLinkHtml;\n",
              "          element.appendChild(docLink);\n",
              "        }\n",
              "      </script>\n",
              "    </div>\n",
              "  </div>\n",
              "  "
            ]
          },
          "metadata": {},
          "execution_count": 3
        }
      ],
      "source": [
        "df_small_noise.head()"
      ]
    },
    {
      "cell_type": "code",
      "source": [
        "df_daily_jumpsup.head()"
      ],
      "metadata": {
        "colab": {
          "base_uri": "https://localhost:8080/",
          "height": 237
        },
        "id": "L1H4JBEgUFhq",
        "outputId": "c5bb4ce9-ac72-40b6-f521-b5cd09f9dd86"
      },
      "id": "L1H4JBEgUFhq",
      "execution_count": 4,
      "outputs": [
        {
          "output_type": "execute_result",
          "data": {
            "text/plain": [
              "                         value\n",
              "timestamp                     \n",
              "2014-04-01 00:00:00  19.761252\n",
              "2014-04-01 00:05:00  20.500833\n",
              "2014-04-01 00:10:00  19.961641\n",
              "2014-04-01 00:15:00  21.490266\n",
              "2014-04-01 00:20:00  20.187739"
            ],
            "text/html": [
              "\n",
              "  <div id=\"df-27a90bc3-6c85-4caf-b04c-3abffb84e0f8\">\n",
              "    <div class=\"colab-df-container\">\n",
              "      <div>\n",
              "<style scoped>\n",
              "    .dataframe tbody tr th:only-of-type {\n",
              "        vertical-align: middle;\n",
              "    }\n",
              "\n",
              "    .dataframe tbody tr th {\n",
              "        vertical-align: top;\n",
              "    }\n",
              "\n",
              "    .dataframe thead th {\n",
              "        text-align: right;\n",
              "    }\n",
              "</style>\n",
              "<table border=\"1\" class=\"dataframe\">\n",
              "  <thead>\n",
              "    <tr style=\"text-align: right;\">\n",
              "      <th></th>\n",
              "      <th>value</th>\n",
              "    </tr>\n",
              "    <tr>\n",
              "      <th>timestamp</th>\n",
              "      <th></th>\n",
              "    </tr>\n",
              "  </thead>\n",
              "  <tbody>\n",
              "    <tr>\n",
              "      <th>2014-04-01 00:00:00</th>\n",
              "      <td>19.761252</td>\n",
              "    </tr>\n",
              "    <tr>\n",
              "      <th>2014-04-01 00:05:00</th>\n",
              "      <td>20.500833</td>\n",
              "    </tr>\n",
              "    <tr>\n",
              "      <th>2014-04-01 00:10:00</th>\n",
              "      <td>19.961641</td>\n",
              "    </tr>\n",
              "    <tr>\n",
              "      <th>2014-04-01 00:15:00</th>\n",
              "      <td>21.490266</td>\n",
              "    </tr>\n",
              "    <tr>\n",
              "      <th>2014-04-01 00:20:00</th>\n",
              "      <td>20.187739</td>\n",
              "    </tr>\n",
              "  </tbody>\n",
              "</table>\n",
              "</div>\n",
              "      <button class=\"colab-df-convert\" onclick=\"convertToInteractive('df-27a90bc3-6c85-4caf-b04c-3abffb84e0f8')\"\n",
              "              title=\"Convert this dataframe to an interactive table.\"\n",
              "              style=\"display:none;\">\n",
              "        \n",
              "  <svg xmlns=\"http://www.w3.org/2000/svg\" height=\"24px\"viewBox=\"0 0 24 24\"\n",
              "       width=\"24px\">\n",
              "    <path d=\"M0 0h24v24H0V0z\" fill=\"none\"/>\n",
              "    <path d=\"M18.56 5.44l.94 2.06.94-2.06 2.06-.94-2.06-.94-.94-2.06-.94 2.06-2.06.94zm-11 1L8.5 8.5l.94-2.06 2.06-.94-2.06-.94L8.5 2.5l-.94 2.06-2.06.94zm10 10l.94 2.06.94-2.06 2.06-.94-2.06-.94-.94-2.06-.94 2.06-2.06.94z\"/><path d=\"M17.41 7.96l-1.37-1.37c-.4-.4-.92-.59-1.43-.59-.52 0-1.04.2-1.43.59L10.3 9.45l-7.72 7.72c-.78.78-.78 2.05 0 2.83L4 21.41c.39.39.9.59 1.41.59.51 0 1.02-.2 1.41-.59l7.78-7.78 2.81-2.81c.8-.78.8-2.07 0-2.86zM5.41 20L4 18.59l7.72-7.72 1.47 1.35L5.41 20z\"/>\n",
              "  </svg>\n",
              "      </button>\n",
              "      \n",
              "  <style>\n",
              "    .colab-df-container {\n",
              "      display:flex;\n",
              "      flex-wrap:wrap;\n",
              "      gap: 12px;\n",
              "    }\n",
              "\n",
              "    .colab-df-convert {\n",
              "      background-color: #E8F0FE;\n",
              "      border: none;\n",
              "      border-radius: 50%;\n",
              "      cursor: pointer;\n",
              "      display: none;\n",
              "      fill: #1967D2;\n",
              "      height: 32px;\n",
              "      padding: 0 0 0 0;\n",
              "      width: 32px;\n",
              "    }\n",
              "\n",
              "    .colab-df-convert:hover {\n",
              "      background-color: #E2EBFA;\n",
              "      box-shadow: 0px 1px 2px rgba(60, 64, 67, 0.3), 0px 1px 3px 1px rgba(60, 64, 67, 0.15);\n",
              "      fill: #174EA6;\n",
              "    }\n",
              "\n",
              "    [theme=dark] .colab-df-convert {\n",
              "      background-color: #3B4455;\n",
              "      fill: #D2E3FC;\n",
              "    }\n",
              "\n",
              "    [theme=dark] .colab-df-convert:hover {\n",
              "      background-color: #434B5C;\n",
              "      box-shadow: 0px 1px 3px 1px rgba(0, 0, 0, 0.15);\n",
              "      filter: drop-shadow(0px 1px 2px rgba(0, 0, 0, 0.3));\n",
              "      fill: #FFFFFF;\n",
              "    }\n",
              "  </style>\n",
              "\n",
              "      <script>\n",
              "        const buttonEl =\n",
              "          document.querySelector('#df-27a90bc3-6c85-4caf-b04c-3abffb84e0f8 button.colab-df-convert');\n",
              "        buttonEl.style.display =\n",
              "          google.colab.kernel.accessAllowed ? 'block' : 'none';\n",
              "\n",
              "        async function convertToInteractive(key) {\n",
              "          const element = document.querySelector('#df-27a90bc3-6c85-4caf-b04c-3abffb84e0f8');\n",
              "          const dataTable =\n",
              "            await google.colab.kernel.invokeFunction('convertToInteractive',\n",
              "                                                     [key], {});\n",
              "          if (!dataTable) return;\n",
              "\n",
              "          const docLinkHtml = 'Like what you see? Visit the ' +\n",
              "            '<a target=\"_blank\" href=https://colab.research.google.com/notebooks/data_table.ipynb>data table notebook</a>'\n",
              "            + ' to learn more about interactive tables.';\n",
              "          element.innerHTML = '';\n",
              "          dataTable['output_type'] = 'display_data';\n",
              "          await google.colab.output.renderOutput(dataTable, element);\n",
              "          const docLink = document.createElement('div');\n",
              "          docLink.innerHTML = docLinkHtml;\n",
              "          element.appendChild(docLink);\n",
              "        }\n",
              "      </script>\n",
              "    </div>\n",
              "  </div>\n",
              "  "
            ]
          },
          "metadata": {},
          "execution_count": 4
        }
      ]
    },
    {
      "cell_type": "markdown",
      "id": "OXNSNJ4K9LTf",
      "metadata": {
        "id": "OXNSNJ4K9LTf"
      },
      "source": [
        "## data 시각화\n",
        "### 정상 시계열 데이터\n",
        "\n",
        "- 정상 데이터를 autoencoder 훈련에 사용합니다."
      ]
    },
    {
      "cell_type": "code",
      "execution_count": 5,
      "id": "dd9865c3",
      "metadata": {
        "colab": {
          "base_uri": "https://localhost:8080/",
          "height": 322
        },
        "id": "dd9865c3",
        "outputId": "94f2c6fb-b447-4c73-ed87-98a732b0fd92"
      },
      "outputs": [
        {
          "output_type": "execute_result",
          "data": {
            "text/plain": [
              "<matplotlib.axes._subplots.AxesSubplot at 0x7fa30e643100>"
            ]
          },
          "metadata": {},
          "execution_count": 5
        },
        {
          "output_type": "display_data",
          "data": {
            "text/plain": [
              "<Figure size 432x288 with 1 Axes>"
            ],
            "image/png": "[encoded data removed]"
          },
          "metadata": {
            "needs_background": "light"
          }
        }
      ],
      "source": [
        "df_small_noise.plot(legend=False)"
      ]
    },
    {
      "cell_type": "markdown",
      "id": "c2byrELX9O4z",
      "metadata": {
        "id": "c2byrELX9O4z"
      },
      "source": [
        "### 이상이 있는 시계열 데이터\n",
        "\n",
        "정상 데이터로 훈련된 autoencoder 모델의 테스트를 위해 다음 데이터를 사용하고, 데이터의 갑작스러운 점프가 이상으로 감지되는지 확인합니다."
      ]
    },
    {
      "cell_type": "code",
      "execution_count": 6,
      "id": "829fcf68",
      "metadata": {
        "colab": {
          "base_uri": "https://localhost:8080/",
          "height": 322
        },
        "id": "829fcf68",
        "outputId": "b4e3774f-5ae3-4391-8d0d-37fdc2d74fb9"
      },
      "outputs": [
        {
          "output_type": "execute_result",
          "data": {
            "text/plain": [
              "<matplotlib.axes._subplots.AxesSubplot at 0x7fa30e4b1910>"
            ]
          },
          "metadata": {},
          "execution_count": 6
        },
        {
          "output_type": "display_data",
          "data": {
            "text/plain": [
              "<Figure size 432x288 with 1 Axes>"
            ],
            "image/png": "[encoded data removed]"
          },
          "metadata": {
            "needs_background": "light"
          }
        }
      ],
      "source": [
        "df_daily_jumpsup.plot(legend=False)"
      ]
    },
    {
      "cell_type": "markdown",
      "id": "OOrwjXEP9RmL",
      "metadata": {
        "id": "OOrwjXEP9RmL"
      },
      "source": [
        "## 훈련 데이터 준비\n",
        "\n",
        "훈련 시계열 데이터 파일(`df_small_noise`)에서 데이터 값을 가져오고 `value` 데이터를 정규화 합니다. 14일 동안 5분마다 `value`가 있습니다.\n",
        "\n",
        "-   24시간 * 60분 / 5분 = **288 timesteps per day**\n",
        "-   288 timesteps per day * 14일 = **total 4032 data points** "
      ]
    },
    {
      "cell_type": "code",
      "execution_count": 7,
      "id": "d7829a45",
      "metadata": {
        "colab": {
          "base_uri": "https://localhost:8080/"
        },
        "id": "d7829a45",
        "outputId": "effa0aaf-1f9d-4a19-f9d6-4a1c19fcd845"
      },
      "outputs": [
        {
          "output_type": "stream",
          "name": "stdout",
          "text": [
            "훈련 샘플 수: 4032\n"
          ]
        }
      ],
      "source": [
        "# 테스트 데이터를 정규화하기 위해 평균과 표준 편차를 정규화하고 저장합니다.\n",
        "training_mean = df_small_noise.mean()\n",
        "training_std = df_small_noise.std()\n",
        "# standard scaling\n",
        "df_training_value = (df_small_noise - training_mean) / training_std\n",
        "\n",
        "print(\"훈련 샘플 수:\", len(df_training_value))"
      ]
    },
    {
      "cell_type": "code",
      "source": [
        "# normalize된 df_small_noise\n",
        "df_training_value.head()"
      ],
      "metadata": {
        "colab": {
          "base_uri": "https://localhost:8080/",
          "height": 237
        },
        "id": "jWSjocjqUOp6",
        "outputId": "280804cf-3579-4be6-b286-bf8aa04afc75"
      },
      "id": "jWSjocjqUOp6",
      "execution_count": 8,
      "outputs": [
        {
          "output_type": "execute_result",
          "data": {
            "text/plain": [
              "                        value\n",
              "timestamp                    \n",
              "2014-04-01 00:00:00 -0.858829\n",
              "2014-04-01 00:05:00 -0.728993\n",
              "2014-04-01 00:10:00 -0.848148\n",
              "2014-04-01 00:15:00 -0.729586\n",
              "2014-04-01 00:20:00 -0.731173"
            ],
            "text/html": [
              "\n",
              "  <div id=\"df-40112944-0b9e-4e2f-bd18-3ab9373aa7e1\">\n",
              "    <div class=\"colab-df-container\">\n",
              "      <div>\n",
              "<style scoped>\n",
              "    .dataframe tbody tr th:only-of-type {\n",
              "        vertical-align: middle;\n",
              "    }\n",
              "\n",
              "    .dataframe tbody tr th {\n",
              "        vertical-align: top;\n",
              "    }\n",
              "\n",
              "    .dataframe thead th {\n",
              "        text-align: right;\n",
              "    }\n",
              "</style>\n",
              "<table border=\"1\" class=\"dataframe\">\n",
              "  <thead>\n",
              "    <tr style=\"text-align: right;\">\n",
              "      <th></th>\n",
              "      <th>value</th>\n",
              "    </tr>\n",
              "    <tr>\n",
              "      <th>timestamp</th>\n",
              "      <th></th>\n",
              "    </tr>\n",
              "  </thead>\n",
              "  <tbody>\n",
              "    <tr>\n",
              "      <th>2014-04-01 00:00:00</th>\n",
              "      <td>-0.858829</td>\n",
              "    </tr>\n",
              "    <tr>\n",
              "      <th>2014-04-01 00:05:00</th>\n",
              "      <td>-0.728993</td>\n",
              "    </tr>\n",
              "    <tr>\n",
              "      <th>2014-04-01 00:10:00</th>\n",
              "      <td>-0.848148</td>\n",
              "    </tr>\n",
              "    <tr>\n",
              "      <th>2014-04-01 00:15:00</th>\n",
              "      <td>-0.729586</td>\n",
              "    </tr>\n",
              "    <tr>\n",
              "      <th>2014-04-01 00:20:00</th>\n",
              "      <td>-0.731173</td>\n",
              "    </tr>\n",
              "  </tbody>\n",
              "</table>\n",
              "</div>\n",
              "      <button class=\"colab-df-convert\" onclick=\"convertToInteractive('df-40112944-0b9e-4e2f-bd18-3ab9373aa7e1')\"\n",
              "              title=\"Convert this dataframe to an interactive table.\"\n",
              "              style=\"display:none;\">\n",
              "        \n",
              "  <svg xmlns=\"http://www.w3.org/2000/svg\" height=\"24px\"viewBox=\"0 0 24 24\"\n",
              "       width=\"24px\">\n",
              "    <path d=\"M0 0h24v24H0V0z\" fill=\"none\"/>\n",
              "    <path d=\"M18.56 5.44l.94 2.06.94-2.06 2.06-.94-2.06-.94-.94-2.06-.94 2.06-2.06.94zm-11 1L8.5 8.5l.94-2.06 2.06-.94-2.06-.94L8.5 2.5l-.94 2.06-2.06.94zm10 10l.94 2.06.94-2.06 2.06-.94-2.06-.94-.94-2.06-.94 2.06-2.06.94z\"/><path d=\"M17.41 7.96l-1.37-1.37c-.4-.4-.92-.59-1.43-.59-.52 0-1.04.2-1.43.59L10.3 9.45l-7.72 7.72c-.78.78-.78 2.05 0 2.83L4 21.41c.39.39.9.59 1.41.59.51 0 1.02-.2 1.41-.59l7.78-7.78 2.81-2.81c.8-.78.8-2.07 0-2.86zM5.41 20L4 18.59l7.72-7.72 1.47 1.35L5.41 20z\"/>\n",
              "  </svg>\n",
              "      </button>\n",
              "      \n",
              "  <style>\n",
              "    .colab-df-container {\n",
              "      display:flex;\n",
              "      flex-wrap:wrap;\n",
              "      gap: 12px;\n",
              "    }\n",
              "\n",
              "    .colab-df-convert {\n",
              "      background-color: #E8F0FE;\n",
              "      border: none;\n",
              "      border-radius: 50%;\n",
              "      cursor: pointer;\n",
              "      display: none;\n",
              "      fill: #1967D2;\n",
              "      height: 32px;\n",
              "      padding: 0 0 0 0;\n",
              "      width: 32px;\n",
              "    }\n",
              "\n",
              "    .colab-df-convert:hover {\n",
              "      background-color: #E2EBFA;\n",
              "      box-shadow: 0px 1px 2px rgba(60, 64, 67, 0.3), 0px 1px 3px 1px rgba(60, 64, 67, 0.15);\n",
              "      fill: #174EA6;\n",
              "    }\n",
              "\n",
              "    [theme=dark] .colab-df-convert {\n",
              "      background-color: #3B4455;\n",
              "      fill: #D2E3FC;\n",
              "    }\n",
              "\n",
              "    [theme=dark] .colab-df-convert:hover {\n",
              "      background-color: #434B5C;\n",
              "      box-shadow: 0px 1px 3px 1px rgba(0, 0, 0, 0.15);\n",
              "      filter: drop-shadow(0px 1px 2px rgba(0, 0, 0, 0.3));\n",
              "      fill: #FFFFFF;\n",
              "    }\n",
              "  </style>\n",
              "\n",
              "      <script>\n",
              "        const buttonEl =\n",
              "          document.querySelector('#df-40112944-0b9e-4e2f-bd18-3ab9373aa7e1 button.colab-df-convert');\n",
              "        buttonEl.style.display =\n",
              "          google.colab.kernel.accessAllowed ? 'block' : 'none';\n",
              "\n",
              "        async function convertToInteractive(key) {\n",
              "          const element = document.querySelector('#df-40112944-0b9e-4e2f-bd18-3ab9373aa7e1');\n",
              "          const dataTable =\n",
              "            await google.colab.kernel.invokeFunction('convertToInteractive',\n",
              "                                                     [key], {});\n",
              "          if (!dataTable) return;\n",
              "\n",
              "          const docLinkHtml = 'Like what you see? Visit the ' +\n",
              "            '<a target=\"_blank\" href=https://colab.research.google.com/notebooks/data_table.ipynb>data table notebook</a>'\n",
              "            + ' to learn more about interactive tables.';\n",
              "          element.innerHTML = '';\n",
              "          dataTable['output_type'] = 'display_data';\n",
              "          await google.colab.output.renderOutput(dataTable, element);\n",
              "          const docLink = document.createElement('div');\n",
              "          docLink.innerHTML = docLinkHtml;\n",
              "          element.appendChild(docLink);\n",
              "        }\n",
              "      </script>\n",
              "    </div>\n",
              "  </div>\n",
              "  "
            ]
          },
          "metadata": {},
          "execution_count": 8
        }
      ]
    },
    {
      "cell_type": "markdown",
      "id": "6d95d196",
      "metadata": {
        "id": "6d95d196"
      },
      "source": [
        "### 시퀀스 data 생성\n",
        "\n",
        "훈련 데이터에서 `TIME_STEPS` 연속 데이터 값을 조합하여 시퀀스를 생성합니다."
      ]
    },
    {
      "cell_type": "code",
      "execution_count": 9,
      "id": "90e41997",
      "metadata": {
        "colab": {
          "base_uri": "https://localhost:8080/"
        },
        "id": "90e41997",
        "outputId": "aad02527-e323-413b-e640-a3d7a0dd654d"
      },
      "outputs": [
        {
          "output_type": "stream",
          "name": "stdout",
          "text": [
            "Training input shape:  (3745, 288, 1)\n"
          ]
        }
      ],
      "source": [
        "TIME_STEPS = 288\n",
        "\n",
        "# 모델에서 사용하기 위해 생성된 훈련 시퀀스\n",
        "def create_sequences(values, time_steps=TIME_STEPS):\n",
        "    output = []\n",
        "    for i in range(len(values) - time_steps + 1):\n",
        "        output.append(values[i : (i + time_steps)])\n",
        "    return np.stack(output)\n",
        "\n",
        "X_train = create_sequences(df_training_value.values)\n",
        "print(\"Training input shape: \", X_train.shape)"
      ]
    },
    {
      "cell_type": "markdown",
      "id": "c83b5276",
      "metadata": {
        "id": "c83b5276"
      },
      "source": [
        "## LSTM Autoencoder model \n",
        "\n",
        "\n",
        "<img src=\"https://www.researchgate.net/profile/Hoang_Duy_Trinh2/publication/336594630/figure/fig2/AS:814792885420033@1571273170513/LSTM-Autoencoder-for-Anomaly-Detection.png\" width=400 />\n",
        "\n",
        "- RepeatVector 이해  \n",
        "\n",
        "<img src=\"https://i.stack.imgur.com/LNXjF.jpg\" width=400 />"
      ]
    },
    {
      "cell_type": "code",
      "execution_count": 10,
      "id": "cd9f1402",
      "metadata": {
        "colab": {
          "base_uri": "https://localhost:8080/"
        },
        "id": "cd9f1402",
        "outputId": "74a265f9-e15d-45d9-95e0-2a9b26a63712"
      },
      "outputs": [
        {
          "output_type": "stream",
          "name": "stdout",
          "text": [
            "Model: \"sequential\"\n",
            "_________________________________________________________________\n",
            " Layer (type)                Output Shape              Param #   \n",
            "=================================================================\n",
            " lstm (LSTM)                 (None, 32)                4352      \n",
            "                                                                 \n",
            " dropout (Dropout)           (None, 32)                0         \n",
            "                                                                 \n",
            " repeat_vector (RepeatVector  (None, 288, 32)          0         \n",
            " )                                                               \n",
            "                                                                 \n",
            " dropout_1 (Dropout)         (None, 288, 32)           0         \n",
            "                                                                 \n",
            " lstm_1 (LSTM)               (None, 288, 32)           8320      \n",
            "                                                                 \n",
            " dense (Dense)               (None, 288, 1)            33        \n",
            "                                                                 \n",
            "=================================================================\n",
            "Total params: 12,705\n",
            "Trainable params: 12,705\n",
            "Non-trainable params: 0\n",
            "_________________________________________________________________\n"
          ]
        }
      ],
      "source": [
        "model = Sequential()\n",
        "model.add(LSTM(32, \n",
        "    input_shape=(X_train.shape[1], X_train.shape[2])))\n",
        "model.add(Dropout(0.2))\n",
        "model.add(RepeatVector(X_train.shape[1]))\n",
        "model.add(Dropout(0.2))\n",
        "model.add(LSTM(32, return_sequences=True))\n",
        "model.add(Dense(X_train.shape[2]))\n",
        "\n",
        "model.compile(optimizer='adam', loss='mse')\n",
        "model.summary()"
      ]
    },
    {
      "cell_type": "code",
      "execution_count": 11,
      "id": "c05f5e47",
      "metadata": {
        "colab": {
          "base_uri": "https://localhost:8080/",
          "height": 754
        },
        "id": "c05f5e47",
        "outputId": "2505f4dc-d63d-450a-8fa2-e683ad72d8dc"
      },
      "outputs": [
        {
          "output_type": "execute_result",
          "data": {
            "image/png": "[encoded data removed]",
            "text/plain": [
              "<IPython.core.display.Image object>"
            ]
          },
          "metadata": {},
          "execution_count": 11
        }
      ],
      "source": [
        "plot_model(model, show_shapes=True)"
      ]
    },
    {
      "cell_type": "markdown",
      "id": "euFaKLzB9eua",
      "metadata": {
        "id": "euFaKLzB9eua"
      },
      "source": [
        "## 모델 train\n",
        "\n",
        "재구성 모델이기 때문에 Input과 Target 모두 `X_train`을 사용합니다."
      ]
    },
    {
      "cell_type": "code",
      "execution_count": 12,
      "id": "31d5ae66",
      "metadata": {
        "colab": {
          "base_uri": "https://localhost:8080/"
        },
        "id": "31d5ae66",
        "outputId": "f7bd606b-3285-428d-afcb-09fdcd9d8fd8"
      },
      "outputs": [
        {
          "output_type": "stream",
          "name": "stdout",
          "text": [
            "Epoch 1/100\n",
            "27/27 [==============================] - 14s 53ms/step - loss: 0.9993 - val_loss: 1.0009\n",
            "Epoch 2/100\n",
            "27/27 [==============================] - 1s 22ms/step - loss: 0.9702 - val_loss: 0.9757\n",
            "Epoch 3/100\n",
            "27/27 [==============================] - 1s 22ms/step - loss: 0.9432 - val_loss: 0.9619\n",
            "Epoch 4/100\n",
            "27/27 [==============================] - 1s 22ms/step - loss: 0.9190 - val_loss: 0.9240\n",
            "Epoch 5/100\n",
            "27/27 [==============================] - 1s 22ms/step - loss: 0.8958 - val_loss: 0.8907\n",
            "Epoch 6/100\n",
            "27/27 [==============================] - 1s 22ms/step - loss: 0.8635 - val_loss: 0.8494\n",
            "Epoch 7/100\n",
            "27/27 [==============================] - 1s 22ms/step - loss: 0.8449 - val_loss: 0.8592\n",
            "Epoch 8/100\n",
            "27/27 [==============================] - 1s 21ms/step - loss: 0.8448 - val_loss: 0.8707\n",
            "Epoch 9/100\n",
            "27/27 [==============================] - 1s 22ms/step - loss: 0.8213 - val_loss: 0.7166\n",
            "Epoch 10/100\n",
            "27/27 [==============================] - 1s 21ms/step - loss: 0.6034 - val_loss: 0.6063\n",
            "Epoch 11/100\n",
            "27/27 [==============================] - 1s 23ms/step - loss: 0.4837 - val_loss: 0.4884\n",
            "Epoch 12/100\n",
            "27/27 [==============================] - 1s 21ms/step - loss: 0.9002 - val_loss: 1.0057\n",
            "Epoch 13/100\n",
            "27/27 [==============================] - 1s 21ms/step - loss: 0.8894 - val_loss: 0.9348\n",
            "Epoch 14/100\n",
            "27/27 [==============================] - 1s 21ms/step - loss: 0.8729 - val_loss: 0.9329\n",
            "Epoch 15/100\n",
            "27/27 [==============================] - 1s 21ms/step - loss: 0.8460 - val_loss: 0.8201\n",
            "Epoch 16/100\n",
            "27/27 [==============================] - 1s 22ms/step - loss: 0.7753 - val_loss: 0.7751\n",
            "Epoch 17/100\n",
            "27/27 [==============================] - 1s 21ms/step - loss: 0.7351 - val_loss: 0.7255\n",
            "Epoch 18/100\n",
            "27/27 [==============================] - 1s 21ms/step - loss: 0.6979 - val_loss: 0.6831\n",
            "Epoch 19/100\n",
            "27/27 [==============================] - 1s 21ms/step - loss: 0.6593 - val_loss: 0.6435\n",
            "Epoch 20/100\n",
            "27/27 [==============================] - 1s 22ms/step - loss: 0.6247 - val_loss: 0.5465\n",
            "Epoch 21/100\n",
            "27/27 [==============================] - 1s 21ms/step - loss: 0.6029 - val_loss: 0.5149\n"
          ]
        }
      ],
      "source": [
        "history = model.fit(\n",
        "    X_train, X_train,\n",
        "    epochs=100, batch_size=128, validation_split=0.1,\n",
        "    callbacks=[\n",
        "        tf.keras.callbacks.EarlyStopping(monitor=\"val_loss\", patience=10, mode=\"min\")\n",
        "    ]\n",
        ")"
      ]
    },
    {
      "cell_type": "code",
      "execution_count": 13,
      "id": "f99e2d39",
      "metadata": {
        "colab": {
          "base_uri": "https://localhost:8080/",
          "height": 265
        },
        "id": "f99e2d39",
        "outputId": "e4aed0c1-b51a-42e7-eb3d-fe3e975926e1"
      },
      "outputs": [
        {
          "output_type": "display_data",
          "data": {
            "text/plain": [
              "<Figure size 432x288 with 1 Axes>"
            ],
            "image/png": "[encoded data removed]"
          },
          "metadata": {
            "needs_background": "light"
          }
        }
      ],
      "source": [
        "plt.plot(history.history[\"loss\"], label=\"Training Loss\")\n",
        "plt.plot(history.history[\"val_loss\"], label=\"Validation Loss\")\n",
        "plt.legend()\n",
        "plt.show()"
      ]
    },
    {
      "cell_type": "markdown",
      "id": "ec797367",
      "metadata": {
        "id": "ec797367"
      },
      "source": [
        "## 이상 감지\n",
        "\n",
        "모델이 입력 데이터를 얼마나 잘 재구성할 수 있는지 결정하여 이상을 감지합니다.\n",
        "\n",
        "1.   훈련 샘플에서 MAE 손실을 찾습니다.\n",
        "2.   최대 MAE 손실 값을 찾습니다. 이것은 우리 모델이 샘플을 재구성하기 위해 수행한 최악의 작업입니다. 이를 이상 감지의 `threshold`로 설정합니다.\n",
        "3.   샘플의 재구성 손실이 이 `threshold` 보다 크면 모델이 익숙하지 않은 패턴을 보고 있다고 추론할 수 있습니다. 우리는 이 샘플을 `anomaly`로 분류할 것입니다."
      ]
    },
    {
      "cell_type": "markdown",
      "id": "rF7BSp1n9n7x",
      "metadata": {
        "id": "rF7BSp1n9n7x"
      },
      "source": [
        "- MAE 손실 시각화"
      ]
    },
    {
      "cell_type": "code",
      "execution_count": 14,
      "id": "5b93d8dd",
      "metadata": {
        "colab": {
          "base_uri": "https://localhost:8080/",
          "height": 298
        },
        "id": "5b93d8dd",
        "outputId": "a40ace29-5a3f-478f-dd6f-9243886ae431"
      },
      "outputs": [
        {
          "output_type": "stream",
          "name": "stdout",
          "text": [
            "118/118 [==============================] - 2s 9ms/step\n"
          ]
        },
        {
          "output_type": "display_data",
          "data": {
            "text/plain": [
              "<Figure size 432x288 with 1 Axes>"
            ],
            "image/png": "[encoded data removed]"
          },
          "metadata": {
            "needs_background": "light"
          }
        }
      ],
      "source": [
        "X_train_pred = model.predict(X_train)\n",
        "train_mae_loss = np.mean(np.abs(X_train_pred - X_train), axis=1)\n",
        "\n",
        "plt.hist(train_mae_loss, bins=50)\n",
        "plt.xlabel(\"Train MAE loss\")\n",
        "plt.ylabel(\"Number of samples\")\n",
        "plt.show()"
      ]
    },
    {
      "cell_type": "markdown",
      "id": "99981c70",
      "metadata": {
        "id": "99981c70"
      },
      "source": [
        "- train set의 최대 MAE 손실을 재구성 손실 임계값으로 정합니다."
      ]
    },
    {
      "cell_type": "code",
      "execution_count": 15,
      "id": "3f727e8f",
      "metadata": {
        "colab": {
          "base_uri": "https://localhost:8080/"
        },
        "id": "3f727e8f",
        "outputId": "7cae874a-6ceb-46f9-98b3-3635cff899a8"
      },
      "outputs": [
        {
          "output_type": "stream",
          "name": "stdout",
          "text": [
            "재구성 오류 임계값:  1.0838882160953736\n"
          ]
        }
      ],
      "source": [
        "threshold = np.max(train_mae_loss)\n",
        "print(\"재구성 오류 임계값: \", threshold)"
      ]
    },
    {
      "cell_type": "markdown",
      "id": "38bc6493",
      "metadata": {
        "id": "38bc6493"
      },
      "source": [
        "### 재구성 비교\n",
        "\n",
        "우리 모델이 첫 번째 샘플을 어떻게 재구성했는지 봅니다.\n",
        "이것은 훈련 데이터 세트 1일차의 288개 timestep 입니다."
      ]
    },
    {
      "cell_type": "code",
      "execution_count": 16,
      "id": "44a521b1",
      "metadata": {
        "colab": {
          "base_uri": "https://localhost:8080/",
          "height": 298
        },
        "id": "44a521b1",
        "outputId": "2eb2901d-a8b0-4b8a-995c-ed3d885dbedd"
      },
      "outputs": [
        {
          "output_type": "execute_result",
          "data": {
            "text/plain": [
              "<matplotlib.legend.Legend at 0x7fa2a5532e80>"
            ]
          },
          "metadata": {},
          "execution_count": 16
        },
        {
          "output_type": "display_data",
          "data": {
            "text/plain": [
              "<Figure size 432x288 with 1 Axes>"
            ],
            "image/png": "[encoded data removed]"
          },
          "metadata": {
            "needs_background": "light"
          }
        }
      ],
      "source": [
        "# 첫 번째 시퀀스가  어떻게 학습되었는지 확인\n",
        "plt.plot(X_train[0], label='Train set')\n",
        "plt.plot(X_train_pred[0], label='Reconstructed')\n",
        "plt.xlabel(\"Time Step\")\n",
        "plt.legend()"
      ]
    },
    {
      "cell_type": "markdown",
      "id": "F0NLUxR39ycF",
      "metadata": {
        "id": "F0NLUxR39ycF"
      },
      "source": [
        "### 테스트 데이터 준비\n",
        "- Test set을 standard scale   \n",
        "- 분포가 바뀌면 안되므로 Train set 에서 구해 놓았던 평균과 표준 편차를 그대로 사용\n",
        "- 시각화"
      ]
    },
    {
      "cell_type": "code",
      "execution_count": 17,
      "id": "fdfcf9d0",
      "metadata": {
        "colab": {
          "base_uri": "https://localhost:8080/",
          "height": 303
        },
        "id": "fdfcf9d0",
        "outputId": "c5ce705c-7007-46e7-a40b-8416aa9c40dd"
      },
      "outputs": [
        {
          "output_type": "display_data",
          "data": {
            "text/plain": [
              "<Figure size 432x288 with 1 Axes>"
            ],
            "image/png": "[encoded data removed]"
          },
          "metadata": {
            "needs_background": "light"
          }
        }
      ],
      "source": [
        "df_test_value = (df_daily_jumpsup - training_mean) / training_std\n",
        "fig, ax = plt.subplots()\n",
        "df_test_value.plot(legend=False, ax=ax)\n",
        "plt.show()"
      ]
    },
    {
      "cell_type": "markdown",
      "id": "4EygkaIv91Xo",
      "metadata": {
        "id": "4EygkaIv91Xo"
      },
      "source": [
        "- Test set에서 시퀀스 data 생성"
      ]
    },
    {
      "cell_type": "code",
      "execution_count": 18,
      "id": "a29e7309",
      "metadata": {
        "colab": {
          "base_uri": "https://localhost:8080/"
        },
        "id": "a29e7309",
        "outputId": "995e12fb-d57a-40a2-c3bc-83de7acc2979"
      },
      "outputs": [
        {
          "output_type": "stream",
          "name": "stdout",
          "text": [
            "Test input shape:  (3745, 288, 1)\n"
          ]
        }
      ],
      "source": [
        "x_test = create_sequences(df_test_value.values)\n",
        "print(\"Test input shape: \", x_test.shape)"
      ]
    },
    {
      "cell_type": "markdown",
      "id": "CKg4bAMe93iJ",
      "metadata": {
        "id": "CKg4bAMe93iJ"
      },
      "source": [
        "- test set의 MAE loss 구하기"
      ]
    },
    {
      "cell_type": "code",
      "execution_count": 19,
      "id": "4122b0ee",
      "metadata": {
        "id": "4122b0ee",
        "colab": {
          "base_uri": "https://localhost:8080/"
        },
        "outputId": "40fa6404-7ef5-4da9-ce2c-6620ee3adfd2"
      },
      "outputs": [
        {
          "output_type": "stream",
          "name": "stdout",
          "text": [
            "118/118 [==============================] - 1s 9ms/step\n"
          ]
        }
      ],
      "source": [
        "x_test_pred = model.predict(x_test)\n",
        "test_mae_loss = np.mean(np.abs(x_test_pred - x_test), axis=1)\n",
        "test_mae_loss = test_mae_loss.reshape((-1))"
      ]
    },
    {
      "cell_type": "markdown",
      "id": "0nmBASb495YG",
      "metadata": {
        "id": "0nmBASb495YG"
      },
      "source": [
        "- MAE 손실 시각화"
      ]
    },
    {
      "cell_type": "code",
      "execution_count": 20,
      "id": "4513ed98",
      "metadata": {
        "colab": {
          "base_uri": "https://localhost:8080/",
          "height": 279
        },
        "id": "4513ed98",
        "outputId": "5c402b7d-e4c7-4835-b6d0-9bf1d0a58073"
      },
      "outputs": [
        {
          "output_type": "display_data",
          "data": {
            "text/plain": [
              "<Figure size 432x288 with 1 Axes>"
            ],
            "image/png": "[encoded data removed]"
          },
          "metadata": {
            "needs_background": "light"
          }
        }
      ],
      "source": [
        "plt.hist(test_mae_loss, bins=50)\n",
        "plt.xlabel(\"test MAE loss\")\n",
        "plt.ylabel(\"No of samples\")\n",
        "plt.show()"
      ]
    },
    {
      "cell_type": "markdown",
      "id": "b4d44cf5",
      "metadata": {
        "id": "b4d44cf5"
      },
      "source": [
        "- 모든 이상 샘플 감지"
      ]
    },
    {
      "cell_type": "code",
      "execution_count": 21,
      "id": "e33ae140",
      "metadata": {
        "colab": {
          "base_uri": "https://localhost:8080/"
        },
        "id": "e33ae140",
        "outputId": "a84a5673-e958-4d94-efab-03baf6ae1dc2"
      },
      "outputs": [
        {
          "output_type": "stream",
          "name": "stdout",
          "text": [
            "이상 감지된 샘플 수:  363\n",
            "이상 감지된 샘플의 인덱스:  (array([ 790,  791,  792, 1942, 1943, 1944, 2519, 2520, 2734, 2735, 2736,\n",
            "       2737, 2738, 2739, 2740, 2741, 2742, 2743, 2744, 2745, 2746, 2747,\n",
            "       2748, 2749, 2750, 2751, 2752, 2753, 2754, 2755, 2756, 2757, 2758,\n",
            "       2759, 2760, 2761, 2762, 2763, 2764, 2765, 2766, 2767, 2768, 2769,\n",
            "       2770, 2771, 2772, 2773, 2774, 2775, 2776, 2777, 2778, 2779, 2780,\n",
            "       2781, 2782, 2783, 2784, 2785, 2786, 2787, 2788, 2789, 2790, 2791,\n",
            "       2792, 2793, 2794, 2795, 2796, 2797, 2798, 2799, 2800, 2801, 2802,\n",
            "       2803, 2804, 2805, 2806, 2807, 2808, 2809, 2810, 2811, 2812, 2813,\n",
            "       2814, 2815, 2816, 2817, 2818, 2819, 2820, 2821, 2822, 2823, 2824,\n",
            "       2825, 2826, 2827, 2828, 2829, 2830, 2831, 2832, 2833, 2834, 2835,\n",
            "       2836, 2837, 2838, 2839, 2840, 2841, 2842, 2843, 2844, 2845, 2846,\n",
            "       2847, 2848, 2849, 2850, 2851, 2852, 2853, 2854, 2855, 2856, 2857,\n",
            "       2858, 2859, 2860, 2861, 2862, 2863, 2864, 2865, 2866, 2867, 2868,\n",
            "       2869, 2870, 2871, 2872, 2873, 2874, 2875, 2876, 2877, 2878, 2879,\n",
            "       2880, 2881, 2882, 2883, 2884, 2885, 2886, 2887, 2888, 2889, 2890,\n",
            "       2891, 2892, 2893, 2894, 2895, 2896, 2897, 2898, 2899, 2900, 2901,\n",
            "       2902, 2903, 2904, 2905, 2906, 2907, 2908, 2909, 2910, 2911, 2912,\n",
            "       2913, 2914, 2915, 2916, 2917, 2918, 2919, 2920, 2921, 2922, 2923,\n",
            "       2924, 2925, 2926, 2927, 2928, 2929, 2930, 2931, 2932, 2933, 2934,\n",
            "       2935, 2936, 2937, 2938, 2939, 2940, 2941, 2942, 2943, 2944, 2945,\n",
            "       2946, 2947, 2948, 2949, 2950, 2951, 2952, 2953, 2954, 2955, 2956,\n",
            "       2957, 2958, 2959, 2960, 2961, 2962, 2963, 2964, 2965, 2966, 2967,\n",
            "       2968, 2969, 2970, 2971, 2972, 2973, 2974, 2975, 2976, 2977, 2978,\n",
            "       2979, 2980, 2981, 2982, 2983, 2984, 2985, 2986, 2987, 2988, 2989,\n",
            "       2990, 2991, 2992, 2993, 2994, 2995, 2996, 2997, 2998, 2999, 3000,\n",
            "       3001, 3002, 3003, 3004, 3005, 3006, 3007, 3008, 3009, 3010, 3011,\n",
            "       3012, 3013, 3014, 3015, 3016, 3017, 3018, 3019, 3020, 3021, 3022,\n",
            "       3023, 3024, 3025, 3026, 3027, 3028, 3029, 3030, 3031, 3032, 3033,\n",
            "       3034, 3035, 3036, 3037, 3038, 3039, 3040, 3041, 3042, 3043, 3044,\n",
            "       3045, 3046, 3047, 3048, 3049, 3050, 3051, 3052, 3053, 3054, 3055,\n",
            "       3056, 3057, 3058, 3059, 3060, 3061, 3062, 3063, 3064, 3065, 3066,\n",
            "       3067, 3068, 3069, 3070, 3071, 3072, 3073, 3074, 3075, 3076, 3080,\n",
            "       3081, 3082, 3083, 3084, 3085, 3086, 3087, 3088, 3089, 3090, 3091]),)\n"
          ]
        }
      ],
      "source": [
        "anomalies = test_mae_loss > threshold\n",
        "print(\"이상 감지된 샘플 수: \", np.sum(anomalies))\n",
        "print(\"이상 감지된 샘플의 인덱스: \", np.where(anomalies))"
      ]
    },
    {
      "cell_type": "markdown",
      "id": "TXgw7tUH-AUm",
      "metadata": {
        "id": "TXgw7tUH-AUm"
      },
      "source": [
        "## 이상치 plot\n",
        "\n",
        "이제 우리는 비정상 데이터 샘플을 알고 있습니다. 이를 통해 원본 테스트 데이터에서 해당 `timestamps`를 찾을 수 있습니다. 이를 위해 다음 방법을 사용할 것입니다.\n",
        "\n",
        "time_steps = 3이고 10개의 훈련 값이 있다고 가정해 보겠습니다. 우리의 `X_train`은 다음과 같이 보일 것입니다:\n",
        "\n",
        "- 0, 1, 2\n",
        "- 1, 2, 3\n",
        "- 2, 3, 4\n",
        "- 3, 4, 5\n",
        "- 4, 5, 6\n",
        "- 5, 6, 7\n",
        "- 6, 7, 8\n",
        "- 7, 8, 9\n",
        "\n",
        "초기 및 마지막 time_steps-1 데이터 값을 제외한 모든 값은 `time_steps` 샘플 수로 표시됩니다. 따라서 샘플 [(3, 4, 5), (4, 5, 6), (5, 6, 7)]이 비정상이라는 것을 안다면 데이터 포인트 5가 비정상이라고 말할 수 있습니다.  \n",
        "\n",
        "그러므로 `TIME_STEPS`기간 전체 샘플 `[(i - timesteps + 1) ~ (i)]`이 비정상인 경우 데이터 `i`는 비정상으로 분류할 수 있습니다."
      ]
    },
    {
      "cell_type": "code",
      "execution_count": 22,
      "id": "YvVkYX726pPs",
      "metadata": {
        "colab": {
          "base_uri": "https://localhost:8080/"
        },
        "id": "YvVkYX726pPs",
        "outputId": "e3c402b5-fccf-4383-c3c0-c1dd79047dbc"
      },
      "outputs": [
        {
          "output_type": "execute_result",
          "data": {
            "text/plain": [
              "True"
            ]
          },
          "metadata": {},
          "execution_count": 22
        }
      ],
      "source": [
        "index = 2754\n",
        "np.all(anomalies[index: 2754+TIME_STEPS])  # index => 비정상"
      ]
    },
    {
      "cell_type": "code",
      "execution_count": 23,
      "id": "cXVGiISb6rrc",
      "metadata": {
        "id": "cXVGiISb6rrc"
      },
      "outputs": [],
      "source": [
        "anomalous_data_indices = []\n",
        "\n",
        "for data_idx in range(TIME_STEPS - 1, len(df_test_value) - TIME_STEPS + 1):\n",
        "    if np.all(anomalies[data_idx - TIME_STEPS + 1 : data_idx]):\n",
        "        anomalous_data_indices.append(data_idx)"
      ]
    },
    {
      "cell_type": "markdown",
      "id": "p3Fz7pBa-C-8",
      "metadata": {
        "id": "p3Fz7pBa-C-8"
      },
      "source": [
        "원본 테스트 데이터 플롯에 이상치를 오버레이해 시각화"
      ]
    },
    {
      "cell_type": "code",
      "execution_count": 24,
      "id": "YVGlh_jg6tRl",
      "metadata": {
        "colab": {
          "base_uri": "https://localhost:8080/",
          "height": 303
        },
        "id": "YVGlh_jg6tRl",
        "outputId": "51e48791-311f-44f4-989c-3affe27b79b6"
      },
      "outputs": [
        {
          "output_type": "display_data",
          "data": {
            "text/plain": [
              "<Figure size 432x288 with 1 Axes>"
            ],
            "image/png": "[encoded data removed]"
          },
          "metadata": {
            "needs_background": "light"
          }
        }
      ],
      "source": [
        "df_subset = df_daily_jumpsup.iloc[anomalous_data_indices]\n",
        "\n",
        "fig, ax = plt.subplots()\n",
        "df_daily_jumpsup.plot(legend=False, ax=ax)\n",
        "df_subset.plot(legend=False, ax=ax, color=\"r\")\n",
        "plt.show()"
      ]
    },
    {
      "cell_type": "code",
      "execution_count": 24,
      "id": "1alS6wag6upE",
      "metadata": {
        "id": "1alS6wag6upE"
      },
      "outputs": [],
      "source": []
    }
  ],
  "metadata": {
    "accelerator": "GPU",
    "colab": {
      "provenance": [],
      "machine_shape": "hm"
    },
    "kernelspec": {
      "display_name": "Python 3 (ipykernel)",
      "language": "python",
      "name": "python3"
    },
    "language_info": {
      "codemirror_mode": {
        "name": "ipython",
        "version": 3
      },
      "file_extension": ".py",
      "mimetype": "text/x-python",
      "name": "python",
      "nbconvert_exporter": "python",
      "pygments_lexer": "ipython3",
      "version": "3.9.12"
    },
    "gpuClass": "standard"
  },
  "nbformat": 4,
  "nbformat_minor": 5
}