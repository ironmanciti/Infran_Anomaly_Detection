{
 "cells": [
  {
   "cell_type": "markdown",
   "metadata": {
    "id": "ltPJCG6pAUoc"
   },
   "source": [
    "# TFP Probabilistic Layers: Variational Auto Encoder"
   ]
  },
  {
   "cell_type": "markdown",
   "metadata": {
    "id": "WRVR-tGTR31S"
   },
   "source": [
    "2019 년 발표된 TensorFlow Probability(TFP) 레이어를 사용하여 간단하게 VAE(Variational Autoencoder)를 만듭니다.\n",
    "\n",
    "TFP 레이어는 Keras를 사용하여 심층 네트워크로 배포를 구성하기 위한 high-level API를 제공합니다. 이 API를 사용하면 딥러닝과 확률 프로그래밍을 결합한 모델을 쉽게 구축할 수 있습니다. 예를 들어, 심층 네트워크의 출력으로 확률 분포를 매개변수화할 수 있습니다.   \n",
    "\n",
    "### Variational Autoencoder와 ELBO\n",
    "VAE(Variational Autoencoder)는 collaborative filtering, 이미지 압축, 강화 학습, 음악 및 스케치 생성 등 다양한 영역에서 사용되는 인기 있는 생성 모델입니다.  \n",
    "\n",
    "MNIST 같은 숫자를 그리는 과정에서 우리는 잠재 변수 생성 모델과 같이 데이터를 생성하는 일부 프로세스를 머리 속으로 상상합니다. 숫자를 그리기 전에 먼저 그릴 숫자를 결정하고 머릿속에 흐릿한 그림을 상상한다고 가정해 보겠습니다. 그런 다음 종이에 펜을 대고 실제 세계에서 그림을 만들어 봅니다. 이 두 단계 프로세스를  다음과 같이 공식화할 수 있습니다.  \n",
    "\n",
    "1. 어떤 사전 분포 z ~ p(z)에서 어떤 잠재 표현 z를 샘플링합니다. 이것은 당신의 머리에 있는 흐릿한 그림입니다. \"3\"이라고 가정해 봅시다.  \n",
    "2. 샘플을 기반으로 확률적 프로세스 x ~ p(x|z)로 모델링된 실제 그림 표현 x를 그립니다. 이렇게 하면 \"3\"을 쓸 때마다 조금씩 다르게 보입니다.  \n",
    "\n",
    "손으로 글자를 쓸 때 같은 사람이 그려도 조금씩 달라지는 원인의 일부는 MNIST 숫자의 클래스 고유의 신호에 기인하고 다른 일부는 노이즈로 인한 것입니다. VAE는 두 프로세스의 명시적 모델을 사용하여 노이즈에서 신호를 분리하려는 시도입니다.  \n",
    "\n",
    "이 목표를 훈련하기 위해 ELBO(Evidence Lower BOund) 목적함수를 최대화합니다.  \n",
    "\n",
    "$$ELBO(x)=\\int{dz}q(z|x)log{p(x|z)} + \\int{dz}q(z|x)log{\\frac{q(z|x)}{p(z)}}$$\n",
    "\n",
    "여기서 3 가지 확률 밀도 함수는;\n",
    "- $p(z)$ - 잠재 표현 z 의 prior  \n",
    "- $q(z|x)$ - variational encoder  \n",
    "- $p(x|z)$ - decoder (잠재 표현 z가 주어질 때 image x 의 가능도)  \n",
    "\n",
    "ELBO는 관찰된 데이터 포인트의 로그 확률인 $log{p(x)}$의 하한입니다. ELBO 방정식의 첫 번째 적분은 재구성 항입니다. 그것은 우리가 이미지 x에서 시작하여 z로 인코딩하고 디코딩하고 원래 x를 다시 가져올 가능성을 묻습니다. 두 번째 항은 KL Divergence 항입니다. 인코더와 prior가 얼마나 가까운지를 측정합니다. 이 항은 인코더를 정직하게 유지하려는 것으로 생각할 수 있습니다. 인코더가 prior에 전혀 있을 것 같지 않은 z개의 샘플을 생성하는 경우 object는 prior와 비슷한 z개의 샘플을 생성하는 경우보다 나쁩니다. 따라서 인코더는 비용이 재구성 항의 이점보다 더 큰 경우에만 prior와 달라야 합니다.\n",
    "\n",
    "### Code\n",
    "위의 설명에 따라 세 가지 다른 구성 요소를 개별적으로 모델링하는 것이 타당하다는 것을 알 수 있습니다.   \n",
    "\n",
    "Pior - $p(z)$   \n",
    "Autoencoder - $q(z|x)$  \n",
    "Decoder - $p(x|z)$"
   ]
  },
  {
   "cell_type": "code",
   "execution_count": 1,
   "metadata": {
    "id": "7WhgxRSnA9gr"
   },
   "outputs": [],
   "source": [
    "#!pip install tensorflow_datasets"
   ]
  },
  {
   "cell_type": "code",
   "execution_count": 2,
   "metadata": {
    "id": "kZ0MdF1j8WJf"
   },
   "outputs": [],
   "source": [
    "import numpy as np\n",
    "import seaborn as sns\n",
    "import time\n",
    "import tensorflow_datasets as tfds\n",
    "import tensorflow_probability as tfp\n",
    "import tensorflow as tf\n",
    "from tensorflow.keras.layers import InputLayer, Conv2D, Flatten, Dense, \\\n",
    "                                                         Lambda, Reshape, Conv2DTranspose\n",
    "tfd = tfp.distributions\n",
    "tfpl = tfp.layers"
   ]
  },
  {
   "cell_type": "markdown",
   "metadata": {
    "id": "N8Shtn_e99XC"
   },
   "source": [
    "### Load Dataset"
   ]
  },
  {
   "cell_type": "code",
   "execution_count": 3,
   "metadata": {
    "id": "daPl6ycN9cD3"
   },
   "outputs": [],
   "source": [
    "datasets, datasets_info = tfds.load(name='mnist',\n",
    "                                    with_info=True,\n",
    "                                    as_supervised=False)\n",
    "\n",
    "def _preprocess(sample):\n",
    "    image = tf.cast(sample['image'], tf.float32) / 255.  # Scale to unit interval.\n",
    "    image = image < tf.random.uniform(tf.shape(image))   # Randomly binarize.\n",
    "    return image, image\n",
    "\n",
    "train_dataset = (datasets['train']\n",
    "                 .map(_preprocess)\n",
    "                 .batch(256)\n",
    "                 .prefetch(tf.data.experimental.AUTOTUNE)\n",
    "                 .shuffle(int(10e3)))\n",
    "test_dataset = (datasets['test']\n",
    "                .map(_preprocess)\n",
    "                .batch(256)\n",
    "                .prefetch(tf.data.experimental.AUTOTUNE))"
   ]
  },
  {
   "cell_type": "markdown",
   "metadata": {
    "id": "ZPKblOe58Hql"
   },
   "source": [
    "위의 _preprocess()는 Keras가 (example, label) 입력 형식 (예 : $p_\\theta(y|x)$)을 사용하는 discriminative model 용으로 설정되었기 때문에 `image`가 아닌 `image, image`를 반환합니다. VAE의 목표는 x 자체 (예 : $p_\\theta(x|x)$)에서 입력 x를 복구하는 것이므로 데이터 쌍은 (example, example)입니다."
   ]
  },
  {
   "cell_type": "code",
   "execution_count": 4,
   "metadata": {
    "colab": {
     "base_uri": "https://localhost:8080/"
    },
    "id": "cGaLmdt7GvVG",
    "outputId": "9e7d0e43-20a2-45d4-cc11-51ce55da77ce"
   },
   "outputs": [
    {
     "data": {
      "text/plain": [
       "(<ShuffleDataset element_spec=(TensorSpec(shape=(None, 28, 28, 1), dtype=tf.bool, name=None), TensorSpec(shape=(None, 28, 28, 1), dtype=tf.bool, name=None))>,\n",
       " <PrefetchDataset element_spec=(TensorSpec(shape=(None, 28, 28, 1), dtype=tf.bool, name=None), TensorSpec(shape=(None, 28, 28, 1), dtype=tf.bool, name=None))>)"
      ]
     },
     "execution_count": 4,
     "metadata": {},
     "output_type": "execute_result"
    }
   ],
   "source": [
    "train_dataset, test_dataset"
   ]
  },
  {
   "cell_type": "markdown",
   "metadata": {
    "id": "CI-VFyp8-BIa"
   },
   "source": [
    "### VAE Code"
   ]
  },
  {
   "cell_type": "markdown",
   "metadata": {
    "id": "TfsLCsjTE-BB"
   },
   "source": [
    "### Prior - latent representation z 은 isotropic Gaussian (등방성 가우시안 분포) 로 가정 \n",
    "\n",
    "- Covariance가 identity matrix의 scala 배"
   ]
  },
  {
   "cell_type": "code",
   "execution_count": 5,
   "metadata": {
    "id": "9d7Jbm66FN_u"
   },
   "outputs": [],
   "source": [
    "encoded_size = 16\n",
    "prior = tfd.Independent(tfd.Normal(loc=tf.zeros(encoded_size), scale=1),\n",
    "                                     reinterpreted_batch_ndims=1)"
   ]
  },
  {
   "cell_type": "markdown",
   "metadata": {
    "id": "AZai090oCUOR"
   },
   "source": [
    "- prior 의 분포 시각화"
   ]
  },
  {
   "cell_type": "code",
   "execution_count": 6,
   "metadata": {
    "id": "d3aPVSxBA9gx"
   },
   "outputs": [],
   "source": [
    "# ind = tfd.Independent(\n",
    "#     distribution=tfd.Normal(loc=tf.zeros(encoded_size), scale=1),\n",
    "#     reinterpreted_batch_ndims=1)\n",
    "\n",
    "# print(ind.mean(), ind.stddev())\n",
    "\n",
    "# # 2d 구형 Gaussian 의 approximate density contour 를 plot\n",
    "# N = 1000\n",
    "# x = ind.sample(N)\n",
    "# print(x.shape)\n",
    "\n",
    "# x1 = x[:, 0]\n",
    "# x2 = x[:, 1]\n",
    "# sns.jointplot(x=x1, y=x2, kind = 'kde', space = 0)"
   ]
  },
  {
   "cell_type": "markdown",
   "metadata": {
    "id": "79E_dlAaCdfu"
   },
   "source": [
    "- 공분산 행렬 시각화"
   ]
  },
  {
   "cell_type": "code",
   "execution_count": 7,
   "metadata": {
    "id": "cnabqcrVA9gx"
   },
   "outputs": [],
   "source": [
    "# mu = [0., 0.]  # mean\n",
    "# scale_tril = [[1.,  0.], [0.6, 0.8]]  # covariance\n",
    "# tril = tfd.MultivariateNormalTriL(loc = mu, scale_tril = scale_tril)\n",
    "# print(tril.mean(), tril.covariance())\n",
    "\n",
    "# x = tril.sample(N)\n",
    "# x1 = x[:, 0]\n",
    "# x2 = x[:, 1]\n",
    "# sns.jointplot(x=x1, y=x2, kind = 'kde', space = 0, color = 'r')"
   ]
  },
  {
   "cell_type": "markdown",
   "metadata": {
    "id": "2oMVyDMTGJ-e"
   },
   "source": [
    "## Encoder\n",
    "인코더 분포의 경우 신경망의 출력으로 매개 변수화된 평균 및 공분산 행렬과 함께 완전 공분산 가우스 분포를 사용합니다. 복잡하게 들릴 수 있지만 TFP 레이어로 표현하는 것은 매우 쉽습니다.  \n",
    "\n",
    "인코더는 컨볼루션과 Dense 레이어로 구성된 일반적인 Keras Sequential 모델일 뿐 이지만 출력은 TFP 레이어인 MultivariateNormalTril()로 전달되어 최종 Dense() 레이어의 activaton을 mean 과 Multivariate Normal의 parameter인 (하삼각형) covariance matrix를 둘 다 지정하는데 필요한 부분으로 명확히 분할합니다.   \n",
    "`tfpl.MultivariateNormalTriL.params_size(encoded_size)`를 Dense() layer output을 정확히 만들기 위해 사용합니다.\n",
    "\n",
    "마지막으로 우리는 분포가 최종 손실에 \"정규화\" 항을 제공해야 한다고 말했습니다. 특히, encoder와 loss 에 대한 prior 사이에 KL Divergence를 추가합니다. ELBO의 KL 항 입니다. "
   ]
  },
  {
   "cell_type": "code",
   "execution_count": 8,
   "metadata": {
    "colab": {
     "base_uri": "https://localhost:8080/"
    },
    "id": "vujZvbJpBnv5",
    "outputId": "f7983608-6454-4310-f739-e0e0ff61a03f"
   },
   "outputs": [
    {
     "data": {
      "text/plain": [
       "(28, 28, 1)"
      ]
     },
     "execution_count": 8,
     "metadata": {},
     "output_type": "execute_result"
    }
   ],
   "source": [
    "input_shape = datasets_info.features['image'].shape\n",
    "input_shape"
   ]
  },
  {
   "cell_type": "code",
   "execution_count": 9,
   "metadata": {
    "id": "eRHjRtAL-e33"
   },
   "outputs": [],
   "source": [
    "base_depth = 32\n",
    "\n",
    "encoder = tf.keras.Sequential([\n",
    "    InputLayer(input_shape=input_shape),\n",
    "    Lambda(lambda x: tf.cast(x, tf.float32) - 0.5),\n",
    "    Conv2D(base_depth, 5, strides=1,\n",
    "                padding='same', activation=tf.nn.leaky_relu),\n",
    "    Conv2D(base_depth, 5, strides=2,\n",
    "                padding='same', activation=tf.nn.leaky_relu),\n",
    "    Conv2D(2 * base_depth, 5, strides=1,\n",
    "                padding='same', activation=tf.nn.leaky_relu),\n",
    "    Conv2D(2 * base_depth, 5, strides=2,\n",
    "                padding='same', activation=tf.nn.leaky_relu),\n",
    "    Conv2D(4 * encoded_size, 7, strides=1,\n",
    "                padding='valid', activation=tf.nn.leaky_relu),\n",
    "    Flatten(),\n",
    "    Dense(tfpl.MultivariateNormalTriL.params_size(encoded_size),\n",
    "               activation=None),  \n",
    "    tfpl.MultivariateNormalTriL(\n",
    "        encoded_size,\n",
    "        activity_regularizer=tfpl.KLDivergenceRegularizer(prior)),\n",
    "])"
   ]
  },
  {
   "cell_type": "code",
   "execution_count": 10,
   "metadata": {
    "colab": {
     "base_uri": "https://localhost:8080/"
    },
    "id": "DgSLVvTsnUfS",
    "outputId": "bb320598-31a8-45ec-f592-7de56c4e18be"
   },
   "outputs": [
    {
     "data": {
      "text/plain": [
       "152"
      ]
     },
     "execution_count": 10,
     "metadata": {},
     "output_type": "execute_result"
    }
   ],
   "source": [
    "tfpl.MultivariateNormalTriL.params_size(encoded_size)"
   ]
  },
  {
   "cell_type": "markdown",
   "metadata": {
    "id": "JWHNRQaDHJ6_"
   },
   "source": [
    "## Decoder\n",
    "단순한 `mean-field-decoder`를 사용합니다. 이 경우 pixel-dependent한 Bernoulli 분포 입니다."
   ]
  },
  {
   "cell_type": "code",
   "execution_count": 11,
   "metadata": {
    "id": "baP--pt6-ewK"
   },
   "outputs": [],
   "source": [
    "decoder = tf.keras.Sequential([\n",
    "    InputLayer(input_shape=[encoded_size]),\n",
    "    Reshape([1, 1, encoded_size]),\n",
    "    Conv2DTranspose(2 * base_depth, 7, strides=1,\n",
    "                         padding='valid', activation=tf.nn.leaky_relu),\n",
    "    Conv2DTranspose(2 * base_depth, 5, strides=1,\n",
    "                         padding='same', activation=tf.nn.leaky_relu),\n",
    "    Conv2DTranspose(2 * base_depth, 5, strides=2,\n",
    "                         padding='same', activation=tf.nn.leaky_relu),\n",
    "    Conv2DTranspose(base_depth, 5, strides=1,\n",
    "                         padding='same', activation=tf.nn.leaky_relu),\n",
    "    Conv2DTranspose(base_depth, 5, strides=2,\n",
    "                         padding='same', activation=tf.nn.leaky_relu),\n",
    "    Conv2DTranspose(base_depth, 5, strides=1,\n",
    "                         padding='same', activation=tf.nn.leaky_relu),\n",
    "    Conv2D(filters=1, kernel_size=5, strides=1,\n",
    "                padding='same', activation=None),\n",
    "    Flatten(),\n",
    "    tfpl.IndependentBernoulli(input_shape, tfd.Bernoulli.logits),\n",
    "])"
   ]
  },
  {
   "cell_type": "code",
   "execution_count": 12,
   "metadata": {
    "id": "7itugvZVLyWL"
   },
   "outputs": [],
   "source": [
    "vae = tf.keras.Model(inputs=encoder.inputs,\n",
    "                outputs=decoder(encoder.outputs[0]))"
   ]
  },
  {
   "cell_type": "markdown",
   "metadata": {
    "id": "-ckYuzfILkVb"
   },
   "source": [
    "## Loss\n",
    "\n",
    "이미 KL 항이 loss 에 더해졌으므로 reconstruction error 만 지정하면 됩니다. (ELBO 의 첫번째 항)\n",
    "\n",
    "loss function 은 original input x 와 model 의 output 두개의 인수를 받습니다. random variable이므로 rv_x로 부릅니다. keras와 tensorflow가 TFP layer를 출력 tensor로 보더라도, TFP layer는 실제로는 Distribution object 입니다. 따라서, loss function을 주어진 model에서 data 의 negative log likelihood (-rv_x.log_prob(x))로 만들 수 있습니다. "
   ]
  },
  {
   "cell_type": "code",
   "execution_count": 13,
   "metadata": {
    "colab": {
     "base_uri": "https://localhost:8080/"
    },
    "id": "e7f1u-Ya-axQ",
    "outputId": "dbd3d35e-e2ba-43ad-d2bb-0cadf3b90dd5"
   },
   "outputs": [
    {
     "name": "stdout",
     "output_type": "stream",
     "text": [
      "Epoch 1/30\n",
      "235/235 [==============================] - 35s 44ms/step - loss: 203.3555 - val_loss: 158.9863\n",
      "Epoch 2/30\n",
      "235/235 [==============================] - 13s 37ms/step - loss: 150.3750 - val_loss: 143.4304\n",
      "Epoch 3/30\n",
      "235/235 [==============================] - 13s 38ms/step - loss: 140.0791 - val_loss: 136.4566\n",
      "Epoch 4/30\n",
      "235/235 [==============================] - 13s 38ms/step - loss: 134.3950 - val_loss: 132.2134\n",
      "Epoch 5/30\n",
      "235/235 [==============================] - 13s 39ms/step - loss: 130.5199 - val_loss: 128.4751\n",
      "Epoch 6/30\n",
      "235/235 [==============================] - 13s 37ms/step - loss: 128.3064 - val_loss: 126.7067\n",
      "Epoch 7/30\n",
      "235/235 [==============================] - 13s 38ms/step - loss: 126.4891 - val_loss: 124.2740\n",
      "Epoch 8/30\n",
      "235/235 [==============================] - 13s 37ms/step - loss: 124.4144 - val_loss: 122.3950\n",
      "Epoch 9/30\n",
      "235/235 [==============================] - 13s 38ms/step - loss: 122.9773 - val_loss: 121.7341\n",
      "Epoch 10/30\n",
      "235/235 [==============================] - 13s 38ms/step - loss: 121.8324 - val_loss: 120.8505\n",
      "Epoch 11/30\n",
      "235/235 [==============================] - 13s 37ms/step - loss: 120.9796 - val_loss: 120.4933\n",
      "Epoch 12/30\n",
      "235/235 [==============================] - 13s 37ms/step - loss: 120.2716 - val_loss: 119.5044\n",
      "Epoch 13/30\n",
      "235/235 [==============================] - 13s 38ms/step - loss: 119.7033 - val_loss: 118.9147\n",
      "Epoch 14/30\n",
      "235/235 [==============================] - 13s 37ms/step - loss: 119.1142 - val_loss: 118.8672\n",
      "Epoch 15/30\n",
      "235/235 [==============================] - 13s 38ms/step - loss: 118.8366 - val_loss: 118.6075\n",
      "Epoch 16/30\n",
      "235/235 [==============================] - 13s 38ms/step - loss: 118.3651 - val_loss: 118.1736\n",
      "Epoch 17/30\n",
      "235/235 [==============================] - 13s 37ms/step - loss: 118.0542 - val_loss: 117.8793\n",
      "Epoch 18/30\n",
      "235/235 [==============================] - 13s 38ms/step - loss: 117.7531 - val_loss: 117.9414\n",
      "Epoch 19/30\n",
      "235/235 [==============================] - 13s 38ms/step - loss: 117.5200 - val_loss: 116.9357\n",
      "Epoch 20/30\n",
      "235/235 [==============================] - 13s 38ms/step - loss: 117.2751 - val_loss: 117.3346\n",
      "Epoch 21/30\n",
      "235/235 [==============================] - 13s 37ms/step - loss: 116.9549 - val_loss: 116.6408\n",
      "Epoch 22/30\n",
      "235/235 [==============================] - 13s 38ms/step - loss: 116.7296 - val_loss: 117.0209\n",
      "Epoch 23/30\n",
      "235/235 [==============================] - 13s 38ms/step - loss: 116.4980 - val_loss: 116.2960\n",
      "Epoch 24/30\n",
      "235/235 [==============================] - 13s 38ms/step - loss: 116.3631 - val_loss: 116.5909\n",
      "Epoch 25/30\n",
      "235/235 [==============================] - 13s 38ms/step - loss: 116.1504 - val_loss: 116.5944\n",
      "Epoch 26/30\n",
      "235/235 [==============================] - 13s 37ms/step - loss: 115.9462 - val_loss: 116.1923\n",
      "Epoch 27/30\n",
      "235/235 [==============================] - 13s 38ms/step - loss: 115.8541 - val_loss: 115.8532\n",
      "Epoch 28/30\n",
      "235/235 [==============================] - 13s 38ms/step - loss: 115.7498 - val_loss: 115.6653\n",
      "Epoch 29/30\n",
      "235/235 [==============================] - 13s 38ms/step - loss: 115.5639 - val_loss: 116.0712\n",
      "Epoch 30/30\n",
      "235/235 [==============================] - 13s 38ms/step - loss: 115.4137 - val_loss: 115.7000\n"
     ]
    }
   ],
   "source": [
    "s = time.time()\n",
    "\n",
    "negative_log_likelihood = lambda x, rv_x: -rv_x.log_prob(x)\n",
    "\n",
    "vae.compile(optimizer=tf.optimizers.Adam(learning_rate=1e-3),\n",
    "            loss=negative_log_likelihood)\n",
    "\n",
    "_ = vae.fit(train_dataset,\n",
    "            epochs=30,\n",
    "            validation_data=test_dataset)"
   ]
  },
  {
   "cell_type": "code",
   "execution_count": 14,
   "metadata": {
    "colab": {
     "base_uri": "https://localhost:8080/"
    },
    "id": "Oq4nJWNCDtSP",
    "outputId": "9dd0dc0d-e462-4dd7-8d2a-6ba028ae1c4a"
   },
   "outputs": [
    {
     "name": "stdout",
     "output_type": "stream",
     "text": [
      "Colab 소요 시간(분) :  9.032832026481628\n"
     ]
    }
   ],
   "source": [
    "print(\"Colab 소요 시간(분) : \", (time.time() - s) / 60)"
   ]
  },
  {
   "cell_type": "markdown",
   "metadata": {
    "id": "8phRwAd-jwv6"
   },
   "source": [
    "## original image 를 vae network 을 통과시켜 얻은 distribution object 로 image sampling"
   ]
  },
  {
   "cell_type": "code",
   "execution_count": 15,
   "metadata": {
    "colab": {
     "base_uri": "https://localhost:8080/"
    },
    "id": "3ZqfOYMP_2p_",
    "outputId": "12968966-23fe-4d02-d8d3-2964d84e50c3"
   },
   "outputs": [
    {
     "name": "stdout",
     "output_type": "stream",
     "text": [
      "(10, 28, 28, 1)\n",
      "tfp.distributions._TensorCoercible(\"tensor_coercible\", batch_shape=[10], event_shape=[28, 28, 1], dtype=float32)\n"
     ]
    }
   ],
   "source": [
    "#무작위 숫자 10개만 조사하겠습니다.\n",
    "x = next(iter(test_dataset))[0][:10]\n",
    "xhat = vae(x)\n",
    "print(x.shape)\n",
    "assert isinstance(xhat, tfd.Distribution)\n",
    "print(xhat)"
   ]
  },
  {
   "cell_type": "markdown",
   "metadata": {
    "id": "LkvqEcRYac4R"
   },
   "source": [
    "시각화 도우미 함수"
   ]
  },
  {
   "cell_type": "code",
   "execution_count": 16,
   "metadata": {
    "id": "MM7wW4S2OrBt"
   },
   "outputs": [],
   "source": [
    "import matplotlib.pyplot as plt\n",
    "\n",
    "def display_imgs(x, y=None):\n",
    "    if not isinstance(x, (np.ndarray, np.generic)):\n",
    "        x = np.array(x)\n",
    "    n = x.shape[0]\n",
    "    fig, axs = plt.subplots(1, n, figsize=(n, 1))\n",
    "    if y is not None:\n",
    "        fig.suptitle(np.argmax(y, axis=1))\n",
    "    for i in range(n):\n",
    "        axs.flat[i].imshow(x[i].squeeze(), interpolation='none', cmap='gray')\n",
    "        axs.flat[i].axis('off')\n",
    "    plt.show()\n",
    "    plt.close()\n",
    "    plt.ion()"
   ]
  },
  {
   "cell_type": "code",
   "execution_count": 17,
   "metadata": {
    "colab": {
     "base_uri": "https://localhost:8080/"
    },
    "id": "z7wyT8tLiCrS",
    "outputId": "6b52c2cd-b5eb-498d-f5f6-8d224969784a"
   },
   "outputs": [
    {
     "data": {
      "text/plain": [
       "(TensorShape([10, 28, 28, 1]),\n",
       " TensorShape([10, 28, 28, 1]),\n",
       " TensorShape([10, 28, 28, 1]))"
      ]
     },
     "execution_count": 17,
     "metadata": {},
     "output_type": "execute_result"
    }
   ],
   "source": [
    "xhat.sample().shape, xhat.mode().shape, xhat.mean().shape"
   ]
  },
  {
   "cell_type": "code",
   "execution_count": 18,
   "metadata": {
    "colab": {
     "base_uri": "https://localhost:8080/",
     "height": 337
    },
    "id": "ow7rfh6YLLx1",
    "outputId": "f33602d4-eb52-4dc4-d257-ff8fb40d2781"
   },
   "outputs": [
    {
     "name": "stdout",
     "output_type": "stream",
     "text": [
      "무작위로 고른 Original Image:\n"
     ]
    },
    {
     "data": {
      "image/png": "[encoded data removed]",
      "text/plain": [
       "<Figure size 720x72 with 10 Axes>"
      ]
     },
     "metadata": {
      "needs_background": "light"
     },
     "output_type": "display_data"
    },
    {
     "name": "stdout",
     "output_type": "stream",
     "text": [
      "Decoded 분포에서 무작위 sample:\n"
     ]
    },
    {
     "data": {
      "image/png": "[encoded data removed]",
      "text/plain": [
       "<Figure size 720x72 with 10 Axes>"
      ]
     },
     "metadata": {
      "needs_background": "light"
     },
     "output_type": "display_data"
    },
    {
     "name": "stdout",
     "output_type": "stream",
     "text": [
      "Decoded 분포의 최빈값:\n"
     ]
    },
    {
     "data": {
      "image/png": "[encoded data removed]",
      "text/plain": [
       "<Figure size 720x72 with 10 Axes>"
      ]
     },
     "metadata": {
      "needs_background": "light"
     },
     "output_type": "display_data"
    },
    {
     "name": "stdout",
     "output_type": "stream",
     "text": [
      "Decoded 분포의 평균값:\n"
     ]
    },
    {
     "data": {
      "image/png": "[encoded data removed]",
      "text/plain": [
       "<Figure size 720x72 with 10 Axes>"
      ]
     },
     "metadata": {
      "needs_background": "light"
     },
     "output_type": "display_data"
    }
   ],
   "source": [
    "print('무작위로 고른 Original Image:')\n",
    "display_imgs(x)\n",
    "\n",
    "print('Decoded 분포에서 무작위 sample:')\n",
    "display_imgs(xhat.sample())\n",
    "\n",
    "print('Decoded 분포의 최빈값:')\n",
    "display_imgs(xhat.mode())\n",
    "\n",
    "print('Decoded 분포의 평균값:')\n",
    "display_imgs(xhat.mean())"
   ]
  },
  {
   "cell_type": "markdown",
   "metadata": {
    "id": "72LqsAD9jFaJ"
   },
   "source": [
    "## original image 가 아니라 prior 에서 sampling 한 latent variable 로 image 생성"
   ]
  },
  {
   "cell_type": "code",
   "execution_count": 19,
   "metadata": {
    "colab": {
     "base_uri": "https://localhost:8080/"
    },
    "id": "C3_5HPUCQpYO",
    "outputId": "b029b8ad-e43b-4d86-e003-cbae26f5064d"
   },
   "outputs": [
    {
     "name": "stdout",
     "output_type": "stream",
     "text": [
      "tfp.distributions._TensorCoercible(\"tensor_coercible\", batch_shape=[10], event_shape=[28, 28, 1], dtype=float32)\n"
     ]
    }
   ],
   "source": [
    "z = prior.sample(10)\n",
    "xtilde = decoder(z)\n",
    "print(xtilde)\n",
    "assert isinstance(xtilde, tfd.Distribution)"
   ]
  },
  {
   "cell_type": "code",
   "execution_count": 20,
   "metadata": {
    "colab": {
     "base_uri": "https://localhost:8080/",
     "height": 257
    },
    "id": "_jMPwz8r9pYX",
    "outputId": "45d8b379-d432-459d-93b9-8ba101028e64"
   },
   "outputs": [
    {
     "name": "stdout",
     "output_type": "stream",
     "text": [
      "Randomly Generated Samples:\n"
     ]
    },
    {
     "data": {
      "image/png": "[encoded data removed]",
      "text/plain": [
       "<Figure size 720x72 with 10 Axes>"
      ]
     },
     "metadata": {
      "needs_background": "light"
     },
     "output_type": "display_data"
    },
    {
     "name": "stdout",
     "output_type": "stream",
     "text": [
      "Randomly Generated Modes:\n"
     ]
    },
    {
     "data": {
      "image/png": "[encoded data removed]",
      "text/plain": [
       "<Figure size 720x72 with 10 Axes>"
      ]
     },
     "metadata": {
      "needs_background": "light"
     },
     "output_type": "display_data"
    },
    {
     "name": "stdout",
     "output_type": "stream",
     "text": [
      "Randomly Generated Means:\n"
     ]
    },
    {
     "data": {
      "image/png": "[encoded data removed]",
      "text/plain": [
       "<Figure size 720x72 with 10 Axes>"
      ]
     },
     "metadata": {
      "needs_background": "light"
     },
     "output_type": "display_data"
    }
   ],
   "source": [
    "print('Randomly Generated Samples:')\n",
    "display_imgs(xtilde.sample())\n",
    "\n",
    "print('Randomly Generated Modes:')\n",
    "display_imgs(xtilde.mode())\n",
    "\n",
    "print('Randomly Generated Means:')\n",
    "display_imgs(xtilde.mean())"
   ]
  },
  {
   "cell_type": "markdown",
   "metadata": {
    "id": "m5QJVGFIppk2"
   },
   "source": [
    "###  latent variable 시각화"
   ]
  },
  {
   "cell_type": "code",
   "execution_count": 21,
   "metadata": {
    "id": "k7f_fvSYmV3j"
   },
   "outputs": [],
   "source": [
    "z = encoder(x)"
   ]
  },
  {
   "cell_type": "code",
   "execution_count": 22,
   "metadata": {
    "colab": {
     "base_uri": "https://localhost:8080/"
    },
    "id": "TKlm3N-MDK9u",
    "outputId": "bd038163-a52f-4524-9cbd-8c9e7147309b"
   },
   "outputs": [
    {
     "data": {
      "text/plain": [
       "TensorShape([10, 16])"
      ]
     },
     "execution_count": 22,
     "metadata": {},
     "output_type": "execute_result"
    }
   ],
   "source": [
    "latent = z.sample()\n",
    "latent.shape"
   ]
  },
  {
   "cell_type": "code",
   "execution_count": 23,
   "metadata": {
    "colab": {
     "base_uri": "https://localhost:8080/",
     "height": 78
    },
    "id": "1ZbKFwoWn9nd",
    "outputId": "07136b85-4fa4-4432-d46c-e8a0b28e223d"
   },
   "outputs": [
    {
     "data": {
      "image/png": "[encoded data removed]",
      "text/plain": [
       "<Figure size 720x72 with 10 Axes>"
      ]
     },
     "metadata": {
      "needs_background": "light"
     },
     "output_type": "display_data"
    }
   ],
   "source": [
    "fig, axs = plt.subplots(1, 10, figsize=(10, 1))\n",
    "plt.ioff()\n",
    "for i in range(10):\n",
    "    axs.flat[i].imshow(latent[i].numpy().reshape(4, 4), interpolation='none', cmap='gray')\n",
    "    axs.flat[i].axis('off')\n",
    "plt.show()"
   ]
  },
  {
   "cell_type": "code",
   "execution_count": 23,
   "metadata": {
    "id": "fmcgm2uib5_7"
   },
   "outputs": [],
   "source": []
  }
 ],
 "metadata": {
  "accelerator": "GPU",
  "colab": {
   "collapsed_sections": [],
   "name": "225_Probabilistic_VAE_mnist.ipynb",
   "provenance": []
  },
  "kernelspec": {
   "display_name": "Python 3 (ipykernel)",
   "language": "python",
   "name": "python3"
  },
  "language_info": {
   "codemirror_mode": {
    "name": "ipython",
    "version": 3
   },
   "file_extension": ".py",
   "mimetype": "text/x-python",
   "name": "python",
   "nbconvert_exporter": "python",
   "pygments_lexer": "ipython3",
   "version": "3.9.12"
  }
 },
 "nbformat": 4,
 "nbformat_minor": 1
}
