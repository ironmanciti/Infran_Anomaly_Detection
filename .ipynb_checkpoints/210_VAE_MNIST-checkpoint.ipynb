{
 "cells": [
  {
   "cell_type": "markdown",
   "metadata": {
    "id": "I2m-t1vpjAMj"
   },
   "source": [
    "# Variational Autoencoders  "
   ]
  },
  {
   "cell_type": "code",
   "execution_count": 11,
   "metadata": {
    "id": "17DD2aRgudaO"
   },
   "outputs": [],
   "source": [
    "import tensorflow as tf\n",
    "from tensorflow.keras.layers import Dense, Conv2D, BatchNormalization, \\\n",
    "                        Flatten, Input, Conv2DTranspose, Reshape\n",
    "from tensorflow.keras.models import Model\n",
    "from tensorflow.keras.utils import plot_model\n",
    "import tensorflow_datasets as tfds\n",
    "import matplotlib.pyplot as plt\n",
    "from IPython import display  "
   ]
  },
  {
   "cell_type": "code",
   "execution_count": 2,
   "metadata": {
    "id": "DBoDTLNXuFqT"
   },
   "outputs": [],
   "source": [
    "BATCH_SIZE=128\n",
    "LATENT_DIM=2"
   ]
  },
  {
   "cell_type": "markdown",
   "metadata": {
    "id": "VqZ-LiQbjaNX"
   },
   "source": [
    "## Prepare the Dataset\n",
    "\n",
    "이 노트북에서 MNIST 데이터 세트의 'train' 분할을 사용합니다. 데이터 세트를 다운로드하고 준비하는 데 도움이되는 몇 가지 도우미 함수를 아래에 준비했습니다.\n",
    "\n",
    "* `map_image()` - 이미지에서 텐서를 정규화하고 생성하여 이미지만 반환합니다. 이것은 오토인코더의 비지도 학습에 사용됩니다.\n",
    "\n",
    "* `get_dataset()` - Tensorflow 데이터세트에서 MNIST를 로드하고 default로 'train' 분할을 가져온 다음 매핑 함수를 사용하여 준비합니다. `is_validation`이` True`로 설정되면 대신 `test` 분할을 받습니다. "
   ]
  },
  {
   "cell_type": "code",
   "execution_count": 4,
   "metadata": {
    "id": "-qmpe0kblalg"
   },
   "outputs": [],
   "source": [
    "def map_image(image, label):\n",
    "    '''주어진 이미지에서 정규화되고 재구성된 텐서를 반환합니다.'''\n",
    "    image = tf.cast(image, dtype=tf.float32)\n",
    "    image = image / 255.0\n",
    "    image = tf.reshape(image, shape=(28, 28, 1,))\n",
    "    return image"
   ]
  },
  {
   "cell_type": "code",
   "execution_count": 6,
   "metadata": {
    "colab": {
     "base_uri": "https://localhost:8080/"
    },
    "id": "jszTpjHVuJXO",
    "outputId": "e533eb9c-024e-4da2-d9d0-592e57af5a17"
   },
   "outputs": [
    {
     "data": {
      "text/plain": [
       "(<PrefetchDataset element_spec=(TensorSpec(shape=(28, 28, 1), dtype=tf.uint8, name=None), TensorSpec(shape=(), dtype=tf.int64, name=None))>,\n",
       " 60000)"
      ]
     },
     "execution_count": 6,
     "metadata": {},
     "output_type": "execute_result"
    }
   ],
   "source": [
    "train_dataset = tfds.load('mnist', as_supervised=True, split=\"train\")\n",
    "train_dataset, len(train_dataset)"
   ]
  },
  {
   "cell_type": "code",
   "execution_count": 7,
   "metadata": {
    "colab": {
     "base_uri": "https://localhost:8080/"
    },
    "id": "GYEjHzQUnT0O",
    "outputId": "e27cf30c-30b9-4cb4-f794-dbcb86a7da95"
   },
   "outputs": [
    {
     "data": {
      "text/plain": [
       "<BatchDataset element_spec=TensorSpec(shape=(None, 28, 28, 1), dtype=tf.float32, name=None)>"
      ]
     },
     "execution_count": 7,
     "metadata": {},
     "output_type": "execute_result"
    }
   ],
   "source": [
    "train_ds = train_dataset.map(map_image).shuffle(1024).batch(BATCH_SIZE)\n",
    "train_ds"
   ]
  },
  {
   "cell_type": "markdown",
   "metadata": {
    "id": "qedUCLa_jfeM"
   },
   "source": [
    "## Build the Model\n",
    "\n",
    "이제 VAE 모델을 빌드합니다. 주요 부분은 아래 그림에 나와 있습니다.\n",
    "\n",
    "<img src=\"https://drive.google.com/uc?export=view&id=1YAZAeMGEJ1KgieYk1ju-S9DoshpMREeC\" width=\"60%\" height=\"60%\"/>"
   ]
  },
  {
   "cell_type": "markdown",
   "metadata": {
    "id": "aaj1dg-FrWuG"
   },
   "source": [
    "### Sampling Class\n",
    "\n",
    "먼저 'Sampling' 클래스를 빌드합니다. 이것은 인코더 출력의 평균 (mu) 및 표준 편차 (sigma)와 함께 가우스 노이즈 입력을 제공하는 맞춤형 Keras 레이어입니다. 실제로 이 레이어의 출력은 다음 방정식으로 제공됩니다.\n",
    "\n",
    "$$z = \\mu + e^{0.5\\sigma} * \\epsilon  $$\n",
    "\n",
    "여기서 $\\mu$ = mean, $\\sigma$ = standard deviation 이고 $\\epsilon$ = random sample"
   ]
  },
  {
   "cell_type": "code",
   "execution_count": 9,
   "metadata": {
    "id": "ppLApb2VuzKZ"
   },
   "outputs": [],
   "source": [
    "class Sampling(tf.keras.layers.Layer):\n",
    "    def call(self, inputs):\n",
    "        \"\"\"무작위 샘플을 생성하고 인코더 출력과 결합\n",
    "        Args:\n",
    "          inputs -- output tensor from the encoder (mu, sigma)\n",
    "        Returns:\n",
    "          `inputs` tensors combined with a random sample\n",
    "        \"\"\"\n",
    "        # unpack the output of the encoder\n",
    "        mu, sigma = inputs\n",
    "\n",
    "        # get the size and dimensions of the batch\n",
    "        batch = tf.shape(mu)[0]\n",
    "        dim = tf.shape(mu)[1]\n",
    "\n",
    "        # generate a random tensor\n",
    "        epsilon = tf.keras.backend.random_normal(shape=(batch, dim))\n",
    "\n",
    "        # reparameterization 적용\n",
    "        return mu + tf.math.exp(0.5 * sigma) * epsilon"
   ]
  },
  {
   "cell_type": "markdown",
   "metadata": {
    "id": "HCqWbPNvrplb"
   },
   "source": [
    "### Encoder\n",
    "\n",
    "다음으로 네트워크의 인코더 부분을 빌드합니다. 다음과 같은 아키텍처를 따릅니다. mu 및 sigma 외에도 flattening하기 전에 피쳐의 모양도 출력합니다. 이것은 나중에 디코더에서 이미지를 재구성 할 때 유용합니다.\n",
    "\n",
    "* 참고) 더 작은 배치로 batch normalization을 사용하는 데 문제가 발생할 수 있으며, 특히 VAE를 훈련할 때 batch normalization을 사용하지 않도록 조언되는 경우가 있습니다. 효과를 탐색하기 위해 이 노트북에서 추가하거나 제거하여 자유롭게 실험 해보십시오.\n",
    "\n",
    "<img src=\"https://drive.google.com/uc?export=view&id=1eoxFK_UVSHd3a_5EHcCU8F8QDZlPiXfW\" width=\"60%\" height=\"60%\"/>"
   ]
  },
  {
   "cell_type": "markdown",
   "metadata": {
    "id": "gFiOzFnUnPMN"
   },
   "source": [
    "인코더 레이어를 정의하면 아래 함수를 사용하여 '샘플링' 레이어를 포함하는 인코더 모델을 선언할 수 있습니다."
   ]
  },
  {
   "cell_type": "markdown",
   "metadata": {
    "id": "NkFgN22trttX"
   },
   "source": [
    "### Decoder\n",
    "\n",
    "다음으로 잠재 표현을 원래 이미지 차원으로 다시 확장하는 네트워크의 디코더 부분을 구축합니다. 나중에 학습 루프에서 볼 수 있듯이이 모델에 임의의 입력을 제공하면 학습 데이터와 유사한 콘텐츠가 생성됩니다."
   ]
  },
  {
   "cell_type": "markdown",
   "metadata": {
    "id": "nQbtaVsHrxQ_"
   },
   "source": [
    "### Kullback–Leibler Divergence"
   ]
  },
  {
   "cell_type": "markdown",
   "metadata": {
    "id": "TqG6oUC3r6Um"
   },
   "source": [
    "모델의 생성 능력을 향상 시키려면 잠재 공간에 도입된 랜덤 정규 분포를 고려해야 합니다. 이를 위해 [Kullback–Leibler Divergence](https://arxiv.org/abs/2002.07514)가 계산되어 재구성 손실에 추가됩니다. 공식은 아래 함수에서 정의됩니다."
   ]
  },
  {
   "cell_type": "code",
   "execution_count": 10,
   "metadata": {
    "id": "14Gla4K6vcLN"
   },
   "outputs": [],
   "source": [
    "def kl_reconstruction_loss(inputs, outputs, mu, sigma):\n",
    "    \"\"\" Computes the Kullback-Leibler Divergence (KLD)\n",
    "    Args:\n",
    "    inputs -- batch from the dataset\n",
    "    outputs -- output of the Sampling layer\n",
    "    mu -- mean\n",
    "    sigma -- standard deviation\n",
    "\n",
    "    Returns:\n",
    "    KLD loss\n",
    "    \"\"\"\n",
    "    kl_loss = 1 + sigma - tf.square(mu) - tf.math.exp(sigma)\n",
    "    kl_loss = tf.reduce_mean(kl_loss) * -0.5\n",
    "\n",
    "    return kl_loss"
   ]
  },
  {
   "cell_type": "markdown",
   "metadata": {
    "id": "IiAwutTjr6aQ"
   },
   "source": [
    "### VAE Model"
   ]
  },
  {
   "cell_type": "markdown",
   "metadata": {
    "id": "ymQdQTOJvOTR"
   },
   "source": [
    "이제 전체 VAE 모델을 정의할 수 있습니다. KL reconstruction loss를 추가하기 위해 `model.add_loss()`를 사용합니다. 이 손실을 계산하는 것은 `y_true`와 `y_pred`를 사용하지 않으므로 `model.compile()`에서 사용할 수 없습니다. \n",
    "\n",
    "- add_loss() 메서드 : 손실이 있는 경우, 자동으로 합산되어 주 손실에 추가"
   ]
  },
  {
   "cell_type": "code",
   "execution_count": 27,
   "metadata": {},
   "outputs": [
    {
     "name": "stdout",
     "output_type": "stream",
     "text": [
      "Model: \"model_8\"\n",
      "__________________________________________________________________________________________________\n",
      " Layer (type)                   Output Shape         Param #     Connected to                     \n",
      "==================================================================================================\n",
      " input_11 (InputLayer)          [(None, 28, 28, 1)]  0           []                               \n",
      "                                                                                                  \n",
      " conv2d_10 (Conv2D)             (None, 14, 14, 32)   320         ['input_11[0][0]']               \n",
      "                                                                                                  \n",
      " conv2d_11 (Conv2D)             (None, 7, 7, 64)     18496       ['conv2d_10[0][0]']              \n",
      "                                                                                                  \n",
      " flatten_5 (Flatten)            (None, 3136)         0           ['conv2d_11[0][0]']              \n",
      "                                                                                                  \n",
      " dense_19 (Dense)               (None, 20)           62740       ['flatten_5[0][0]']              \n",
      "                                                                                                  \n",
      " dense_20 (Dense)               (None, 2)            42          ['dense_19[0][0]']               \n",
      "                                                                                                  \n",
      " dense_21 (Dense)               (None, 2)            42          ['dense_19[0][0]']               \n",
      "                                                                                                  \n",
      " sampling_5 (Sampling)          (None, 2)            0           ['dense_20[0][0]',               \n",
      "                                                                  'dense_21[0][0]']               \n",
      "                                                                                                  \n",
      "==================================================================================================\n",
      "Total params: 81,640\n",
      "Trainable params: 81,640\n",
      "Non-trainable params: 0\n",
      "__________________________________________________________________________________________________\n"
     ]
    }
   ],
   "source": [
    "encoder.summary()"
   ]
  },
  {
   "cell_type": "code",
   "execution_count": 28,
   "metadata": {},
   "outputs": [
    {
     "data": {
      "text/plain": [
       "<KerasTensor: shape=(None, 7, 7, 64) dtype=float32 (created by layer 'conv2d_11')>"
      ]
     },
     "execution_count": 28,
     "metadata": {},
     "output_type": "execute_result"
    }
   ],
   "source": [
    "before_flatten"
   ]
  },
  {
   "cell_type": "code",
   "execution_count": 29,
   "metadata": {
    "id": "naWfWGDN1bDY"
   },
   "outputs": [],
   "source": [
    "# encoder \n",
    "enc_inputs = Input(shape=(28,28,1,))\n",
    "x = Conv2D(32, (3,3), strides=2, padding=\"same\", activation='relu')(enc_inputs)\n",
    "before_flatten = Conv2D(64, (3,3), strides=2, padding='same', activation='relu')(x)\n",
    "\n",
    "# flatten the features and feed into the Dense network\n",
    "x = Flatten()(before_flatten)\n",
    "x = Dense(20, activation='relu')(x)\n",
    "\n",
    "# 선언된 latent_dim과 동일한 unit의 mu 및 sigma에 대한 output Dense 네트워크를 추가합니다.\n",
    "mu = Dense(LATENT_DIM)(x)\n",
    "sigma = Dense(LATENT_DIM)(x)\n",
    "z = Sampling()((mu, sigma))\n",
    "\n",
    "encoder = Model(enc_inputs, outputs=[mu, sigma, z])\n",
    "\n",
    "shape = before_flatten.shape\n",
    "\n",
    "# decoder \n",
    "dec_inputs = Input(shape=(LATENT_DIM,))\n",
    "\n",
    "# shape 차원을 사용하여 Dense 네트워크에 피드\n",
    "x = Dense( shape[1] * shape[2] * shape[3], activation = 'relu')(dec_inputs)\n",
    "x = Reshape((shape[1], shape[2], shape[3]))(x)\n",
    "\n",
    "# feature를 원래 크기로 다시 업샘플링\n",
    "x = Conv2DTranspose(64, (3,3), strides=2, padding='same', activation='relu')(x)\n",
    "x = Conv2DTranspose(32, (3,3), strides=2, padding='same', activation='relu')(x)\n",
    "outputs = Conv2DTranspose(1, (3,3), strides=1, padding='same', activation='sigmoid')(x)\n",
    "\n",
    "decoder = Model(dec_inputs, outputs)\n",
    "\n",
    "# vae model \n",
    "vae_inputs = enc_inputs\n",
    "# get reconstructed output from the decoder\n",
    "mu, sigma, z = encoder(vae_inputs)\n",
    "reconstructed = decoder(z)\n",
    "\n",
    "vae = Model(vae_inputs, reconstructed)\n",
    "# add the KL loss\n",
    "loss = kl_reconstruction_loss(vae_inputs, z, mu, sigma)\n",
    "vae.add_loss(loss)"
   ]
  },
  {
   "cell_type": "code",
   "execution_count": 32,
   "metadata": {},
   "outputs": [],
   "source": [
    "# plot_model(encoder, show_shapes=True)"
   ]
  },
  {
   "cell_type": "code",
   "execution_count": 33,
   "metadata": {},
   "outputs": [],
   "source": [
    "# plot_model(decoder, show_shapes=True)"
   ]
  },
  {
   "cell_type": "markdown",
   "metadata": {
    "id": "iLMU6YySmWKR"
   },
   "source": [
    "## Train the Model"
   ]
  },
  {
   "cell_type": "markdown",
   "metadata": {
    "id": "SHVaw_kqyPQI"
   },
   "source": [
    "이제 학습을 위해 VAE 모델을 설정할 수 있습니다. 재구성 손실, 옵티마이저 및 메트릭을 정의하는 것으로 시작 하겠습니다."
   ]
  },
  {
   "cell_type": "code",
   "execution_count": 34,
   "metadata": {
    "id": "VMWqvQqvwEMK"
   },
   "outputs": [],
   "source": [
    "optimizer = tf.keras.optimizers.Adam()\n",
    "loss_metric = tf.keras.metrics.Mean()\n",
    "bce_loss = tf.keras.losses.BinaryCrossentropy()"
   ]
  },
  {
   "cell_type": "markdown",
   "metadata": {
    "id": "MpmZiTYQzIVH"
   },
   "source": [
    "각 epoch의 이미지 생성 진행 상황을보고 싶을 것입니다. 이를 위해 아래 도우미 기능을 사용할 수 있습니다. 그러면 4x4 그리드에 16 개의 이미지가 생성됩니다."
   ]
  },
  {
   "cell_type": "code",
   "execution_count": 38,
   "metadata": {
    "id": "gaG0h17cwUYM"
   },
   "outputs": [],
   "source": [
    "def generate_and_save_images(model, epoch, step, test_input):\n",
    "    \"\"\"Helper function to plot our 16 images\n",
    "    Args:\n",
    "    epoch -- current epoch number during training\n",
    "    step -- current step number during training\n",
    "    test_input -- random tensor with shape (16, LATENT_DIM)\n",
    "    \"\"\"\n",
    "    # generate images from the test input\n",
    "    predictions = model.predict(test_input)\n",
    "\n",
    "    # plot the results\n",
    "    fig = plt.figure(figsize=(4, 4))\n",
    "\n",
    "    for i in range(predictions.shape[0]):\n",
    "        plt.subplot(4, 4, i+1)\n",
    "        plt.imshow(predictions[i, :, :, 0], cmap='gray')\n",
    "        plt.axis('off')\n",
    "\n",
    "    fig.suptitle(\"epoch: {}, step: {}\".format(epoch, step))\n",
    "    plt.savefig('image_at_epoch_{:04d}_step{:04d}.png'.format(epoch, step))\n",
    "    plt.show()"
   ]
  },
  {
   "cell_type": "markdown",
   "metadata": {
    "id": "VeArnhVI0HQx"
   },
   "source": [
    "훈련 루프는 아래와 같습니다. 이렇게하면 생성된 이미지가 epoch마다 표시되며 완료하는 데 약 30 분이 걸립니다. 그래디언트를 얻고 가중치를 업데이트하기 전에 KLD 손실을 이진 교차 엔트로피 손실에 추가합니다.\n",
    "\n",
    "초기 16 개 이미지는 무작위로 보이지만 네트워크가 학습함에 따라 시간이 지나면 개선되고 MNIST 데이터 세트와 유사한 이미지가 표시됩니다."
   ]
  },
  {
   "cell_type": "code",
   "execution_count": 12,
   "metadata": {
    "colab": {
     "base_uri": "https://localhost:8080/",
     "height": 295
    },
    "id": "y8o4ZPU1wSFc",
    "outputId": "e6a09cb5-9abd-470d-ed79-2624c715eb4d"
   },
   "outputs": [
    {
     "data": {
      "image/png": "[encoded data removed]",
      "text/plain": [
       "<Figure size 288x288 with 16 Axes>"
      ]
     },
     "metadata": {
      "needs_background": "light",
      "tags": []
     },
     "output_type": "display_data"
    },
    {
     "name": "stdout",
     "output_type": "stream",
     "text": [
      "Epoch: 99 step: 400 mean loss = 143.36726\n"
     ]
    }
   ],
   "source": [
    "# Training loop. \n",
    "\n",
    "#디코더에 대한 테스트 입력으로 랜덤 벡터 생성\n",
    "random_vector_for_generation = tf.random.normal(shape=[16, LATENT_DIM])\n",
    "\n",
    "epochs = 100\n",
    "\n",
    "# 훈련되지 않은 모델의 출력을 표시하도록 도우미 함수를 초기화합니다.\n",
    "generate_and_save_images(decoder, 0, 0, random_vector_for_generation)\n",
    "\n",
    "for epoch in range(epochs):\n",
    "    print('Start of epoch %d' % (epoch,))\n",
    "\n",
    "    for step, x_batch_train in enumerate(train_ds):\n",
    "    with tf.GradientTape() as tape:\n",
    "\n",
    "        # VAE 모델에 배치 공급\n",
    "        reconstructed = vae(x_batch_train)\n",
    "\n",
    "        # 재구성 손실 계산\n",
    "        flattened_inputs   = tf.reshape(x_batch_train, shape=[-1])\n",
    "        flattened_outputs = tf.reshape(reconstructed, shape=[-1])\n",
    "        loss = bce_loss(flattened_inputs, flattened_outputs) * 784\n",
    "\n",
    "        # add KLD regularization loss\n",
    "        loss += sum(vae.losses)  \n",
    "\n",
    "    # get the gradients and update the weights\n",
    "    grads = tape.gradient(loss, vae.trainable_weights)\n",
    "    optimizer.apply_gradients(zip(grads, vae.trainable_weights))\n",
    "\n",
    "    # compute the loss metric\n",
    "    loss_metric(loss)\n",
    "\n",
    "    # display outputs every 100 steps\n",
    "    if step % 100 == 0:\n",
    "        display.clear_output(wait=False)    \n",
    "        generate_and_save_images(decoder, epoch, step, random_vector_for_generation)\n",
    "        print('Epoch: %s step: %s mean loss = %s' % (epoch, step, loss_metric.result().numpy()))"
   ]
  },
  {
   "cell_type": "code",
   "execution_count": null,
   "metadata": {
    "id": "zx5TAUZ4_aEo"
   },
   "outputs": [],
   "source": []
  }
 ],
 "metadata": {
  "accelerator": "GPU",
  "colab": {
   "collapsed_sections": [],
   "machine_shape": "hm",
   "name": "230_VAE_MNIST.ipynb",
   "provenance": []
  },
  "kernelspec": {
   "display_name": "Python 3 (ipykernel)",
   "language": "python",
   "name": "python3"
  },
  "language_info": {
   "codemirror_mode": {
    "name": "ipython",
    "version": 3
   },
   "file_extension": ".py",
   "mimetype": "text/x-python",
   "name": "python",
   "nbconvert_exporter": "python",
   "pygments_lexer": "ipython3",
   "version": "3.8.12"
  }
 },
 "nbformat": 4,
 "nbformat_minor": 1
}
