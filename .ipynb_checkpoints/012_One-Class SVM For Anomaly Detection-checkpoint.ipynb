{
 "cells": [
  {
   "cell_type": "markdown",
   "id": "30baa22f",
   "metadata": {},
   "source": [
    "# One-class SVM - novelty detection\n",
    "- `One-class SVM (svm_outlier_detection)`은 novelty detection을 위한 결정 기능을 학습하는 비지도 학습 알고리즘  \n",
    "\n",
    "- 새로운 데이터를 훈련 세트와 유사하거나 다른 것으로 분류  \n",
    "\n",
    "One-class SVM은 이상 또는 이상치 감지를 위한 비지도 모델입니다. 일반 지도학습 SVM과 달리 One-class SVM에는 모델 교육 프로세스에 대한 target label이 없습니다. 대신 normal 데이터 포인트에 대한 boundary를 학습하고 boundary 외부의 데이터를 비정상으로 식별합니다.  \n",
    "\n",
    "다음을 학습 합니다.\n",
    "\n",
    "- One-class SVM 모델을 훈련하는 방법\n",
    "- One-class SVM 모델에서 이상을 예측하는 방법  \n",
    "- 이상 예측에 대한 기본 임계값을 변경하는 방법\n",
    "- 예측 결과를 시각화하는 방법"
   ]
  },
  {
   "cell_type": "code",
   "execution_count": 1,
   "id": "8ba60a28",
   "metadata": {},
   "outputs": [],
   "source": [
    "import numpy as np\n",
    "import matplotlib.pyplot as plt\n",
    "import matplotlib.font_manager\n",
    "from sklearn import svm"
   ]
  },
  {
   "cell_type": "markdown",
   "id": "e03f7415",
   "metadata": {},
   "source": [
    "### Train Data 생성"
   ]
  },
  {
   "cell_type": "code",
   "execution_count": 8,
   "id": "9cb69546",
   "metadata": {},
   "outputs": [
    {
     "data": {
      "text/plain": [
       "(100, 2)"
      ]
     },
     "execution_count": 8,
     "metadata": {},
     "output_type": "execute_result"
    }
   ],
   "source": [
    "np.random.seed(42)\n",
    "\n",
    "# Generate train data\n",
    "X = 0.3 * np.random.randn(100, 2)\n",
    "X.shape"
   ]
  },
  {
   "cell_type": "code",
   "execution_count": 7,
   "id": "2e61ec42",
   "metadata": {},
   "outputs": [
    {
     "data": {
      "text/plain": [
       "(200, 2)"
      ]
     },
     "execution_count": 7,
     "metadata": {},
     "output_type": "execute_result"
    }
   ],
   "source": [
    "X_train = np.vstack([X + 2, X - 2])\n",
    "X_train.shape"
   ]
  },
  {
   "cell_type": "markdown",
   "id": "83386bdc",
   "metadata": {},
   "source": [
    "### Test Data 생성 \n",
    "- Train Data 와 같은 mechanism + 다른 mechanism"
   ]
  },
  {
   "cell_type": "code",
   "execution_count": 9,
   "id": "73b83f07",
   "metadata": {},
   "outputs": [
    {
     "data": {
      "text/plain": [
       "(40, 2)"
      ]
     },
     "execution_count": 9,
     "metadata": {},
     "output_type": "execute_result"
    }
   ],
   "source": [
    "# Generate some regular novel observations \n",
    "X = 0.3 * np.random.randn(20, 2)\n",
    "X_test = np.vstack([X + 2, X - 2])\n",
    "X_test.shape"
   ]
  },
  {
   "cell_type": "code",
   "execution_count": 10,
   "id": "1f4c312e",
   "metadata": {},
   "outputs": [
    {
     "data": {
      "text/plain": [
       "(20, 2)"
      ]
     },
     "execution_count": 10,
     "metadata": {},
     "output_type": "execute_result"
    }
   ],
   "source": [
    "# Generate some abnormal novel observations\n",
    "X_outliers = np.random.uniform(low=-4, high=4, size=(20, 2))\n",
    "X_outliers.shape"
   ]
  },
  {
   "cell_type": "markdown",
   "id": "89c62b38",
   "metadata": {},
   "source": [
    "### One-class SVM 모델 훈련 \n",
    "\n",
    "- kernel function    \n",
    "- SVM은 초평면(hyper-plane)이라는 개념을 사용하여 데이터를 분류  \n",
    "- kernel function을 이용한 차원 변경 trick 사용  \n",
    "\n",
    "- nu=0.01은 데이터 세트에 약 1%의 이상치가 있음을 의미  \n",
    "\n",
    "- Return 값 : -1 - outliers,  1 - inliers."
   ]
  },
  {
   "cell_type": "code",
   "execution_count": 11,
   "id": "6e113bdf",
   "metadata": {},
   "outputs": [
    {
     "data": {
      "text/plain": [
       "OneClassSVM(gamma=0.1, nu=0.1)"
      ]
     },
     "execution_count": 11,
     "metadata": {},
     "output_type": "execute_result"
    }
   ],
   "source": [
    "# fit the model\n",
    "clf = svm.OneClassSVM(nu=0.1, kernel=\"rbf\", gamma=0.1)\n",
    "clf.fit(X_train)"
   ]
  },
  {
   "cell_type": "markdown",
   "id": "db9491a3",
   "metadata": {},
   "source": [
    "### Anomaly 예측 "
   ]
  },
  {
   "cell_type": "code",
   "execution_count": 12,
   "id": "50705ce4",
   "metadata": {},
   "outputs": [],
   "source": [
    "y_pred_train = clf.predict(X_train)\n",
    "y_pred_test = clf.predict(X_test)\n",
    "y_pred_outliers = clf.predict(X_outliers)"
   ]
  },
  {
   "cell_type": "code",
   "execution_count": 25,
   "id": "c86504bd",
   "metadata": {},
   "outputs": [
    {
     "name": "stdout",
     "output_type": "stream",
     "text": [
      "train data에 대한 오분류 비율 : 0.105\n",
      "test data에 대한 오분류 비율 : 0.175\n",
      "이상치 data에 대한 오분류 비율 : 0.0\n"
     ]
    }
   ],
   "source": [
    "n_error_train = y_pred_train[y_pred_train == -1].size\n",
    "n_error_test = y_pred_test[y_pred_test == -1].size\n",
    "n_error_outliers = y_pred_outliers[y_pred_outliers == 1].size\n",
    "\n",
    "print(\"train data에 대한 오분류 비율 :\" , n_error_train / len(X_train))\n",
    "print(\"test data에 대한 오분류 비율 :\" , n_error_test / len(X_test))\n",
    "print(\"이상치 data에 대한 오분류 비율 :\" , n_error_outliers / len(X_outliers))"
   ]
  },
  {
   "cell_type": "code",
   "execution_count": null,
   "id": "f77cadca",
   "metadata": {},
   "outputs": [],
   "source": [
    "# model 성능 check\n",
    "print(\"accuracy =\", accuracy_score(y_test, y_pred))\n",
    "print(\"recall =\", recall_score(y_test, y_pred))"
   ]
  },
  {
   "cell_type": "markdown",
   "id": "a147b6fe",
   "metadata": {},
   "source": [
    "### 시각화를 통한 original data와 anomaly 예측 결과 비교\n",
    "\n",
    "- 등고선 plot을 이용하여 train, test data, outlier data 가 분리 초평면(separating hyperplane )에서 얼마나 떨어져 있는지 표시  \n",
    "- decision_function(X) : 분리 초평면과의 거리 반환 \n"
   ]
  },
  {
   "cell_type": "code",
   "execution_count": 36,
   "id": "ea946ef8",
   "metadata": {},
   "outputs": [
    {
     "name": "stdout",
     "output_type": "stream",
     "text": [
      "(500, 500) (500, 500)\n"
     ]
    },
    {
     "data": {
      "text/plain": [
       "(500, 500)"
      ]
     },
     "execution_count": 36,
     "metadata": {},
     "output_type": "execute_result"
    }
   ],
   "source": [
    "# plot the line, the points, and the nearest vectors to the plane\n",
    "xx, yy = np.meshgrid(np.linspace(-5, 5, 500), np.linspace(-5, 5, 500))\n",
    "print(xx.shape, yy.shape)\n",
    "\n",
    "Z = clf.decision_function(np.column_stack([xx.ravel(), yy.ravel()]))\n",
    "Z = Z.reshape(xx.shape)\n",
    "Z.shape"
   ]
  },
  {
   "cell_type": "code",
   "execution_count": 57,
   "id": "d98f2285",
   "metadata": {},
   "outputs": [
    {
     "data": {
      "image/png": "[encoded data removed]",
      "text/plain": [
       "<Figure size 432x288 with 1 Axes>"
      ]
     },
     "metadata": {
      "needs_background": "light"
     },
     "output_type": "display_data"
    }
   ],
   "source": [
    "plt.title(\"Novelty Detection\")\n",
    "plt.contourf(xx, yy, Z, levels=np.linspace(Z.min(), 0, 7), cmap=plt.cm.PuBu)\n",
    "a = plt.contour(xx, yy, Z, levels=[0], linewidths=2, colors=\"black\")\n",
    "plt.contourf(xx, yy, Z, levels=[0, Z.max()], colors=\"red\")\n",
    "\n",
    "s = 40\n",
    "b1 = plt.scatter(X_train[:, 0], X_train[:, 1], c=\"white\", s=s, edgecolors=\"k\", label=\"training data\")\n",
    "b2 = plt.scatter(X_test[:, 0], X_test[:, 1], c=\"blueviolet\", s=s, edgecolors=\"k\", label=\"new regular data\")\n",
    "c = plt.scatter(X_outliers[:, 0], X_outliers[:, 1], c=\"gold\", s=s, edgecolors=\"k\", label=\"new abnormal data\")\n",
    "plt.axis(\"tight\")\n",
    "plt.xlim((-5, 5))\n",
    "plt.ylim((-5, 5))\n",
    "plt.legend(loc=4)\n",
    "plt.xlabel(\n",
    "    f\"error train: {n_error_train}/{len(X_train)} ; errors novel regular: {n_error_test/len(X_test)} ; errors novel abnormal: {n_error_outliers/len(X_outliers)}\"\n",
    ")\n",
    "plt.show()"
   ]
  },
  {
   "cell_type": "markdown",
   "id": "c58f8a15",
   "metadata": {},
   "source": [
    "### 참고 - meshgrid 이해\n",
    "- numpy 를 이용하여 2차원 격자 만들기\n",
    "<img src=\"https://blog.kakaocdn.net/dn/BPOMh/btq5gFDL6j9/3TrmTm06aImuMaDBPbkBgK/img.png\" width=400/>"
   ]
  },
  {
   "cell_type": "code",
   "execution_count": 64,
   "id": "30aee75a",
   "metadata": {},
   "outputs": [
    {
     "name": "stdout",
     "output_type": "stream",
     "text": [
      "(10, 10) (10, 10)\n"
     ]
    }
   ],
   "source": [
    "xx, yy = np.meshgrid(np.linspace(1, 10, 10), np.linspace(11, 20, 10))\n",
    "print(xx.shape, yy.shape)"
   ]
  },
  {
   "cell_type": "code",
   "execution_count": 66,
   "id": "657a1b45",
   "metadata": {},
   "outputs": [
    {
     "data": {
      "text/plain": [
       "(array([[ 1.,  2.,  3.,  4.,  5.,  6.,  7.,  8.,  9., 10.],\n",
       "        [ 1.,  2.,  3.,  4.,  5.,  6.,  7.,  8.,  9., 10.],\n",
       "        [ 1.,  2.,  3.,  4.,  5.,  6.,  7.,  8.,  9., 10.],\n",
       "        [ 1.,  2.,  3.,  4.,  5.,  6.,  7.,  8.,  9., 10.],\n",
       "        [ 1.,  2.,  3.,  4.,  5.,  6.,  7.,  8.,  9., 10.],\n",
       "        [ 1.,  2.,  3.,  4.,  5.,  6.,  7.,  8.,  9., 10.],\n",
       "        [ 1.,  2.,  3.,  4.,  5.,  6.,  7.,  8.,  9., 10.],\n",
       "        [ 1.,  2.,  3.,  4.,  5.,  6.,  7.,  8.,  9., 10.],\n",
       "        [ 1.,  2.,  3.,  4.,  5.,  6.,  7.,  8.,  9., 10.],\n",
       "        [ 1.,  2.,  3.,  4.,  5.,  6.,  7.,  8.,  9., 10.]]),\n",
       " array([[11., 11., 11., 11., 11., 11., 11., 11., 11., 11.],\n",
       "        [12., 12., 12., 12., 12., 12., 12., 12., 12., 12.],\n",
       "        [13., 13., 13., 13., 13., 13., 13., 13., 13., 13.],\n",
       "        [14., 14., 14., 14., 14., 14., 14., 14., 14., 14.],\n",
       "        [15., 15., 15., 15., 15., 15., 15., 15., 15., 15.],\n",
       "        [16., 16., 16., 16., 16., 16., 16., 16., 16., 16.],\n",
       "        [17., 17., 17., 17., 17., 17., 17., 17., 17., 17.],\n",
       "        [18., 18., 18., 18., 18., 18., 18., 18., 18., 18.],\n",
       "        [19., 19., 19., 19., 19., 19., 19., 19., 19., 19.],\n",
       "        [20., 20., 20., 20., 20., 20., 20., 20., 20., 20.]]))"
      ]
     },
     "execution_count": 66,
     "metadata": {},
     "output_type": "execute_result"
    }
   ],
   "source": [
    "xx, yy"
   ]
  },
  {
   "cell_type": "code",
   "execution_count": 67,
   "id": "727f246e",
   "metadata": {},
   "outputs": [
    {
     "data": {
      "text/plain": [
       "array([[ 1., 11.],\n",
       "       [ 2., 11.],\n",
       "       [ 3., 11.],\n",
       "       [ 4., 11.],\n",
       "       [ 5., 11.],\n",
       "       [ 6., 11.],\n",
       "       [ 7., 11.],\n",
       "       [ 8., 11.],\n",
       "       [ 9., 11.],\n",
       "       [10., 11.],\n",
       "       [ 1., 12.],\n",
       "       [ 2., 12.],\n",
       "       [ 3., 12.],\n",
       "       [ 4., 12.],\n",
       "       [ 5., 12.],\n",
       "       [ 6., 12.],\n",
       "       [ 7., 12.],\n",
       "       [ 8., 12.],\n",
       "       [ 9., 12.],\n",
       "       [10., 12.],\n",
       "       [ 1., 13.],\n",
       "       [ 2., 13.],\n",
       "       [ 3., 13.],\n",
       "       [ 4., 13.],\n",
       "       [ 5., 13.],\n",
       "       [ 6., 13.],\n",
       "       [ 7., 13.],\n",
       "       [ 8., 13.],\n",
       "       [ 9., 13.],\n",
       "       [10., 13.],\n",
       "       [ 1., 14.],\n",
       "       [ 2., 14.],\n",
       "       [ 3., 14.],\n",
       "       [ 4., 14.],\n",
       "       [ 5., 14.],\n",
       "       [ 6., 14.],\n",
       "       [ 7., 14.],\n",
       "       [ 8., 14.],\n",
       "       [ 9., 14.],\n",
       "       [10., 14.],\n",
       "       [ 1., 15.],\n",
       "       [ 2., 15.],\n",
       "       [ 3., 15.],\n",
       "       [ 4., 15.],\n",
       "       [ 5., 15.],\n",
       "       [ 6., 15.],\n",
       "       [ 7., 15.],\n",
       "       [ 8., 15.],\n",
       "       [ 9., 15.],\n",
       "       [10., 15.],\n",
       "       [ 1., 16.],\n",
       "       [ 2., 16.],\n",
       "       [ 3., 16.],\n",
       "       [ 4., 16.],\n",
       "       [ 5., 16.],\n",
       "       [ 6., 16.],\n",
       "       [ 7., 16.],\n",
       "       [ 8., 16.],\n",
       "       [ 9., 16.],\n",
       "       [10., 16.],\n",
       "       [ 1., 17.],\n",
       "       [ 2., 17.],\n",
       "       [ 3., 17.],\n",
       "       [ 4., 17.],\n",
       "       [ 5., 17.],\n",
       "       [ 6., 17.],\n",
       "       [ 7., 17.],\n",
       "       [ 8., 17.],\n",
       "       [ 9., 17.],\n",
       "       [10., 17.],\n",
       "       [ 1., 18.],\n",
       "       [ 2., 18.],\n",
       "       [ 3., 18.],\n",
       "       [ 4., 18.],\n",
       "       [ 5., 18.],\n",
       "       [ 6., 18.],\n",
       "       [ 7., 18.],\n",
       "       [ 8., 18.],\n",
       "       [ 9., 18.],\n",
       "       [10., 18.],\n",
       "       [ 1., 19.],\n",
       "       [ 2., 19.],\n",
       "       [ 3., 19.],\n",
       "       [ 4., 19.],\n",
       "       [ 5., 19.],\n",
       "       [ 6., 19.],\n",
       "       [ 7., 19.],\n",
       "       [ 8., 19.],\n",
       "       [ 9., 19.],\n",
       "       [10., 19.],\n",
       "       [ 1., 20.],\n",
       "       [ 2., 20.],\n",
       "       [ 3., 20.],\n",
       "       [ 4., 20.],\n",
       "       [ 5., 20.],\n",
       "       [ 6., 20.],\n",
       "       [ 7., 20.],\n",
       "       [ 8., 20.],\n",
       "       [ 9., 20.],\n",
       "       [10., 20.]])"
      ]
     },
     "execution_count": 67,
     "metadata": {},
     "output_type": "execute_result"
    }
   ],
   "source": [
    "np.column_stack([xx.ravel(), yy.ravel()])"
   ]
  },
  {
   "cell_type": "code",
   "execution_count": null,
   "id": "bf5c9af5",
   "metadata": {},
   "outputs": [],
   "source": []
  }
 ],
 "metadata": {
  "kernelspec": {
   "display_name": "Python 3 (ipykernel)",
   "language": "python",
   "name": "python3"
  },
  "language_info": {
   "codemirror_mode": {
    "name": "ipython",
    "version": 3
   },
   "file_extension": ".py",
   "mimetype": "text/x-python",
   "name": "python",
   "nbconvert_exporter": "python",
   "pygments_lexer": "ipython3",
   "version": "3.9.12"
  }
 },
 "nbformat": 4,
 "nbformat_minor": 5
}
