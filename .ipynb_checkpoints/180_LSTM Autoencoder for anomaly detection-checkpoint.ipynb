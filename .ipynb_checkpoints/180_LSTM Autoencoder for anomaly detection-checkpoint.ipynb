{
 "cells": [
  {
   "cell_type": "markdown",
   "id": "9fe00de7",
   "metadata": {},
   "source": [
    "# LSTM Autoencoder for anomaly detection\n",
    "\n",
    "시계열 자료의 이상치 검출\n",
    "\n",
    "## Data download \n",
    "https://finance.yahoo.com/quote/GE/history?p=GE"
   ]
  },
  {
   "cell_type": "code",
   "execution_count": 176,
   "id": "86acb348",
   "metadata": {},
   "outputs": [],
   "source": [
    "import numpy as np\n",
    "import tensorflow as tf\n",
    "from tensorflow.keras.models import Sequential\n",
    "from tensorflow.keras.layers import LSTM, Input, Dropout\n",
    "from tensorflow.keras.layers import Dense\n",
    "from tensorflow.keras.layers import RepeatVector\n",
    "from tensorflow.keras.layers import TimeDistributed\n",
    "import pandas as pd\n",
    "from matplotlib import pyplot as plt\n",
    "from sklearn.preprocessing import StandardScaler\n",
    "from tensorflow.keras.models import Model\n",
    "import seaborn as sns\n",
    "import warnings\n",
    "warnings.filterwarnings('ignore')"
   ]
  },
  {
   "cell_type": "code",
   "execution_count": 177,
   "id": "f6a9a78d",
   "metadata": {},
   "outputs": [
    {
     "data": {
      "text/html": [
       "<div>\n",
       "<style scoped>\n",
       "    .dataframe tbody tr th:only-of-type {\n",
       "        vertical-align: middle;\n",
       "    }\n",
       "\n",
       "    .dataframe tbody tr th {\n",
       "        vertical-align: top;\n",
       "    }\n",
       "\n",
       "    .dataframe thead th {\n",
       "        text-align: right;\n",
       "    }\n",
       "</style>\n",
       "<table border=\"1\" class=\"dataframe\">\n",
       "  <thead>\n",
       "    <tr style=\"text-align: right;\">\n",
       "      <th></th>\n",
       "      <th>Date</th>\n",
       "      <th>Open</th>\n",
       "      <th>High</th>\n",
       "      <th>Low</th>\n",
       "      <th>Close</th>\n",
       "      <th>Adj Close</th>\n",
       "      <th>Volume</th>\n",
       "    </tr>\n",
       "  </thead>\n",
       "  <tbody>\n",
       "    <tr>\n",
       "      <th>0</th>\n",
       "      <td>1970-01-02</td>\n",
       "      <td>6.209936</td>\n",
       "      <td>6.219952</td>\n",
       "      <td>6.129808</td>\n",
       "      <td>6.139824</td>\n",
       "      <td>1.270701</td>\n",
       "      <td>289536</td>\n",
       "    </tr>\n",
       "    <tr>\n",
       "      <th>1</th>\n",
       "      <td>1970-01-05</td>\n",
       "      <td>6.139824</td>\n",
       "      <td>6.169872</td>\n",
       "      <td>6.059696</td>\n",
       "      <td>6.109776</td>\n",
       "      <td>1.264482</td>\n",
       "      <td>529152</td>\n",
       "    </tr>\n",
       "    <tr>\n",
       "      <th>2</th>\n",
       "      <td>1970-01-06</td>\n",
       "      <td>6.099760</td>\n",
       "      <td>6.099760</td>\n",
       "      <td>5.899439</td>\n",
       "      <td>5.929487</td>\n",
       "      <td>1.227170</td>\n",
       "      <td>443040</td>\n",
       "    </tr>\n",
       "    <tr>\n",
       "      <th>3</th>\n",
       "      <td>1970-01-07</td>\n",
       "      <td>5.949519</td>\n",
       "      <td>6.039663</td>\n",
       "      <td>5.949519</td>\n",
       "      <td>5.959535</td>\n",
       "      <td>1.233389</td>\n",
       "      <td>575328</td>\n",
       "    </tr>\n",
       "    <tr>\n",
       "      <th>4</th>\n",
       "      <td>1970-01-08</td>\n",
       "      <td>5.979567</td>\n",
       "      <td>6.069712</td>\n",
       "      <td>5.979567</td>\n",
       "      <td>6.009615</td>\n",
       "      <td>1.243753</td>\n",
       "      <td>1737216</td>\n",
       "    </tr>\n",
       "  </tbody>\n",
       "</table>\n",
       "</div>"
      ],
      "text/plain": [
       "         Date      Open      High       Low     Close  Adj Close   Volume\n",
       "0  1970-01-02  6.209936  6.219952  6.129808  6.139824   1.270701   289536\n",
       "1  1970-01-05  6.139824  6.169872  6.059696  6.109776   1.264482   529152\n",
       "2  1970-01-06  6.099760  6.099760  5.899439  5.929487   1.227170   443040\n",
       "3  1970-01-07  5.949519  6.039663  5.949519  5.959535   1.233389   575328\n",
       "4  1970-01-08  5.979567  6.069712  5.979567  6.009615   1.243753  1737216"
      ]
     },
     "execution_count": 177,
     "metadata": {},
     "output_type": "execute_result"
    }
   ],
   "source": [
    "df = pd.read_csv('data/GE.csv')\n",
    "df.head()"
   ]
  },
  {
   "cell_type": "code",
   "execution_count": 178,
   "id": "89d41581",
   "metadata": {},
   "outputs": [
    {
     "data": {
      "text/html": [
       "<div>\n",
       "<style scoped>\n",
       "    .dataframe tbody tr th:only-of-type {\n",
       "        vertical-align: middle;\n",
       "    }\n",
       "\n",
       "    .dataframe tbody tr th {\n",
       "        vertical-align: top;\n",
       "    }\n",
       "\n",
       "    .dataframe thead th {\n",
       "        text-align: right;\n",
       "    }\n",
       "</style>\n",
       "<table border=\"1\" class=\"dataframe\">\n",
       "  <thead>\n",
       "    <tr style=\"text-align: right;\">\n",
       "      <th></th>\n",
       "      <th>Date</th>\n",
       "      <th>Close</th>\n",
       "    </tr>\n",
       "  </thead>\n",
       "  <tbody>\n",
       "    <tr>\n",
       "      <th>0</th>\n",
       "      <td>1970-01-02</td>\n",
       "      <td>6.139824</td>\n",
       "    </tr>\n",
       "    <tr>\n",
       "      <th>1</th>\n",
       "      <td>1970-01-05</td>\n",
       "      <td>6.109776</td>\n",
       "    </tr>\n",
       "    <tr>\n",
       "      <th>2</th>\n",
       "      <td>1970-01-06</td>\n",
       "      <td>5.929487</td>\n",
       "    </tr>\n",
       "  </tbody>\n",
       "</table>\n",
       "</div>"
      ],
      "text/plain": [
       "        Date     Close\n",
       "0 1970-01-02  6.139824\n",
       "1 1970-01-05  6.109776\n",
       "2 1970-01-06  5.929487"
      ]
     },
     "execution_count": 178,
     "metadata": {},
     "output_type": "execute_result"
    }
   ],
   "source": [
    "df = df.loc[:, ['Date', 'Close']]\n",
    "df['Date'] = pd.to_datetime(df['Date'])\n",
    "df.head(3)"
   ]
  },
  {
   "cell_type": "code",
   "execution_count": 181,
   "id": "dd9865c3",
   "metadata": {},
   "outputs": [
    {
     "data": {
      "text/html": [
       "<div>\n",
       "<style scoped>\n",
       "    .dataframe tbody tr th:only-of-type {\n",
       "        vertical-align: middle;\n",
       "    }\n",
       "\n",
       "    .dataframe tbody tr th {\n",
       "        vertical-align: top;\n",
       "    }\n",
       "\n",
       "    .dataframe thead th {\n",
       "        text-align: right;\n",
       "    }\n",
       "</style>\n",
       "<table border=\"1\" class=\"dataframe\">\n",
       "  <thead>\n",
       "    <tr style=\"text-align: right;\">\n",
       "      <th></th>\n",
       "      <th>Date</th>\n",
       "      <th>Close</th>\n",
       "    </tr>\n",
       "  </thead>\n",
       "  <tbody>\n",
       "    <tr>\n",
       "      <th>12819</th>\n",
       "      <td>2020-10-26</td>\n",
       "      <td>59.040001</td>\n",
       "    </tr>\n",
       "    <tr>\n",
       "      <th>12820</th>\n",
       "      <td>2020-10-27</td>\n",
       "      <td>56.799999</td>\n",
       "    </tr>\n",
       "    <tr>\n",
       "      <th>12821</th>\n",
       "      <td>2020-10-28</td>\n",
       "      <td>59.360001</td>\n",
       "    </tr>\n",
       "  </tbody>\n",
       "</table>\n",
       "</div>"
      ],
      "text/plain": [
       "            Date      Close\n",
       "12819 2020-10-26  59.040001\n",
       "12820 2020-10-27  56.799999\n",
       "12821 2020-10-28  59.360001"
      ]
     },
     "execution_count": 181,
     "metadata": {},
     "output_type": "execute_result"
    }
   ],
   "source": [
    "df.tail(3)"
   ]
  },
  {
   "cell_type": "code",
   "execution_count": 179,
   "id": "829fcf68",
   "metadata": {},
   "outputs": [
    {
     "name": "stdout",
     "output_type": "stream",
     "text": [
      "Start date is:  1970-01-02 00:00:00\n",
      "End date is:  2020-10-28 00:00:00\n"
     ]
    },
    {
     "data": {
      "text/plain": [
       "((8586, 2), (4236, 2))"
      ]
     },
     "execution_count": 179,
     "metadata": {},
     "output_type": "execute_result"
    },
    {
     "data": {
      "image/png": "[encoded data removed]",
      "text/plain": [
       "<Figure size 432x288 with 1 Axes>"
      ]
     },
     "metadata": {
      "needs_background": "light"
     },
     "output_type": "display_data"
    }
   ],
   "source": [
    "sns.lineplot(x=df['Date'], y=df['Close'])\n",
    "\n",
    "print(\"Start date is: \", df['Date'].min())\n",
    "print(\"End date is: \", df['Date'].max())\n",
    "\n",
    "train, test = df.loc[df['Date'] <= '2003-12-31'], df.loc[df['Date'] > '2003-12-31']\n",
    "train.shape, test.shape"
   ]
  },
  {
   "cell_type": "markdown",
   "id": "f3d58d15",
   "metadata": {},
   "source": [
    "### input data normalization"
   ]
  },
  {
   "cell_type": "code",
   "execution_count": 131,
   "id": "d7829a45",
   "metadata": {},
   "outputs": [],
   "source": [
    "sc = StandardScaler()\n",
    "train.loc[:, ['Close']] = sc.fit_transform(train[['Close']])\n",
    "test.loc[:, ['Close']] = sc.transform(test[['Close']])"
   ]
  },
  {
   "cell_type": "markdown",
   "id": "6d95d196",
   "metadata": {},
   "source": [
    "### 시계열 data 의 지도학습 data 변환"
   ]
  },
  {
   "cell_type": "code",
   "execution_count": 146,
   "id": "90e41997",
   "metadata": {},
   "outputs": [
    {
     "data": {
      "text/plain": [
       "((8556, 30, 1), (8556, 1), (4206, 30, 1), (4206, 1))"
      ]
     },
     "execution_count": 146,
     "metadata": {},
     "output_type": "execute_result"
    }
   ],
   "source": [
    "seq_size = 30\n",
    "\n",
    "def seq_to_supervised(x, y, window):\n",
    "    x_values = []\n",
    "    y_values = []\n",
    "    for i in range(len(x)-window):\n",
    "        x_values.append(x.iloc[i:(i+window)])\n",
    "        y_values.append(y.iloc[i+window])\n",
    "    return np.array(x_values), np.array(y_values)\n",
    "\n",
    "X_train, y_train = seq_to_supervised(train[['Close']], train[['Close']], seq_size)\n",
    "X_test, y_test = seq_to_supervised(test[['Close']], test[['Close']], seq_size)\n",
    "X_train.shape, y_train.shape, X_test.shape, y_test.shape"
   ]
  },
  {
   "cell_type": "markdown",
   "id": "c83b5276",
   "metadata": {},
   "source": [
    "## LSTM Autoencoder model \n",
    "\n",
    "Input: 30 timesteps, 1 feature (univariate)  -> 30x1  \n",
    "Layer1(lstm) : Outputs 128 features with 30 timesteps (return_sequences=True)  \n",
    "Layer2(lstm_1) : 30x128 input and outputs 64 features (return_sequences=False -> 1x64) -> encoded vector  \n",
    "Layer3 : RepeatVector. encoder 와 decoder 연결. 1x64를 30 번 copy 하여 30 timesteps 로 연결.\n",
    "Layer4(lstm_2) : Layer3 와 유사.\n",
    "Layer5(lstm_3): Layer1 과 유사.\n",
    "Layer6 : TimeDistributed (30,1). 이전 layer와 같은 숫자의 feature (128) 를 생성.\n",
    "\n",
    "Note: Layer5는 30x128 이고 TimeDistributed 는 128x1. 둘을 matmul 하면 30x1  출력\n",
    "\n",
    "\n",
    "<img src=\"https://www.researchgate.net/profile/Hoang_Duy_Trinh2/publication/336594630/figure/fig2/AS:814792885420033@1571273170513/LSTM-Autoencoder-for-Anomaly-Detection.png\" width=400 />"
   ]
  },
  {
   "cell_type": "code",
   "execution_count": 186,
   "id": "cd9f1402",
   "metadata": {},
   "outputs": [
    {
     "name": "stdout",
     "output_type": "stream",
     "text": [
      "Model: \"sequential_21\"\n",
      "_________________________________________________________________\n",
      " Layer (type)                Output Shape              Param #   \n",
      "=================================================================\n",
      " lstm_32 (LSTM)              (None, 128)               66560     \n",
      "                                                                 \n",
      " dropout_3 (Dropout)         (None, 128)               0         \n",
      "                                                                 \n",
      " repeat_vector_9 (RepeatVect  (None, 30, 128)          0         \n",
      " or)                                                             \n",
      "                                                                 \n",
      " dropout_4 (Dropout)         (None, 30, 128)           0         \n",
      "                                                                 \n",
      " lstm_33 (LSTM)              (None, 30, 128)           131584    \n",
      "                                                                 \n",
      " dense_6 (Dense)             (None, 30, 1)             129       \n",
      "                                                                 \n",
      "=================================================================\n",
      "Total params: 198,273\n",
      "Trainable params: 198,273\n",
      "Non-trainable params: 0\n",
      "_________________________________________________________________\n"
     ]
    }
   ],
   "source": [
    "model = Sequential()\n",
    "model.add(LSTM(128, activation='relu', input_shape=(X_train.shape[1], X_train.shape[2])))\n",
    "# model.add(LSTM(64, activation='relu', return_sequences=False))\n",
    "model.add(Dropout(0.2))\n",
    "model.add(RepeatVector(X_train.shape[1]))\n",
    "# model.add(LSTM(64, activation='relu', return_sequences=True))\n",
    "model.add(Dropout(0.2))\n",
    "model.add(LSTM(128, activation='relu', return_sequences=True))\n",
    "model.add(Dense(X_train.shape[2]))\n",
    "\n",
    "model.compile(optimizer='adam', loss='mse')\n",
    "model.summary()"
   ]
  },
  {
   "cell_type": "code",
   "execution_count": 187,
   "id": "31d5ae66",
   "metadata": {},
   "outputs": [
    {
     "name": "stdout",
     "output_type": "stream",
     "text": [
      "Epoch 1/10\n",
      "241/241 [==============================] - 7s 25ms/step - loss: 0.0652 - val_loss: 0.0599\n",
      "Epoch 2/10\n",
      "241/241 [==============================] - 6s 24ms/step - loss: 0.0077 - val_loss: 0.0148\n",
      "Epoch 3/10\n",
      "241/241 [==============================] - 7s 29ms/step - loss: 0.0052 - val_loss: 0.0172\n",
      "Epoch 4/10\n",
      "241/241 [==============================] - 7s 29ms/step - loss: 0.0038 - val_loss: 0.0195\n",
      "Epoch 5/10\n",
      "241/241 [==============================] - 7s 29ms/step - loss: 0.0037 - val_loss: 0.0348\n",
      "Epoch 6/10\n",
      "241/241 [==============================] - 7s 28ms/step - loss: 0.0032 - val_loss: 0.0244\n",
      "Epoch 7/10\n",
      "241/241 [==============================] - 7s 29ms/step - loss: 0.0032 - val_loss: 0.0505\n",
      "Epoch 8/10\n",
      "241/241 [==============================] - 7s 29ms/step - loss: 0.0025 - val_loss: 0.0198\n",
      "Epoch 9/10\n",
      "241/241 [==============================] - 7s 30ms/step - loss: 0.0029 - val_loss: 0.0111\n",
      "Epoch 10/10\n",
      "241/241 [==============================] - 7s 28ms/step - loss: 0.0025 - val_loss: 0.0361\n"
     ]
    },
    {
     "data": {
      "text/plain": [
       "<matplotlib.legend.Legend at 0x23c986d94f0>"
      ]
     },
     "execution_count": 187,
     "metadata": {},
     "output_type": "execute_result"
    },
    {
     "data": {
      "image/png": "[encoded data removed]",
      "text/plain": [
       "<Figure size 432x288 with 1 Axes>"
      ]
     },
     "metadata": {
      "needs_background": "light"
     },
     "output_type": "display_data"
    }
   ],
   "source": [
    "history = model.fit(X_train, y_train, epochs=10, batch_size=32, validation_split=0.1, verbose=1)\n",
    "\n",
    "plt.plot(history.history['loss'], label='Training loss')\n",
    "plt.plot(history.history['val_loss'], label='Validation loss')\n",
    "plt.legend()"
   ]
  },
  {
   "cell_type": "markdown",
   "id": "ec797367",
   "metadata": {},
   "source": [
    "원본 data (X_train) 의 재구성 오류 측정 :  data (trainPredict) 와 X_train 간의 mean absolute error 측정"
   ]
  },
  {
   "cell_type": "code",
   "execution_count": 189,
   "id": "5b93d8dd",
   "metadata": {},
   "outputs": [
    {
     "data": {
      "image/png": "[encoded data removed]",
      "text/plain": [
       "<Figure size 432x288 with 1 Axes>"
      ]
     },
     "metadata": {
      "needs_background": "light"
     },
     "output_type": "display_data"
    }
   ],
   "source": [
    "trainPredict = model.predict(X_train)\n",
    "trainMAE = np.mean(np.abs(trainPredict - X_train), axis=1)\n",
    "plt.hist(trainMAE, bins=30)\n",
    "None"
   ]
  },
  {
   "cell_type": "markdown",
   "id": "99981c70",
   "metadata": {},
   "source": [
    "시각적으로 threshold 설정 또는 max value의 90% 를 threshold 로 지정."
   ]
  },
  {
   "cell_type": "code",
   "execution_count": 190,
   "id": "3f727e8f",
   "metadata": {},
   "outputs": [
    {
     "data": {
      "text/plain": [
       "array([0.51861693])"
      ]
     },
     "execution_count": 190,
     "metadata": {},
     "output_type": "execute_result"
    }
   ],
   "source": [
    "max(trainMAE) * 0.9"
   ]
  },
  {
   "cell_type": "code",
   "execution_count": 193,
   "id": "1b5de209",
   "metadata": {},
   "outputs": [],
   "source": [
    "max_trainMAE = 0.3  #or Define 90% value of max as threshold."
   ]
  },
  {
   "cell_type": "markdown",
   "id": "38bc6493",
   "metadata": {},
   "source": [
    "- X_test data 의 재구성 오류 측정"
   ]
  },
  {
   "cell_type": "code",
   "execution_count": 194,
   "id": "44a521b1",
   "metadata": {},
   "outputs": [
    {
     "data": {
      "image/png": "[encoded data removed]",
      "text/plain": [
       "<Figure size 432x288 with 1 Axes>"
      ]
     },
     "metadata": {
      "needs_background": "light"
     },
     "output_type": "display_data"
    }
   ],
   "source": [
    "testPredict = model.predict(X_test)\n",
    "testMAE = np.mean(np.abs(testPredict - X_test), axis=1)\n",
    "plt.hist(testMAE, bins=30)\n",
    "None"
   ]
  },
  {
   "cell_type": "code",
   "execution_count": 195,
   "id": "fdfcf9d0",
   "metadata": {},
   "outputs": [
    {
     "data": {
      "text/html": [
       "<div>\n",
       "<style scoped>\n",
       "    .dataframe tbody tr th:only-of-type {\n",
       "        vertical-align: middle;\n",
       "    }\n",
       "\n",
       "    .dataframe tbody tr th {\n",
       "        vertical-align: top;\n",
       "    }\n",
       "\n",
       "    .dataframe thead th {\n",
       "        text-align: right;\n",
       "    }\n",
       "</style>\n",
       "<table border=\"1\" class=\"dataframe\">\n",
       "  <thead>\n",
       "    <tr style=\"text-align: right;\">\n",
       "      <th></th>\n",
       "      <th>Date</th>\n",
       "      <th>Close</th>\n",
       "      <th>testMAE</th>\n",
       "      <th>max_trainMAE</th>\n",
       "      <th>anomaly</th>\n",
       "    </tr>\n",
       "  </thead>\n",
       "  <tbody>\n",
       "    <tr>\n",
       "      <th>8616</th>\n",
       "      <td>2004-02-17</td>\n",
       "      <td>254.230774</td>\n",
       "      <td>0.096472</td>\n",
       "      <td>0.3</td>\n",
       "      <td>False</td>\n",
       "    </tr>\n",
       "    <tr>\n",
       "      <th>8617</th>\n",
       "      <td>2004-02-18</td>\n",
       "      <td>251.923080</td>\n",
       "      <td>0.097788</td>\n",
       "      <td>0.3</td>\n",
       "      <td>False</td>\n",
       "    </tr>\n",
       "    <tr>\n",
       "      <th>8618</th>\n",
       "      <td>2004-02-19</td>\n",
       "      <td>250.769226</td>\n",
       "      <td>0.099491</td>\n",
       "      <td>0.3</td>\n",
       "      <td>False</td>\n",
       "    </tr>\n",
       "    <tr>\n",
       "      <th>8619</th>\n",
       "      <td>2004-02-20</td>\n",
       "      <td>251.538467</td>\n",
       "      <td>0.104218</td>\n",
       "      <td>0.3</td>\n",
       "      <td>False</td>\n",
       "    </tr>\n",
       "    <tr>\n",
       "      <th>8620</th>\n",
       "      <td>2004-02-23</td>\n",
       "      <td>257.076935</td>\n",
       "      <td>0.109462</td>\n",
       "      <td>0.3</td>\n",
       "      <td>False</td>\n",
       "    </tr>\n",
       "  </tbody>\n",
       "</table>\n",
       "</div>"
      ],
      "text/plain": [
       "           Date       Close   testMAE  max_trainMAE  anomaly\n",
       "8616 2004-02-17  254.230774  0.096472           0.3    False\n",
       "8617 2004-02-18  251.923080  0.097788           0.3    False\n",
       "8618 2004-02-19  250.769226  0.099491           0.3    False\n",
       "8619 2004-02-20  251.538467  0.104218           0.3    False\n",
       "8620 2004-02-23  257.076935  0.109462           0.3    False"
      ]
     },
     "execution_count": 195,
     "metadata": {},
     "output_type": "execute_result"
    }
   ],
   "source": [
    "# 용이한 시각화를 위해 DataFrame으로 구성\n",
    "anomaly_df = pd.DataFrame(test[seq_size:])\n",
    "anomaly_df['testMAE'] = testMAE\n",
    "anomaly_df['max_trainMAE'] = max_trainMAE\n",
    "anomaly_df['anomaly'] = anomaly_df['testMAE'] > anomaly_df['max_trainMAE']\n",
    "anomaly_df['Close'] = test[seq_size:]['Close']\n",
    "anomaly_df.head()"
   ]
  },
  {
   "cell_type": "code",
   "execution_count": 197,
   "id": "a29e7309",
   "metadata": {},
   "outputs": [
    {
     "data": {
      "text/html": [
       "<div>\n",
       "<style scoped>\n",
       "    .dataframe tbody tr th:only-of-type {\n",
       "        vertical-align: middle;\n",
       "    }\n",
       "\n",
       "    .dataframe tbody tr th {\n",
       "        vertical-align: top;\n",
       "    }\n",
       "\n",
       "    .dataframe thead th {\n",
       "        text-align: right;\n",
       "    }\n",
       "</style>\n",
       "<table border=\"1\" class=\"dataframe\">\n",
       "  <thead>\n",
       "    <tr style=\"text-align: right;\">\n",
       "      <th></th>\n",
       "      <th>Date</th>\n",
       "      <th>Close</th>\n",
       "      <th>testMAE</th>\n",
       "      <th>max_trainMAE</th>\n",
       "      <th>anomaly</th>\n",
       "    </tr>\n",
       "  </thead>\n",
       "  <tbody>\n",
       "    <tr>\n",
       "      <th>9785</th>\n",
       "      <td>2008-10-07</td>\n",
       "      <td>156.153839</td>\n",
       "      <td>0.301885</td>\n",
       "      <td>0.3</td>\n",
       "      <td>True</td>\n",
       "    </tr>\n",
       "    <tr>\n",
       "      <th>9786</th>\n",
       "      <td>2008-10-08</td>\n",
       "      <td>158.846161</td>\n",
       "      <td>0.336209</td>\n",
       "      <td>0.3</td>\n",
       "      <td>True</td>\n",
       "    </tr>\n",
       "    <tr>\n",
       "      <th>9787</th>\n",
       "      <td>2008-10-09</td>\n",
       "      <td>146.230774</td>\n",
       "      <td>0.354744</td>\n",
       "      <td>0.3</td>\n",
       "      <td>True</td>\n",
       "    </tr>\n",
       "    <tr>\n",
       "      <th>9788</th>\n",
       "      <td>2008-10-10</td>\n",
       "      <td>165.384613</td>\n",
       "      <td>0.389927</td>\n",
       "      <td>0.3</td>\n",
       "      <td>True</td>\n",
       "    </tr>\n",
       "    <tr>\n",
       "      <th>9789</th>\n",
       "      <td>2008-10-13</td>\n",
       "      <td>161.538467</td>\n",
       "      <td>0.375172</td>\n",
       "      <td>0.3</td>\n",
       "      <td>True</td>\n",
       "    </tr>\n",
       "    <tr>\n",
       "      <th>9790</th>\n",
       "      <td>2008-10-14</td>\n",
       "      <td>160.384613</td>\n",
       "      <td>0.360468</td>\n",
       "      <td>0.3</td>\n",
       "      <td>True</td>\n",
       "    </tr>\n",
       "    <tr>\n",
       "      <th>9791</th>\n",
       "      <td>2008-10-15</td>\n",
       "      <td>148.076920</td>\n",
       "      <td>0.341385</td>\n",
       "      <td>0.3</td>\n",
       "      <td>True</td>\n",
       "    </tr>\n",
       "    <tr>\n",
       "      <th>9792</th>\n",
       "      <td>2008-10-16</td>\n",
       "      <td>153.000000</td>\n",
       "      <td>0.341710</td>\n",
       "      <td>0.3</td>\n",
       "      <td>True</td>\n",
       "    </tr>\n",
       "    <tr>\n",
       "      <th>9793</th>\n",
       "      <td>2008-10-17</td>\n",
       "      <td>151.000000</td>\n",
       "      <td>0.329200</td>\n",
       "      <td>0.3</td>\n",
       "      <td>True</td>\n",
       "    </tr>\n",
       "    <tr>\n",
       "      <th>9794</th>\n",
       "      <td>2008-10-20</td>\n",
       "      <td>154.923080</td>\n",
       "      <td>0.316356</td>\n",
       "      <td>0.3</td>\n",
       "      <td>True</td>\n",
       "    </tr>\n",
       "  </tbody>\n",
       "</table>\n",
       "</div>"
      ],
      "text/plain": [
       "           Date       Close   testMAE  max_trainMAE  anomaly\n",
       "9785 2008-10-07  156.153839  0.301885           0.3     True\n",
       "9786 2008-10-08  158.846161  0.336209           0.3     True\n",
       "9787 2008-10-09  146.230774  0.354744           0.3     True\n",
       "9788 2008-10-10  165.384613  0.389927           0.3     True\n",
       "9789 2008-10-13  161.538467  0.375172           0.3     True\n",
       "9790 2008-10-14  160.384613  0.360468           0.3     True\n",
       "9791 2008-10-15  148.076920  0.341385           0.3     True\n",
       "9792 2008-10-16  153.000000  0.341710           0.3     True\n",
       "9793 2008-10-17  151.000000  0.329200           0.3     True\n",
       "9794 2008-10-20  154.923080  0.316356           0.3     True"
      ]
     },
     "execution_count": 197,
     "metadata": {},
     "output_type": "execute_result"
    }
   ],
   "source": [
    "# 이상치  data\n",
    "anomaly_df[anomaly_df['anomaly'] ==  True]"
   ]
  },
  {
   "cell_type": "code",
   "execution_count": 198,
   "id": "4122b0ee",
   "metadata": {},
   "outputs": [
    {
     "data": {
      "text/plain": [
       "<matplotlib.legend.Legend at 0x23c94c92ca0>"
      ]
     },
     "execution_count": 198,
     "metadata": {},
     "output_type": "execute_result"
    },
    {
     "data": {
      "image/png": "[encoded data removed]",
      "text/plain": [
       "<Figure size 432x288 with 1 Axes>"
      ]
     },
     "metadata": {
      "needs_background": "light"
     },
     "output_type": "display_data"
    }
   ],
   "source": [
    "#Plot testMAE vs max_trainMAE\n",
    "sns.lineplot(x=anomaly_df['Date'], y=anomaly_df['testMAE'], label='testMAE')\n",
    "sns.lineplot(x=anomaly_df['Date'], y=anomaly_df['max_trainMAE'], label='max_trainMAE')\n",
    "plt.legend()"
   ]
  },
  {
   "cell_type": "code",
   "execution_count": 199,
   "id": "4513ed98",
   "metadata": {},
   "outputs": [
    {
     "data": {
      "text/plain": [
       "<AxesSubplot:xlabel='Date'>"
      ]
     },
     "execution_count": 199,
     "metadata": {},
     "output_type": "execute_result"
    },
    {
     "data": {
      "image/png": "[encoded data removed]",
      "text/plain": [
       "<Figure size 432x288 with 1 Axes>"
      ]
     },
     "metadata": {
      "needs_background": "light"
     },
     "output_type": "display_data"
    }
   ],
   "source": [
    "anomalies = anomaly_df.loc[anomaly_df['anomaly'] == True]\n",
    "\n",
    "#Plot anomalies\n",
    "sns.lineplot(x=anomaly_df['Date'], y=sc.inverse_transform(anomaly_df['Close']))\n",
    "sns.scatterplot(x=anomalies['Date'], y=sc.inverse_transform(anomalies['Close']), color='r')"
   ]
  },
  {
   "cell_type": "markdown",
   "id": "b4d44cf5",
   "metadata": {},
   "source": [
    "이상치로 측정된 data 를 상세히 조사"
   ]
  },
  {
   "cell_type": "code",
   "execution_count": null,
   "id": "e33ae140",
   "metadata": {},
   "outputs": [],
   "source": []
  }
 ],
 "metadata": {
  "kernelspec": {
   "display_name": "Python 3 (ipykernel)",
   "language": "python",
   "name": "python3"
  },
  "language_info": {
   "codemirror_mode": {
    "name": "ipython",
    "version": 3
   },
   "file_extension": ".py",
   "mimetype": "text/x-python",
   "name": "python",
   "nbconvert_exporter": "python",
   "pygments_lexer": "ipython3",
   "version": "3.8.12"
  }
 },
 "nbformat": 4,
 "nbformat_minor": 5
}
