{
 "cells": [
  {
   "cell_type": "markdown",
   "id": "30baa22f",
   "metadata": {},
   "source": [
    "# Local Outlier Factor (LOF) \n",
    "\n",
    "`LOF(Local Outlier Factor)` 알고리즘은 이웃과 관련하여 주어진 데이터 포인트의 로컬 밀도 편차를 계산하는 비지도 학습 이상 탐지 방법입니다. \n",
    "\n",
    "- 각 데이터 포인트의 로컬 밀도를 인접 데이터 포인트와 비교하고 밀도가 낮은 데이터 포인트를 비정상 또는 특이값으로 식별합니다.\n",
    "\n",
    "다음을 학습 합니다.\n",
    "\n",
    "- 특이치 검출(novelty detection)과 outlier detection의 차이점  \n",
    "- 특이치 검출(novelty detection)을 위해 LOF(Local Outlier Factor)를 사용하는 방법\n",
    "- 비정상(anomaly) 또는 이상치(outlier) 탐지를 위해 LOF(Local Outlier Factor)를 사용하는 방법"
   ]
  },
  {
   "cell_type": "code",
   "execution_count": 1,
   "id": "c281a976",
   "metadata": {},
   "outputs": [],
   "source": [
    "from sklearn.datasets import make_classification\n",
    "import pandas as pd\n",
    "import numpy as np\n",
    "from collections import Counter\n",
    "import matplotlib.pyplot as plt\n",
    "from sklearn.neighbors import LocalOutlierFactor\n",
    "from sklearn.model_selection import train_test_split\n",
    "from sklearn.metrics import classification_report"
   ]
  },
  {
   "cell_type": "markdown",
   "id": "e03f7415",
   "metadata": {},
   "source": [
    "### 불균형 데이터세트 만들기 \n",
    "- 서로 다른 mechanism 으로 생성된 두가지 data 를 하나로 섞어서 생성"
   ]
  },
  {
   "cell_type": "code",
   "execution_count": 2,
   "id": "4bca35ca",
   "metadata": {},
   "outputs": [
    {
     "name": "stdout",
     "output_type": "stream",
     "text": [
      "(2000, 2)\n",
      "(2200, 2)\n",
      "(2200,)\n",
      "이상치 비율 = 0.09090909090909091\n"
     ]
    }
   ],
   "source": [
    "np.random.seed(42)\n",
    "\n",
    "# inlier data 생성\n",
    "X_inliers = 0.3* np.random.randn(2000, 2)\n",
    "print(X_inliers.shape)\n",
    "\n",
    "# outlier data 생성\n",
    "X_outliers = np.random.uniform(low=-4, high=0, size=(200, 2))\n",
    "\n",
    "X = np.vstack([X_inliers, X_outliers])\n",
    "print(X.shape)\n",
    "\n",
    "n_outliers = len(X_outliers)\n",
    "# inlier 0, outlier 1 부여\n",
    "y = np.zeros(len(X), dtype=int)\n",
    "y[-n_outliers:] = 1\n",
    "\n",
    "print(y.shape)\n",
    "\n",
    "print(\"이상치 비율 = {}\".format(len(X_outliers) / len(X)))"
   ]
  },
  {
   "cell_type": "markdown",
   "id": "f1f53043",
   "metadata": {},
   "source": [
    "- data 시각화"
   ]
  },
  {
   "cell_type": "code",
   "execution_count": 3,
   "id": "244c01bb",
   "metadata": {},
   "outputs": [
    {
     "data": {
      "text/plain": [
       "<matplotlib.collections.PathCollection at 0x2563be23280>"
      ]
     },
     "execution_count": 3,
     "metadata": {},
     "output_type": "execute_result"
    },
    {
     "data": {
      "image/png": "[encoded data removed]",
      "text/plain": [
       "<Figure size 432x288 with 1 Axes>"
      ]
     },
     "metadata": {
      "needs_background": "light"
     },
     "output_type": "display_data"
    }
   ],
   "source": [
    "plt.scatter(X_inliers[:, 0], X_inliers[:, 1])\n",
    "plt.scatter(X_outliers[:, 0], X_outliers[:, 1])"
   ]
  },
  {
   "cell_type": "code",
   "execution_count": 4,
   "id": "edb8d34f",
   "metadata": {},
   "outputs": [
    {
     "name": "stdout",
     "output_type": "stream",
     "text": [
      "훈련 데이터세트의 레코드 수 :  1760\n",
      "테스트 데이터세트의 레코드 수 :  440\n",
      "훈련 데이터세트의 minority class 수 : 160\n"
     ]
    }
   ],
   "source": [
    "# Train test split\n",
    "X_train, X_test, y_train, y_test = train_test_split(X, y, test_size=0.2, random_state=42)\n",
    "\n",
    "print('훈련 데이터세트의 레코드 수 : ', X_train.shape[0])\n",
    "print('테스트 데이터세트의 레코드 수 : ', X_test.shape[0])\n",
    "print(f\"훈련 데이터세트의 minority class 수 : {sorted(Counter(y_train).items())[1][1]}\")"
   ]
  },
  {
   "cell_type": "markdown",
   "id": "20e2af71",
   "metadata": {},
   "source": [
    "## Outlier/anomaly Detection Vs. Novelty Detection\n",
    "\n",
    "- LOF(Local Outlier Factor) 알고리즘은 이상치 검출(outlier/anomaly detection) 및 특이치 검출(Novelty Detection)에 모두 사용할 수 있습니다. Outlier / Anomaly Detection 및 Novelty Detection의 차이점은 훈련 데이터 세트에 있습니다.  \n",
    "\n",
    "    - Outlier/anomaly detection에는 훈련 데이터 세트의 이상치가 포함됩니다. 이 알고리즘은 고밀도 데이터가 있는 영역에 적합하고 outlier 및 anomaly를 무시합니다.\n",
    "\n",
    "    - Novelty Detection에는 모델을 훈련할 때 normal data point 만 포함됩니다. 그런 다음 모델은 예측을 위해 Outlier/Anomaly가 포함되어 있는 새 데이터 세트를 사용합니다. Novelty Detection의 이상값을 novelty (특이치) 라고도 합니다.\n",
    "    \n",
    "\n",
    "- outlier label 이 있는 데이터 세트가 있는 경우 두가지 모두에 사용할 수 있습니다. 그렇지 않으면 정상 데이터만으로 이루어진 훈련 데이터 세트를 얻을 수 없기 때문에 outlier detection 만 사용할 수 있습니다.\n",
    "\n",
    "\n",
    "- 고려되는 neighbor 수 (파라미터 n_neighbors)를 몇개로 하는지 정해진 것은 없으며 n_neighbors = 20을 사용하면 일반적으로 잘 작동하는 것으로 보입니다."
   ]
  },
  {
   "cell_type": "markdown",
   "id": "441f56d2",
   "metadata": {},
   "source": [
    "### 1. Local Outlier Factor (LOF) 를 사용한 특이치 검출 (Novelty Detection)\n",
    "\n",
    "- Novelty Detection을 사용하려면 LOF 의 novelty 파라미터를 True로 설정해야 합니다. \n",
    "```\n",
    "LocalOutlierFactor(n_neighbors=20, novelty=True)\n",
    "```\n",
    "- normal data로만 구성된 train set으로 모델을 fitting 하고 outlier를 포함하는 test dataset을 predict 합니다."
   ]
  },
  {
   "cell_type": "code",
   "execution_count": 5,
   "id": "d4a20bf3",
   "metadata": {},
   "outputs": [
    {
     "data": {
      "text/plain": [
       "LocalOutlierFactor(novelty=True)"
      ]
     },
     "execution_count": 5,
     "metadata": {},
     "output_type": "execute_result"
    }
   ],
   "source": [
    "# 훈련 데이터 세트에 normal 데이터만 유지\n",
    "X_train_normal = X_train[np.where(y_train == 0)]\n",
    "\n",
    "#  normal data 만으로 fit\n",
    "lof_novelty = LocalOutlierFactor(n_neighbors=20, novelty=True)\n",
    "lof_novelty.fit(X_train_normal)"
   ]
  },
  {
   "cell_type": "code",
   "execution_count": 6,
   "id": "e55ff7f7",
   "metadata": {},
   "outputs": [
    {
     "data": {
      "text/plain": [
       "array([ 1,  1,  1,  1,  1,  1,  1, -1,  1,  1])"
      ]
     },
     "execution_count": 6,
     "metadata": {},
     "output_type": "execute_result"
    }
   ],
   "source": [
    "# test dataset 에서 novelty 예측\n",
    "prediction_novelty = lof_novelty.predict(X_test)\n",
    "prediction_novelty[:10]"
   ]
  },
  {
   "cell_type": "code",
   "execution_count": 7,
   "id": "14d2dd8b",
   "metadata": {},
   "outputs": [
    {
     "data": {
      "text/plain": [
       "[0, 0, 0, 0, 0, 0, 0, 1, 0, 0]"
      ]
     },
     "execution_count": 7,
     "metadata": {},
     "output_type": "execute_result"
    }
   ],
   "source": [
    "# -1 을 0으로, 1을 0으로 변경\n",
    "prediction_novelty = [1 if i == -1 else 0 for i in prediction_novelty]\n",
    "prediction_novelty[:10]"
   ]
  },
  {
   "cell_type": "code",
   "execution_count": 8,
   "id": "93f02e4e",
   "metadata": {},
   "outputs": [
    {
     "name": "stdout",
     "output_type": "stream",
     "text": [
      "              precision    recall  f1-score   support\n",
      "\n",
      "           0       1.00      0.98      0.99       400\n",
      "           1       0.87      0.97      0.92        40\n",
      "\n",
      "    accuracy                           0.98       440\n",
      "   macro avg       0.93      0.98      0.95       440\n",
      "weighted avg       0.99      0.98      0.98       440\n",
      "\n"
     ]
    }
   ],
   "source": [
    "# model 성능 측정\n",
    "print(classification_report(y_test, prediction_novelty))"
   ]
  },
  {
   "cell_type": "markdown",
   "id": "c82897c2",
   "metadata": {},
   "source": [
    "### 2. LOF(Local Outlier Factor)를 사용한 이상치 감지 (outlier detection) \n",
    "- 위와 동일한 데이터 세트에서 outlier detection을 훈련하고 예측하기 위한 LOF(Local Outlier Factor).   \n",
    "- normal 과 outlier 가 섞여 있는 dataset 으로 fit_predict 해야 합니다.\n",
    "- Outlier Detection algorithm을 활성화하려면 novelty=`False`로 설정해야 합니다. \n",
    "```\n",
    "LocalOutlierFactor(n_neighbors=5, novelty=False)  \n",
    "```\n",
    "- X_test 로 측정한 모델간 비교를 위해 X_test 사용"
   ]
  },
  {
   "cell_type": "code",
   "execution_count": 9,
   "id": "ac57e287",
   "metadata": {},
   "outputs": [
    {
     "data": {
      "text/plain": [
       "array([ 1,  1,  1,  1, -1,  1,  1, -1,  1,  1,  1,  1,  1,  1,  1,  1,  1,\n",
       "        1,  1,  1, -1,  1,  1,  1,  1,  1,  1,  1,  1,  1,  1,  1, -1,  1,\n",
       "        1,  1,  1,  1,  1,  1,  1,  1,  1,  1,  1,  1,  1,  1,  1,  1,  1,\n",
       "        1,  1,  1, -1,  1,  1,  1, -1,  1,  1,  1,  1,  1,  1,  1,  1,  1,\n",
       "        1,  1,  1,  1, -1,  1,  1,  1,  1,  1,  1,  1,  1,  1,  1,  1,  1,\n",
       "        1,  1,  1,  1,  1,  1,  1,  1,  1,  1,  1,  1,  1,  1, -1])"
      ]
     },
     "execution_count": 9,
     "metadata": {},
     "output_type": "execute_result"
    }
   ],
   "source": [
    "# 이상치 감지를 위한 LOF model\n",
    "lof_outlier = LocalOutlierFactor(n_neighbors=20, novelty=False)\n",
    "\n",
    "# Predict novelties - normal 과 outlier 가 섞인 data 로 fit\n",
    "prediction_outlier = lof_outlier.fit_predict(X_test)\n",
    "prediction_outlier[:100]"
   ]
  },
  {
   "cell_type": "code",
   "execution_count": 10,
   "id": "d54682e8",
   "metadata": {},
   "outputs": [
    {
     "name": "stdout",
     "output_type": "stream",
     "text": [
      "              precision    recall  f1-score   support\n",
      "\n",
      "           0       0.93      0.97      0.95       400\n",
      "           1       0.50      0.33      0.39        40\n",
      "\n",
      "    accuracy                           0.91       440\n",
      "   macro avg       0.72      0.65      0.67       440\n",
      "weighted avg       0.90      0.91      0.90       440\n",
      "\n"
     ]
    }
   ],
   "source": [
    "# -1 을 0으로, 1을 0으로 변경\n",
    "prediction_outlier = [1 if i==-1 else 0 for i in prediction_outlier]\n",
    "\n",
    "# model 성능 측정\n",
    "print(classification_report(y_test, prediction_outlier))"
   ]
  },
  {
   "cell_type": "markdown",
   "id": "3f6744c5",
   "metadata": {},
   "source": [
    "- 시각화를 통한 특이치 검축 / 이상치 검출 결과 비교"
   ]
  },
  {
   "cell_type": "code",
   "execution_count": 11,
   "id": "e49ed242",
   "metadata": {},
   "outputs": [
    {
     "data": {
      "text/html": [
       "<div>\n",
       "<style scoped>\n",
       "    .dataframe tbody tr th:only-of-type {\n",
       "        vertical-align: middle;\n",
       "    }\n",
       "\n",
       "    .dataframe tbody tr th {\n",
       "        vertical-align: top;\n",
       "    }\n",
       "\n",
       "    .dataframe thead th {\n",
       "        text-align: right;\n",
       "    }\n",
       "</style>\n",
       "<table border=\"1\" class=\"dataframe\">\n",
       "  <thead>\n",
       "    <tr style=\"text-align: right;\">\n",
       "      <th></th>\n",
       "      <th>feature1</th>\n",
       "      <th>feature2</th>\n",
       "      <th>y_test</th>\n",
       "      <th>prediction_novelty</th>\n",
       "      <th>prediction_outlier</th>\n",
       "    </tr>\n",
       "  </thead>\n",
       "  <tbody>\n",
       "    <tr>\n",
       "      <th>0</th>\n",
       "      <td>-0.170950</td>\n",
       "      <td>0.098853</td>\n",
       "      <td>0</td>\n",
       "      <td>0</td>\n",
       "      <td>0</td>\n",
       "    </tr>\n",
       "    <tr>\n",
       "      <th>1</th>\n",
       "      <td>0.165690</td>\n",
       "      <td>0.187689</td>\n",
       "      <td>0</td>\n",
       "      <td>0</td>\n",
       "      <td>0</td>\n",
       "    </tr>\n",
       "    <tr>\n",
       "      <th>2</th>\n",
       "      <td>-0.289699</td>\n",
       "      <td>0.488750</td>\n",
       "      <td>0</td>\n",
       "      <td>0</td>\n",
       "      <td>0</td>\n",
       "    </tr>\n",
       "    <tr>\n",
       "      <th>3</th>\n",
       "      <td>-0.027420</td>\n",
       "      <td>-0.024264</td>\n",
       "      <td>0</td>\n",
       "      <td>0</td>\n",
       "      <td>0</td>\n",
       "    </tr>\n",
       "    <tr>\n",
       "      <th>4</th>\n",
       "      <td>-0.872096</td>\n",
       "      <td>-0.112447</td>\n",
       "      <td>0</td>\n",
       "      <td>0</td>\n",
       "      <td>1</td>\n",
       "    </tr>\n",
       "  </tbody>\n",
       "</table>\n",
       "</div>"
      ],
      "text/plain": [
       "   feature1  feature2  y_test  prediction_novelty  prediction_outlier\n",
       "0 -0.170950  0.098853       0                   0                   0\n",
       "1  0.165690  0.187689       0                   0                   0\n",
       "2 -0.289699  0.488750       0                   0                   0\n",
       "3 -0.027420 -0.024264       0                   0                   0\n",
       "4 -0.872096 -0.112447       0                   0                   1"
      ]
     },
     "execution_count": 11,
     "metadata": {},
     "output_type": "execute_result"
    }
   ],
   "source": [
    "# 시각화를 위해 X_test, y_test를 DataFrame으로 변환\n",
    "df_test = pd.DataFrame(X_test, columns=['feature1', 'feature2'])\n",
    "df_test['y_test'] = y_test\n",
    "df_test['prediction_novelty'] = prediction_novelty\n",
    "df_test['prediction_outlier'] = prediction_outlier\n",
    "df_test.head()"
   ]
  },
  {
   "cell_type": "code",
   "execution_count": 12,
   "id": "351fe791",
   "metadata": {},
   "outputs": [
    {
     "data": {
      "image/png": "[encoded data removed]",
      "text/plain": [
       "<Figure size 1440x432 with 3 Axes>"
      ]
     },
     "metadata": {
      "needs_background": "light"
     },
     "output_type": "display_data"
    }
   ],
   "source": [
    "fig, (ax0, ax1, ax2)=plt.subplots(1,3, sharey=True, figsize=(20,6))\n",
    "# original data (정상 + 이상치)\n",
    "ax0.set_title('Original Data (Normal + Outlier)')\n",
    "ax0.scatter(df_test['feature1'], df_test['feature2'], \n",
    "            c=df_test['y_test'], cmap='rainbow')\n",
    "\n",
    "# LOF 특이치 검출\n",
    "ax1.set_title('LOF Novelty Detection')\n",
    "ax1.scatter(df_test['feature1'], df_test['feature2'], \n",
    "            c=df_test['prediction_novelty'], cmap='rainbow')\n",
    "\n",
    "# LOF 이상치 검출\n",
    "ax2.set_title('LOF Outlier / Anomaly Detection')\n",
    "ax2.scatter(df_test['feature1'], df_test['feature2'], \n",
    "            c=df_test['prediction_outlier'], cmap='rainbow')\n",
    "plt.show()"
   ]
  },
  {
   "cell_type": "markdown",
   "id": "d0e07b9b",
   "metadata": {},
   "source": [
    "- Novelty Detection model 에서는 minoriy observation 들을 특이치로 분류  \n",
    "- Anomaly Detection model 에서는 저밀도 영역을 정상으로 분류하고 밀도가 다른 영역을 이상치로 분류"
   ]
  },
  {
   "cell_type": "code",
   "execution_count": null,
   "id": "f7f66ae5",
   "metadata": {},
   "outputs": [],
   "source": []
  }
 ],
 "metadata": {
  "kernelspec": {
   "display_name": "Python 3 (ipykernel)",
   "language": "python",
   "name": "python3"
  },
  "language_info": {
   "codemirror_mode": {
    "name": "ipython",
    "version": 3
   },
   "file_extension": ".py",
   "mimetype": "text/x-python",
   "name": "python",
   "nbconvert_exporter": "python",
   "pygments_lexer": "ipython3",
   "version": "3.9.12"
  }
 },
 "nbformat": 4,
 "nbformat_minor": 5
}
