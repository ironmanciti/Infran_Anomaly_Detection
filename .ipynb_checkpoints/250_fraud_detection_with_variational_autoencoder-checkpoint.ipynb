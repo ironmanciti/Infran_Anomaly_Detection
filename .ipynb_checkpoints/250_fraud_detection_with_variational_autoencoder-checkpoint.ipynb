{
 "cells": [
  {
   "cell_type": "markdown",
   "metadata": {
    "_uuid": "21b9cdffef93ded4706cf9e69a091add5897d633",
    "id": "LBydBHZl7fqa"
   },
   "source": [
    "# Fraud Detection with Variational Autoencoder"
   ]
  },
  {
   "cell_type": "markdown",
   "metadata": {
    "_uuid": "3c96ae50f9b6526183014fd6a05e63a154519e6f",
    "id": "40TkjvAJ7fqa"
   },
   "source": [
    "- VAE는 vanilla 오토인코더에 비해 훨씬 나은 성능의 이상탐지(anomaly detection) 성능을 제공합니다. 실험을 통해 우리는 기존의 AE는 너무 큰 bottleneck을 가지면 identity function이 되며 이상탐지 성능이 떨어지는 것에 반해, VAE는 bottleneck의 크기가 커질수록 이상탐지 성능이 오르는 효과를 갖는 것을 확인할 수 있습니다. 따라서 AE 기반의 anomaly detection을 수행할 때, 기존에는 bottleneck의 크기를 hyper-parameter로 튜닝해야 했던 반면에, VAE의 경우에는 튜닝을 할 필요가 거의 없습니다.  \n",
    "\n",
    "- 신용 카드 데이터에 VAE(Variational Autoencoder)를 적용합니다. \n",
    "\n",
    "\n",
    "- 분포를 배우는 것이 좋은 점은,  \n",
    "    첫째, 데이터 및 노이즈 생성 프로세스를 명시적으로 모델링함으로써 VAE는 더 robust 하게 그 두가지를 분리하는 방법을 배울 수 있습니다.   \n",
    "    둘째, disentanglement constraint가 적용되면 잠재 공간이 더 해석 가능해집니다.    \n",
    "    셋째, 잠재 벡터를 샘플링하여 새 샘플을 생성하고 디코더를 통해 파이프할 수 있습니다.   \n",
    "    \n",
    "\n",
    "* disentanglement : latent space가 linear한 구조를 가지게 되어서 하나의 latent vector z 를 움직였을 때 정해진 어떠한 하나의 특성이 변경되게 만들고자 하는 것. 예를 들어, latent vector z 의 specific 한 값을 변경했을 때 생성되는 이미지는 하나의 특성들(머리카락 길이, 성별, 사람의 시선)만 영향을 주게 만들었다고 하면, 이 모델의 latent space는 disentanglement 하다고 말 할 수 있다.\n",
    "\n",
    "<sup>1</sup> [Building Autoencoders in Keras - Keras Blog](https://blog.keras.io/building-autoencoders-in-keras.html)  \n",
    "<sup>2</sup> [Variational Autoencoders with Tensorflow Probability Layers - Medium](https://medium.com/tensorflow/variational-autoencoders-with-tensorflow-probability-layers-d06c658931b7)   \n",
    "<sup>3</sup> [Google Colab VAE Interactive Example](https://colab.research.google.com/github/tensorflow/probability/blob/master/tensorflow_probability/examples/jupyter_notebooks/Probabilistic_Layers_VAE.ipynb#scrollTo=9clSiUTiT3G1)  \n",
    "<sup>4</sup> [An, J., & Cho, S. (2015). Variational autoencoder based anomaly detection using reconstruction probability. Special Lecture on IE, 2, 1-18.](https://pdfs.semanticscholar.org/0611/46b1d7938d7a8dae70e3531a00fceb3c78e8.pdf)\n",
    "\n",
    "\n",
    "### Contents \n",
    "\n",
    "1. Variational Autoencoder 훈련\n",
    "2. 잠재 표현 시각화 (Visualize Latent Representations)\n",
    "3. VAE model 훈련\n",
    "4. 재구성 오류 계산 \n",
    "5. 테스트 세트에 대한 평가"
   ]
  },
  {
   "cell_type": "code",
   "execution_count": 1,
   "metadata": {
    "id": "Lok8hozSoJj2"
   },
   "outputs": [],
   "source": [
    "# !pip install tensorflow-probability"
   ]
  },
  {
   "cell_type": "code",
   "execution_count": 1,
   "metadata": {
    "execution": {
     "iopub.execute_input": "2021-06-07T12:03:00.896799Z",
     "iopub.status.busy": "2021-06-07T12:03:00.896474Z",
     "iopub.status.idle": "2021-06-07T12:03:00.901108Z",
     "shell.execute_reply": "2021-06-07T12:03:00.900299Z",
     "shell.execute_reply.started": "2021-06-07T12:03:00.896738Z"
    },
    "id": "RXd-JFGF7fqb"
   },
   "outputs": [],
   "source": [
    "import numpy as np\n",
    "import pandas as pd\n",
    "import time\n",
    "import matplotlib.pyplot as plt\n",
    "import seaborn as sns\n",
    "\n",
    "import tensorflow as tf\n",
    "from tensorflow.keras.models import Sequential, Model\n",
    "from tensorflow.keras.layers import Dense, Input\n",
    "from tensorflow.keras.utils import plot_model\n",
    "from tensorflow.keras.callbacks import EarlyStopping, ModelCheckpoint\n",
    "\n",
    "from sklearn.model_selection import train_test_split \n",
    "from sklearn.linear_model import LogisticRegression\n",
    "from sklearn.metrics import confusion_matrix, roc_auc_score, roc_curve, \\\n",
    "                            precision_score, recall_score\n",
    "from sklearn.preprocessing import StandardScaler\n",
    "\n",
    "import tensorflow_probability as tfp\n",
    "tfd = tfp.distributions\n",
    "\n",
    "np.random.seed(0)\n",
    "tf.random.set_seed(0)"
   ]
  },
  {
   "cell_type": "markdown",
   "metadata": {
    "_uuid": "bdd18414d608713f44fb86d9ee8a9eae7fa77367",
    "id": "7sVQjS607fqc"
   },
   "source": [
    "## Raw Dataset\n",
    "\n",
    "model train 은 train set 만으로 합니다. test set은 최종 평가 때까지 사용되지 않습니다."
   ]
  },
  {
   "cell_type": "code",
   "execution_count": 2,
   "metadata": {
    "colab": {
     "base_uri": "https://localhost:8080/",
     "height": 299
    },
    "id": "W8g_mu277fqc",
    "outputId": "eb931a5e-69a3-484f-bb28-b7b6b5adce90"
   },
   "outputs": [
    {
     "data": {
      "text/html": [
       "<div>\n",
       "<style scoped>\n",
       "    .dataframe tbody tr th:only-of-type {\n",
       "        vertical-align: middle;\n",
       "    }\n",
       "\n",
       "    .dataframe tbody tr th {\n",
       "        vertical-align: top;\n",
       "    }\n",
       "\n",
       "    .dataframe thead th {\n",
       "        text-align: right;\n",
       "    }\n",
       "</style>\n",
       "<table border=\"1\" class=\"dataframe\">\n",
       "  <thead>\n",
       "    <tr style=\"text-align: right;\">\n",
       "      <th></th>\n",
       "      <th>Time</th>\n",
       "      <th>V1</th>\n",
       "      <th>V2</th>\n",
       "      <th>V3</th>\n",
       "      <th>V4</th>\n",
       "      <th>V5</th>\n",
       "      <th>V6</th>\n",
       "      <th>V7</th>\n",
       "      <th>V8</th>\n",
       "      <th>V9</th>\n",
       "      <th>...</th>\n",
       "      <th>V21</th>\n",
       "      <th>V22</th>\n",
       "      <th>V23</th>\n",
       "      <th>V24</th>\n",
       "      <th>V25</th>\n",
       "      <th>V26</th>\n",
       "      <th>V27</th>\n",
       "      <th>V28</th>\n",
       "      <th>Amount</th>\n",
       "      <th>Class</th>\n",
       "    </tr>\n",
       "  </thead>\n",
       "  <tbody>\n",
       "    <tr>\n",
       "      <th>0</th>\n",
       "      <td>0.0</td>\n",
       "      <td>-1.359807</td>\n",
       "      <td>-0.072781</td>\n",
       "      <td>2.536347</td>\n",
       "      <td>1.378155</td>\n",
       "      <td>-0.338321</td>\n",
       "      <td>0.462388</td>\n",
       "      <td>0.239599</td>\n",
       "      <td>0.098698</td>\n",
       "      <td>0.363787</td>\n",
       "      <td>...</td>\n",
       "      <td>-0.018307</td>\n",
       "      <td>0.277838</td>\n",
       "      <td>-0.110474</td>\n",
       "      <td>0.066928</td>\n",
       "      <td>0.128539</td>\n",
       "      <td>-0.189115</td>\n",
       "      <td>0.133558</td>\n",
       "      <td>-0.021053</td>\n",
       "      <td>149.62</td>\n",
       "      <td>0</td>\n",
       "    </tr>\n",
       "    <tr>\n",
       "      <th>1</th>\n",
       "      <td>0.0</td>\n",
       "      <td>1.191857</td>\n",
       "      <td>0.266151</td>\n",
       "      <td>0.166480</td>\n",
       "      <td>0.448154</td>\n",
       "      <td>0.060018</td>\n",
       "      <td>-0.082361</td>\n",
       "      <td>-0.078803</td>\n",
       "      <td>0.085102</td>\n",
       "      <td>-0.255425</td>\n",
       "      <td>...</td>\n",
       "      <td>-0.225775</td>\n",
       "      <td>-0.638672</td>\n",
       "      <td>0.101288</td>\n",
       "      <td>-0.339846</td>\n",
       "      <td>0.167170</td>\n",
       "      <td>0.125895</td>\n",
       "      <td>-0.008983</td>\n",
       "      <td>0.014724</td>\n",
       "      <td>2.69</td>\n",
       "      <td>0</td>\n",
       "    </tr>\n",
       "    <tr>\n",
       "      <th>2</th>\n",
       "      <td>1.0</td>\n",
       "      <td>-1.358354</td>\n",
       "      <td>-1.340163</td>\n",
       "      <td>1.773209</td>\n",
       "      <td>0.379780</td>\n",
       "      <td>-0.503198</td>\n",
       "      <td>1.800499</td>\n",
       "      <td>0.791461</td>\n",
       "      <td>0.247676</td>\n",
       "      <td>-1.514654</td>\n",
       "      <td>...</td>\n",
       "      <td>0.247998</td>\n",
       "      <td>0.771679</td>\n",
       "      <td>0.909412</td>\n",
       "      <td>-0.689281</td>\n",
       "      <td>-0.327642</td>\n",
       "      <td>-0.139097</td>\n",
       "      <td>-0.055353</td>\n",
       "      <td>-0.059752</td>\n",
       "      <td>378.66</td>\n",
       "      <td>0</td>\n",
       "    </tr>\n",
       "    <tr>\n",
       "      <th>3</th>\n",
       "      <td>1.0</td>\n",
       "      <td>-0.966272</td>\n",
       "      <td>-0.185226</td>\n",
       "      <td>1.792993</td>\n",
       "      <td>-0.863291</td>\n",
       "      <td>-0.010309</td>\n",
       "      <td>1.247203</td>\n",
       "      <td>0.237609</td>\n",
       "      <td>0.377436</td>\n",
       "      <td>-1.387024</td>\n",
       "      <td>...</td>\n",
       "      <td>-0.108300</td>\n",
       "      <td>0.005274</td>\n",
       "      <td>-0.190321</td>\n",
       "      <td>-1.175575</td>\n",
       "      <td>0.647376</td>\n",
       "      <td>-0.221929</td>\n",
       "      <td>0.062723</td>\n",
       "      <td>0.061458</td>\n",
       "      <td>123.50</td>\n",
       "      <td>0</td>\n",
       "    </tr>\n",
       "    <tr>\n",
       "      <th>4</th>\n",
       "      <td>2.0</td>\n",
       "      <td>-1.158233</td>\n",
       "      <td>0.877737</td>\n",
       "      <td>1.548718</td>\n",
       "      <td>0.403034</td>\n",
       "      <td>-0.407193</td>\n",
       "      <td>0.095921</td>\n",
       "      <td>0.592941</td>\n",
       "      <td>-0.270533</td>\n",
       "      <td>0.817739</td>\n",
       "      <td>...</td>\n",
       "      <td>-0.009431</td>\n",
       "      <td>0.798278</td>\n",
       "      <td>-0.137458</td>\n",
       "      <td>0.141267</td>\n",
       "      <td>-0.206010</td>\n",
       "      <td>0.502292</td>\n",
       "      <td>0.219422</td>\n",
       "      <td>0.215153</td>\n",
       "      <td>69.99</td>\n",
       "      <td>0</td>\n",
       "    </tr>\n",
       "  </tbody>\n",
       "</table>\n",
       "<p>5 rows × 31 columns</p>\n",
       "</div>"
      ],
      "text/plain": [
       "   Time        V1        V2        V3        V4        V5        V6        V7  \\\n",
       "0   0.0 -1.359807 -0.072781  2.536347  1.378155 -0.338321  0.462388  0.239599   \n",
       "1   0.0  1.191857  0.266151  0.166480  0.448154  0.060018 -0.082361 -0.078803   \n",
       "2   1.0 -1.358354 -1.340163  1.773209  0.379780 -0.503198  1.800499  0.791461   \n",
       "3   1.0 -0.966272 -0.185226  1.792993 -0.863291 -0.010309  1.247203  0.237609   \n",
       "4   2.0 -1.158233  0.877737  1.548718  0.403034 -0.407193  0.095921  0.592941   \n",
       "\n",
       "         V8        V9  ...       V21       V22       V23       V24       V25  \\\n",
       "0  0.098698  0.363787  ... -0.018307  0.277838 -0.110474  0.066928  0.128539   \n",
       "1  0.085102 -0.255425  ... -0.225775 -0.638672  0.101288 -0.339846  0.167170   \n",
       "2  0.247676 -1.514654  ...  0.247998  0.771679  0.909412 -0.689281 -0.327642   \n",
       "3  0.377436 -1.387024  ... -0.108300  0.005274 -0.190321 -1.175575  0.647376   \n",
       "4 -0.270533  0.817739  ... -0.009431  0.798278 -0.137458  0.141267 -0.206010   \n",
       "\n",
       "        V26       V27       V28  Amount  Class  \n",
       "0 -0.189115  0.133558 -0.021053  149.62      0  \n",
       "1  0.125895 -0.008983  0.014724    2.69      0  \n",
       "2 -0.139097 -0.055353 -0.059752  378.66      0  \n",
       "3 -0.221929  0.062723  0.061458  123.50      0  \n",
       "4  0.502292  0.219422  0.215153   69.99      0  \n",
       "\n",
       "[5 rows x 31 columns]"
      ]
     },
     "execution_count": 2,
     "metadata": {},
     "output_type": "execute_result"
    }
   ],
   "source": [
    "df = pd.read_csv('https://storage.googleapis.com/download.tensorflow.org/data/creditcard.csv')\n",
    "\n",
    "df.head()"
   ]
  },
  {
   "cell_type": "markdown",
   "metadata": {
    "id": "Hd9vWJgAKpSc"
   },
   "source": [
    "-  데이터 세트가 매우 불균형합니다."
   ]
  },
  {
   "cell_type": "code",
   "execution_count": 3,
   "metadata": {
    "colab": {
     "base_uri": "https://localhost:8080/"
    },
    "id": "lv_9qemqKpSd",
    "outputId": "4c526cc2-e4c7-427d-9e19-d6762a113181"
   },
   "outputs": [
    {
     "data": {
      "text/plain": [
       "0    284315\n",
       "1       492\n",
       "Name: Class, dtype: int64"
      ]
     },
     "execution_count": 3,
     "metadata": {},
     "output_type": "execute_result"
    }
   ],
   "source": [
    "df['Class'].value_counts()"
   ]
  },
  {
   "cell_type": "code",
   "execution_count": 4,
   "metadata": {
    "colab": {
     "base_uri": "https://localhost:8080/"
    },
    "id": "jiwKNXqsKpSd",
    "outputId": "46b4f37f-1a4d-43bc-b7db-aa927763e448"
   },
   "outputs": [
    {
     "name": "stdout",
     "output_type": "stream",
     "text": [
      "Total = 284,807\n",
      "Fraud = 0.17%\n",
      "Normal = 99.83%\n"
     ]
    }
   ],
   "source": [
    "fraud = (df['Class'] == 1).sum()\n",
    "normal = (df['Class'] == 0).sum()\n",
    "\n",
    "total = fraud + normal\n",
    "\n",
    "print(f\"Total = {total:,}\")\n",
    "print(f\"Fraud = {fraud/total*100:,.2f}%\")\n",
    "print(f\"Normal = {normal/total*100:,.2f}%\")"
   ]
  },
  {
   "cell_type": "markdown",
   "metadata": {
    "id": "23wCkGDrKpSe"
   },
   "source": [
    "- Amount 필드는 로그 스케일로 변환합니다."
   ]
  },
  {
   "cell_type": "code",
   "execution_count": 5,
   "metadata": {
    "id": "9qBa4MkgKpSe"
   },
   "outputs": [],
   "source": [
    "df.loc[:, 'Amount'] = np.log(df.loc[:, 'Amount'] + 1)"
   ]
  },
  {
   "cell_type": "markdown",
   "metadata": {
    "id": "eM-TssowKpSe"
   },
   "source": [
    "- class 1 이 너무 적으므로 통상적인 7:3 대신 5:5 비율로 train, test set 분리"
   ]
  },
  {
   "cell_type": "code",
   "execution_count": 6,
   "metadata": {
    "_kg_hide-input": false,
    "_kg_hide-output": true,
    "_uuid": "cbc89746d900392dbddef6a0906e0b4fefe88523",
    "colab": {
     "base_uri": "https://localhost:8080/"
    },
    "id": "wlw9YCsp7fqd",
    "outputId": "994241c3-a7ce-430e-fedc-8ffadfeeb7e6"
   },
   "outputs": [
    {
     "data": {
      "text/plain": [
       "((142403, 30), (142404, 30), (142403,), (142404,))"
      ]
     },
     "execution_count": 6,
     "metadata": {},
     "output_type": "execute_result"
    }
   ],
   "source": [
    "X_train, X_test, y_train, y_test = train_test_split(df.drop('Class', axis=1).values , df['Class'].values, \n",
    "                                                    test_size=0.5, random_state=0)\n",
    "X_train.shape, X_test.shape, y_train.shape, y_test.shape"
   ]
  },
  {
   "cell_type": "code",
   "execution_count": 7,
   "metadata": {
    "colab": {
     "base_uri": "https://localhost:8080/"
    },
    "id": "zK1VPhWmxjAQ",
    "outputId": "a035ee42-40ba-48aa-dce5-dfcadd060aeb"
   },
   "outputs": [
    {
     "data": {
      "text/plain": [
       "array([0.99825144, 0.00174856])"
      ]
     },
     "execution_count": 7,
     "metadata": {},
     "output_type": "execute_result"
    }
   ],
   "source": [
    "np.bincount(y_train) / len(y_train)"
   ]
  },
  {
   "cell_type": "code",
   "execution_count": 8,
   "metadata": {
    "colab": {
     "base_uri": "https://localhost:8080/"
    },
    "id": "PvKk0AdTKpSf",
    "outputId": "f81ad33a-f4a9-4af5-f21e-1f76055711e2"
   },
   "outputs": [
    {
     "data": {
      "text/plain": [
       "array([0.99829359, 0.00170641])"
      ]
     },
     "execution_count": 8,
     "metadata": {},
     "output_type": "execute_result"
    }
   ],
   "source": [
    "np.bincount(y_test) / len(y_test)"
   ]
  },
  {
   "cell_type": "code",
   "execution_count": 9,
   "metadata": {
    "id": "X4VX-zHJwou6"
   },
   "outputs": [],
   "source": [
    "sc = StandardScaler()\n",
    "X_train = sc.fit_transform(X_train)\n",
    "X_test = sc.transform(X_test)"
   ]
  },
  {
   "cell_type": "markdown",
   "metadata": {
    "_uuid": "3ae6791f9f14094bf85111601d5a56c20a5fc34d",
    "id": "4xbpTJpN7fqf"
   },
   "source": [
    "## Train a Variational Autoencoder\n",
    "\n",
    "- latent variable의 prior는 latent dimension의 random unit multivariate normal vector(tfd.MultivariateNormalDiag) 로 설정 합니다.  \n",
    "\n",
    "- 인코더의 출력인 잠재 분포 parameter 는 0이 아닌 공분산을 가진 다변수 정규정규 분포로 선택 되었습니다. 이는 사기 거래와 정상적인 거래를 분리하는 데 영향을 미치고, 사기 거래의 공분산이 패턴을 가질 수 있기 때문입니다. 따라서, LATENT Dimension 을 2 로 정할 경우, 학습할 distribution parameter는 5개 입니다 (2 개의 평균값 + 하삼각형의 2X2 공분산 행렬에서 가져온 공분산 값 3 개).  \n",
    "\n",
    "\n",
    "- 디코더의 출력인 데이터 분포 매개 변수는 feature-independent한 정규 분포를 따릅니다.  신용카드 데이터는 실수 값이며 일반적으로 정규 분포를 따르므로 정규 분포를 사용하여 출력을 모델링하는 것이 합리적입니다. "
   ]
  },
  {
   "cell_type": "markdown",
   "metadata": {
    "id": "sinkz1mnwXBL"
   },
   "source": [
    "train set 을 정상과 비정상 set 으로 구분"
   ]
  },
  {
   "cell_type": "code",
   "execution_count": 10,
   "metadata": {
    "colab": {
     "base_uri": "https://localhost:8080/"
    },
    "id": "bFAU9qpzKpSg",
    "outputId": "049ee962-bf62-42f1-8418-8647975e02a2"
   },
   "outputs": [
    {
     "data": {
      "text/plain": [
       "((142154, 30), (249, 30))"
      ]
     },
     "execution_count": 10,
     "metadata": {},
     "output_type": "execute_result"
    }
   ],
   "source": [
    "X_train_normal = X_train[y_train == 0]\n",
    "X_train_fraud = X_train[y_train == 1]\n",
    "\n",
    "X_train_normal.shape, X_train_fraud.shape"
   ]
  },
  {
   "cell_type": "markdown",
   "metadata": {
    "id": "udMTw76_wkFT"
   },
   "source": [
    "test set을 정상과 비정상 set으로 구분"
   ]
  },
  {
   "cell_type": "code",
   "execution_count": 11,
   "metadata": {
    "colab": {
     "base_uri": "https://localhost:8080/"
    },
    "id": "cDV2x0-OKpSh",
    "outputId": "08fb4f61-30c5-4215-de21-35b7b9325c64"
   },
   "outputs": [
    {
     "data": {
      "text/plain": [
       "((142161, 30), (243, 30))"
      ]
     },
     "execution_count": 11,
     "metadata": {},
     "output_type": "execute_result"
    }
   ],
   "source": [
    "X_test_normal = X_test[y_test == 0]\n",
    "X_test_fraud = X_test[y_test == 1]\n",
    "\n",
    "X_test_normal.shape, X_test_fraud.shape"
   ]
  },
  {
   "cell_type": "markdown",
   "metadata": {
    "id": "ZQjg1UslwlWx"
   },
   "source": [
    "### model 정의"
   ]
  },
  {
   "cell_type": "code",
   "execution_count": 18,
   "metadata": {
    "id": "QCjKSeaGi1NE"
   },
   "outputs": [],
   "source": [
    "def encoder_model(input_dim, latent_dim):\n",
    "    prior = tfd.MultivariateNormalDiag(\n",
    "            loc=tf.zeros([latent_dim]),\n",
    "            scale_diag=tf.ones([latent_dim]))\n",
    "    \n",
    "    encoder_input = Input(shape=(input_dim,))\n",
    "    x = Dense(20, activation=tf.nn.leaky_relu)(encoder_input)\n",
    "    x = Dense(15, activation=tf.nn.leaky_relu)(x)\n",
    "    x = Dense(tfp.layers.MultivariateNormalTriL.params_size(latent_dim), activation=None)(x)\n",
    "    encoded = tfp.layers.MultivariateNormalTriL(latent_dim, \n",
    "                        activity_regularizer=tfp.layers.KLDivergenceRegularizer(prior))(x)\n",
    "    encoder = Model(encoder_input, encoded)\n",
    "    return encoder\n",
    "\n",
    "def decoder_model(latent_dim, input_dim):\n",
    "    decoder_input = Input(shape=(latent_dim,))\n",
    "    x = Dense(15, activation=tf.nn.leaky_relu)(decoder_input)\n",
    "    x = Dense(20, activation=tf.nn.leaky_relu)(x)\n",
    "    x = Dense(tfp.layers.IndependentNormal.params_size(input_dim), activation=None)(x)\n",
    "    decoded = tfp.layers.IndependentNormal(input_dim)(x)\n",
    "\n",
    "    decoder = Model(decoder_input, decoded)\n",
    "    return decoder\n",
    "\n",
    "def vae_model(encoder, decoder):\n",
    "    vae = Model(inputs=encoder.inputs,\n",
    "                outputs=decoder(encoder.outputs[0]))\n",
    "\n",
    "    negloglik = lambda x, rv_x: -rv_x.log_prob(x)\n",
    "\n",
    "    vae.compile(optimizer=tf.keras.optimizers.Adam(learning_rate=0.001), \n",
    "                loss=negloglik)\n",
    "    return vae"
   ]
  },
  {
   "cell_type": "code",
   "execution_count": 14,
   "metadata": {
    "colab": {
     "base_uri": "https://localhost:8080/"
    },
    "id": "tJ0jPt9gTYOX",
    "outputId": "277c31a3-98f7-45a8-b4a8-5d36b172194c"
   },
   "outputs": [
    {
     "name": "stdout",
     "output_type": "stream",
     "text": [
      "Model: \"model\"\n",
      "_________________________________________________________________\n",
      " Layer (type)                Output Shape              Param #   \n",
      "=================================================================\n",
      " input_1 (InputLayer)        [(None, 30)]              0         \n",
      "                                                                 \n",
      " dense (Dense)               (None, 20)                620       \n",
      "                                                                 \n",
      " dense_1 (Dense)             (None, 15)                315       \n",
      "                                                                 \n",
      " dense_2 (Dense)             (None, 5)                 80        \n",
      "                                                                 \n",
      " multivariate_normal_tri_l (  ((None, 2),              0         \n",
      " MultivariateNormalTriL)      (None, 2))                         \n",
      "                                                                 \n",
      "=================================================================\n",
      "Total params: 1,015\n",
      "Trainable params: 1,015\n",
      "Non-trainable params: 0\n",
      "_________________________________________________________________\n"
     ]
    }
   ],
   "source": [
    "input_dim = X_train_normal.shape[1]\n",
    "\n",
    "# latent_dim = 5\n",
    "latent_dim = 2\n",
    "\n",
    "encoder = encoder_model(input_dim, latent_dim)\n",
    "encoder.summary()"
   ]
  },
  {
   "cell_type": "code",
   "execution_count": 15,
   "metadata": {
    "colab": {
     "base_uri": "https://localhost:8080/"
    },
    "id": "Pwv_iOy8Tv-y",
    "outputId": "29cd1dcf-c5b0-4bb5-b7f7-3acb2fe2ffb9"
   },
   "outputs": [
    {
     "name": "stdout",
     "output_type": "stream",
     "text": [
      "Model: \"model_1\"\n",
      "_________________________________________________________________\n",
      " Layer (type)                Output Shape              Param #   \n",
      "=================================================================\n",
      " input_2 (InputLayer)        [(None, 2)]               0         \n",
      "                                                                 \n",
      " dense_3 (Dense)             (None, 15)                45        \n",
      "                                                                 \n",
      " dense_4 (Dense)             (None, 20)                320       \n",
      "                                                                 \n",
      " dense_5 (Dense)             (None, 60)                1260      \n",
      "                                                                 \n",
      " independent_normal (Indepen  ((None, 30),             0         \n",
      " dentNormal)                  (None, 30))                        \n",
      "                                                                 \n",
      "=================================================================\n",
      "Total params: 1,625\n",
      "Trainable params: 1,625\n",
      "Non-trainable params: 0\n",
      "_________________________________________________________________\n"
     ]
    }
   ],
   "source": [
    "decoder = decoder_model(latent_dim, input_dim)\n",
    "decoder.summary()"
   ]
  },
  {
   "cell_type": "code",
   "execution_count": 16,
   "metadata": {
    "_uuid": "bd005b66ce9d41d43f6ff07674ebe64e3ba15717",
    "colab": {
     "base_uri": "https://localhost:8080/"
    },
    "id": "Z-hD_fRF7fqi",
    "outputId": "82f8b742-1162-483a-eed5-c0745c2f4122"
   },
   "outputs": [
    {
     "name": "stdout",
     "output_type": "stream",
     "text": [
      "Model: \"model_2\"\n",
      "_________________________________________________________________\n",
      " Layer (type)                Output Shape              Param #   \n",
      "=================================================================\n",
      " input_1 (InputLayer)        [(None, 30)]              0         \n",
      "                                                                 \n",
      " dense (Dense)               (None, 20)                620       \n",
      "                                                                 \n",
      " dense_1 (Dense)             (None, 15)                315       \n",
      "                                                                 \n",
      " dense_2 (Dense)             (None, 5)                 80        \n",
      "                                                                 \n",
      " multivariate_normal_tri_l (  ((None, 2),              0         \n",
      " MultivariateNormalTriL)      (None, 2))                         \n",
      "                                                                 \n",
      " model_1 (Functional)        (None, 30)                1625      \n",
      "                                                                 \n",
      "=================================================================\n",
      "Total params: 2,640\n",
      "Trainable params: 2,640\n",
      "Non-trainable params: 0\n",
      "_________________________________________________________________\n"
     ]
    }
   ],
   "source": [
    "vae = vae_model(encoder, decoder)\n",
    "vae.summary()"
   ]
  },
  {
   "cell_type": "code",
   "execution_count": 17,
   "metadata": {
    "_uuid": "9a80a22488211ff67043b170218cc2489b158ef4",
    "colab": {
     "base_uri": "https://localhost:8080/"
    },
    "id": "86dI94jc7fqi",
    "outputId": "de8b577f-bc46-4f3d-ca40-8398e450cfbe",
    "scrolled": false
   },
   "outputs": [
    {
     "name": "stdout",
     "output_type": "stream",
     "text": [
      "Epoch 1/1000\n",
      "1111/1111 [==============================] - 15s 10ms/step - loss: 69.8666 - val_loss: 41.7138\n",
      "Epoch 2/1000\n",
      "1111/1111 [==============================] - 8s 7ms/step - loss: 41.4949 - val_loss: 40.5353\n",
      "Epoch 3/1000\n",
      "1111/1111 [==============================] - 8s 7ms/step - loss: 40.1087 - val_loss: 39.4147\n",
      "Epoch 4/1000\n",
      "1111/1111 [==============================] - 8s 7ms/step - loss: 39.1162 - val_loss: 38.5625\n",
      "Epoch 5/1000\n",
      "1111/1111 [==============================] - 8s 7ms/step - loss: 38.3609 - val_loss: 37.9845\n",
      "Epoch 6/1000\n",
      "1111/1111 [==============================] - 8s 7ms/step - loss: 37.8019 - val_loss: 37.4267\n",
      "Epoch 7/1000\n",
      "1111/1111 [==============================] - 8s 7ms/step - loss: 37.2695 - val_loss: 36.8542\n",
      "Epoch 8/1000\n",
      "1111/1111 [==============================] - 8s 7ms/step - loss: 36.6609 - val_loss: 36.2204\n",
      "Epoch 9/1000\n",
      "1111/1111 [==============================] - 8s 7ms/step - loss: 36.0736 - val_loss: 35.7436\n",
      "Epoch 10/1000\n",
      "1111/1111 [==============================] - 8s 7ms/step - loss: 35.6783 - val_loss: 35.4200\n",
      "Epoch 11/1000\n",
      "1111/1111 [==============================] - 8s 7ms/step - loss: 35.3744 - val_loss: 35.1489\n",
      "Epoch 12/1000\n",
      "1111/1111 [==============================] - 8s 7ms/step - loss: 35.0156 - val_loss: 34.6265\n",
      "Epoch 13/1000\n",
      "1111/1111 [==============================] - 8s 7ms/step - loss: 34.4217 - val_loss: 34.1241\n",
      "Epoch 14/1000\n",
      "1111/1111 [==============================] - 8s 7ms/step - loss: 34.0405 - val_loss: 33.7873\n",
      "Epoch 15/1000\n",
      "1111/1111 [==============================] - 8s 7ms/step - loss: 33.7072 - val_loss: 33.4945\n",
      "Epoch 16/1000\n",
      "1111/1111 [==============================] - 8s 7ms/step - loss: 33.4585 - val_loss: 33.3075\n",
      "Epoch 17/1000\n",
      "1111/1111 [==============================] - 8s 7ms/step - loss: 33.2894 - val_loss: 33.1157\n",
      "Epoch 18/1000\n",
      "1111/1111 [==============================] - 8s 7ms/step - loss: 33.1222 - val_loss: 33.0173\n",
      "Epoch 19/1000\n",
      "1111/1111 [==============================] - 8s 7ms/step - loss: 32.9933 - val_loss: 32.8597\n",
      "Epoch 20/1000\n",
      "1111/1111 [==============================] - 8s 7ms/step - loss: 32.8674 - val_loss: 32.7429\n",
      "Epoch 21/1000\n",
      "1111/1111 [==============================] - 8s 7ms/step - loss: 32.7486 - val_loss: 32.6426\n",
      "Epoch 22/1000\n",
      "1111/1111 [==============================] - 8s 7ms/step - loss: 32.6112 - val_loss: 32.4426\n",
      "Epoch 23/1000\n",
      "1111/1111 [==============================] - 8s 7ms/step - loss: 32.4747 - val_loss: 32.3353\n",
      "Epoch 24/1000\n",
      "1111/1111 [==============================] - 8s 7ms/step - loss: 32.3742 - val_loss: 32.2661\n",
      "Epoch 25/1000\n",
      "1111/1111 [==============================] - 8s 7ms/step - loss: 32.2937 - val_loss: 32.1902\n",
      "Epoch 26/1000\n",
      "1111/1111 [==============================] - 8s 7ms/step - loss: 32.2255 - val_loss: 32.1217\n",
      "Epoch 27/1000\n",
      "1111/1111 [==============================] - 8s 7ms/step - loss: 32.1684 - val_loss: 32.0924\n",
      "Epoch 28/1000\n",
      "1111/1111 [==============================] - 7s 7ms/step - loss: 32.1117 - val_loss: 32.0679\n",
      "Epoch 29/1000\n",
      "1111/1111 [==============================] - 8s 7ms/step - loss: 32.0863 - val_loss: 31.9809\n",
      "Epoch 30/1000\n",
      "1111/1111 [==============================] - 8s 7ms/step - loss: 32.0506 - val_loss: 32.0159\n",
      "Epoch 31/1000\n",
      "1111/1111 [==============================] - 8s 7ms/step - loss: 32.0183 - val_loss: 31.9588\n",
      "Epoch 32/1000\n",
      "1111/1111 [==============================] - 8s 7ms/step - loss: 31.9896 - val_loss: 31.9217\n",
      "Epoch 33/1000\n",
      "1111/1111 [==============================] - 8s 7ms/step - loss: 31.9718 - val_loss: 31.9069\n",
      "Epoch 34/1000\n",
      "1111/1111 [==============================] - 8s 7ms/step - loss: 31.9401 - val_loss: 31.8987\n",
      "Epoch 35/1000\n",
      "1111/1111 [==============================] - 8s 7ms/step - loss: 31.9152 - val_loss: 31.8394\n",
      "Epoch 36/1000\n",
      "1111/1111 [==============================] - 7s 7ms/step - loss: 31.8824 - val_loss: 31.7958\n",
      "Epoch 37/1000\n",
      "1111/1111 [==============================] - 8s 7ms/step - loss: 31.8769 - val_loss: 31.7601\n",
      "Epoch 38/1000\n",
      "1111/1111 [==============================] - 8s 7ms/step - loss: 31.8485 - val_loss: 31.7280\n",
      "Epoch 39/1000\n",
      "1111/1111 [==============================] - 7s 7ms/step - loss: 31.8133 - val_loss: 31.7460\n",
      "Epoch 40/1000\n",
      "1111/1111 [==============================] - 8s 7ms/step - loss: 31.8142 - val_loss: 31.8368\n",
      "Epoch 41/1000\n",
      "1111/1111 [==============================] - 8s 7ms/step - loss: 31.7799 - val_loss: 31.6758\n",
      "Epoch 42/1000\n",
      "1111/1111 [==============================] - 8s 7ms/step - loss: 31.7780 - val_loss: 31.6941\n",
      "Epoch 43/1000\n",
      "1111/1111 [==============================] - 7s 7ms/step - loss: 31.7719 - val_loss: 31.6794\n",
      "Epoch 44/1000\n",
      "1111/1111 [==============================] - 7s 7ms/step - loss: 31.7432 - val_loss: 31.6808\n",
      "Epoch 45/1000\n",
      "1111/1111 [==============================] - 7s 7ms/step - loss: 31.7244 - val_loss: 31.6767\n",
      "Epoch 46/1000\n",
      "1111/1111 [==============================] - 8s 7ms/step - loss: 31.7085 - val_loss: 31.6469\n",
      "Epoch 47/1000\n",
      "1111/1111 [==============================] - 8s 7ms/step - loss: 31.7057 - val_loss: 31.6559\n",
      "Epoch 48/1000\n",
      "1111/1111 [==============================] - 8s 7ms/step - loss: 31.6890 - val_loss: 31.5851\n",
      "Epoch 49/1000\n",
      "1111/1111 [==============================] - 8s 7ms/step - loss: 31.6832 - val_loss: 31.6503\n",
      "Epoch 50/1000\n",
      "1111/1111 [==============================] - 8s 7ms/step - loss: 31.6703 - val_loss: 31.5835\n",
      "Epoch 51/1000\n",
      "1111/1111 [==============================] - 8s 7ms/step - loss: 31.6470 - val_loss: 31.6041\n",
      "Epoch 52/1000\n",
      "1111/1111 [==============================] - 8s 7ms/step - loss: 31.6607 - val_loss: 31.5623\n",
      "Epoch 53/1000\n",
      "1111/1111 [==============================] - 8s 7ms/step - loss: 31.6311 - val_loss: 31.5389\n",
      "Epoch 54/1000\n",
      "1111/1111 [==============================] - 8s 7ms/step - loss: 31.6182 - val_loss: 31.5351\n",
      "Epoch 55/1000\n",
      "1111/1111 [==============================] - 8s 7ms/step - loss: 31.6168 - val_loss: 31.5081\n",
      "Epoch 56/1000\n",
      "1111/1111 [==============================] - 7s 7ms/step - loss: 31.5890 - val_loss: 31.4865\n",
      "Epoch 57/1000\n",
      "1111/1111 [==============================] - 8s 7ms/step - loss: 31.5865 - val_loss: 31.5241\n",
      "Epoch 58/1000\n",
      "1111/1111 [==============================] - 8s 7ms/step - loss: 31.5810 - val_loss: 31.4651\n",
      "Epoch 59/1000\n",
      "1111/1111 [==============================] - 7s 7ms/step - loss: 31.5686 - val_loss: 31.5070\n",
      "Epoch 60/1000\n",
      "1111/1111 [==============================] - 7s 7ms/step - loss: 31.5500 - val_loss: 31.5416\n",
      "Epoch 61/1000\n",
      "1111/1111 [==============================] - 8s 7ms/step - loss: 31.5374 - val_loss: 31.5727\n",
      "Epoch 62/1000\n",
      "1111/1111 [==============================] - 8s 7ms/step - loss: 31.5244 - val_loss: 31.4254\n",
      "Epoch 63/1000\n",
      "1111/1111 [==============================] - 7s 7ms/step - loss: 31.5313 - val_loss: 31.4340\n",
      "Epoch 64/1000\n",
      "1111/1111 [==============================] - 7s 7ms/step - loss: 31.4887 - val_loss: 31.4892\n",
      "Epoch 65/1000\n",
      "1111/1111 [==============================] - 8s 7ms/step - loss: 31.4935 - val_loss: 31.4162\n",
      "Epoch 66/1000\n",
      "1111/1111 [==============================] - 8s 7ms/step - loss: 31.4682 - val_loss: 31.3854\n",
      "Epoch 67/1000\n",
      "1111/1111 [==============================] - 7s 7ms/step - loss: 31.4679 - val_loss: 31.4531\n",
      "Epoch 68/1000\n",
      "1111/1111 [==============================] - 8s 7ms/step - loss: 31.4680 - val_loss: 31.3801\n",
      "Epoch 69/1000\n",
      "1111/1111 [==============================] - 8s 7ms/step - loss: 31.4513 - val_loss: 31.4397\n",
      "Epoch 70/1000\n",
      "1111/1111 [==============================] - 7s 7ms/step - loss: 31.4431 - val_loss: 31.4609\n",
      "Epoch 71/1000\n",
      "1111/1111 [==============================] - 8s 7ms/step - loss: 31.4212 - val_loss: 31.3166\n",
      "Epoch 72/1000\n",
      "1111/1111 [==============================] - 7s 7ms/step - loss: 31.4093 - val_loss: 31.3244\n",
      "Epoch 73/1000\n",
      "1111/1111 [==============================] - 7s 7ms/step - loss: 31.4252 - val_loss: 31.3371\n",
      "Epoch 74/1000\n",
      "1111/1111 [==============================] - 7s 7ms/step - loss: 31.3952 - val_loss: 31.3278\n",
      "Epoch 75/1000\n",
      "1111/1111 [==============================] - 8s 7ms/step - loss: 31.3908 - val_loss: 31.2629\n",
      "Epoch 76/1000\n",
      "1111/1111 [==============================] - 7s 7ms/step - loss: 31.3966 - val_loss: 31.3434\n",
      "Epoch 77/1000\n",
      "1111/1111 [==============================] - 7s 7ms/step - loss: 31.3789 - val_loss: 31.2992\n",
      "Epoch 78/1000\n",
      "1111/1111 [==============================] - 8s 7ms/step - loss: 31.3547 - val_loss: 31.2492\n",
      "Epoch 79/1000\n",
      "1111/1111 [==============================] - 7s 7ms/step - loss: 31.3433 - val_loss: 31.3280\n",
      "Epoch 80/1000\n",
      "1111/1111 [==============================] - 7s 7ms/step - loss: 31.3460 - val_loss: 31.2786\n",
      "Epoch 81/1000\n",
      "1111/1111 [==============================] - 7s 7ms/step - loss: 31.3397 - val_loss: 31.2947\n",
      "Epoch 82/1000\n",
      "1111/1111 [==============================] - 7s 7ms/step - loss: 31.3269 - val_loss: 31.3192\n",
      "Epoch 83/1000\n",
      "1111/1111 [==============================] - 7s 7ms/step - loss: 31.3185 - val_loss: 31.2696\n",
      "Epoch 84/1000\n",
      "1111/1111 [==============================] - 7s 7ms/step - loss: 31.3208 - val_loss: 31.2753\n",
      "Epoch 85/1000\n",
      "1111/1111 [==============================] - 8s 7ms/step - loss: 31.3122 - val_loss: 31.3563\n",
      "Epoch 86/1000\n",
      "1111/1111 [==============================] - 8s 7ms/step - loss: 31.3049 - val_loss: 31.2080\n",
      "Epoch 87/1000\n",
      "1111/1111 [==============================] - 7s 7ms/step - loss: 31.2765 - val_loss: 31.2135\n",
      "Epoch 88/1000\n",
      "1111/1111 [==============================] - 7s 7ms/step - loss: 31.2738 - val_loss: 31.1978\n",
      "Epoch 89/1000\n",
      "1111/1111 [==============================] - 8s 7ms/step - loss: 31.2626 - val_loss: 31.1869\n",
      "Epoch 90/1000\n",
      "1111/1111 [==============================] - 8s 7ms/step - loss: 31.2766 - val_loss: 31.1543\n",
      "Epoch 91/1000\n",
      "1111/1111 [==============================] - 7s 7ms/step - loss: 31.2710 - val_loss: 31.1934\n",
      "Epoch 92/1000\n",
      "1111/1111 [==============================] - 8s 7ms/step - loss: 31.2336 - val_loss: 31.1802\n",
      "Epoch 93/1000\n",
      "1111/1111 [==============================] - 8s 7ms/step - loss: 31.2431 - val_loss: 31.1614\n",
      "Epoch 94/1000\n",
      "1111/1111 [==============================] - 8s 7ms/step - loss: 31.2191 - val_loss: 31.1044\n",
      "Epoch 95/1000\n",
      "1111/1111 [==============================] - 7s 7ms/step - loss: 31.2352 - val_loss: 31.1406\n",
      "Epoch 96/1000\n",
      "1111/1111 [==============================] - 8s 7ms/step - loss: 31.2055 - val_loss: 31.3922\n",
      "Epoch 97/1000\n",
      "1111/1111 [==============================] - 7s 7ms/step - loss: 31.3607 - val_loss: 31.2854\n",
      "Epoch 98/1000\n",
      "1111/1111 [==============================] - 8s 7ms/step - loss: 31.2090 - val_loss: 31.1233\n",
      "Epoch 99/1000\n",
      "1111/1111 [==============================] - 8s 7ms/step - loss: 31.1810 - val_loss: 31.1495\n",
      "Epoch 100/1000\n",
      "1111/1111 [==============================] - 8s 7ms/step - loss: 31.1801 - val_loss: 31.1598\n",
      "Epoch 101/1000\n",
      "1111/1111 [==============================] - 8s 7ms/step - loss: 31.1852 - val_loss: 31.0963\n",
      "Epoch 102/1000\n",
      "1111/1111 [==============================] - 8s 7ms/step - loss: 31.1865 - val_loss: 31.2152\n",
      "Epoch 103/1000\n",
      "1111/1111 [==============================] - 7s 7ms/step - loss: 31.1960 - val_loss: 31.1786\n",
      "Epoch 104/1000\n",
      "1111/1111 [==============================] - 8s 7ms/step - loss: 31.1681 - val_loss: 31.0817\n",
      "Epoch 105/1000\n",
      "1111/1111 [==============================] - 7s 7ms/step - loss: 31.1651 - val_loss: 31.1458\n",
      "Epoch 106/1000\n",
      "1111/1111 [==============================] - 8s 7ms/step - loss: 31.1629 - val_loss: 31.0277\n",
      "Epoch 107/1000\n",
      "1111/1111 [==============================] - 7s 7ms/step - loss: 31.1571 - val_loss: 31.2147\n",
      "Epoch 108/1000\n",
      "1111/1111 [==============================] - 7s 7ms/step - loss: 31.1754 - val_loss: 31.5629\n",
      "Epoch 109/1000\n",
      "1111/1111 [==============================] - 7s 7ms/step - loss: 31.1539 - val_loss: 31.0315\n",
      "Epoch 110/1000\n",
      "1111/1111 [==============================] - 7s 7ms/step - loss: 31.1385 - val_loss: 31.0498\n",
      "Epoch 111/1000\n",
      "1111/1111 [==============================] - 7s 7ms/step - loss: 31.1601 - val_loss: 31.0325\n",
      "Epoch 112/1000\n",
      "1111/1111 [==============================] - 7s 7ms/step - loss: 31.1101 - val_loss: 31.0279\n",
      "Epoch 113/1000\n",
      "1111/1111 [==============================] - 7s 7ms/step - loss: 31.2187 - val_loss: 31.0949\n",
      "Epoch 114/1000\n",
      "1111/1111 [==============================] - 7s 7ms/step - loss: 31.1161 - val_loss: 31.0488\n",
      "Epoch 115/1000\n",
      "1111/1111 [==============================] - 7s 7ms/step - loss: 31.1038 - val_loss: 31.0436\n",
      "Epoch 116/1000\n",
      "1111/1111 [==============================] - 8s 7ms/step - loss: 31.1137 - val_loss: 31.0240\n",
      "Epoch 117/1000\n",
      "1111/1111 [==============================] - 7s 7ms/step - loss: 31.1015 - val_loss: 31.0888\n",
      "Epoch 118/1000\n",
      "1111/1111 [==============================] - 7s 7ms/step - loss: 31.1178 - val_loss: 31.0126\n",
      "Epoch 119/1000\n",
      "1111/1111 [==============================] - 8s 7ms/step - loss: 31.0911 - val_loss: 31.0358\n",
      "Epoch 120/1000\n",
      "1111/1111 [==============================] - 7s 7ms/step - loss: 31.0870 - val_loss: 31.0494\n",
      "Epoch 121/1000\n",
      "1111/1111 [==============================] - 7s 7ms/step - loss: 31.0638 - val_loss: 31.0534\n",
      "Epoch 122/1000\n",
      "1111/1111 [==============================] - 7s 7ms/step - loss: 31.1070 - val_loss: 31.0219\n",
      "Epoch 123/1000\n",
      "1111/1111 [==============================] - 8s 7ms/step - loss: 31.0733 - val_loss: 31.1225\n",
      "Epoch 124/1000\n",
      "1111/1111 [==============================] - 7s 7ms/step - loss: 31.0709 - val_loss: 31.0683\n",
      "Epoch 125/1000\n",
      "1111/1111 [==============================] - 8s 7ms/step - loss: 31.0504 - val_loss: 31.0020\n",
      "Epoch 126/1000\n",
      "1111/1111 [==============================] - 8s 7ms/step - loss: 31.0529 - val_loss: 31.1170\n",
      "Epoch 127/1000\n",
      "1111/1111 [==============================] - 8s 7ms/step - loss: 31.0780 - val_loss: 31.0267\n",
      "Epoch 128/1000\n",
      "1111/1111 [==============================] - 9s 8ms/step - loss: 31.0503 - val_loss: 30.9563\n",
      "Epoch 129/1000\n",
      "1111/1111 [==============================] - 8s 7ms/step - loss: 31.0353 - val_loss: 31.0346\n",
      "Epoch 130/1000\n",
      "1111/1111 [==============================] - 9s 8ms/step - loss: nan - val_loss: nan\n",
      "Epoch 131/1000\n",
      "1111/1111 [==============================] - 12s 11ms/step - loss: nan - val_loss: nan\n",
      "Epoch 132/1000\n",
      "1111/1111 [==============================] - 9s 8ms/step - loss: nan - val_loss: nan\n",
      "Epoch 133/1000\n",
      "1111/1111 [==============================] - 8s 7ms/step - loss: nan - val_loss: nan\n",
      "Epoch 134/1000\n",
      "1111/1111 [==============================] - 8s 7ms/step - loss: nan - val_loss: nan\n",
      "Epoch 135/1000\n",
      "1111/1111 [==============================] - 8s 7ms/step - loss: nan - val_loss: nan\n",
      "Epoch 136/1000\n",
      "1111/1111 [==============================] - 8s 7ms/step - loss: nan - val_loss: nan\n",
      "Epoch 137/1000\n",
      "1111/1111 [==============================] - 8s 7ms/step - loss: nan - val_loss: nan\n",
      "Epoch 138/1000\n",
      "1111/1111 [==============================] - 8s 7ms/step - loss: nan - val_loss: nan\n"
     ]
    }
   ],
   "source": [
    "batch_size = 128\n",
    "max_epochs = 1000\n",
    "\n",
    "s = time.time()\n",
    "\n",
    "checkpointer = ModelCheckpoint(filepath='bestmodel.h5', verbose=0, save_best_only=True)\n",
    "\n",
    "earlystopper = EarlyStopping(monitor='val_loss', mode='min', \n",
    "                             patience=10, verbose=0, restore_best_weights=True)\n",
    "\n",
    "history = vae.fit(X_train_normal, X_train_normal, \n",
    "                  epochs=max_epochs, batch_size=128, shuffle=True,\n",
    "                  verbose=1, validation_data=(X_test_normal, X_test_normal),\n",
    "                  callbacks=[earlystopper, checkpointer])"
   ]
  },
  {
   "cell_type": "code",
   "execution_count": 18,
   "metadata": {
    "colab": {
     "base_uri": "https://localhost:8080/"
    },
    "id": "qPijv91cw9vl",
    "outputId": "4230cf10-6fe7-4549-8241-075d1c56619c"
   },
   "outputs": [
    {
     "name": "stdout",
     "output_type": "stream",
     "text": [
      "경과 시간: 17.65614459514618 분\n"
     ]
    }
   ],
   "source": [
    "print(f\"경과 시간: {(time.time() - s) / 60} 분\")"
   ]
  },
  {
   "cell_type": "code",
   "execution_count": 19,
   "metadata": {
    "colab": {
     "base_uri": "https://localhost:8080/",
     "height": 284
    },
    "id": "OQW0KDLVCoo6",
    "outputId": "a15f4e75-d1e8-4bf9-afd6-d8b7da7b7255"
   },
   "outputs": [
    {
     "data": {
      "text/plain": [
       "[<matplotlib.lines.Line2D at 0x7f2777cd00d0>]"
      ]
     },
     "execution_count": 19,
     "metadata": {},
     "output_type": "execute_result"
    },
    {
     "data": {
      "image/png": "[encoded data removed]",
      "text/plain": [
       "<Figure size 432x288 with 1 Axes>"
      ]
     },
     "metadata": {
      "needs_background": "light"
     },
     "output_type": "display_data"
    }
   ],
   "source": [
    "plt.plot([v for v in history.history['val_loss'] if v < 50])"
   ]
  },
  {
   "cell_type": "code",
   "execution_count": 37,
   "metadata": {
    "colab": {
     "base_uri": "https://localhost:8080/"
    },
    "id": "Cd4L8X6-4YSb",
    "outputId": "7d22db56-8c68-45e7-c175-a923df957f0d"
   },
   "outputs": [
    {
     "name": "stdout",
     "output_type": "stream",
     "text": [
      "Model: \"model_2\"\n",
      "_________________________________________________________________\n",
      " Layer (type)                Output Shape              Param #   \n",
      "=================================================================\n",
      " input_1 (InputLayer)        [(None, 30)]              0         \n",
      "                                                                 \n",
      " dense (Dense)               (None, 20)                620       \n",
      "                                                                 \n",
      " dense_1 (Dense)             (None, 15)                315       \n",
      "                                                                 \n",
      " dense_2 (Dense)             (None, 5)                 80        \n",
      "                                                                 \n",
      " multivariate_normal_tri_l (  ((None, 2),              0         \n",
      " MultivariateNormalTriL)      (None, 2))                         \n",
      "                                                                 \n",
      " model_1 (Functional)        (None, 30)                1625      \n",
      "                                                                 \n",
      "=================================================================\n",
      "Total params: 2,640\n",
      "Trainable params: 2,640\n",
      "Non-trainable params: 0\n",
      "_________________________________________________________________\n"
     ]
    }
   ],
   "source": [
    "vae.summary()"
   ]
  },
  {
   "cell_type": "markdown",
   "metadata": {
    "_uuid": "8838e8cf12d64ad6189a20f6d1dbe2feb0a77682",
    "id": "Du1qgiXv7fqi"
   },
   "source": [
    "fraud case (249개)와 동일한 갯수의 sample을 정상거래와 사기거래에서 sampling 하여 재구성 분포를 시각화 합니다."
   ]
  },
  {
   "cell_type": "code",
   "execution_count": 20,
   "metadata": {
    "colab": {
     "base_uri": "https://localhost:8080/"
    },
    "id": "-pyCSeCYR9DT",
    "outputId": "8f226ef3-aadf-4609-e229-3d2b397c2303"
   },
   "outputs": [
    {
     "data": {
      "text/plain": [
       "(250, 30)"
      ]
     },
     "execution_count": 20,
     "metadata": {},
     "output_type": "execute_result"
    }
   ],
   "source": [
    "# 정상 sample 무작위 sampling \n",
    "idx = np.random.choice(len(X_train_normal), 250, replace=False)\n",
    "Nom_data = X_train_normal[idx]\n",
    "Nom_data.shape "
   ]
  },
  {
   "cell_type": "code",
   "execution_count": 21,
   "metadata": {
    "colab": {
     "base_uri": "https://localhost:8080/"
    },
    "id": "Idsn4RRmSBk8",
    "outputId": "65ba789d-8bb3-406d-b832-b8e7e78cf377"
   },
   "outputs": [
    {
     "name": "stdout",
     "output_type": "stream",
     "text": [
      "Normal Metric\n",
      "       Normal_mse\n",
      "count  250.000000\n",
      "mean     1.289126\n",
      "std      1.907658\n",
      "min      0.046743\n",
      "25%      0.589233\n",
      "50%      0.981986\n",
      "75%      1.408637\n",
      "max     22.467684\n"
     ]
    }
   ],
   "source": [
    "# 정상 데이터의 재구성 결과 값\n",
    "Nom_pred = vae.predict(Nom_data)  \n",
    "# 재구성 오류 -  input/output 간의 MSE 구하기\n",
    "Nom_pred_mse = np.mean(np.power(Nom_data - Nom_pred, 2), axis=1) \n",
    "\n",
    "print('Normal Metric')\n",
    "Nom_pred_mse_df = pd.DataFrame({'Normal_mse': Nom_pred_mse})\n",
    "print(Nom_pred_mse_df.describe())"
   ]
  },
  {
   "cell_type": "code",
   "execution_count": 22,
   "metadata": {
    "colab": {
     "base_uri": "https://localhost:8080/"
    },
    "id": "pK1yv87vSKVp",
    "outputId": "bb903114-a27b-4f41-8cd9-71b8c7bb0c5e"
   },
   "outputs": [
    {
     "name": "stdout",
     "output_type": "stream",
     "text": [
      "Anomaly Metric\n",
      "       Anomaly_mse\n",
      "count   249.000000\n",
      "mean     49.279744\n",
      "std      68.474150\n",
      "min       0.279354\n",
      "25%       8.561713\n",
      "50%      20.147799\n",
      "75%      54.721225\n",
      "max     418.438721\n"
     ]
    }
   ],
   "source": [
    "# 비정상 data의 재구성 결과값\n",
    "ANom_pred = vae.predict(X_train_fraud)   \n",
    "# 재구성 오류 -  input/output 간의 MSE 구하기\n",
    "ANom_pred_mse = np.mean(np.power(X_train_fraud - ANom_pred, 2), axis=1) \n",
    "\n",
    "print('Anomaly Metric')\n",
    "ANom_pred_mse_df = pd.DataFrame({'Anomaly_mse':ANom_pred_mse})\n",
    "print(ANom_pred_mse_df.describe())"
   ]
  },
  {
   "cell_type": "markdown",
   "metadata": {
    "id": "sLU3fwifwovA"
   },
   "source": [
    "### MSE 분포 시각화 비교"
   ]
  },
  {
   "cell_type": "code",
   "execution_count": 23,
   "metadata": {
    "colab": {
     "base_uri": "https://localhost:8080/",
     "height": 295
    },
    "id": "jXLxERDsSRB0",
    "outputId": "a63dfd2b-105c-46d5-fe7b-429ec9ac5188"
   },
   "outputs": [
    {
     "data": {
      "image/png": "[encoded data removed]",
      "text/plain": [
       "<Figure size 432x288 with 1 Axes>"
      ]
     },
     "metadata": {
      "needs_background": "light"
     },
     "output_type": "display_data"
    }
   ],
   "source": [
    "plt.title('MSE compare') \n",
    "plt.hist(Nom_pred_mse, bins=10, color='blue', histtype='step', label='normal') \n",
    "plt.hist(ANom_pred_mse, bins=10, color='red', histtype='step', label='abnormal') \n",
    "plt.xlabel('MSE')\n",
    "plt.legend()\n",
    "plt.show()"
   ]
  },
  {
   "cell_type": "code",
   "execution_count": 24,
   "metadata": {
    "colab": {
     "base_uri": "https://localhost:8080/",
     "height": 339
    },
    "id": "bBn-OXLgSWQF",
    "outputId": "a79771b2-4440-4e36-c384-f417b7fe4a5b"
   },
   "outputs": [
    {
     "name": "stderr",
     "output_type": "stream",
     "text": [
      "/usr/local/lib/python3.7/dist-packages/matplotlib/cbook/__init__.py:1376: VisibleDeprecationWarning: Creating an ndarray from ragged nested sequences (which is a list-or-tuple of lists-or-tuples-or ndarrays with different lengths or shapes) is deprecated. If you meant to do this, you must specify 'dtype=object' when creating the ndarray.\n",
      "  X = np.atleast_1d(X.T if isinstance(X, np.ndarray) else np.asarray(X))\n"
     ]
    },
    {
     "data": {
      "image/png": "[encoded data removed]",
      "text/plain": [
       "<Figure size 432x288 with 1 Axes>"
      ]
     },
     "metadata": {
      "needs_background": "light"
     },
     "output_type": "display_data"
    }
   ],
   "source": [
    "plt.boxplot([Nom_pred_mse, ANom_pred_mse])\n",
    "plt.title('Normal vs Fraud')\n",
    "plt.xticks(ticks=[1, 2], labels=['Normal', 'Fraud'])\n",
    "plt.show()"
   ]
  },
  {
   "cell_type": "markdown",
   "metadata": {
    "_uuid": "e3aa3460670596e3bb58666bc24817b20861f46b",
    "id": "KKZC-tJv7fqj"
   },
   "source": [
    "## 잠재 표현 (Latent Representations) 시각화"
   ]
  },
  {
   "cell_type": "code",
   "execution_count": 25,
   "metadata": {
    "_kg_hide-input": true,
    "_uuid": "d7edc564bfd9a96dbc804216edd707b495ba0b08",
    "colab": {
     "base_uri": "https://localhost:8080/",
     "height": 295
    },
    "id": "Mh82Rsxr7fqj",
    "outputId": "65894ac4-ba20-4721-9b7a-3bfd422ab36c"
   },
   "outputs": [
    {
     "data": {
      "image/png": "[encoded data removed]",
      "text/plain": [
       "<Figure size 432x288 with 1 Axes>"
      ]
     },
     "metadata": {
      "needs_background": "light"
     },
     "output_type": "display_data"
    }
   ],
   "source": [
    "# X_test의 잠재 표현 평균 계산\n",
    "latent_x_mean = encoder(X_test).mean()\n",
    "\n",
    "plt.scatter(latent_x_mean[:, 0], latent_x_mean[:, 1], c=y_test, cmap='RdYlGn_r', s=2)\n",
    "plt.title('latent means')\n",
    "plt.ylabel('mean[1]')\n",
    "plt.xlabel('mean[0]')\n",
    "plt.show()"
   ]
  },
  {
   "cell_type": "markdown",
   "metadata": {
    "_uuid": "09dbe144248f5f8f8c2754de653149fb2608d551",
    "id": "h6doEwpY7fqj"
   },
   "source": [
    "원점 [0,0] 평균 벡터 주변에서 사기와 사기가 아닌 트랜잭션 사이에는 분명한 구분이 있습니다. 이는 VAE가 의미있는 것을 학습하고 있다는 신호입니다."
   ]
  },
  {
   "cell_type": "code",
   "execution_count": 26,
   "metadata": {
    "_kg_hide-input": true,
    "_uuid": "c5372f7b09feb79dd06d2c7feca5cc0890b4a136",
    "colab": {
     "base_uri": "https://localhost:8080/",
     "height": 295
    },
    "id": "jIgo_BMJ7fqk",
    "outputId": "f214c097-1d77-491f-ac46-6686c9f950ec"
   },
   "outputs": [
    {
     "data": {
      "image/png": "[encoded data removed]",
      "text/plain": [
       "<Figure size 432x288 with 1 Axes>"
      ]
     },
     "metadata": {
      "needs_background": "light"
     },
     "output_type": "display_data"
    }
   ],
   "source": [
    "# X_test의 잠재 표현 표준 편차 계산\n",
    "latent_x_std = encoder(X_test).stddev()\n",
    "plt.scatter(latent_x_std[:, 0], latent_x_std[:, 1], c=y_test, cmap='RdYlGn_r', s=2)\n",
    "plt.title('latent standard deviations')\n",
    "plt.ylabel('stddev[1]')\n",
    "plt.xlabel('stddev[0]')\n",
    "plt.show()"
   ]
  },
  {
   "cell_type": "markdown",
   "metadata": {
    "_uuid": "1b982ca31566b9cb7d81b390816e9b20ccedcc88",
    "id": "ZdOw2PUh7fqk"
   },
   "source": [
    "빨간색으로 표시된 사기 거래의 표준 편차가 훨씬 더 흩어져 있고 사기 거래가 불규칙한 경향이 있다는 직관과 일치합니다."
   ]
  },
  {
   "cell_type": "code",
   "execution_count": 27,
   "metadata": {
    "_kg_hide-input": true,
    "_uuid": "9edccf3ad419e137bf74fe324de2d743b06618a4",
    "colab": {
     "base_uri": "https://localhost:8080/",
     "height": 295
    },
    "id": "B11ssDzc7fqk",
    "outputId": "b8f657da-9d6b-44f2-f60d-236cb2abdc8c"
   },
   "outputs": [
    {
     "data": {
      "image/png": "[encoded data removed]",
      "text/plain": [
       "<Figure size 432x288 with 1 Axes>"
      ]
     },
     "metadata": {
      "needs_background": "light"
     },
     "output_type": "display_data"
    }
   ],
   "source": [
    "# X_test의 잠재 표현 시각화\n",
    "latent_x = encoder(X_test).sample()\n",
    "plt.scatter(latent_x[:, 0], latent_x[:, 1], c=y_test, cmap='RdYlGn_r', s=2)\n",
    "plt.title('latent vector samples')\n",
    "plt.ylabel('z[1]')\n",
    "plt.xlabel('z[0]')\n",
    "plt.show()"
   ]
  },
  {
   "cell_type": "markdown",
   "metadata": {
    "_uuid": "68c76ab08542180d937ac46a872259199da35310",
    "id": "2o0u9O8G7fqk"
   },
   "source": [
    "샘플된 잠재 벡터 z입니다. 클러스터링 및 scattering은 이전 관찰과 일치합니다."
   ]
  },
  {
   "cell_type": "markdown",
   "metadata": {
    "id": "slT6doi5WNb6"
   },
   "source": [
    "##  Reconstruction error threshold\n",
    "- 정상 data 로만 train 한 vae model 의 재구성 결과의 원본과의 mse 차이를 기준으로 사기 거래 분류"
   ]
  },
  {
   "cell_type": "code",
   "execution_count": 28,
   "metadata": {
    "id": "DKHizXGgWXoC"
   },
   "outputs": [],
   "source": [
    "# train set의 재구성 오류 계산 (0 - 정상, 1 - 사기)\n",
    "predictions = vae.predict(X_train)\n",
    "\n",
    "mse = np.mean(np.power(X_train - predictions, 2), axis=1)\n",
    "\n",
    "error_df = pd.DataFrame({'reconstruction_error': mse, 'true_class': y_train})"
   ]
  },
  {
   "cell_type": "code",
   "execution_count": 29,
   "metadata": {
    "colab": {
     "base_uri": "https://localhost:8080/",
     "height": 175
    },
    "id": "KyocyCtTWXeY",
    "outputId": "fb7f78b9-e973-40b0-8e5d-ad8bb75c865e"
   },
   "outputs": [
    {
     "data": {
      "text/html": [
       "\n",
       "  <div id=\"df-494c41f3-b9ec-4785-8c0a-c9c32b5cd9f0\">\n",
       "    <div class=\"colab-df-container\">\n",
       "      <div>\n",
       "<style scoped>\n",
       "    .dataframe tbody tr th:only-of-type {\n",
       "        vertical-align: middle;\n",
       "    }\n",
       "\n",
       "    .dataframe tbody tr th {\n",
       "        vertical-align: top;\n",
       "    }\n",
       "\n",
       "    .dataframe thead tr th {\n",
       "        text-align: left;\n",
       "    }\n",
       "\n",
       "    .dataframe thead tr:last-of-type th {\n",
       "        text-align: right;\n",
       "    }\n",
       "</style>\n",
       "<table border=\"1\" class=\"dataframe\">\n",
       "  <thead>\n",
       "    <tr>\n",
       "      <th></th>\n",
       "      <th colspan=\"8\" halign=\"left\">reconstruction_error</th>\n",
       "    </tr>\n",
       "    <tr>\n",
       "      <th></th>\n",
       "      <th>count</th>\n",
       "      <th>mean</th>\n",
       "      <th>std</th>\n",
       "      <th>min</th>\n",
       "      <th>25%</th>\n",
       "      <th>50%</th>\n",
       "      <th>75%</th>\n",
       "      <th>max</th>\n",
       "    </tr>\n",
       "    <tr>\n",
       "      <th>true_class</th>\n",
       "      <th></th>\n",
       "      <th></th>\n",
       "      <th></th>\n",
       "      <th></th>\n",
       "      <th></th>\n",
       "      <th></th>\n",
       "      <th></th>\n",
       "      <th></th>\n",
       "    </tr>\n",
       "  </thead>\n",
       "  <tbody>\n",
       "    <tr>\n",
       "      <th>0</th>\n",
       "      <td>142154.0</td>\n",
       "      <td>1.536970</td>\n",
       "      <td>4.408227</td>\n",
       "      <td>0.011436</td>\n",
       "      <td>0.628942</td>\n",
       "      <td>1.039738</td>\n",
       "      <td>1.576937</td>\n",
       "      <td>330.532985</td>\n",
       "    </tr>\n",
       "    <tr>\n",
       "      <th>1</th>\n",
       "      <td>249.0</td>\n",
       "      <td>46.320396</td>\n",
       "      <td>57.729158</td>\n",
       "      <td>0.177120</td>\n",
       "      <td>8.129260</td>\n",
       "      <td>21.665773</td>\n",
       "      <td>62.634262</td>\n",
       "      <td>382.973706</td>\n",
       "    </tr>\n",
       "  </tbody>\n",
       "</table>\n",
       "</div>\n",
       "      <button class=\"colab-df-convert\" onclick=\"convertToInteractive('df-494c41f3-b9ec-4785-8c0a-c9c32b5cd9f0')\"\n",
       "              title=\"Convert this dataframe to an interactive table.\"\n",
       "              style=\"display:none;\">\n",
       "        \n",
       "  <svg xmlns=\"http://www.w3.org/2000/svg\" height=\"24px\"viewBox=\"0 0 24 24\"\n",
       "       width=\"24px\">\n",
       "    <path d=\"M0 0h24v24H0V0z\" fill=\"none\"/>\n",
       "    <path d=\"M18.56 5.44l.94 2.06.94-2.06 2.06-.94-2.06-.94-.94-2.06-.94 2.06-2.06.94zm-11 1L8.5 8.5l.94-2.06 2.06-.94-2.06-.94L8.5 2.5l-.94 2.06-2.06.94zm10 10l.94 2.06.94-2.06 2.06-.94-2.06-.94-.94-2.06-.94 2.06-2.06.94z\"/><path d=\"M17.41 7.96l-1.37-1.37c-.4-.4-.92-.59-1.43-.59-.52 0-1.04.2-1.43.59L10.3 9.45l-7.72 7.72c-.78.78-.78 2.05 0 2.83L4 21.41c.39.39.9.59 1.41.59.51 0 1.02-.2 1.41-.59l7.78-7.78 2.81-2.81c.8-.78.8-2.07 0-2.86zM5.41 20L4 18.59l7.72-7.72 1.47 1.35L5.41 20z\"/>\n",
       "  </svg>\n",
       "      </button>\n",
       "      \n",
       "  <style>\n",
       "    .colab-df-container {\n",
       "      display:flex;\n",
       "      flex-wrap:wrap;\n",
       "      gap: 12px;\n",
       "    }\n",
       "\n",
       "    .colab-df-convert {\n",
       "      background-color: #E8F0FE;\n",
       "      border: none;\n",
       "      border-radius: 50%;\n",
       "      cursor: pointer;\n",
       "      display: none;\n",
       "      fill: #1967D2;\n",
       "      height: 32px;\n",
       "      padding: 0 0 0 0;\n",
       "      width: 32px;\n",
       "    }\n",
       "\n",
       "    .colab-df-convert:hover {\n",
       "      background-color: #E2EBFA;\n",
       "      box-shadow: 0px 1px 2px rgba(60, 64, 67, 0.3), 0px 1px 3px 1px rgba(60, 64, 67, 0.15);\n",
       "      fill: #174EA6;\n",
       "    }\n",
       "\n",
       "    [theme=dark] .colab-df-convert {\n",
       "      background-color: #3B4455;\n",
       "      fill: #D2E3FC;\n",
       "    }\n",
       "\n",
       "    [theme=dark] .colab-df-convert:hover {\n",
       "      background-color: #434B5C;\n",
       "      box-shadow: 0px 1px 3px 1px rgba(0, 0, 0, 0.15);\n",
       "      filter: drop-shadow(0px 1px 2px rgba(0, 0, 0, 0.3));\n",
       "      fill: #FFFFFF;\n",
       "    }\n",
       "  </style>\n",
       "\n",
       "      <script>\n",
       "        const buttonEl =\n",
       "          document.querySelector('#df-494c41f3-b9ec-4785-8c0a-c9c32b5cd9f0 button.colab-df-convert');\n",
       "        buttonEl.style.display =\n",
       "          google.colab.kernel.accessAllowed ? 'block' : 'none';\n",
       "\n",
       "        async function convertToInteractive(key) {\n",
       "          const element = document.querySelector('#df-494c41f3-b9ec-4785-8c0a-c9c32b5cd9f0');\n",
       "          const dataTable =\n",
       "            await google.colab.kernel.invokeFunction('convertToInteractive',\n",
       "                                                     [key], {});\n",
       "          if (!dataTable) return;\n",
       "\n",
       "          const docLinkHtml = 'Like what you see? Visit the ' +\n",
       "            '<a target=\"_blank\" href=https://colab.research.google.com/notebooks/data_table.ipynb>data table notebook</a>'\n",
       "            + ' to learn more about interactive tables.';\n",
       "          element.innerHTML = '';\n",
       "          dataTable['output_type'] = 'display_data';\n",
       "          await google.colab.output.renderOutput(dataTable, element);\n",
       "          const docLink = document.createElement('div');\n",
       "          docLink.innerHTML = docLinkHtml;\n",
       "          element.appendChild(docLink);\n",
       "        }\n",
       "      </script>\n",
       "    </div>\n",
       "  </div>\n",
       "  "
      ],
      "text/plain": [
       "           reconstruction_error                                            \\\n",
       "                          count       mean        std       min       25%   \n",
       "true_class                                                                  \n",
       "0                      142154.0   1.536970   4.408227  0.011436  0.628942   \n",
       "1                         249.0  46.320396  57.729158  0.177120  8.129260   \n",
       "\n",
       "                                              \n",
       "                  50%        75%         max  \n",
       "true_class                                    \n",
       "0            1.039738   1.576937  330.532985  \n",
       "1           21.665773  62.634262  382.973706  "
      ]
     },
     "execution_count": 29,
     "metadata": {},
     "output_type": "execute_result"
    }
   ],
   "source": [
    "desc = error_df.groupby('true_class').describe()\n",
    "desc"
   ]
  },
  {
   "cell_type": "markdown",
   "metadata": {
    "id": "-mh_FGtrXjZn"
   },
   "source": [
    "위에서 보듯 사기성이 아닌 거래의  오류는 사기성 거래 보다 낮습니다.\n",
    "\n",
    "- mean + 3*std를 threshold로 사용하여 test set의 재구성 error(squared error)가 threshold 보다 크면 fraud 거래로 분류합니다.  \n",
    "- 1 std - 68%, 2 std - 96%, 3 std - 99.8%"
   ]
  },
  {
   "cell_type": "code",
   "execution_count": 30,
   "metadata": {
    "colab": {
     "base_uri": "https://localhost:8080/"
    },
    "id": "0jWu9P2qWXRq",
    "outputId": "b3aa794b-7a44-4234-cabc-97bad36cac3e"
   },
   "outputs": [
    {
     "data": {
      "text/plain": [
       "(1.536970436277203,\n",
       " 4.408226976413912,\n",
       " {'2.5sigma': 12.557537877311985,\n",
       "  '2sigma': 10.353424389105028,\n",
       "  '3sigma': 14.76165136551894})"
      ]
     },
     "execution_count": 30,
     "metadata": {},
     "output_type": "execute_result"
    }
   ],
   "source": [
    "mean = desc['reconstruction_error']['mean'][0]\n",
    "std = desc['reconstruction_error']['std'][0]\n",
    "\n",
    "thresholds = {'3sigma': mean + 3*std, \n",
    "                   '2.5sigma': mean + 2.5*std, \n",
    "                     \"2sigma\": mean + 2*std}\n",
    "mean, std, thresholds"
   ]
  },
  {
   "cell_type": "markdown",
   "metadata": {
    "id": "f_XqqPQt-uwi"
   },
   "source": [
    "- Test set을 이용하여 재구성 오류 계산  \n",
    "- thrshold 별로 confusion matrix"
   ]
  },
  {
   "cell_type": "code",
   "execution_count": 48,
   "metadata": {
    "colab": {
     "base_uri": "https://localhost:8080/",
     "height": 965
    },
    "id": "nLfNInzVYtNE",
    "outputId": "2fcaff6e-33b0-49a4-d926-5e1f3bd0d56f"
   },
   "outputs": [
    {
     "name": "stdout",
     "output_type": "stream",
     "text": [
      "Precision 0.11\n",
      "Recall 0.69\n"
     ]
    },
    {
     "data": {
      "image/png": "[encoded data removed]",
      "text/plain": [
       "<Figure size 432x288 with 2 Axes>"
      ]
     },
     "metadata": {
      "needs_background": "light"
     },
     "output_type": "display_data"
    },
    {
     "name": "stdout",
     "output_type": "stream",
     "text": [
      "Precision 0.13\n",
      "Recall 0.61\n"
     ]
    },
    {
     "data": {
      "image/png": "[encoded data removed]",
      "text/plain": [
       "<Figure size 432x288 with 2 Axes>"
      ]
     },
     "metadata": {
      "needs_background": "light"
     },
     "output_type": "display_data"
    },
    {
     "name": "stdout",
     "output_type": "stream",
     "text": [
      "Precision 0.14\n",
      "Recall 0.57\n"
     ]
    },
    {
     "data": {
      "image/png": "[encoded data removed]",
      "text/plain": [
       "<Figure size 432x288 with 2 Axes>"
      ]
     },
     "metadata": {
      "needs_background": "light"
     },
     "output_type": "display_data"
    }
   ],
   "source": [
    "thresholds = sorted(thresholds.items(), key=lambda kv: kv[1])\n",
    "\n",
    "def model_predict(threshold, mse):\n",
    "     predictions = [(lambda er: 1 if er > threshold else 0)(er) for er in mse]\n",
    "     return predictions\n",
    "\n",
    "for sigma, threshold in thresholds:\n",
    "    \n",
    "    test_predictions = vae.predict(X_test)\n",
    "    mse = np.mean(np.power(X_test - test_predictions, 2), axis=1)\n",
    "    y_pred = model_predict(threshold, mse)\n",
    "\n",
    "    print(\"Precision {:.2f}\".format(precision_score(y_test, y_pred)))\n",
    "    print(\"Recall {:.2f}\".format(recall_score(y_test, y_pred)))\n",
    "\n",
    "    cm = confusion_matrix(y_test, y_pred)\n",
    "\n",
    "    ax = sns.heatmap(cm, annot=True, fmt=',')\n",
    "    ax.set_xlabel('Predicted labels')\n",
    "    ax.set_ylabel('True labels')\n",
    "    ax.xaxis.set_ticklabels(['Normal', 'Fraud'])\n",
    "    ax.yaxis.set_ticklabels(['Normal', 'Fraud'])\n",
    "    ax.set(yticks=[0.5, 1.5], xticks=[0.5, 1.5])\n",
    "    ax.set_title(sigma)\n",
    "    plt.show()"
   ]
  }
 ],
 "metadata": {
  "accelerator": "GPU",
  "colab": {
   "collapsed_sections": [],
   "machine_shape": "hm",
   "name": "250_fraud_detection_with_variational_autoencoder.ipynb",
   "provenance": []
  },
  "kernelspec": {
   "display_name": "Python 3 (ipykernel)",
   "language": "python",
   "name": "python3"
  },
  "language_info": {
   "codemirror_mode": {
    "name": "ipython",
    "version": 3
   },
   "file_extension": ".py",
   "mimetype": "text/x-python",
   "name": "python",
   "nbconvert_exporter": "python",
   "pygments_lexer": "ipython3",
   "version": "3.8.13"
  }
 },
 "nbformat": 4,
 "nbformat_minor": 1
}
