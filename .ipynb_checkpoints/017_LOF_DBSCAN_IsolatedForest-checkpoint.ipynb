{
 "cells": [
  {
   "cell_type": "markdown",
   "id": "choice-estonia",
   "metadata": {},
   "source": [
    "# LOF / DBSCAN / Isolation Forest 알고리즘 비교\n",
    "\n",
    "## LOF (Local Outlier Factor) 알고리즘"
   ]
  },
  {
   "cell_type": "code",
   "execution_count": 1,
   "id": "fleet-petroleum",
   "metadata": {},
   "outputs": [],
   "source": [
    "import numpy as np\n",
    "import matplotlib.pyplot as plt\n",
    "from sklearn.metrics import accuracy_score, precision_score, \\\n",
    "                            recall_score, confusion_matrix, classification_report\n",
    "import seaborn as sns\n",
    "import time\n",
    "\n",
    "from sklearn.neighbors import LocalOutlierFactor\n",
    "from sklearn.ensemble import IsolationForest\n",
    "from sklearn.cluster import DBSCAN"
   ]
  },
  {
   "cell_type": "markdown",
   "id": "rapid-riverside",
   "metadata": {},
   "source": [
    "## Toy Data 생성"
   ]
  },
  {
   "cell_type": "code",
   "execution_count": 2,
   "id": "6cb4df90",
   "metadata": {},
   "outputs": [
    {
     "name": "stdout",
     "output_type": "stream",
     "text": [
      "(200, 2)\n"
     ]
    }
   ],
   "source": [
    "np.random.seed(42)\n",
    "\n",
    "# train data 생성\n",
    "X_inliers = 0.3 * np.random.randn(100, 2)\n",
    "X_inliers = np.vstack([X_inliers + 2, X_inliers - 2])\n",
    "print(X_inliers.shape)"
   ]
  },
  {
   "cell_type": "code",
   "execution_count": 3,
   "id": "001cc8bd",
   "metadata": {},
   "outputs": [
    {
     "name": "stdout",
     "output_type": "stream",
     "text": [
      "(220, 2)\n"
     ]
    }
   ],
   "source": [
    "# some outliers 생성\n",
    "X_outliers = np.random.uniform(low=-4, high=4, size=(20, 2))\n",
    "X = np.vstack([X_inliers, X_outliers])\n",
    "print(X.shape)"
   ]
  },
  {
   "cell_type": "code",
   "execution_count": 4,
   "id": "chemical-doubt",
   "metadata": {},
   "outputs": [
    {
     "name": "stdout",
     "output_type": "stream",
     "text": [
      "(220,)\n",
      "0.09\n"
     ]
    }
   ],
   "source": [
    "n_outliers = len(X_outliers)\n",
    "# inlier 1, outlier -1 부여\n",
    "ground_truth = np.ones(len(X), dtype=int)\n",
    "ground_truth[-n_outliers:] = -1\n",
    "\n",
    "print(ground_truth.shape)\n",
    "# 이상치 비율\n",
    "print(\"{:.2f}\".format(len(X_outliers) / len(X)))"
   ]
  },
  {
   "cell_type": "code",
   "execution_count": 5,
   "id": "suffering-heather",
   "metadata": {},
   "outputs": [
    {
     "data": {
      "text/plain": [
       "array([ 1,  1,  1,  1,  1,  1,  1,  1,  1,  1,  1,  1,  1,  1,  1,  1,  1,\n",
       "        1,  1,  1,  1,  1,  1,  1,  1,  1,  1,  1,  1,  1,  1,  1,  1,  1,\n",
       "        1,  1,  1,  1,  1,  1,  1,  1,  1,  1,  1,  1,  1,  1,  1,  1,  1,\n",
       "        1,  1,  1,  1,  1,  1,  1,  1,  1,  1,  1,  1,  1,  1,  1,  1,  1,\n",
       "        1,  1,  1,  1,  1,  1,  1,  1,  1,  1,  1,  1,  1,  1,  1,  1,  1,\n",
       "        1,  1,  1,  1,  1,  1,  1,  1,  1,  1,  1,  1,  1,  1,  1,  1,  1,\n",
       "        1,  1,  1,  1,  1,  1,  1,  1,  1,  1,  1,  1,  1,  1,  1,  1,  1,\n",
       "        1,  1,  1,  1,  1,  1,  1,  1,  1,  1,  1,  1,  1,  1,  1,  1,  1,\n",
       "        1,  1,  1,  1,  1,  1,  1,  1,  1,  1,  1,  1,  1,  1,  1,  1,  1,\n",
       "        1,  1,  1,  1,  1,  1,  1,  1,  1,  1,  1,  1,  1,  1,  1,  1,  1,\n",
       "        1,  1,  1,  1,  1,  1,  1,  1,  1,  1,  1,  1,  1,  1,  1,  1,  1,\n",
       "        1,  1,  1,  1,  1,  1,  1,  1,  1,  1,  1,  1,  1, -1, -1, -1, -1,\n",
       "       -1, -1, -1, -1, -1, -1, -1, -1, -1, -1, -1, -1, -1, -1, -1, -1])"
      ]
     },
     "execution_count": 5,
     "metadata": {},
     "output_type": "execute_result"
    }
   ],
   "source": [
    "ground_truth"
   ]
  },
  {
   "cell_type": "code",
   "execution_count": 6,
   "id": "gentle-permit",
   "metadata": {},
   "outputs": [
    {
     "data": {
      "text/plain": [
       "<matplotlib.legend.Legend at 0x7fa057fe8fd0>"
      ]
     },
     "execution_count": 6,
     "metadata": {},
     "output_type": "execute_result"
    },
    {
     "data": {
      "image/png": "[encoded data removed]",
      "text/plain": [
       "<Figure size 432x288 with 1 Axes>"
      ]
     },
     "metadata": {
      "needs_background": "light"
     },
     "output_type": "display_data"
    }
   ],
   "source": [
    "plt.scatter(X_inliers[:, 0], X_inliers[:, 1], color='b', s=3., label='Inliers')\n",
    "plt.scatter(X_outliers[:, 0], X_outliers[:, 1], color='r', s=3., label='Outliers')\n",
    "plt.axis('tight')\n",
    "plt.xlim((-5, 5))\n",
    "plt.ylim((-5, 5))\n",
    "plt.legend()"
   ]
  },
  {
   "cell_type": "markdown",
   "id": "psychological-consensus",
   "metadata": {},
   "source": [
    "## LOF Model Train\n",
    "\n",
    "n_neighbors : int, default=20  \n",
    "contamination : 데이터 세트의 이상치 비율. 피팅할 때 샘플 점수에 대한 임계값을 정의하는 데 사용. float 인 경우 [0, 0.5] 범위에 있어야합니다."
   ]
  },
  {
   "cell_type": "code",
   "execution_count": 7,
   "id": "stone-correlation",
   "metadata": {},
   "outputs": [
    {
     "data": {
      "text/html": [
       "<style>#sk-container-id-1 {color: black;background-color: white;}#sk-container-id-1 pre{padding: 0;}#sk-container-id-1 div.sk-toggleable {background-color: white;}#sk-container-id-1 label.sk-toggleable__label {cursor: pointer;display: block;width: 100%;margin-bottom: 0;padding: 0.3em;box-sizing: border-box;text-align: center;}#sk-container-id-1 label.sk-toggleable__label-arrow:before {content: \"▸\";float: left;margin-right: 0.25em;color: #696969;}#sk-container-id-1 label.sk-toggleable__label-arrow:hover:before {color: black;}#sk-container-id-1 div.sk-estimator:hover label.sk-toggleable__label-arrow:before {color: black;}#sk-container-id-1 div.sk-toggleable__content {max-height: 0;max-width: 0;overflow: hidden;text-align: left;background-color: #f0f8ff;}#sk-container-id-1 div.sk-toggleable__content pre {margin: 0.2em;color: black;border-radius: 0.25em;background-color: #f0f8ff;}#sk-container-id-1 input.sk-toggleable__control:checked~div.sk-toggleable__content {max-height: 200px;max-width: 100%;overflow: auto;}#sk-container-id-1 input.sk-toggleable__control:checked~label.sk-toggleable__label-arrow:before {content: \"▾\";}#sk-container-id-1 div.sk-estimator input.sk-toggleable__control:checked~label.sk-toggleable__label {background-color: #d4ebff;}#sk-container-id-1 div.sk-label input.sk-toggleable__control:checked~label.sk-toggleable__label {background-color: #d4ebff;}#sk-container-id-1 input.sk-hidden--visually {border: 0;clip: rect(1px 1px 1px 1px);clip: rect(1px, 1px, 1px, 1px);height: 1px;margin: -1px;overflow: hidden;padding: 0;position: absolute;width: 1px;}#sk-container-id-1 div.sk-estimator {font-family: monospace;background-color: #f0f8ff;border: 1px dotted black;border-radius: 0.25em;box-sizing: border-box;margin-bottom: 0.5em;}#sk-container-id-1 div.sk-estimator:hover {background-color: #d4ebff;}#sk-container-id-1 div.sk-parallel-item::after {content: \"\";width: 100%;border-bottom: 1px solid gray;flex-grow: 1;}#sk-container-id-1 div.sk-label:hover label.sk-toggleable__label {background-color: #d4ebff;}#sk-container-id-1 div.sk-serial::before {content: \"\";position: absolute;border-left: 1px solid gray;box-sizing: border-box;top: 0;bottom: 0;left: 50%;z-index: 0;}#sk-container-id-1 div.sk-serial {display: flex;flex-direction: column;align-items: center;background-color: white;padding-right: 0.2em;padding-left: 0.2em;position: relative;}#sk-container-id-1 div.sk-item {position: relative;z-index: 1;}#sk-container-id-1 div.sk-parallel {display: flex;align-items: stretch;justify-content: center;background-color: white;position: relative;}#sk-container-id-1 div.sk-item::before, #sk-container-id-1 div.sk-parallel-item::before {content: \"\";position: absolute;border-left: 1px solid gray;box-sizing: border-box;top: 0;bottom: 0;left: 50%;z-index: -1;}#sk-container-id-1 div.sk-parallel-item {display: flex;flex-direction: column;z-index: 1;position: relative;background-color: white;}#sk-container-id-1 div.sk-parallel-item:first-child::after {align-self: flex-end;width: 50%;}#sk-container-id-1 div.sk-parallel-item:last-child::after {align-self: flex-start;width: 50%;}#sk-container-id-1 div.sk-parallel-item:only-child::after {width: 0;}#sk-container-id-1 div.sk-dashed-wrapped {border: 1px dashed gray;margin: 0 0.4em 0.5em 0.4em;box-sizing: border-box;padding-bottom: 0.4em;background-color: white;}#sk-container-id-1 div.sk-label label {font-family: monospace;font-weight: bold;display: inline-block;line-height: 1.2em;}#sk-container-id-1 div.sk-label-container {text-align: center;}#sk-container-id-1 div.sk-container {/* jupyter's `normalize.less` sets `[hidden] { display: none; }` but bootstrap.min.css set `[hidden] { display: none !important; }` so we also need the `!important` here to be able to override the default hidden behavior on the sphinx rendered scikit-learn.org. See: https://github.com/scikit-learn/scikit-learn/issues/21755 */display: inline-block !important;position: relative;}#sk-container-id-1 div.sk-text-repr-fallback {display: none;}</style><div id=\"sk-container-id-1\" class=\"sk-top-container\"><div class=\"sk-text-repr-fallback\"><pre>LocalOutlierFactor(contamination=0.1)</pre><b>In a Jupyter environment, please rerun this cell to show the HTML representation or trust the notebook. <br />On GitHub, the HTML representation is unable to render, please try loading this page with nbviewer.org.</b></div><div class=\"sk-container\" hidden><div class=\"sk-item\"><div class=\"sk-estimator sk-toggleable\"><input class=\"sk-toggleable__control sk-hidden--visually\" id=\"sk-estimator-id-1\" type=\"checkbox\" checked><label for=\"sk-estimator-id-1\" class=\"sk-toggleable__label sk-toggleable__label-arrow\">LocalOutlierFactor</label><div class=\"sk-toggleable__content\"><pre>LocalOutlierFactor(contamination=0.1)</pre></div></div></div></div></div>"
      ],
      "text/plain": [
       "LocalOutlierFactor(contamination=0.1)"
      ]
     },
     "execution_count": 7,
     "metadata": {},
     "output_type": "execute_result"
    }
   ],
   "source": [
    "# fit the model for outlier detection (default)\n",
    "lof = LocalOutlierFactor(n_neighbors=20, contamination=0.1)\n",
    "lof"
   ]
  },
  {
   "cell_type": "markdown",
   "id": "fitting-boutique",
   "metadata": {},
   "source": [
    "- LOF가 outlier 탐지에 사용될 때 `fit_predict`를 사용하여 훈련 샘플의 예측된 레이블을 계산합니다.  \n",
    "- estimator는 `predict`이 없습니다."
   ]
  },
  {
   "cell_type": "code",
   "execution_count": 12,
   "id": "outer-finance",
   "metadata": {},
   "outputs": [
    {
     "name": "stdout",
     "output_type": "stream",
     "text": [
      "(220,)\n"
     ]
    },
    {
     "data": {
      "text/plain": [
       "array([ 1,  1,  1,  1,  1,  1,  1,  1,  1,  1,  1,  1,  1,  1,  1,  1,  1,\n",
       "        1,  1,  1,  1,  1,  1,  1,  1,  1,  1,  1,  1,  1,  1,  1,  1,  1,\n",
       "        1,  1,  1, -1,  1,  1,  1,  1,  1,  1,  1,  1,  1,  1,  1,  1,  1,\n",
       "        1,  1,  1,  1,  1,  1,  1,  1,  1,  1,  1,  1,  1,  1,  1,  1,  1,\n",
       "        1,  1,  1,  1,  1,  1,  1,  1,  1,  1,  1,  1,  1,  1,  1,  1,  1,\n",
       "        1,  1,  1,  1, -1,  1,  1,  1,  1,  1,  1,  1,  1,  1,  1,  1,  1,\n",
       "        1,  1,  1,  1,  1,  1,  1,  1,  1,  1,  1,  1,  1,  1,  1,  1,  1,\n",
       "        1,  1,  1,  1,  1,  1,  1,  1,  1,  1,  1,  1,  1,  1,  1,  1,  1,\n",
       "        1, -1,  1,  1,  1,  1,  1,  1,  1,  1,  1,  1,  1,  1,  1,  1,  1,\n",
       "        1,  1,  1, -1,  1,  1,  1,  1,  1,  1,  1,  1,  1,  1,  1,  1,  1,\n",
       "        1,  1,  1,  1,  1,  1,  1,  1,  1,  1,  1,  1,  1,  1,  1,  1,  1,\n",
       "        1,  1, -1,  1,  1,  1,  1,  1,  1,  1,  1,  1,  1, -1,  1, -1,  1,\n",
       "       -1, -1, -1,  1, -1, -1, -1, -1, -1, -1, -1, -1, -1, -1, -1, -1])"
      ]
     },
     "execution_count": 12,
     "metadata": {},
     "output_type": "execute_result"
    }
   ],
   "source": [
    "y_pred_lof = lof.fit_predict(X)\n",
    "print(y_pred_lof.shape)\n",
    "y_pred_lof"
   ]
  },
  {
   "cell_type": "markdown",
   "id": "hearing-deadline",
   "metadata": {},
   "source": [
    "negative_outlier_factor_ :  \n",
    "\n",
    "    - Inliers 의 LOF score 는 -1 에 가깝고, outliers 는 LOF score 가 크다. "
   ]
  },
  {
   "cell_type": "code",
   "execution_count": 9,
   "id": "curious-pastor",
   "metadata": {},
   "outputs": [
    {
     "name": "stdout",
     "output_type": "stream",
     "text": [
      "8\n",
      "(220,)\n"
     ]
    },
    {
     "data": {
      "text/plain": [
       "array([-0.99994411, -1.14405944, -0.97422441, -1.29043229, -0.96406015,\n",
       "       -0.967451  , -1.16897405, -1.17786476, -1.01083896, -1.14511932,\n",
       "       -1.21255557, -1.05066867, -0.96961357, -1.02846721, -0.96108146,\n",
       "       -1.30563699, -1.01782283, -1.09341031, -1.20053   , -1.048392  ,\n",
       "       -1.04273309, -0.96537973, -1.12978593, -1.04714221, -1.1241528 ,\n",
       "       -0.97795087, -0.97358493, -1.13261793, -0.98280096, -1.02069094,\n",
       "       -0.95891097, -1.1491003 , -1.11886905, -0.99855726, -0.99357848,\n",
       "       -1.13283666, -1.1460512 , -1.87981613, -0.95747372, -1.2240096 ,\n",
       "       -0.9432555 , -1.25135605, -1.00309851, -1.10715506, -0.97725017,\n",
       "       -0.99886729, -0.97739557, -1.09329811, -0.99310409, -0.96318902,\n",
       "       -1.08969429, -0.97382438, -0.94892287, -1.42556212, -0.96379941,\n",
       "       -1.27724298, -1.46492263, -0.94595752, -1.04083691, -1.1733885 ,\n",
       "       -1.06562769, -1.29284358, -1.32423841, -1.06358314, -0.96642636,\n",
       "       -1.08777278, -1.03217634, -1.24655122, -0.97201908, -1.09366836,\n",
       "       -1.10173896, -1.12032974, -0.98536222, -1.23121125, -1.00976101,\n",
       "       -0.98561163, -0.97602593, -0.99192456, -1.41236662, -1.06452504,\n",
       "       -1.05713189, -1.2136666 , -1.10038859, -1.22864255, -0.97030484,\n",
       "       -1.07896525, -0.94700683, -0.99410424, -1.13412412, -1.66221208,\n",
       "       -1.04824088, -1.03360571, -0.95298364, -0.99688803, -1.12097791,\n",
       "       -0.98898182, -1.04674539, -0.96908553, -1.00774413, -1.04236997,\n",
       "       -0.99929637, -1.1484896 , -0.97212675, -1.33350226, -0.96943838,\n",
       "       -0.96802782, -1.1805622 , -1.19791797, -1.01529652, -1.15267042,\n",
       "       -1.21377588, -1.05831363, -0.97110275, -1.02631261, -0.96154064,\n",
       "       -1.33940307, -1.01699286, -1.10239122, -1.19346895, -1.05737435,\n",
       "       -1.04877531, -0.96442079, -1.15370196, -1.04909785, -1.13388154,\n",
       "       -0.97715087, -0.97998371, -1.13218473, -0.98956357, -1.0266486 ,\n",
       "       -0.95728791, -1.16047442, -1.13703189, -0.99496821, -0.99185635,\n",
       "       -1.14488661, -1.15337634, -1.93321727, -0.95681998, -1.19901531,\n",
       "       -0.94185764, -1.25129859, -1.01278495, -1.11041713, -0.9840512 ,\n",
       "       -0.99559016, -0.97848957, -1.1047896 , -0.99220254, -0.96275604,\n",
       "       -1.09594137, -0.97642952, -0.9472918 , -1.4630011 , -0.963528  ,\n",
       "       -1.28600243, -1.48850217, -0.94456349, -1.04606649, -1.161065  ,\n",
       "       -1.06819373, -1.29744066, -1.37737915, -1.06447487, -0.96507061,\n",
       "       -1.09900693, -1.02870987, -1.27566788, -0.97400916, -1.10264963,\n",
       "       -1.1115921 , -1.13262118, -0.98258158, -1.2515635 , -1.00945605,\n",
       "       -0.98441776, -0.98095197, -0.99020516, -1.45102246, -1.079111  ,\n",
       "       -1.06523549, -1.21664049, -1.10447627, -1.26026277, -0.97029882,\n",
       "       -1.08183888, -0.94565067, -0.99915349, -1.14199636, -1.69275528,\n",
       "       -1.04600992, -1.03079579, -0.95042247, -0.99624963, -1.15334842,\n",
       "       -0.99423553, -1.05218301, -0.96807723, -1.01245463, -1.04780755,\n",
       "       -2.34464971, -1.2615727 , -2.07471657, -1.36068756, -3.41600941,\n",
       "       -5.79017284, -1.75216951, -1.22569556, -8.1179078 , -3.93211812,\n",
       "       -6.8671737 , -5.60730006, -5.28475732, -6.61647574, -7.06687309,\n",
       "       -5.75753448, -6.284507  , -6.35571743, -6.88230317, -4.8455449 ])"
      ]
     },
     "execution_count": 9,
     "metadata": {},
     "output_type": "execute_result"
    }
   ],
   "source": [
    "n_errors = (y_pred_lof != ground_truth).sum()\n",
    "print(n_errors)\n",
    "\n",
    "X_scores = lof.negative_outlier_factor_\n",
    "print(X_scores.shape)\n",
    "X_scores"
   ]
  },
  {
   "cell_type": "markdown",
   "id": "d15c518c",
   "metadata": {},
   "source": [
    "- inlier 로 분류된 sample의 scores"
   ]
  },
  {
   "cell_type": "code",
   "execution_count": 22,
   "id": "figured-feeding",
   "metadata": {},
   "outputs": [
    {
     "data": {
      "text/plain": [
       "array([-0.99994411, -1.14405944, -0.97422441, -1.29043229, -0.96406015,\n",
       "       -0.967451  , -1.16897405, -1.17786476, -1.01083896, -1.14511932,\n",
       "       -1.21255557, -1.05066867, -0.96961357, -1.02846721, -0.96108146,\n",
       "       -1.30563699, -1.01782283, -1.09341031, -1.20053   , -1.048392  ])"
      ]
     },
     "execution_count": 22,
     "metadata": {},
     "output_type": "execute_result"
    }
   ],
   "source": [
    "X_scores[y_pred_lof == 1][:20]"
   ]
  },
  {
   "cell_type": "markdown",
   "id": "205af8f5",
   "metadata": {},
   "source": [
    "- outlier 로 분류된 sample의 scores"
   ]
  },
  {
   "cell_type": "code",
   "execution_count": 23,
   "id": "swedish-spine",
   "metadata": {},
   "outputs": [
    {
     "data": {
      "text/plain": [
       "array([-1.87981613, -1.66221208, -1.93321727, -1.48850217, -1.69275528,\n",
       "       -2.34464971, -2.07471657, -3.41600941, -5.79017284, -1.75216951,\n",
       "       -8.1179078 , -3.93211812, -6.8671737 , -5.60730006, -5.28475732,\n",
       "       -6.61647574, -7.06687309, -5.75753448, -6.284507  , -6.35571743,\n",
       "       -6.88230317, -4.8455449 ])"
      ]
     },
     "execution_count": 23,
     "metadata": {},
     "output_type": "execute_result"
    }
   ],
   "source": [
    "X_scores[y_pred_lof == -1]"
   ]
  },
  {
   "cell_type": "markdown",
   "id": "d422a2e7",
   "metadata": {},
   "source": [
    "score 최대값, score 최소값, score의 최대/최소 범위"
   ]
  },
  {
   "cell_type": "code",
   "execution_count": 24,
   "id": "sacred-queens",
   "metadata": {},
   "outputs": [
    {
     "data": {
      "text/plain": [
       "(-0.9418576387466737, -8.117907800916395, 7.176050162169721)"
      ]
     },
     "execution_count": 24,
     "metadata": {},
     "output_type": "execute_result"
    }
   ],
   "source": [
    "X_scores.max(), X_scores.min(), X_scores.max() - X_scores.min()"
   ]
  },
  {
   "cell_type": "markdown",
   "id": "96d9400b",
   "metadata": {},
   "source": [
    "- score 크기를 반영하여 시각화"
   ]
  },
  {
   "cell_type": "code",
   "execution_count": 34,
   "id": "thorough-recording",
   "metadata": {},
   "outputs": [
    {
     "data": {
      "image/png": "[encoded data removed]",
      "text/plain": [
       "<Figure size 576x432 with 1 Axes>"
      ]
     },
     "metadata": {
      "needs_background": "light"
     },
     "output_type": "display_data"
    }
   ],
   "source": [
    "plt.figure(figsize=(8, 6))\n",
    "\n",
    "plt.title(\"Local Outlier Factor (LOF)\")\n",
    "plt.scatter(X[:, 0], X[:, 1], color='k', s=3., label='Data points')\n",
    "\n",
    "# 반지름이 outlier score에 비례하는 circle 플로팅\n",
    "radius = (X_scores.max() - X_scores) / (X_scores.max() - X_scores.min())\n",
    "\n",
    "plt.scatter(X[:, 0], X[:, 1], s=1000 * radius, edgecolors='r',\n",
    "            facecolors='none', label='Outlier scores')\n",
    "\n",
    "plt.xlim((-5, 5))\n",
    "plt.ylim((-5, 5))\n",
    "plt.xlabel(f\"prediction errors: {n_errors}/{len(ground_truth)}\")\n",
    "legend = plt.legend(loc='upper left')\n",
    "legend.legendHandles[0]._sizes = [20]\n",
    "legend.legendHandles[1]._sizes = [100]\n",
    "plt.show()"
   ]
  },
  {
   "cell_type": "code",
   "execution_count": 35,
   "id": "blessed-segment",
   "metadata": {},
   "outputs": [
    {
     "name": "stdout",
     "output_type": "stream",
     "text": [
      "              precision    recall  f1-score   support\n",
      "\n",
      "          -1       0.77      0.85      0.81        20\n",
      "           1       0.98      0.97      0.98       200\n",
      "\n",
      "    accuracy                           0.96       220\n",
      "   macro avg       0.88      0.91      0.89       220\n",
      "weighted avg       0.97      0.96      0.96       220\n",
      "\n"
     ]
    }
   ],
   "source": [
    "print(classification_report(ground_truth, y_pred_lof))"
   ]
  },
  {
   "cell_type": "markdown",
   "id": "indian-covering",
   "metadata": {},
   "source": [
    "## DBSCAN"
   ]
  },
  {
   "cell_type": "code",
   "execution_count": 48,
   "id": "trying-placement",
   "metadata": {},
   "outputs": [
    {
     "name": "stdout",
     "output_type": "stream",
     "text": [
      "(220,)\n",
      "[ 0  0  0  0  0  0  0  0  0  0  0  0  0  0  0  0  0  0  0  0  0  0  0  0\n",
      "  0  0  0  0  0  0  0  0  0  0  0  0  0 -1  0  0  0  0  0  0  0  0  0  0\n",
      "  0  0  0  0  0  0  0  0  0  0  0  0  0  0  0  0  0  0  0  0  0  0  0  0\n",
      "  0  0  0  0  0  0  0  0  0  0  0  0  0  0  0  0  0  0  0  0  0  0  0  0\n",
      "  0  0  0  0  1  1  1  1  1  1  1  1  1  1  1  1  1  1  1  1  1  1  1  1\n",
      "  1  1  1  1  1  1  1  1  1  1  1  1  1  1  1  1  1 -1  1  1  1  1  1  1\n",
      "  1  1  1  1  1  1  1  1  1  1  1  1  1  1  1  1  1  1  1  1  1  1  1  1\n",
      "  1  1  1  1  1  1  1  1  1  1  1  1  1  1  1  1  1  1  1  1  1  1  1  1\n",
      "  1  1  1  1  1  1  1  1 -1  0 -1  0 -1 -1 -1  0 -1 -1 -1 -1 -1 -1 -1 -1\n",
      " -1 -1 -1 -1]\n",
      "\n",
      "(199,)\n",
      "[ 0  1  2  3  4  5  6  7  8  9 10 11 12 13 14 15 16 17 18 19]\n"
     ]
    }
   ],
   "source": [
    "epsilon = 0.3\n",
    "minSamples = 7\n",
    "\n",
    "db = DBSCAN(eps=epsilon, min_samples=minSamples).fit(X)\n",
    "\n",
    "labels = db.labels_\n",
    "\n",
    "print(labels.shape)\n",
    "print(labels)\n",
    "print()\n",
    "print(db.core_sample_indices_.shape)\n",
    "print(db.core_sample_indices_[:20])"
   ]
  },
  {
   "cell_type": "code",
   "execution_count": 37,
   "id": "inappropriate-violation",
   "metadata": {},
   "outputs": [
    {
     "data": {
      "text/plain": [
       "{-1, 0, 1}"
      ]
     },
     "execution_count": 37,
     "metadata": {},
     "output_type": "execute_result"
    }
   ],
   "source": [
    "unique_labels = set(labels)       # -1 : outlier\n",
    "unique_labels"
   ]
  },
  {
   "cell_type": "code",
   "execution_count": 38,
   "id": "wound-shoulder",
   "metadata": {},
   "outputs": [
    {
     "name": "stdout",
     "output_type": "stream",
     "text": [
      "predicted as outlier : 19\n"
     ]
    }
   ],
   "source": [
    "print(\"predicted as outlier : {}\".format(sum(labels == -1)))"
   ]
  },
  {
   "cell_type": "markdown",
   "id": "cc8b2751",
   "metadata": {},
   "source": [
    "outlier 시각화"
   ]
  },
  {
   "cell_type": "code",
   "execution_count": 39,
   "id": "certain-observer",
   "metadata": {},
   "outputs": [
    {
     "data": {
      "image/png": "[encoded data removed]",
      "text/plain": [
       "<Figure size 576x432 with 1 Axes>"
      ]
     },
     "metadata": {
      "needs_background": "light"
     },
     "output_type": "display_data"
    }
   ],
   "source": [
    "colors = plt.cm.Spectral(np.linspace(0, 10, len(unique_labels)))\n",
    "\n",
    "plt.figure(figsize=(8, 6))\n",
    "\n",
    "for k, col in zip(unique_labels, colors):\n",
    "    members = (labels == k)\n",
    "    if k == -1:\n",
    "        plt.scatter(X[members, 0], X[members, 1], color='r', \n",
    "                    marker='o', s=30)\n",
    "    else:\n",
    "        plt.scatter(X[members, 0], X[members, 1], color=col,\n",
    "                    marker='o', s=10)\n",
    "\n",
    "plt.title('DBSCAN')\n",
    "plt.xlim((-5, 5))\n",
    "plt.ylim((-5, 5))\n",
    "plt.show()"
   ]
  },
  {
   "cell_type": "code",
   "execution_count": 41,
   "id": "chubby-engineering",
   "metadata": {},
   "outputs": [
    {
     "name": "stdout",
     "output_type": "stream",
     "text": [
      "              precision    recall  f1-score   support\n",
      "\n",
      "          -1       0.89      0.85      0.87        20\n",
      "           1       0.99      0.99      0.99       200\n",
      "\n",
      "    accuracy                           0.98       220\n",
      "   macro avg       0.94      0.92      0.93       220\n",
      "weighted avg       0.98      0.98      0.98       220\n",
      "\n"
     ]
    }
   ],
   "source": [
    "y_pred_db = labels\n",
    "y_pred_db[y_pred_db == 0] = 1\n",
    "\n",
    "print(classification_report(ground_truth, y_pred_db))"
   ]
  },
  {
   "cell_type": "markdown",
   "id": "unexpected-superior",
   "metadata": {},
   "source": [
    "## Isolation Forest 알고리즘"
   ]
  },
  {
   "cell_type": "code",
   "execution_count": 42,
   "id": "mighty-petite",
   "metadata": {},
   "outputs": [
    {
     "name": "stdout",
     "output_type": "stream",
     "text": [
      "predicted as outlier : 22\n"
     ]
    }
   ],
   "source": [
    "isof = IsolationForest(random_state=0).fit(X)\n",
    "\n",
    "y_pred_isof = isof.predict(X)  # 1: inlier, -1: outlier\n",
    "\n",
    "print(\"predicted as outlier : {}\".format(sum(y_pred_isof == -1)))"
   ]
  },
  {
   "cell_type": "markdown",
   "id": "e87cd07e",
   "metadata": {},
   "source": [
    "outlier 시각화"
   ]
  },
  {
   "cell_type": "code",
   "execution_count": 44,
   "id": "statistical-rally",
   "metadata": {},
   "outputs": [
    {
     "data": {
      "image/png": "[encoded data removed]",
      "text/plain": [
       "<Figure size 576x432 with 1 Axes>"
      ]
     },
     "metadata": {
      "needs_background": "light"
     },
     "output_type": "display_data"
    }
   ],
   "source": [
    "plt.figure(figsize=(8, 6))\n",
    "\n",
    "for i in [-1, 1]:\n",
    "    members = (y_pred_isof == i)\n",
    "    if i == -1:\n",
    "        plt.scatter(X[members, 0], X[members, 1], color='r', marker='o', s=30)\n",
    "    else:\n",
    "        plt.scatter(X[members, 0], X[members, 1], color=col, marker='o', s=10)\n",
    "\n",
    "plt.title('Isolated Forest')\n",
    "plt.xlim((-5, 5))\n",
    "plt.ylim((-5, 5))\n",
    "plt.show()"
   ]
  },
  {
   "cell_type": "markdown",
   "id": "stable-profit",
   "metadata": {},
   "source": [
    "## Models Performance 비교"
   ]
  },
  {
   "cell_type": "code",
   "execution_count": 45,
   "id": "gentle-decimal",
   "metadata": {},
   "outputs": [],
   "source": [
    "predictions = {\"lof\": y_pred_lof, \"isof\": y_pred_isof,  \"dbscan\": y_pred_db}"
   ]
  },
  {
   "cell_type": "code",
   "execution_count": 47,
   "id": "responsible-perception",
   "metadata": {
    "scrolled": false
   },
   "outputs": [
    {
     "name": "stdout",
     "output_type": "stream",
     "text": [
      "lof 의 erros : 8 / 220\n",
      "Accuracy Score : 0.96364\n",
      "Precision Score: 0.98485\n",
      "Recall Score   : 0.97500\n",
      "\n"
     ]
    },
    {
     "data": {
      "image/png": "[encoded data removed]",
      "text/plain": [
       "<Figure size 432x288 with 2 Axes>"
      ]
     },
     "metadata": {
      "needs_background": "light"
     },
     "output_type": "display_data"
    },
    {
     "name": "stdout",
     "output_type": "stream",
     "text": [
      "isof 의 erros : 6 / 220\n",
      "Accuracy Score : 0.97273\n",
      "Precision Score: 0.98990\n",
      "Recall Score   : 0.98000\n",
      "\n"
     ]
    },
    {
     "data": {
      "image/png": "[encoded data removed]",
      "text/plain": [
       "<Figure size 432x288 with 2 Axes>"
      ]
     },
     "metadata": {
      "needs_background": "light"
     },
     "output_type": "display_data"
    },
    {
     "name": "stdout",
     "output_type": "stream",
     "text": [
      "dbscan 의 erros : 5 / 220\n",
      "Accuracy Score : 0.97727\n",
      "Precision Score: 0.98507\n",
      "Recall Score   : 0.99000\n",
      "\n"
     ]
    },
    {
     "data": {
      "image/png": "[encoded data removed]",
      "text/plain": [
       "<Figure size 432x288 with 2 Axes>"
      ]
     },
     "metadata": {
      "needs_background": "light"
     },
     "output_type": "display_data"
    }
   ],
   "source": [
    "y = ground_truth\n",
    "\n",
    "for clf_name, y_pred in predictions.items():\n",
    "    \n",
    "    n_errors = (y_pred != y).sum()\n",
    "    \n",
    "    # Run Classification Metrics\n",
    "    print(f\"{clf_name} 의 erros : {n_errors} / {len(y)}\")\n",
    "    print(f\"Accuracy Score : {accuracy_score(y, y_pred):.5f}\")\n",
    "    print(f\"Precision Score: {precision_score(y, y_pred):.5f}\")\n",
    "    print(f\"Recall Score   : {recall_score(y, y_pred):.5f}\")\n",
    "    print()\n",
    "\n",
    "    cm = confusion_matrix(y, y_pred)\n",
    "    plt.figure()\n",
    "    ax = sns.heatmap(cm, annot=True, fmt='d')\n",
    "    ax.set_title(clf_name)\n",
    "    ax.set_ylabel('True')\n",
    "    ax.set_xlabel('Predicted')\n",
    "    plt.show()"
   ]
  },
  {
   "cell_type": "code",
   "execution_count": null,
   "id": "45b08f0c",
   "metadata": {},
   "outputs": [],
   "source": []
  }
 ],
 "metadata": {
  "kernelspec": {
   "display_name": "Python 3 (ipykernel)",
   "language": "python",
   "name": "python3"
  },
  "language_info": {
   "codemirror_mode": {
    "name": "ipython",
    "version": 3
   },
   "file_extension": ".py",
   "mimetype": "text/x-python",
   "name": "python",
   "nbconvert_exporter": "python",
   "pygments_lexer": "ipython3",
   "version": "3.9.7"
  }
 },
 "nbformat": 4,
 "nbformat_minor": 5
}
