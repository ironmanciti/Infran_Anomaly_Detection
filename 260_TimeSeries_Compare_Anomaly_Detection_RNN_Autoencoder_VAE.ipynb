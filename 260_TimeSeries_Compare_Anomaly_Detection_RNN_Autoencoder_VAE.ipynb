{
 "cells": [
  {
   "cell_type": "markdown",
   "id": "6a54f58b",
   "metadata": {
    "id": "6a54f58b"
   },
   "source": [
    "# 시계열 데이터의 Anomaly Detection 방법 비교\n",
    "\n",
    "- RNN을 이용한 지도학습 방법 - 이진 분류\n",
    "- Autoencoder 사용 방법 - 재구성 오류 측정\n",
    "- Variational Autoencoder 사용 방법 - 재구성 오류 측정"
   ]
  },
  {
   "cell_type": "code",
   "execution_count": 66,
   "id": "8a2fc874",
   "metadata": {
    "id": "8a2fc874"
   },
   "outputs": [],
   "source": [
    "import matplotlib.pyplot as plt\n",
    "import numpy as np\n",
    "import tensorflow as tf\n",
    "import pandas as pd\n",
    "\n",
    "from sklearn.metrics import accuracy_score, precision_score, recall_score\n",
    "from sklearn.model_selection import train_test_split\n",
    "from sklearn.preprocessing import MinMaxScaler\n",
    "from sklearn.metrics import accuracy_score, precision_score, recall_score\n",
    "from tensorflow.keras import layers, losses\n",
    "from tensorflow.keras.layers import Dense, Input\n",
    "from tensorflow.keras.models import Model"
   ]
  },
  {
   "cell_type": "markdown",
   "id": "50d40d7b",
   "metadata": {
    "id": "50d40d7b"
   },
   "source": [
    "- 이 연습문제에서는 RNN, 자동 인코더 및 변형 자동 인코더를 사용하여 [ECG5000 데이터 세트](http://www.timeseriesclassification.com/description.php?Dataset=ECG5000)에서 이상을 감지합니다.  이 데이터 세트에는 각각 140개의 데이터 포인트가 있는 5,000개의 심전도가 포함되어 있습니다. 각 예제에 0(비정상 리듬에 해당) 또는 1(정상 리듬에 해당)로 레이블이 지정된 데이터 세트의 단순화된 버전을 사용할 것입니다. 우리는 비정상적인 리듬을 식별하는 데 관심이 있습니다.   \n",
    "\n",
    "- \"ECG5000\"의 원본 데이터세트는 Physionet에서 다운로드한 20시간 길이의 ECG입니다. 이름은 BIDMC 울혈성 심부전 데이터베이스(chfdb)이고 레코드 \"chf07\"입니다. "
   ]
  },
  {
   "cell_type": "markdown",
   "id": "265d4877",
   "metadata": {
    "id": "265d4877"
   },
   "source": [
    "## Load and prepare ECG data"
   ]
  },
  {
   "cell_type": "code",
   "execution_count": 9,
   "id": "a35fa489",
   "metadata": {
    "colab": {
     "base_uri": "https://localhost:8080/",
     "height": 488
    },
    "id": "a35fa489",
    "outputId": "fc2f004e-24fb-477a-d03b-b8185b8b0c9b"
   },
   "outputs": [
    {
     "data": {
      "text/html": [
       "\n",
       "  <div id=\"df-a10c4fce-bce9-433d-a486-347afdb56374\">\n",
       "    <div class=\"colab-df-container\">\n",
       "      <div>\n",
       "<style scoped>\n",
       "    .dataframe tbody tr th:only-of-type {\n",
       "        vertical-align: middle;\n",
       "    }\n",
       "\n",
       "    .dataframe tbody tr th {\n",
       "        vertical-align: top;\n",
       "    }\n",
       "\n",
       "    .dataframe thead th {\n",
       "        text-align: right;\n",
       "    }\n",
       "</style>\n",
       "<table border=\"1\" class=\"dataframe\">\n",
       "  <thead>\n",
       "    <tr style=\"text-align: right;\">\n",
       "      <th></th>\n",
       "      <th>0</th>\n",
       "      <th>1</th>\n",
       "      <th>2</th>\n",
       "      <th>3</th>\n",
       "      <th>4</th>\n",
       "      <th>5</th>\n",
       "      <th>6</th>\n",
       "      <th>7</th>\n",
       "      <th>8</th>\n",
       "      <th>9</th>\n",
       "      <th>...</th>\n",
       "      <th>131</th>\n",
       "      <th>132</th>\n",
       "      <th>133</th>\n",
       "      <th>134</th>\n",
       "      <th>135</th>\n",
       "      <th>136</th>\n",
       "      <th>137</th>\n",
       "      <th>138</th>\n",
       "      <th>139</th>\n",
       "      <th>140</th>\n",
       "    </tr>\n",
       "  </thead>\n",
       "  <tbody>\n",
       "    <tr>\n",
       "      <th>0</th>\n",
       "      <td>-0.112522</td>\n",
       "      <td>-2.827204</td>\n",
       "      <td>-3.773897</td>\n",
       "      <td>-4.349751</td>\n",
       "      <td>-4.376041</td>\n",
       "      <td>-3.474986</td>\n",
       "      <td>-2.181408</td>\n",
       "      <td>-1.818286</td>\n",
       "      <td>-1.250522</td>\n",
       "      <td>-0.477492</td>\n",
       "      <td>...</td>\n",
       "      <td>0.792168</td>\n",
       "      <td>0.933541</td>\n",
       "      <td>0.796958</td>\n",
       "      <td>0.578621</td>\n",
       "      <td>0.257740</td>\n",
       "      <td>0.228077</td>\n",
       "      <td>0.123431</td>\n",
       "      <td>0.925286</td>\n",
       "      <td>0.193137</td>\n",
       "      <td>1.0</td>\n",
       "    </tr>\n",
       "    <tr>\n",
       "      <th>1</th>\n",
       "      <td>-1.100878</td>\n",
       "      <td>-3.996840</td>\n",
       "      <td>-4.285843</td>\n",
       "      <td>-4.506579</td>\n",
       "      <td>-4.022377</td>\n",
       "      <td>-3.234368</td>\n",
       "      <td>-1.566126</td>\n",
       "      <td>-0.992258</td>\n",
       "      <td>-0.754680</td>\n",
       "      <td>0.042321</td>\n",
       "      <td>...</td>\n",
       "      <td>0.538356</td>\n",
       "      <td>0.656881</td>\n",
       "      <td>0.787490</td>\n",
       "      <td>0.724046</td>\n",
       "      <td>0.555784</td>\n",
       "      <td>0.476333</td>\n",
       "      <td>0.773820</td>\n",
       "      <td>1.119621</td>\n",
       "      <td>-1.436250</td>\n",
       "      <td>1.0</td>\n",
       "    </tr>\n",
       "    <tr>\n",
       "      <th>2</th>\n",
       "      <td>-0.567088</td>\n",
       "      <td>-2.593450</td>\n",
       "      <td>-3.874230</td>\n",
       "      <td>-4.584095</td>\n",
       "      <td>-4.187449</td>\n",
       "      <td>-3.151462</td>\n",
       "      <td>-1.742940</td>\n",
       "      <td>-1.490659</td>\n",
       "      <td>-1.183580</td>\n",
       "      <td>-0.394229</td>\n",
       "      <td>...</td>\n",
       "      <td>0.886073</td>\n",
       "      <td>0.531452</td>\n",
       "      <td>0.311377</td>\n",
       "      <td>-0.021919</td>\n",
       "      <td>-0.713683</td>\n",
       "      <td>-0.532197</td>\n",
       "      <td>0.321097</td>\n",
       "      <td>0.904227</td>\n",
       "      <td>-0.421797</td>\n",
       "      <td>1.0</td>\n",
       "    </tr>\n",
       "    <tr>\n",
       "      <th>3</th>\n",
       "      <td>0.490473</td>\n",
       "      <td>-1.914407</td>\n",
       "      <td>-3.616364</td>\n",
       "      <td>-4.318823</td>\n",
       "      <td>-4.268016</td>\n",
       "      <td>-3.881110</td>\n",
       "      <td>-2.993280</td>\n",
       "      <td>-1.671131</td>\n",
       "      <td>-1.333884</td>\n",
       "      <td>-0.965629</td>\n",
       "      <td>...</td>\n",
       "      <td>0.350816</td>\n",
       "      <td>0.499111</td>\n",
       "      <td>0.600345</td>\n",
       "      <td>0.842069</td>\n",
       "      <td>0.952074</td>\n",
       "      <td>0.990133</td>\n",
       "      <td>1.086798</td>\n",
       "      <td>1.403011</td>\n",
       "      <td>-0.383564</td>\n",
       "      <td>1.0</td>\n",
       "    </tr>\n",
       "    <tr>\n",
       "      <th>4</th>\n",
       "      <td>0.800232</td>\n",
       "      <td>-0.874252</td>\n",
       "      <td>-2.384761</td>\n",
       "      <td>-3.973292</td>\n",
       "      <td>-4.338224</td>\n",
       "      <td>-3.802422</td>\n",
       "      <td>-2.534510</td>\n",
       "      <td>-1.783423</td>\n",
       "      <td>-1.594450</td>\n",
       "      <td>-0.753199</td>\n",
       "      <td>...</td>\n",
       "      <td>1.148884</td>\n",
       "      <td>0.958434</td>\n",
       "      <td>1.059025</td>\n",
       "      <td>1.371682</td>\n",
       "      <td>1.277392</td>\n",
       "      <td>0.960304</td>\n",
       "      <td>0.971020</td>\n",
       "      <td>1.614392</td>\n",
       "      <td>1.421456</td>\n",
       "      <td>1.0</td>\n",
       "    </tr>\n",
       "    <tr>\n",
       "      <th>...</th>\n",
       "      <td>...</td>\n",
       "      <td>...</td>\n",
       "      <td>...</td>\n",
       "      <td>...</td>\n",
       "      <td>...</td>\n",
       "      <td>...</td>\n",
       "      <td>...</td>\n",
       "      <td>...</td>\n",
       "      <td>...</td>\n",
       "      <td>...</td>\n",
       "      <td>...</td>\n",
       "      <td>...</td>\n",
       "      <td>...</td>\n",
       "      <td>...</td>\n",
       "      <td>...</td>\n",
       "      <td>...</td>\n",
       "      <td>...</td>\n",
       "      <td>...</td>\n",
       "      <td>...</td>\n",
       "      <td>...</td>\n",
       "      <td>...</td>\n",
       "    </tr>\n",
       "    <tr>\n",
       "      <th>4993</th>\n",
       "      <td>0.608558</td>\n",
       "      <td>-0.335651</td>\n",
       "      <td>-0.990948</td>\n",
       "      <td>-1.784153</td>\n",
       "      <td>-2.626145</td>\n",
       "      <td>-2.957065</td>\n",
       "      <td>-2.931897</td>\n",
       "      <td>-2.664816</td>\n",
       "      <td>-2.090137</td>\n",
       "      <td>-1.461841</td>\n",
       "      <td>...</td>\n",
       "      <td>1.757705</td>\n",
       "      <td>2.291923</td>\n",
       "      <td>2.704595</td>\n",
       "      <td>2.451519</td>\n",
       "      <td>2.017396</td>\n",
       "      <td>1.704358</td>\n",
       "      <td>1.688542</td>\n",
       "      <td>1.629593</td>\n",
       "      <td>1.342651</td>\n",
       "      <td>0.0</td>\n",
       "    </tr>\n",
       "    <tr>\n",
       "      <th>4994</th>\n",
       "      <td>-2.060402</td>\n",
       "      <td>-2.860116</td>\n",
       "      <td>-3.405074</td>\n",
       "      <td>-3.748719</td>\n",
       "      <td>-3.513561</td>\n",
       "      <td>-3.006545</td>\n",
       "      <td>-2.234850</td>\n",
       "      <td>-1.593270</td>\n",
       "      <td>-1.075279</td>\n",
       "      <td>-0.976047</td>\n",
       "      <td>...</td>\n",
       "      <td>1.388947</td>\n",
       "      <td>2.079675</td>\n",
       "      <td>2.433375</td>\n",
       "      <td>2.159484</td>\n",
       "      <td>1.819747</td>\n",
       "      <td>1.534767</td>\n",
       "      <td>1.696818</td>\n",
       "      <td>1.483832</td>\n",
       "      <td>1.047612</td>\n",
       "      <td>0.0</td>\n",
       "    </tr>\n",
       "    <tr>\n",
       "      <th>4995</th>\n",
       "      <td>-1.122969</td>\n",
       "      <td>-2.252925</td>\n",
       "      <td>-2.867628</td>\n",
       "      <td>-3.358605</td>\n",
       "      <td>-3.167849</td>\n",
       "      <td>-2.638360</td>\n",
       "      <td>-1.664162</td>\n",
       "      <td>-0.935655</td>\n",
       "      <td>-0.866953</td>\n",
       "      <td>-0.645363</td>\n",
       "      <td>...</td>\n",
       "      <td>-0.472419</td>\n",
       "      <td>-1.310147</td>\n",
       "      <td>-2.029521</td>\n",
       "      <td>-3.221294</td>\n",
       "      <td>-4.176790</td>\n",
       "      <td>-4.009720</td>\n",
       "      <td>-2.874136</td>\n",
       "      <td>-2.008369</td>\n",
       "      <td>-1.808334</td>\n",
       "      <td>0.0</td>\n",
       "    </tr>\n",
       "    <tr>\n",
       "      <th>4996</th>\n",
       "      <td>-0.547705</td>\n",
       "      <td>-1.889545</td>\n",
       "      <td>-2.839779</td>\n",
       "      <td>-3.457912</td>\n",
       "      <td>-3.929149</td>\n",
       "      <td>-3.966026</td>\n",
       "      <td>-3.492560</td>\n",
       "      <td>-2.695270</td>\n",
       "      <td>-1.849691</td>\n",
       "      <td>-1.374321</td>\n",
       "      <td>...</td>\n",
       "      <td>1.258419</td>\n",
       "      <td>1.907530</td>\n",
       "      <td>2.280888</td>\n",
       "      <td>1.895242</td>\n",
       "      <td>1.437702</td>\n",
       "      <td>1.193433</td>\n",
       "      <td>1.261335</td>\n",
       "      <td>1.150449</td>\n",
       "      <td>0.804932</td>\n",
       "      <td>0.0</td>\n",
       "    </tr>\n",
       "    <tr>\n",
       "      <th>4997</th>\n",
       "      <td>-1.351779</td>\n",
       "      <td>-2.209006</td>\n",
       "      <td>-2.520225</td>\n",
       "      <td>-3.061475</td>\n",
       "      <td>-3.065141</td>\n",
       "      <td>-3.030739</td>\n",
       "      <td>-2.622720</td>\n",
       "      <td>-2.044092</td>\n",
       "      <td>-1.295874</td>\n",
       "      <td>-0.733839</td>\n",
       "      <td>...</td>\n",
       "      <td>-1.512234</td>\n",
       "      <td>-2.076075</td>\n",
       "      <td>-2.586042</td>\n",
       "      <td>-3.322799</td>\n",
       "      <td>-3.627311</td>\n",
       "      <td>-3.437038</td>\n",
       "      <td>-2.260023</td>\n",
       "      <td>-1.577823</td>\n",
       "      <td>-0.684531</td>\n",
       "      <td>0.0</td>\n",
       "    </tr>\n",
       "  </tbody>\n",
       "</table>\n",
       "<p>4998 rows × 141 columns</p>\n",
       "</div>\n",
       "      <button class=\"colab-df-convert\" onclick=\"convertToInteractive('df-a10c4fce-bce9-433d-a486-347afdb56374')\"\n",
       "              title=\"Convert this dataframe to an interactive table.\"\n",
       "              style=\"display:none;\">\n",
       "        \n",
       "  <svg xmlns=\"http://www.w3.org/2000/svg\" height=\"24px\"viewBox=\"0 0 24 24\"\n",
       "       width=\"24px\">\n",
       "    <path d=\"M0 0h24v24H0V0z\" fill=\"none\"/>\n",
       "    <path d=\"M18.56 5.44l.94 2.06.94-2.06 2.06-.94-2.06-.94-.94-2.06-.94 2.06-2.06.94zm-11 1L8.5 8.5l.94-2.06 2.06-.94-2.06-.94L8.5 2.5l-.94 2.06-2.06.94zm10 10l.94 2.06.94-2.06 2.06-.94-2.06-.94-.94-2.06-.94 2.06-2.06.94z\"/><path d=\"M17.41 7.96l-1.37-1.37c-.4-.4-.92-.59-1.43-.59-.52 0-1.04.2-1.43.59L10.3 9.45l-7.72 7.72c-.78.78-.78 2.05 0 2.83L4 21.41c.39.39.9.59 1.41.59.51 0 1.02-.2 1.41-.59l7.78-7.78 2.81-2.81c.8-.78.8-2.07 0-2.86zM5.41 20L4 18.59l7.72-7.72 1.47 1.35L5.41 20z\"/>\n",
       "  </svg>\n",
       "      </button>\n",
       "      \n",
       "  <style>\n",
       "    .colab-df-container {\n",
       "      display:flex;\n",
       "      flex-wrap:wrap;\n",
       "      gap: 12px;\n",
       "    }\n",
       "\n",
       "    .colab-df-convert {\n",
       "      background-color: #E8F0FE;\n",
       "      border: none;\n",
       "      border-radius: 50%;\n",
       "      cursor: pointer;\n",
       "      display: none;\n",
       "      fill: #1967D2;\n",
       "      height: 32px;\n",
       "      padding: 0 0 0 0;\n",
       "      width: 32px;\n",
       "    }\n",
       "\n",
       "    .colab-df-convert:hover {\n",
       "      background-color: #E2EBFA;\n",
       "      box-shadow: 0px 1px 2px rgba(60, 64, 67, 0.3), 0px 1px 3px 1px rgba(60, 64, 67, 0.15);\n",
       "      fill: #174EA6;\n",
       "    }\n",
       "\n",
       "    [theme=dark] .colab-df-convert {\n",
       "      background-color: #3B4455;\n",
       "      fill: #D2E3FC;\n",
       "    }\n",
       "\n",
       "    [theme=dark] .colab-df-convert:hover {\n",
       "      background-color: #434B5C;\n",
       "      box-shadow: 0px 1px 3px 1px rgba(0, 0, 0, 0.15);\n",
       "      filter: drop-shadow(0px 1px 2px rgba(0, 0, 0, 0.3));\n",
       "      fill: #FFFFFF;\n",
       "    }\n",
       "  </style>\n",
       "\n",
       "      <script>\n",
       "        const buttonEl =\n",
       "          document.querySelector('#df-a10c4fce-bce9-433d-a486-347afdb56374 button.colab-df-convert');\n",
       "        buttonEl.style.display =\n",
       "          google.colab.kernel.accessAllowed ? 'block' : 'none';\n",
       "\n",
       "        async function convertToInteractive(key) {\n",
       "          const element = document.querySelector('#df-a10c4fce-bce9-433d-a486-347afdb56374');\n",
       "          const dataTable =\n",
       "            await google.colab.kernel.invokeFunction('convertToInteractive',\n",
       "                                                     [key], {});\n",
       "          if (!dataTable) return;\n",
       "\n",
       "          const docLinkHtml = 'Like what you see? Visit the ' +\n",
       "            '<a target=\"_blank\" href=https://colab.research.google.com/notebooks/data_table.ipynb>data table notebook</a>'\n",
       "            + ' to learn more about interactive tables.';\n",
       "          element.innerHTML = '';\n",
       "          dataTable['output_type'] = 'display_data';\n",
       "          await google.colab.output.renderOutput(dataTable, element);\n",
       "          const docLink = document.createElement('div');\n",
       "          docLink.innerHTML = docLinkHtml;\n",
       "          element.appendChild(docLink);\n",
       "        }\n",
       "      </script>\n",
       "    </div>\n",
       "  </div>\n",
       "  "
      ],
      "text/plain": [
       "           0         1         2         3         4         5         6    \\\n",
       "0    -0.112522 -2.827204 -3.773897 -4.349751 -4.376041 -3.474986 -2.181408   \n",
       "1    -1.100878 -3.996840 -4.285843 -4.506579 -4.022377 -3.234368 -1.566126   \n",
       "2    -0.567088 -2.593450 -3.874230 -4.584095 -4.187449 -3.151462 -1.742940   \n",
       "3     0.490473 -1.914407 -3.616364 -4.318823 -4.268016 -3.881110 -2.993280   \n",
       "4     0.800232 -0.874252 -2.384761 -3.973292 -4.338224 -3.802422 -2.534510   \n",
       "...        ...       ...       ...       ...       ...       ...       ...   \n",
       "4993  0.608558 -0.335651 -0.990948 -1.784153 -2.626145 -2.957065 -2.931897   \n",
       "4994 -2.060402 -2.860116 -3.405074 -3.748719 -3.513561 -3.006545 -2.234850   \n",
       "4995 -1.122969 -2.252925 -2.867628 -3.358605 -3.167849 -2.638360 -1.664162   \n",
       "4996 -0.547705 -1.889545 -2.839779 -3.457912 -3.929149 -3.966026 -3.492560   \n",
       "4997 -1.351779 -2.209006 -2.520225 -3.061475 -3.065141 -3.030739 -2.622720   \n",
       "\n",
       "           7         8         9    ...       131       132       133  \\\n",
       "0    -1.818286 -1.250522 -0.477492  ...  0.792168  0.933541  0.796958   \n",
       "1    -0.992258 -0.754680  0.042321  ...  0.538356  0.656881  0.787490   \n",
       "2    -1.490659 -1.183580 -0.394229  ...  0.886073  0.531452  0.311377   \n",
       "3    -1.671131 -1.333884 -0.965629  ...  0.350816  0.499111  0.600345   \n",
       "4    -1.783423 -1.594450 -0.753199  ...  1.148884  0.958434  1.059025   \n",
       "...        ...       ...       ...  ...       ...       ...       ...   \n",
       "4993 -2.664816 -2.090137 -1.461841  ...  1.757705  2.291923  2.704595   \n",
       "4994 -1.593270 -1.075279 -0.976047  ...  1.388947  2.079675  2.433375   \n",
       "4995 -0.935655 -0.866953 -0.645363  ... -0.472419 -1.310147 -2.029521   \n",
       "4996 -2.695270 -1.849691 -1.374321  ...  1.258419  1.907530  2.280888   \n",
       "4997 -2.044092 -1.295874 -0.733839  ... -1.512234 -2.076075 -2.586042   \n",
       "\n",
       "           134       135       136       137       138       139  140  \n",
       "0     0.578621  0.257740  0.228077  0.123431  0.925286  0.193137  1.0  \n",
       "1     0.724046  0.555784  0.476333  0.773820  1.119621 -1.436250  1.0  \n",
       "2    -0.021919 -0.713683 -0.532197  0.321097  0.904227 -0.421797  1.0  \n",
       "3     0.842069  0.952074  0.990133  1.086798  1.403011 -0.383564  1.0  \n",
       "4     1.371682  1.277392  0.960304  0.971020  1.614392  1.421456  1.0  \n",
       "...        ...       ...       ...       ...       ...       ...  ...  \n",
       "4993  2.451519  2.017396  1.704358  1.688542  1.629593  1.342651  0.0  \n",
       "4994  2.159484  1.819747  1.534767  1.696818  1.483832  1.047612  0.0  \n",
       "4995 -3.221294 -4.176790 -4.009720 -2.874136 -2.008369 -1.808334  0.0  \n",
       "4996  1.895242  1.437702  1.193433  1.261335  1.150449  0.804932  0.0  \n",
       "4997 -3.322799 -3.627311 -3.437038 -2.260023 -1.577823 -0.684531  0.0  \n",
       "\n",
       "[4998 rows x 141 columns]"
      ]
     },
     "execution_count": 9,
     "metadata": {},
     "output_type": "execute_result"
    }
   ],
   "source": [
    "# Dataset Download \n",
    "df = pd.read_csv('http://storage.googleapis.com/download.tensorflow.org/data/ecg.csv', header=None)\n",
    "df"
   ]
  },
  {
   "cell_type": "code",
   "execution_count": 10,
   "id": "83b86be4",
   "metadata": {
    "colab": {
     "base_uri": "https://localhost:8080/"
    },
    "id": "83b86be4",
    "outputId": "6efd4a30-6736-4353-8584-b5a2cb0fa508"
   },
   "outputs": [
    {
     "data": {
      "text/plain": [
       "1.0    2919\n",
       "0.0    2079\n",
       "Name: 140, dtype: int64"
      ]
     },
     "execution_count": 10,
     "metadata": {},
     "output_type": "execute_result"
    }
   ],
   "source": [
    "df.iloc[:, -1].value_counts()"
   ]
  },
  {
   "cell_type": "code",
   "execution_count": 32,
   "id": "1c6c38ba",
   "metadata": {
    "colab": {
     "base_uri": "https://localhost:8080/"
    },
    "id": "1c6c38ba",
    "outputId": "25902cbb-b34c-4085-e271-0c6753e70d99"
   },
   "outputs": [
    {
     "data": {
      "text/plain": [
       "((3998, 140), (1000, 140), (3998,), (1000,))"
      ]
     },
     "execution_count": 32,
     "metadata": {},
     "output_type": "execute_result"
    }
   ],
   "source": [
    "# labels\n",
    "labels = df.iloc[:, -1]\n",
    "\n",
    "# electrocadriogram data의 feature values\n",
    "data = df.iloc[:, 0:-1]\n",
    "\n",
    "X_train, X_test, y_train,y_test = train_test_split(data, labels, test_size=0.2, random_state=42)\n",
    "\n",
    "X_train.shape, X_test.shape, y_train.shape, y_test.shape"
   ]
  },
  {
   "cell_type": "code",
   "execution_count": 33,
   "id": "82614305",
   "metadata": {
    "id": "82614305"
   },
   "outputs": [],
   "source": [
    "sc = MinMaxScaler()\n",
    "X_train = sc.fit_transform(X_train)\n",
    "X_test = sc.transform(X_test)"
   ]
  },
  {
   "cell_type": "code",
   "execution_count": 34,
   "id": "b68f0407",
   "metadata": {
    "id": "b68f0407"
   },
   "outputs": [],
   "source": [
    "y_train = y_train.astype(bool)\n",
    "y_test = y_test.astype(bool)"
   ]
  },
  {
   "cell_type": "markdown",
   "id": "gnXQbXyeCvLd",
   "metadata": {
    "id": "gnXQbXyeCvLd"
   },
   "source": [
    "normal, abnormal data 분리"
   ]
  },
  {
   "cell_type": "code",
   "execution_count": 36,
   "id": "59fb9abc",
   "metadata": {
    "colab": {
     "base_uri": "https://localhost:8080/"
    },
    "id": "59fb9abc",
    "outputId": "7ec77d20-4176-4bd9-9a9d-3b6f91b02f9b"
   },
   "outputs": [
    {
     "name": "stdout",
     "output_type": "stream",
     "text": [
      "정상 데이터 (2328, 140) (591, 140) (2328,) (591,)\n",
      "비정상 데이터 (1670, 140) (409, 140) (1670,) (409,)\n"
     ]
    }
   ],
   "source": [
    "normal_X_train = X_train[y_train]\n",
    "normal_X_test = X_test[y_test]\n",
    "normal_y_train = y_train[y_train]\n",
    "normal_y_test = y_test[y_test]\n",
    "\n",
    "abnormal_X_train = X_train[~y_train]\n",
    "abnormal_X_test = X_test[~y_test]\n",
    "abnormal_y_train = y_train[~y_train]\n",
    "abnormal_y_test = y_test[~y_test]\n",
    "\n",
    "print(\"정상 데이터\", normal_X_train.shape, normal_X_test.shape, \n",
    "       normal_y_train.shape, normal_y_test.shape)\n",
    "print(\"비정상 데이터\", abnormal_X_train.shape, abnormal_X_test.shape, \n",
    "       abnormal_y_train.shape, abnormal_y_test.shape)"
   ]
  },
  {
   "cell_type": "markdown",
   "id": "99398c7b",
   "metadata": {
    "id": "99398c7b"
   },
   "source": [
    "정상 ECG 시각화"
   ]
  },
  {
   "cell_type": "code",
   "execution_count": 37,
   "id": "b129a381",
   "metadata": {
    "colab": {
     "base_uri": "https://localhost:8080/",
     "height": 281
    },
    "id": "b129a381",
    "outputId": "68c7009e-13c8-41d5-ac31-29b9506d57bd"
   },
   "outputs": [
    {
     "data": {
      "image/png": "[encoded data removed]",
      "text/plain": [
       "<Figure size 432x288 with 1 Axes>"
      ]
     },
     "metadata": {
      "needs_background": "light"
     },
     "output_type": "display_data"
    }
   ],
   "source": [
    "plt.plot(normal_X_train[0])\n",
    "plt.title(\"A normal ECG\")\n",
    "plt.grid()\n",
    "plt.show()"
   ]
  },
  {
   "cell_type": "markdown",
   "id": "87c461ab",
   "metadata": {
    "id": "87c461ab"
   },
   "source": [
    "비정상 ECG 시각화"
   ]
  },
  {
   "cell_type": "code",
   "execution_count": 38,
   "id": "6acfd4d6",
   "metadata": {
    "colab": {
     "base_uri": "https://localhost:8080/",
     "height": 281
    },
    "id": "6acfd4d6",
    "outputId": "66e568c1-7a4e-4b88-88f7-b438b43b4e54"
   },
   "outputs": [
    {
     "data": {
      "image/png": "[encoded data removed]",
      "text/plain": [
       "<Figure size 432x288 with 1 Axes>"
      ]
     },
     "metadata": {
      "needs_background": "light"
     },
     "output_type": "display_data"
    }
   ],
   "source": [
    "plt.plot(abnormal_X_train[0])\n",
    "plt.title(\"An Abnormal ECG\")\n",
    "plt.grid()\n",
    "plt.show()"
   ]
  },
  {
   "cell_type": "markdown",
   "id": "51cf3f2f",
   "metadata": {
    "id": "51cf3f2f"
   },
   "source": [
    "### 이상 탐지를 위한 RNN\n",
    "데이터 세트의 레이블에 액세스할 수 있으므로 이상 감지를 이진 분류 지도 학습 문제로 설정할 수 있습니다. "
   ]
  },
  {
   "cell_type": "code",
   "execution_count": 39,
   "id": "8d220850",
   "metadata": {
    "colab": {
     "base_uri": "https://localhost:8080/"
    },
    "id": "8d220850",
    "outputId": "04b70e2a-1ae5-4320-e2ce-45588c1e0479"
   },
   "outputs": [
    {
     "data": {
      "text/plain": [
       "((3998, 140, 1), (1000, 140, 1))"
      ]
     },
     "execution_count": 39,
     "metadata": {},
     "output_type": "execute_result"
    }
   ],
   "source": [
    "X_train_rnn = np.expand_dims(X_train, axis=2)\n",
    "X_test_rnn = np.expand_dims(X_test, axis=2)\n",
    "X_train_rnn.shape, X_test_rnn.shape"
   ]
  },
  {
   "cell_type": "code",
   "execution_count": 40,
   "id": "ec2b8876",
   "metadata": {
    "colab": {
     "base_uri": "https://localhost:8080/"
    },
    "id": "ec2b8876",
    "outputId": "39743e18-c4c5-4ce7-9801-a5e5b35df9b9"
   },
   "outputs": [
    {
     "name": "stdout",
     "output_type": "stream",
     "text": [
      "Model: \"sequential\"\n",
      "_________________________________________________________________\n",
      " Layer (type)                Output Shape              Param #   \n",
      "=================================================================\n",
      " lstm (LSTM)                 (None, 100)               40800     \n",
      "                                                                 \n",
      " dropout (Dropout)           (None, 100)               0         \n",
      "                                                                 \n",
      " dense (Dense)               (None, 1)                 101       \n",
      "                                                                 \n",
      "=================================================================\n",
      "Total params: 40,901\n",
      "Trainable params: 40,901\n",
      "Non-trainable params: 0\n",
      "_________________________________________________________________\n"
     ]
    }
   ],
   "source": [
    "# RNN 모델 생성\n",
    "model = tf.keras.Sequential()\n",
    "model.add(layers.LSTM(100, input_shape=(X_train_rnn.shape[1],X_train_rnn.shape[2])))\n",
    "model.add(layers.Dropout(0.25))\n",
    "model.add(layers.Dense(1, activation='sigmoid'))\n",
    "model.summary()"
   ]
  },
  {
   "cell_type": "code",
   "execution_count": 41,
   "id": "310be5c9",
   "metadata": {
    "colab": {
     "base_uri": "https://localhost:8080/"
    },
    "id": "310be5c9",
    "outputId": "196c731a-4847-4aae-ef68-4671b27bed7e",
    "scrolled": true
   },
   "outputs": [
    {
     "name": "stdout",
     "output_type": "stream",
     "text": [
      "Epoch 1/20\n",
      "16/16 [==============================] - 6s 14ms/step - loss: 0.6312\n",
      "Epoch 2/20\n",
      "16/16 [==============================] - 0s 14ms/step - loss: 0.4077\n",
      "Epoch 3/20\n",
      "16/16 [==============================] - 0s 14ms/step - loss: 0.2088\n",
      "Epoch 4/20\n",
      "16/16 [==============================] - 0s 15ms/step - loss: 0.1482\n",
      "Epoch 5/20\n",
      "16/16 [==============================] - 0s 13ms/step - loss: 0.1064\n",
      "Epoch 6/20\n",
      "16/16 [==============================] - 0s 15ms/step - loss: 0.1109\n",
      "Epoch 7/20\n",
      "16/16 [==============================] - 0s 14ms/step - loss: 0.0994\n",
      "Epoch 8/20\n",
      "16/16 [==============================] - 0s 15ms/step - loss: 0.0931\n",
      "Epoch 9/20\n",
      "16/16 [==============================] - 0s 14ms/step - loss: 0.0873\n",
      "Epoch 10/20\n",
      "16/16 [==============================] - 0s 13ms/step - loss: 0.0832\n",
      "Epoch 11/20\n",
      "16/16 [==============================] - 0s 13ms/step - loss: 0.0921\n",
      "Epoch 12/20\n",
      "16/16 [==============================] - 0s 13ms/step - loss: 0.0973\n",
      "Epoch 13/20\n",
      "16/16 [==============================] - 0s 13ms/step - loss: 0.0770\n",
      "Epoch 14/20\n",
      "16/16 [==============================] - 0s 13ms/step - loss: 0.0802\n",
      "Epoch 15/20\n",
      "16/16 [==============================] - 0s 13ms/step - loss: 0.0747\n",
      "Epoch 16/20\n",
      "16/16 [==============================] - 0s 13ms/step - loss: 0.0752\n",
      "Epoch 17/20\n",
      "16/16 [==============================] - 0s 13ms/step - loss: 0.0697\n",
      "Epoch 18/20\n",
      "16/16 [==============================] - 0s 13ms/step - loss: 0.0814\n",
      "Epoch 19/20\n",
      "16/16 [==============================] - 0s 13ms/step - loss: 0.0829\n",
      "Epoch 20/20\n",
      "16/16 [==============================] - 0s 14ms/step - loss: 0.0686\n"
     ]
    }
   ],
   "source": [
    "model.compile(loss='binary_crossentropy', optimizer='adam')\n",
    "history = model.fit(X_train_rnn, y_train, epochs=20, batch_size=256)"
   ]
  },
  {
   "cell_type": "code",
   "execution_count": 42,
   "id": "ed7bfefa",
   "metadata": {
    "colab": {
     "base_uri": "https://localhost:8080/",
     "height": 300
    },
    "id": "ed7bfefa",
    "outputId": "1df2e285-2786-413c-d1c9-577989a38678"
   },
   "outputs": [
    {
     "data": {
      "text/plain": [
       "Text(0.5, 1.0, 'Training Loss')"
      ]
     },
     "execution_count": 42,
     "metadata": {},
     "output_type": "execute_result"
    },
    {
     "data": {
      "image/png": "[encoded data removed]",
      "text/plain": [
       "<Figure size 432x288 with 1 Axes>"
      ]
     },
     "metadata": {
      "needs_background": "light"
     },
     "output_type": "display_data"
    }
   ],
   "source": [
    "plt.plot(history.history['loss'])\n",
    "plt.title('Training Loss')"
   ]
  },
  {
   "cell_type": "code",
   "execution_count": 43,
   "id": "4610ea7c",
   "metadata": {
    "colab": {
     "base_uri": "https://localhost:8080/"
    },
    "id": "4610ea7c",
    "outputId": "6cbe7a58-87c7-4e38-f37f-3eb05433d696"
   },
   "outputs": [
    {
     "name": "stdout",
     "output_type": "stream",
     "text": [
      "Accuracy =  0.979\n",
      "Precision =  0.9746192893401016\n",
      "Recall =  0.9896907216494846\n"
     ]
    }
   ],
   "source": [
    "# Test set 정상/비정상 분류\n",
    "preds = model.predict(X_test_rnn) > 0.5\n",
    "\n",
    "# metric 계산\n",
    "accuracy_test_rnn= accuracy_score(preds, y_test)\n",
    "print('Accuracy = ',accuracy_test_rnn)\n",
    "\n",
    "precision_test_rnn=precision_score(preds, y_test)\n",
    "print('Precision = ',precision_test_rnn)\n",
    "\n",
    "recall_test_rnn=recall_score(preds, y_test)\n",
    "print('Recall = ',recall_test_rnn)"
   ]
  },
  {
   "cell_type": "markdown",
   "id": "65b30eae",
   "metadata": {
    "id": "65b30eae"
   },
   "source": [
    "### 이상 감지를 위한 오토인코더\n",
    "autoencoder의 목적은 주어진 입력의 재구성 오류를 최소화하는 것입니다. 따라서 우리는 최소한의 오류로 이러한 예를 재구성할 수 있도록 정상 심전도 시퀀스에 대해서만 자동 인코더를 훈련할 것입니다.   \n",
    "비정상적인 리듬은 정상 시퀀스보다 재구성 오류가 더 높아야 하므로 재구성 오류가 고정 임계값보다 높은 경우의 리듬을 이상으로 분류할 수 있습니다."
   ]
  },
  {
   "cell_type": "code",
   "execution_count": 44,
   "id": "3ca8305a",
   "metadata": {
    "id": "3ca8305a"
   },
   "outputs": [],
   "source": [
    "class AnomalyDetectorAE(Model):\n",
    "    def __init__(self):\n",
    "        super(AnomalyDetectorAE, self).__init__()\n",
    "\n",
    "        # encoder network\n",
    "        self.encoder = tf.keras.Sequential([\n",
    "              Dense(32, activation=\"relu\"),\n",
    "              Dense(16, activation=\"relu\"),\n",
    "              Dense(8, activation=\"relu\")])\n",
    "\n",
    "        # decoder network\n",
    "        self.decoder = tf.keras.Sequential([\n",
    "              Dense(16, activation=\"relu\"),\n",
    "              Dense(32, activation=\"relu\"),\n",
    "              Dense(140, activation=\"sigmoid\")])\n",
    "\n",
    "    def call(self, x):\n",
    "        encoded = self.encoder(x)\n",
    "        decoded = self.decoder(encoded)\n",
    "        return decoded\n",
    "\n",
    "autoencoder = AnomalyDetectorAE()"
   ]
  },
  {
   "cell_type": "code",
   "execution_count": 45,
   "id": "c8416e97",
   "metadata": {
    "id": "c8416e97"
   },
   "outputs": [],
   "source": [
    "autoencoder.compile(optimizer='adam', loss='mae')"
   ]
  },
  {
   "cell_type": "markdown",
   "id": "84d6c130",
   "metadata": {
    "id": "84d6c130"
   },
   "source": [
    "오토인코더는 정상 ECG만 사용하여 훈련됩니다."
   ]
  },
  {
   "cell_type": "code",
   "execution_count": 46,
   "id": "ff7f27d1",
   "metadata": {
    "colab": {
     "base_uri": "https://localhost:8080/"
    },
    "id": "ff7f27d1",
    "outputId": "50c6d5f2-1bfc-4e83-a296-d7cc41147b1f"
   },
   "outputs": [
    {
     "name": "stdout",
     "output_type": "stream",
     "text": [
      "Epoch 1/20\n",
      "10/10 [==============================] - 1s 19ms/step - loss: 0.1320 - val_loss: 0.1213\n",
      "Epoch 2/20\n",
      "10/10 [==============================] - 0s 7ms/step - loss: 0.1118 - val_loss: 0.0980\n",
      "Epoch 3/20\n",
      "10/10 [==============================] - 0s 5ms/step - loss: 0.0886 - val_loss: 0.0762\n",
      "Epoch 4/20\n",
      "10/10 [==============================] - 0s 5ms/step - loss: 0.0685 - val_loss: 0.0603\n",
      "Epoch 5/20\n",
      "10/10 [==============================] - 0s 5ms/step - loss: 0.0561 - val_loss: 0.0528\n",
      "Epoch 6/20\n",
      "10/10 [==============================] - 0s 5ms/step - loss: 0.0507 - val_loss: 0.0496\n",
      "Epoch 7/20\n",
      "10/10 [==============================] - 0s 5ms/step - loss: 0.0482 - val_loss: 0.0478\n",
      "Epoch 8/20\n",
      "10/10 [==============================] - 0s 5ms/step - loss: 0.0468 - val_loss: 0.0467\n",
      "Epoch 9/20\n",
      "10/10 [==============================] - 0s 5ms/step - loss: 0.0458 - val_loss: 0.0461\n",
      "Epoch 10/20\n",
      "10/10 [==============================] - 0s 5ms/step - loss: 0.0453 - val_loss: 0.0455\n",
      "Epoch 11/20\n",
      "10/10 [==============================] - 0s 5ms/step - loss: 0.0448 - val_loss: 0.0451\n",
      "Epoch 12/20\n",
      "10/10 [==============================] - 0s 5ms/step - loss: 0.0443 - val_loss: 0.0445\n",
      "Epoch 13/20\n",
      "10/10 [==============================] - 0s 5ms/step - loss: 0.0436 - val_loss: 0.0435\n",
      "Epoch 14/20\n",
      "10/10 [==============================] - 0s 5ms/step - loss: 0.0425 - val_loss: 0.0423\n",
      "Epoch 15/20\n",
      "10/10 [==============================] - 0s 5ms/step - loss: 0.0412 - val_loss: 0.0408\n",
      "Epoch 16/20\n",
      "10/10 [==============================] - 0s 5ms/step - loss: 0.0398 - val_loss: 0.0396\n",
      "Epoch 17/20\n",
      "10/10 [==============================] - 0s 5ms/step - loss: 0.0386 - val_loss: 0.0389\n",
      "Epoch 18/20\n",
      "10/10 [==============================] - 0s 6ms/step - loss: 0.0380 - val_loss: 0.0379\n",
      "Epoch 19/20\n",
      "10/10 [==============================] - 0s 5ms/step - loss: 0.0372 - val_loss: 0.0374\n",
      "Epoch 20/20\n",
      "10/10 [==============================] - 0s 5ms/step - loss: 0.0368 - val_loss: 0.0370\n"
     ]
    }
   ],
   "source": [
    "history = autoencoder.fit(normal_X_train, normal_X_train, \n",
    "                                      epochs=20, batch_size=256,\n",
    "                                      validation_data=(normal_X_test, normal_X_test),\n",
    "                                      shuffle=True)"
   ]
  },
  {
   "cell_type": "code",
   "execution_count": 47,
   "id": "3402c34f",
   "metadata": {
    "colab": {
     "base_uri": "https://localhost:8080/",
     "height": 284
    },
    "id": "3402c34f",
    "outputId": "da6cca82-0e59-47cf-a161-ac16bbf56ab7"
   },
   "outputs": [
    {
     "data": {
      "text/plain": [
       "<matplotlib.legend.Legend at 0x7fadf0587550>"
      ]
     },
     "execution_count": 47,
     "metadata": {},
     "output_type": "execute_result"
    },
    {
     "data": {
      "image/png": "[encoded data removed]",
      "text/plain": [
       "<Figure size 432x288 with 1 Axes>"
      ]
     },
     "metadata": {
      "needs_background": "light"
     },
     "output_type": "display_data"
    }
   ],
   "source": [
    "plt.plot(history.history[\"loss\"], label=\"Training Loss\")\n",
    "plt.plot(history.history[\"val_loss\"], label=\"Validation Loss\")\n",
    "plt.legend()"
   ]
  },
  {
   "cell_type": "markdown",
   "id": "09289d94",
   "metadata": {
    "id": "09289d94"
   },
   "source": [
    "정상 데이터를 오토인코더로 인코딩과 디코딩을 한 후의 신호를 살펴봅니다."
   ]
  },
  {
   "cell_type": "code",
   "execution_count": 48,
   "id": "f471b7b7",
   "metadata": {
    "colab": {
     "base_uri": "https://localhost:8080/",
     "height": 265
    },
    "id": "f471b7b7",
    "outputId": "8bc9c40f-2b99-4458-fa75-9777cfbaf4a7"
   },
   "outputs": [
    {
     "data": {
      "image/png": "[encoded data removed]",
      "text/plain": [
       "<Figure size 432x288 with 1 Axes>"
      ]
     },
     "metadata": {
      "needs_background": "light"
     },
     "output_type": "display_data"
    }
   ],
   "source": [
    "encoded_signals = autoencoder.encoder(normal_X_test).numpy()\n",
    "decoded_signals = autoencoder.decoder(encoded_signals).numpy()\n",
    "\n",
    "plt.plot(normal_X_test[0], 'b', label=\"Input\")\n",
    "plt.plot(decoded_signals[0], 'r', label=\"Reconstruction\")\n",
    "plt.fill_between(np.arange(140), decoded_signals[0], normal_X_test[0], \n",
    "                        color='lightcoral', label=\"Error\")\n",
    "plt.legend()\n",
    "plt.show()"
   ]
  },
  {
   "cell_type": "markdown",
   "id": "3940f44c",
   "metadata": {
    "id": "3940f44c"
   },
   "source": [
    "비정상적 데이터 예제에 대한 유사한 플롯 만들기:"
   ]
  },
  {
   "cell_type": "code",
   "execution_count": 50,
   "id": "e80cde74",
   "metadata": {
    "colab": {
     "base_uri": "https://localhost:8080/",
     "height": 266
    },
    "id": "e80cde74",
    "outputId": "f09ebda3-ff8b-4df1-8d44-371857790ac7"
   },
   "outputs": [
    {
     "data": {
      "image/png": "[encoded data removed]",
      "text/plain": [
       "<Figure size 432x288 with 1 Axes>"
      ]
     },
     "metadata": {
      "needs_background": "light"
     },
     "output_type": "display_data"
    }
   ],
   "source": [
    "encoded_signals = autoencoder.encoder(abnormal_X_test).numpy()\n",
    "decoded_signals = autoencoder.decoder(encoded_signals).numpy()\n",
    "\n",
    "plt.plot(abnormal_X_test[0], 'b', label=\"Input\")\n",
    "plt.plot(decoded_signals[0], 'r', label=\"Reconstruction\")\n",
    "plt.fill_between(np.arange(140), decoded_signals[0], abnormal_X_test[0], \n",
    "                        color='lightcoral', label=\"Error\")\n",
    "plt.legend()\n",
    "plt.show()"
   ]
  },
  {
   "cell_type": "markdown",
   "id": "bcf9ae9f",
   "metadata": {
    "id": "bcf9ae9f"
   },
   "source": [
    "### 이상 감지\n",
    "재구성 손실이 고정 임계값보다 큰지 여부를 계산하여 이상을 감지합니다. 이를 위해 훈련 세트의 정상 예제에 대한 평균 평균 오류를 계산한 다음 재구성 오류가 훈련 세트의 표준 편차보다 높으면 미래 예제를 비정상적인 것으로 분류합니다.\n",
    "\n",
    "훈련 세트의 정상 ECG에 대한 재구성 오류를 시각화 합니다."
   ]
  },
  {
   "cell_type": "code",
   "execution_count": 51,
   "id": "1f3ac1b0",
   "metadata": {
    "colab": {
     "base_uri": "https://localhost:8080/",
     "height": 279
    },
    "id": "1f3ac1b0",
    "outputId": "2f01df34-1e0f-4170-c6ae-c209ee3cf01c"
   },
   "outputs": [
    {
     "data": {
      "image/png": "[encoded data removed]",
      "text/plain": [
       "<Figure size 432x288 with 1 Axes>"
      ]
     },
     "metadata": {
      "needs_background": "light"
     },
     "output_type": "display_data"
    }
   ],
   "source": [
    "reconstructions = autoencoder.predict(normal_X_train)\n",
    "train_loss = tf.keras.losses.mae(reconstructions, normal_X_train).numpy()\n",
    "\n",
    "plt.hist(train_loss, bins=50)\n",
    "plt.xlabel(\"Train loss\")\n",
    "plt.ylabel(\"No of examples\")\n",
    "plt.show()"
   ]
  },
  {
   "cell_type": "markdown",
   "id": "ce9685b5",
   "metadata": {
    "id": "ce9685b5"
   },
   "source": [
    "평균 + 1 표준편차인 임계값을 선택합니다."
   ]
  },
  {
   "cell_type": "code",
   "execution_count": 52,
   "id": "c402dc43",
   "metadata": {
    "colab": {
     "base_uri": "https://localhost:8080/"
    },
    "id": "c402dc43",
    "outputId": "5cea9dad-74d2-4ba2-fc41-4d94187c16cc"
   },
   "outputs": [
    {
     "name": "stdout",
     "output_type": "stream",
     "text": [
      "Threshold:  0.0559028351000827\n"
     ]
    }
   ],
   "source": [
    "threshold_ae = np.mean(train_loss) + np.std(train_loss)\n",
    "print(\"Threshold: \", threshold_ae)"
   ]
  },
  {
   "cell_type": "markdown",
   "id": "2c6edd65",
   "metadata": {
    "id": "2c6edd65"
   },
   "source": [
    "테스트 세트의 대부분의 비정상 example은 임계값보다 재구성 오류가 더 큽니다. 임계값을 변경하여 분류기의 정밀도와 재현율을 조정할 수 있습니다."
   ]
  },
  {
   "cell_type": "code",
   "execution_count": 54,
   "id": "47f2450e",
   "metadata": {
    "colab": {
     "base_uri": "https://localhost:8080/",
     "height": 295
    },
    "id": "47f2450e",
    "outputId": "d972e4ca-87e7-4007-eabd-c05f9490f963"
   },
   "outputs": [
    {
     "data": {
      "image/png": "[encoded data removed]",
      "text/plain": [
       "<Figure size 432x288 with 1 Axes>"
      ]
     },
     "metadata": {
      "needs_background": "light"
     },
     "output_type": "display_data"
    }
   ],
   "source": [
    "reconstructions = autoencoder.predict(abnormal_X_train)\n",
    "test_loss = tf.keras.losses.mae(reconstructions, abnormal_X_train).numpy()\n",
    "\n",
    "plt.hist(test_loss, bins=50)\n",
    "plt.axvline(threshold_ae, c='r')\n",
    "plt.title(\"Reconstruction Error of abnormal data\")\n",
    "plt.xlabel(\"Test loss\")\n",
    "plt.ylabel(\"No of examples\")\n",
    "plt.show()"
   ]
  },
  {
   "cell_type": "markdown",
   "id": "f1b0a8af",
   "metadata": {
    "id": "f1b0a8af"
   },
   "source": [
    "재구성 오류가 임계값보다 큰 경우 ECG를 이상으로 분류합니다.  \n",
    "재구성 오류를 이용한 이상치 예측과 label 을 비교하여 performance 를 측정합니다."
   ]
  },
  {
   "cell_type": "code",
   "execution_count": 55,
   "id": "7ff95d9f",
   "metadata": {
    "id": "7ff95d9f"
   },
   "outputs": [],
   "source": [
    "def predict(model, data, threshold):\n",
    "    reconstructions = model.predict(data)\n",
    "    loss = tf.keras.losses.mae(reconstructions, data)\n",
    "    return tf.math.less(loss, threshold)\n",
    "\n",
    "def print_stats(predictions, labels):\n",
    "    print(\"Accuracy = {}\".format(accuracy_score(labels, preds)))\n",
    "    print(\"Precision = {}\".format(precision_score(labels, preds)))\n",
    "    print(\"Recall = {}\".format(recall_score(labels, preds)))"
   ]
  },
  {
   "cell_type": "code",
   "execution_count": 56,
   "id": "118a5190",
   "metadata": {
    "colab": {
     "base_uri": "https://localhost:8080/"
    },
    "id": "118a5190",
    "outputId": "9fec2376-5096-4f6e-dbc1-d00932b7b9de"
   },
   "outputs": [
    {
     "name": "stdout",
     "output_type": "stream",
     "text": [
      "Accuracy = 0.926\n",
      "Precision = 1.0\n",
      "Recall = 0.8747884940778342\n"
     ]
    }
   ],
   "source": [
    "preds = predict(autoencoder, X_test, threshold_ae)\n",
    "print_stats(preds.numpy(), y_test)"
   ]
  },
  {
   "cell_type": "markdown",
   "id": "066421a4",
   "metadata": {
    "id": "066421a4"
   },
   "source": [
    "### 이상 감지를 위한 Variational Autoencoder\n",
    "오토인코더는 훈련 데이터에 과적합되는 경향이 강합니다. 이 문제를 완화하도록 설계된 VAE를 사용합니다. "
   ]
  },
  {
   "cell_type": "markdown",
   "id": "4da6792e",
   "metadata": {
    "id": "4da6792e"
   },
   "source": [
    "샘플링 단계를 포함하는 네트워크의 인코더 부분을 정의합니다."
   ]
  },
  {
   "cell_type": "code",
   "execution_count": 58,
   "id": "ece59446",
   "metadata": {
    "id": "ece59446"
   },
   "outputs": [],
   "source": [
    "import tensorflow_probability as tfp\n",
    "tfd = tfp.distributions\n",
    "from tensorflow.keras.callbacks import EarlyStopping, ModelCheckpoint"
   ]
  },
  {
   "cell_type": "code",
   "execution_count": 59,
   "id": "096057be",
   "metadata": {
    "id": "096057be"
   },
   "outputs": [],
   "source": [
    "def encoder_model(input_dim, latent_dim):\n",
    "\n",
    "    prior = tfd.MultivariateNormalDiag(\n",
    "        loc=tf.zeros([latent_dim]),\n",
    "        scale_identity_multiplier=1.0)\n",
    "\n",
    "    encoder_input = Input(shape=(input_dim,))\n",
    "    x = Dense(20, activation=tf.nn.leaky_relu)(encoder_input)\n",
    "    x = Dense(15, activation=tf.nn.leaky_relu)(x)\n",
    "    x = Dense(tfp.layers.MultivariateNormalTriL.params_size(latent_dim), activation=None)(x)\n",
    "    encoded = tfp.layers.MultivariateNormalTriL(latent_dim, \n",
    "                        activity_regularizer=tfp.layers.KLDivergenceRegularizer(prior))(x)\n",
    "    encoder = Model(encoder_input, encoded)\n",
    "    return encoder\n",
    "\n",
    "def decoder_model(latent_dim, input_dim):\n",
    "    decoder_input = Input(shape=(latent_dim,))\n",
    "    x = Dense(15, activation=tf.nn.leaky_relu)(decoder_input)\n",
    "    x = Dense(20, activation=tf.nn.leaky_relu)(x)\n",
    "    x = Dense(tfp.layers.IndependentNormal.params_size(input_dim), activation=None)(x)\n",
    "    decoded = tfp.layers.IndependentNormal(input_dim)(x)\n",
    "\n",
    "    decoder = Model(decoder_input, decoded)\n",
    "    return decoder\n",
    "\n",
    "def vae_model(encoder, decoder):\n",
    "    vae = Model(inputs=encoder.inputs,\n",
    "                outputs=decoder(encoder.outputs[0]))\n",
    "\n",
    "    negloglik = lambda x, rv_x: -rv_x.log_prob(x)\n",
    "\n",
    "    vae.compile(optimizer=tf.keras.optimizers.Adam(learning_rate=0.001), \n",
    "                loss=negloglik)\n",
    "    return vae"
   ]
  },
  {
   "cell_type": "code",
   "execution_count": 60,
   "id": "f4a5ebdf",
   "metadata": {
    "colab": {
     "base_uri": "https://localhost:8080/"
    },
    "id": "f4a5ebdf",
    "outputId": "12cd9ee0-67a1-4e1b-b7be-7922d1aaa024"
   },
   "outputs": [
    {
     "name": "stdout",
     "output_type": "stream",
     "text": [
      "Model: \"model\"\n",
      "_________________________________________________________________\n",
      " Layer (type)                Output Shape              Param #   \n",
      "=================================================================\n",
      " input_1 (InputLayer)        [(None, 140)]             0         \n",
      "                                                                 \n",
      " dense_7 (Dense)             (None, 20)                2820      \n",
      "                                                                 \n",
      " dense_8 (Dense)             (None, 15)                315       \n",
      "                                                                 \n",
      " dense_9 (Dense)             (None, 20)                320       \n",
      "                                                                 \n",
      " multivariate_normal_tri_l (  ((None, 5),              0         \n",
      " MultivariateNormalTriL)      (None, 5))                         \n",
      "                                                                 \n",
      "=================================================================\n",
      "Total params: 3,455\n",
      "Trainable params: 3,455\n",
      "Non-trainable params: 0\n",
      "_________________________________________________________________\n"
     ]
    }
   ],
   "source": [
    "input_dim = normal_X_train.shape[1]\n",
    "\n",
    "latent_dim = 5\n",
    "encoder = encoder_model(input_dim, latent_dim)\n",
    "\n",
    "encoder.summary()"
   ]
  },
  {
   "cell_type": "code",
   "execution_count": 61,
   "id": "b04db10a",
   "metadata": {
    "colab": {
     "base_uri": "https://localhost:8080/"
    },
    "id": "b04db10a",
    "outputId": "49e84e17-8d51-46e9-e63a-6c734e38a1e8"
   },
   "outputs": [
    {
     "name": "stdout",
     "output_type": "stream",
     "text": [
      "Model: \"model_1\"\n",
      "_________________________________________________________________\n",
      " Layer (type)                Output Shape              Param #   \n",
      "=================================================================\n",
      " input_2 (InputLayer)        [(None, 5)]               0         \n",
      "                                                                 \n",
      " dense_10 (Dense)            (None, 15)                90        \n",
      "                                                                 \n",
      " dense_11 (Dense)            (None, 20)                320       \n",
      "                                                                 \n",
      " dense_12 (Dense)            (None, 280)               5880      \n",
      "                                                                 \n",
      " independent_normal (Indepen  ((None, 140),            0         \n",
      " dentNormal)                  (None, 140))                       \n",
      "                                                                 \n",
      "=================================================================\n",
      "Total params: 6,290\n",
      "Trainable params: 6,290\n",
      "Non-trainable params: 0\n",
      "_________________________________________________________________\n"
     ]
    }
   ],
   "source": [
    "decoder = decoder_model(latent_dim, input_dim)\n",
    "\n",
    "decoder.summary()"
   ]
  },
  {
   "cell_type": "code",
   "execution_count": 62,
   "id": "f313cc42",
   "metadata": {
    "colab": {
     "base_uri": "https://localhost:8080/"
    },
    "id": "f313cc42",
    "outputId": "8af3b81b-b6fd-4751-a315-db3619df50bb"
   },
   "outputs": [
    {
     "name": "stdout",
     "output_type": "stream",
     "text": [
      "Model: \"model_2\"\n",
      "_________________________________________________________________\n",
      " Layer (type)                Output Shape              Param #   \n",
      "=================================================================\n",
      " input_1 (InputLayer)        [(None, 140)]             0         \n",
      "                                                                 \n",
      " dense_7 (Dense)             (None, 20)                2820      \n",
      "                                                                 \n",
      " dense_8 (Dense)             (None, 15)                315       \n",
      "                                                                 \n",
      " dense_9 (Dense)             (None, 20)                320       \n",
      "                                                                 \n",
      " multivariate_normal_tri_l (  ((None, 5),              0         \n",
      " MultivariateNormalTriL)      (None, 5))                         \n",
      "                                                                 \n",
      " model_1 (Functional)        (None, 140)               6290      \n",
      "                                                                 \n",
      "=================================================================\n",
      "Total params: 9,745\n",
      "Trainable params: 9,745\n",
      "Non-trainable params: 0\n",
      "_________________________________________________________________\n"
     ]
    }
   ],
   "source": [
    "vae = vae_model(encoder, decoder)\n",
    "\n",
    "vae.summary()"
   ]
  },
  {
   "cell_type": "code",
   "execution_count": 67,
   "id": "bcf77dce",
   "metadata": {
    "colab": {
     "base_uri": "https://localhost:8080/"
    },
    "id": "bcf77dce",
    "outputId": "de7e624c-f5b2-4b6b-98e1-4d7540b6d842"
   },
   "outputs": [
    {
     "name": "stdout",
     "output_type": "stream",
     "text": [
      "Epoch 1/1000\n",
      "19/19 [==============================] - 0s 10ms/step - loss: -242.5108 - val_loss: -241.9255\n",
      "Epoch 2/1000\n",
      "19/19 [==============================] - 0s 7ms/step - loss: -242.3944 - val_loss: -241.0488\n",
      "Epoch 3/1000\n",
      "19/19 [==============================] - 0s 8ms/step - loss: -242.5233 - val_loss: -242.4973\n",
      "Epoch 4/1000\n",
      "19/19 [==============================] - 0s 7ms/step - loss: -242.7014 - val_loss: -237.2986\n",
      "Epoch 5/1000\n",
      "19/19 [==============================] - 0s 6ms/step - loss: -241.1456 - val_loss: -240.8681\n",
      "Epoch 6/1000\n",
      "19/19 [==============================] - 0s 7ms/step - loss: -242.8676 - val_loss: -241.7072\n",
      "Epoch 7/1000\n",
      "19/19 [==============================] - 0s 6ms/step - loss: -242.9613 - val_loss: -240.1227\n",
      "Epoch 8/1000\n",
      "19/19 [==============================] - 0s 7ms/step - loss: -242.7966 - val_loss: -237.6057\n",
      "Epoch 9/1000\n",
      "19/19 [==============================] - 0s 9ms/step - loss: -242.8690 - val_loss: -243.3096\n",
      "Epoch 10/1000\n",
      "19/19 [==============================] - 0s 7ms/step - loss: -243.5963 - val_loss: -242.1902\n",
      "Epoch 11/1000\n",
      "19/19 [==============================] - 0s 7ms/step - loss: -242.7768 - val_loss: -237.6160\n",
      "Epoch 12/1000\n",
      "19/19 [==============================] - 0s 6ms/step - loss: -241.7183 - val_loss: -242.1616\n",
      "Epoch 13/1000\n",
      "19/19 [==============================] - 0s 9ms/step - loss: -242.7608 - val_loss: -243.9455\n",
      "Epoch 14/1000\n",
      "19/19 [==============================] - 0s 7ms/step - loss: -243.6191 - val_loss: -241.7570\n",
      "Epoch 15/1000\n",
      "19/19 [==============================] - 0s 7ms/step - loss: -243.3039 - val_loss: -241.8567\n",
      "Epoch 16/1000\n",
      "19/19 [==============================] - 0s 7ms/step - loss: -242.3725 - val_loss: -243.2696\n",
      "Epoch 17/1000\n",
      "19/19 [==============================] - 0s 6ms/step - loss: -242.8718 - val_loss: -242.8794\n",
      "Epoch 18/1000\n",
      "19/19 [==============================] - 0s 6ms/step - loss: -243.5705 - val_loss: -240.5015\n",
      "Epoch 19/1000\n",
      "19/19 [==============================] - 0s 7ms/step - loss: -243.5437 - val_loss: -241.4462\n",
      "Epoch 20/1000\n",
      "19/19 [==============================] - 0s 7ms/step - loss: -243.1110 - val_loss: -238.2952\n",
      "Epoch 21/1000\n",
      "19/19 [==============================] - 0s 6ms/step - loss: -243.2131 - val_loss: -240.6023\n",
      "Epoch 22/1000\n",
      "19/19 [==============================] - 0s 7ms/step - loss: -243.7502 - val_loss: -243.6838\n",
      "Epoch 23/1000\n",
      "19/19 [==============================] - 0s 7ms/step - loss: -243.6176 - val_loss: -243.4443\n"
     ]
    }
   ],
   "source": [
    "batch_size = 128\n",
    "max_epochs = 1000\n",
    "\n",
    "checkpointer = ModelCheckpoint(filepath='bestmodel.h5', verbose=0, save_best_only=True)\n",
    "\n",
    "earlystopper = EarlyStopping(monitor='val_loss', mode='min', \n",
    "                             patience=10, verbose=0, restore_best_weights=True)\n",
    "\n",
    "history = vae.fit(normal_X_train, normal_X_train, \n",
    "                  epochs=max_epochs, batch_size=128, shuffle=True,\n",
    "                  verbose=1, validation_data=(normal_X_test, normal_X_test),\n",
    "                  callbacks=[earlystopper, checkpointer])"
   ]
  },
  {
   "cell_type": "code",
   "execution_count": 69,
   "id": "22303d38",
   "metadata": {
    "colab": {
     "base_uri": "https://localhost:8080/",
     "height": 284
    },
    "id": "22303d38",
    "outputId": "1128d2da-a772-4a30-de58-9d0c5b52fe80"
   },
   "outputs": [
    {
     "data": {
      "text/plain": [
       "<matplotlib.legend.Legend at 0x7fad6939edd0>"
      ]
     },
     "execution_count": 69,
     "metadata": {},
     "output_type": "execute_result"
    },
    {
     "data": {
      "image/png": "[encoded data removed]",
      "text/plain": [
       "<Figure size 432x288 with 1 Axes>"
      ]
     },
     "metadata": {
      "needs_background": "light"
     },
     "output_type": "display_data"
    }
   ],
   "source": [
    "plt.plot(history.history[\"loss\"], label=\"Training Loss\")\n",
    "plt.legend()"
   ]
  },
  {
   "cell_type": "code",
   "execution_count": 71,
   "id": "53ed1ef6",
   "metadata": {
    "colab": {
     "base_uri": "https://localhost:8080/",
     "height": 268
    },
    "id": "53ed1ef6",
    "outputId": "559d25fa-6e20-4fe0-ad01-ebb18dea8db3"
   },
   "outputs": [
    {
     "data": {
      "image/png": "[encoded data removed]",
      "text/plain": [
       "<Figure size 432x288 with 1 Axes>"
      ]
     },
     "metadata": {
      "needs_background": "light"
     },
     "output_type": "display_data"
    }
   ],
   "source": [
    "encoded_imgs = encoder(normal_X_test)\n",
    "decoded_imgs = decoder(encoded_imgs)\n",
    "plt.plot(normal_X_test[0], 'b', label=\"Input\")\n",
    "plt.plot(decoded_imgs[0], 'r', label=\"Reconstruction\")\n",
    "plt.fill_between(np.arange(140), decoded_imgs[0], normal_X_test[0], \n",
    "                        color='lightcoral', label=\"Error\")\n",
    "plt.legend()\n",
    "plt.show()"
   ]
  },
  {
   "cell_type": "markdown",
   "id": "46330865",
   "metadata": {
    "id": "46330865"
   },
   "source": [
    "이전과 마찬가지로 평균 절대 오차에 표준 편차 1을 더한 값에서 임계값을 계산합니다."
   ]
  },
  {
   "cell_type": "code",
   "execution_count": 72,
   "id": "c33dedc6",
   "metadata": {
    "colab": {
     "base_uri": "https://localhost:8080/",
     "height": 279
    },
    "id": "c33dedc6",
    "outputId": "6cc91739-d7b0-4374-c430-2664db5083a4"
   },
   "outputs": [
    {
     "data": {
      "image/png": "[encoded data removed]",
      "text/plain": [
       "<Figure size 432x288 with 1 Axes>"
      ]
     },
     "metadata": {
      "needs_background": "light"
     },
     "output_type": "display_data"
    }
   ],
   "source": [
    "reconstructions = vae.predict(normal_X_train)\n",
    "train_loss = tf.keras.losses.mae(reconstructions, normal_X_train).numpy()\n",
    "plt.hist(train_loss, bins=50)\n",
    "plt.xlabel(\"Train loss\")\n",
    "plt.ylabel(\"No of examples\")\n",
    "plt.show()"
   ]
  },
  {
   "cell_type": "code",
   "execution_count": 73,
   "id": "0f92f9d3",
   "metadata": {
    "colab": {
     "base_uri": "https://localhost:8080/"
    },
    "id": "0f92f9d3",
    "outputId": "ad954e16-a7b1-42ae-d2b9-a08794514f01"
   },
   "outputs": [
    {
     "name": "stdout",
     "output_type": "stream",
     "text": [
      "Threshold:  0.0708613513842328\n"
     ]
    }
   ],
   "source": [
    "threshold_vae = np.mean(train_loss) + np.std(train_loss)\n",
    "print(\"Threshold: \", threshold_vae)"
   ]
  },
  {
   "cell_type": "code",
   "execution_count": 74,
   "id": "67bc2a08",
   "metadata": {
    "colab": {
     "base_uri": "https://localhost:8080/",
     "height": 282
    },
    "id": "67bc2a08",
    "outputId": "71738532-6dc2-46ef-fdf2-9595e5b70e29"
   },
   "outputs": [
    {
     "data": {
      "image/png": "[encoded data removed]",
      "text/plain": [
       "<Figure size 432x288 with 1 Axes>"
      ]
     },
     "metadata": {
      "needs_background": "light"
     },
     "output_type": "display_data"
    }
   ],
   "source": [
    "reconstructions = vae.predict(abnormal_X_test)\n",
    "test_loss = tf.keras.losses.mae(reconstructions, abnormal_X_test).numpy()\n",
    "\n",
    "plt.hist(test_loss, bins=50)\n",
    "plt.axvline(threshold_vae,c='r')\n",
    "plt.xlabel(\"Test loss\")\n",
    "plt.ylabel(\"No of examples\")\n",
    "plt.show()"
   ]
  },
  {
   "cell_type": "markdown",
   "id": "dfa51df5",
   "metadata": {
    "id": "dfa51df5"
   },
   "source": [
    "재구성 오류가 임계값보다 큰 경우 ECG를 이상으로 분류합니다."
   ]
  },
  {
   "cell_type": "markdown",
   "id": "7sPb-Jc3HcyM",
   "metadata": {
    "id": "7sPb-Jc3HcyM"
   },
   "source": [
    "variational autoencoder"
   ]
  },
  {
   "cell_type": "code",
   "execution_count": 75,
   "id": "5c496b2d",
   "metadata": {
    "colab": {
     "base_uri": "https://localhost:8080/"
    },
    "id": "5c496b2d",
    "outputId": "6567213e-99bc-4d66-cfc6-a0b7d2e2753c"
   },
   "outputs": [
    {
     "name": "stdout",
     "output_type": "stream",
     "text": [
      "Variational Autoencoder\n",
      "Accuracy = 0.943\n",
      "Precision = 1.0\n",
      "Recall = 0.9035532994923858\n"
     ]
    }
   ],
   "source": [
    "preds = predict(vae, X_test, threshold_vae)\n",
    "print(\"Variational Autoencoder\")\n",
    "print_stats(preds, y_test)"
   ]
  },
  {
   "cell_type": "markdown",
   "id": "yysxmh9XHY1z",
   "metadata": {
    "id": "yysxmh9XHY1z"
   },
   "source": [
    "- autoencoder"
   ]
  },
  {
   "cell_type": "code",
   "execution_count": 76,
   "id": "60497eb9",
   "metadata": {
    "colab": {
     "base_uri": "https://localhost:8080/"
    },
    "id": "60497eb9",
    "outputId": "d4b8dd1c-d6a9-41a0-d0eb-3305f14f658c"
   },
   "outputs": [
    {
     "name": "stdout",
     "output_type": "stream",
     "text": [
      "Autoencoder\n",
      "Accuracy = 0.926\n",
      "Precision = 1.0\n",
      "Recall = 0.8747884940778342\n"
     ]
    }
   ],
   "source": [
    "preds = predict(autoencoder, X_test, threshold_ae)\n",
    "print(\"Autoencoder\")\n",
    "print_stats(preds, y_test)"
   ]
  },
  {
   "cell_type": "markdown",
   "id": "vLNX9eGbHhXI",
   "metadata": {
    "id": "vLNX9eGbHhXI"
   },
   "source": [
    "RNN 이진 분류 모델"
   ]
  },
  {
   "cell_type": "code",
   "execution_count": null,
   "id": "d8bf208f",
   "metadata": {
    "id": "d8bf208f",
    "outputId": "0445fc5a-4314-47b4-c44c-b36b96d09613"
   },
   "outputs": [
    {
     "name": "stdout",
     "output_type": "stream",
     "text": [
      "RNN as classifier\n",
      "Accuracy =  0.978\n",
      "Precision =  0.9729272419627749\n",
      "Recall =  0.9896729776247849\n"
     ]
    }
   ],
   "source": [
    "print(\"RNN as classifier\")\n",
    "print('Accuracy = ',accuracy_test_rnn)\n",
    "print('Precision = ',precision_test_rnn)\n",
    "print('Recall = ',recall_test_rnn)"
   ]
  },
  {
   "cell_type": "code",
   "execution_count": null,
   "id": "42f465a7",
   "metadata": {
    "id": "42f465a7"
   },
   "outputs": [],
   "source": []
  }
 ],
 "metadata": {
  "accelerator": "GPU",
  "colab": {
   "name": "260_Anomaly Detection.ipynb",
   "provenance": []
  },
  "kernelspec": {
   "display_name": "Python 3 (ipykernel)",
   "language": "python",
   "name": "python3"
  },
  "language_info": {
   "codemirror_mode": {
    "name": "ipython",
    "version": 3
   },
   "file_extension": ".py",
   "mimetype": "text/x-python",
   "name": "python",
   "nbconvert_exporter": "python",
   "pygments_lexer": "ipython3",
   "version": "3.8.13"
  }
 },
 "nbformat": 4,
 "nbformat_minor": 5
}
